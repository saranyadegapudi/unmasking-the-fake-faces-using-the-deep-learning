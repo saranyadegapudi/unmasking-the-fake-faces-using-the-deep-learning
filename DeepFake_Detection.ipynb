{
  "nbformat": 4,
  "nbformat_minor": 0,
  "metadata": {
    "colab": {
      "provenance": []
    },
    "kernelspec": {
      "name": "python3",
      "display_name": "Python 3"
    },
    "accelerator": "GPU"
  },
  "cells": [
    {
      "cell_type": "markdown",
      "source": [
        "# Introduction"
      ],
      "metadata": {
        "id": "qOqrmdOrvujB"
      }
    },
    {
      "cell_type": "markdown",
      "source": [
        "## Installations and Libraries"
      ],
      "metadata": {
        "id": "1MCs2_CnvxyV"
      }
    },
    {
      "cell_type": "code",
      "metadata": {
        "id": "_M_hIl_-C6P8",
        "colab": {
          "base_uri": "https://localhost:8080/"
        },
        "outputId": "9a10211f-73e2-4a7c-a57e-d6c690dbfc8e"
      },
      "source": [
        "from google.colab import drive\n",
        "drive.mount('/content/drive')"
      ],
      "execution_count": null,
      "outputs": [
        {
          "output_type": "stream",
          "name": "stdout",
          "text": [
            "Mounted at /content/drive\n"
          ]
        }
      ]
    },
    {
      "cell_type": "code",
      "metadata": {
        "id": "7hlPaQS4e5VI",
        "colab": {
          "base_uri": "https://localhost:8080/"
        },
        "outputId": "8254b5d6-7e7a-4a98-c30a-6e25b583eb97"
      },
      "source": [
        "!pip install face_recognition"
      ],
      "execution_count": null,
      "outputs": [
        {
          "output_type": "stream",
          "name": "stdout",
          "text": [
            "Collecting face_recognition\n",
            "  Downloading face_recognition-1.3.0-py2.py3-none-any.whl (15 kB)\n",
            "Collecting face-recognition-models>=0.3.0 (from face_recognition)\n",
            "  Downloading face_recognition_models-0.3.0.tar.gz (100.1 MB)\n",
            "\u001b[2K     \u001b[90m━━━━━━━━━━━━━━━━━━━━━━━━━━━━━━━━━━━━━━━━\u001b[0m \u001b[32m100.1/100.1 MB\u001b[0m \u001b[31m10.0 MB/s\u001b[0m eta \u001b[36m0:00:00\u001b[0m\n",
            "\u001b[?25h  Preparing metadata (setup.py) ... \u001b[?25l\u001b[?25hdone\n",
            "Requirement already satisfied: Click>=6.0 in /usr/local/lib/python3.10/dist-packages (from face_recognition) (8.1.7)\n",
            "Requirement already satisfied: dlib>=19.7 in /usr/local/lib/python3.10/dist-packages (from face_recognition) (19.24.2)\n",
            "Requirement already satisfied: numpy in /usr/local/lib/python3.10/dist-packages (from face_recognition) (1.23.5)\n",
            "Requirement already satisfied: Pillow in /usr/local/lib/python3.10/dist-packages (from face_recognition) (9.4.0)\n",
            "Building wheels for collected packages: face-recognition-models\n",
            "  Building wheel for face-recognition-models (setup.py) ... \u001b[?25l\u001b[?25hdone\n",
            "  Created wheel for face-recognition-models: filename=face_recognition_models-0.3.0-py2.py3-none-any.whl size=100566170 sha256=a4d6a585afd81a1e400dc1e69435679e9f0d0a911e1e36db433ff21c54e195b5\n",
            "  Stored in directory: /root/.cache/pip/wheels/7a/eb/cf/e9eced74122b679557f597bb7c8e4c739cfcac526db1fd523d\n",
            "Successfully built face-recognition-models\n",
            "Installing collected packages: face-recognition-models, face_recognition\n",
            "Successfully installed face-recognition-models-0.3.0 face_recognition-1.3.0\n"
          ]
        }
      ]
    },
    {
      "cell_type": "code",
      "source": [
        "import glob\n",
        "import torch\n",
        "import torchvision\n",
        "from torch import nn\n",
        "from torchvision import models\n",
        "from torch.autograd import Variable\n",
        "from torchvision import transforms\n",
        "from torch.utils.data import DataLoader\n",
        "from torch.utils.data.dataset import Dataset\n",
        "from sklearn.model_selection import train_test_split\n",
        "from sklearn.metrics import confusion_matrix\n",
        "\n",
        "import json\n",
        "import glob\n",
        "import copy\n",
        "import random\n",
        "\n",
        "import os\n",
        "import time\n",
        "import sys\n",
        "import shutil\n",
        "import numpy as np\n",
        "import cv2\n",
        "import pandas as pd\n",
        "import matplotlib.pyplot as plt\n",
        "import seaborn as sn\n",
        "\n",
        "from tqdm import tqdm\n",
        "import face_recognition\n",
        "\n",
        "from google_drive_downloader import GoogleDriveDownloader as gdd\n",
        "\n",
        "from IPython.display import clear_output"
      ],
      "metadata": {
        "id": "SxJG3ROIwJsu"
      },
      "execution_count": null,
      "outputs": []
    },
    {
      "cell_type": "code",
      "source": [
        "# create_preprocessed_videos(video_files,'FF_REAL_Face_only_data/')"
      ],
      "metadata": {
        "id": "blNToGKBLZEi"
      },
      "execution_count": null,
      "outputs": []
    },
    {
      "cell_type": "markdown",
      "source": [
        "## Preprocessed Dataset."
      ],
      "metadata": {
        "id": "jbDMH8MEv9cd"
      }
    },
    {
      "cell_type": "code",
      "source": [
        "df = pd.read_csv('/content/drive/MyDrive/Project/Deepfake/Preprocessed_Dataset/labels.csv', header=None, names=['video', 'label'])"
      ],
      "metadata": {
        "id": "1CLUgtI-FYDA"
      },
      "execution_count": null,
      "outputs": []
    },
    {
      "cell_type": "code",
      "source": [
        "df.head()"
      ],
      "metadata": {
        "colab": {
          "base_uri": "https://localhost:8080/",
          "height": 206
        },
        "id": "SyTDW1IkGAGM",
        "outputId": "e6468b3f-dfd4-4a5d-9b03-b11814a2bd1c"
      },
      "execution_count": null,
      "outputs": [
        {
          "output_type": "execute_result",
          "data": {
            "text/plain": [
              "         video label\n",
              "0      000.mp4  REAL\n",
              "1  000_003.mp4  FAKE\n",
              "2      001.mp4  REAL\n",
              "3  001_870.mp4  FAKE\n",
              "4      002.mp4  REAL"
            ],
            "text/html": [
              "\n",
              "  <div id=\"df-769a0ed9-fb78-4ae6-88d5-97c0552e79e4\" class=\"colab-df-container\">\n",
              "    <div>\n",
              "<style scoped>\n",
              "    .dataframe tbody tr th:only-of-type {\n",
              "        vertical-align: middle;\n",
              "    }\n",
              "\n",
              "    .dataframe tbody tr th {\n",
              "        vertical-align: top;\n",
              "    }\n",
              "\n",
              "    .dataframe thead th {\n",
              "        text-align: right;\n",
              "    }\n",
              "</style>\n",
              "<table border=\"1\" class=\"dataframe\">\n",
              "  <thead>\n",
              "    <tr style=\"text-align: right;\">\n",
              "      <th></th>\n",
              "      <th>video</th>\n",
              "      <th>label</th>\n",
              "    </tr>\n",
              "  </thead>\n",
              "  <tbody>\n",
              "    <tr>\n",
              "      <th>0</th>\n",
              "      <td>000.mp4</td>\n",
              "      <td>REAL</td>\n",
              "    </tr>\n",
              "    <tr>\n",
              "      <th>1</th>\n",
              "      <td>000_003.mp4</td>\n",
              "      <td>FAKE</td>\n",
              "    </tr>\n",
              "    <tr>\n",
              "      <th>2</th>\n",
              "      <td>001.mp4</td>\n",
              "      <td>REAL</td>\n",
              "    </tr>\n",
              "    <tr>\n",
              "      <th>3</th>\n",
              "      <td>001_870.mp4</td>\n",
              "      <td>FAKE</td>\n",
              "    </tr>\n",
              "    <tr>\n",
              "      <th>4</th>\n",
              "      <td>002.mp4</td>\n",
              "      <td>REAL</td>\n",
              "    </tr>\n",
              "  </tbody>\n",
              "</table>\n",
              "</div>\n",
              "    <div class=\"colab-df-buttons\">\n",
              "\n",
              "  <div class=\"colab-df-container\">\n",
              "    <button class=\"colab-df-convert\" onclick=\"convertToInteractive('df-769a0ed9-fb78-4ae6-88d5-97c0552e79e4')\"\n",
              "            title=\"Convert this dataframe to an interactive table.\"\n",
              "            style=\"display:none;\">\n",
              "\n",
              "  <svg xmlns=\"http://www.w3.org/2000/svg\" height=\"24px\" viewBox=\"0 -960 960 960\">\n",
              "    <path d=\"M120-120v-720h720v720H120Zm60-500h600v-160H180v160Zm220 220h160v-160H400v160Zm0 220h160v-160H400v160ZM180-400h160v-160H180v160Zm440 0h160v-160H620v160ZM180-180h160v-160H180v160Zm440 0h160v-160H620v160Z\"/>\n",
              "  </svg>\n",
              "    </button>\n",
              "\n",
              "  <style>\n",
              "    .colab-df-container {\n",
              "      display:flex;\n",
              "      gap: 12px;\n",
              "    }\n",
              "\n",
              "    .colab-df-convert {\n",
              "      background-color: #E8F0FE;\n",
              "      border: none;\n",
              "      border-radius: 50%;\n",
              "      cursor: pointer;\n",
              "      display: none;\n",
              "      fill: #1967D2;\n",
              "      height: 32px;\n",
              "      padding: 0 0 0 0;\n",
              "      width: 32px;\n",
              "    }\n",
              "\n",
              "    .colab-df-convert:hover {\n",
              "      background-color: #E2EBFA;\n",
              "      box-shadow: 0px 1px 2px rgba(60, 64, 67, 0.3), 0px 1px 3px 1px rgba(60, 64, 67, 0.15);\n",
              "      fill: #174EA6;\n",
              "    }\n",
              "\n",
              "    .colab-df-buttons div {\n",
              "      margin-bottom: 4px;\n",
              "    }\n",
              "\n",
              "    [theme=dark] .colab-df-convert {\n",
              "      background-color: #3B4455;\n",
              "      fill: #D2E3FC;\n",
              "    }\n",
              "\n",
              "    [theme=dark] .colab-df-convert:hover {\n",
              "      background-color: #434B5C;\n",
              "      box-shadow: 0px 1px 3px 1px rgba(0, 0, 0, 0.15);\n",
              "      filter: drop-shadow(0px 1px 2px rgba(0, 0, 0, 0.3));\n",
              "      fill: #FFFFFF;\n",
              "    }\n",
              "  </style>\n",
              "\n",
              "    <script>\n",
              "      const buttonEl =\n",
              "        document.querySelector('#df-769a0ed9-fb78-4ae6-88d5-97c0552e79e4 button.colab-df-convert');\n",
              "      buttonEl.style.display =\n",
              "        google.colab.kernel.accessAllowed ? 'block' : 'none';\n",
              "\n",
              "      async function convertToInteractive(key) {\n",
              "        const element = document.querySelector('#df-769a0ed9-fb78-4ae6-88d5-97c0552e79e4');\n",
              "        const dataTable =\n",
              "          await google.colab.kernel.invokeFunction('convertToInteractive',\n",
              "                                                    [key], {});\n",
              "        if (!dataTable) return;\n",
              "\n",
              "        const docLinkHtml = 'Like what you see? Visit the ' +\n",
              "          '<a target=\"_blank\" href=https://colab.research.google.com/notebooks/data_table.ipynb>data table notebook</a>'\n",
              "          + ' to learn more about interactive tables.';\n",
              "        element.innerHTML = '';\n",
              "        dataTable['output_type'] = 'display_data';\n",
              "        await google.colab.output.renderOutput(dataTable, element);\n",
              "        const docLink = document.createElement('div');\n",
              "        docLink.innerHTML = docLinkHtml;\n",
              "        element.appendChild(docLink);\n",
              "      }\n",
              "    </script>\n",
              "  </div>\n",
              "\n",
              "\n",
              "<div id=\"df-c8d8f859-086d-45e6-9e86-fbf4b899b253\">\n",
              "  <button class=\"colab-df-quickchart\" onclick=\"quickchart('df-c8d8f859-086d-45e6-9e86-fbf4b899b253')\"\n",
              "            title=\"Suggest charts\"\n",
              "            style=\"display:none;\">\n",
              "\n",
              "<svg xmlns=\"http://www.w3.org/2000/svg\" height=\"24px\"viewBox=\"0 0 24 24\"\n",
              "     width=\"24px\">\n",
              "    <g>\n",
              "        <path d=\"M19 3H5c-1.1 0-2 .9-2 2v14c0 1.1.9 2 2 2h14c1.1 0 2-.9 2-2V5c0-1.1-.9-2-2-2zM9 17H7v-7h2v7zm4 0h-2V7h2v10zm4 0h-2v-4h2v4z\"/>\n",
              "    </g>\n",
              "</svg>\n",
              "  </button>\n",
              "\n",
              "<style>\n",
              "  .colab-df-quickchart {\n",
              "      --bg-color: #E8F0FE;\n",
              "      --fill-color: #1967D2;\n",
              "      --hover-bg-color: #E2EBFA;\n",
              "      --hover-fill-color: #174EA6;\n",
              "      --disabled-fill-color: #AAA;\n",
              "      --disabled-bg-color: #DDD;\n",
              "  }\n",
              "\n",
              "  [theme=dark] .colab-df-quickchart {\n",
              "      --bg-color: #3B4455;\n",
              "      --fill-color: #D2E3FC;\n",
              "      --hover-bg-color: #434B5C;\n",
              "      --hover-fill-color: #FFFFFF;\n",
              "      --disabled-bg-color: #3B4455;\n",
              "      --disabled-fill-color: #666;\n",
              "  }\n",
              "\n",
              "  .colab-df-quickchart {\n",
              "    background-color: var(--bg-color);\n",
              "    border: none;\n",
              "    border-radius: 50%;\n",
              "    cursor: pointer;\n",
              "    display: none;\n",
              "    fill: var(--fill-color);\n",
              "    height: 32px;\n",
              "    padding: 0;\n",
              "    width: 32px;\n",
              "  }\n",
              "\n",
              "  .colab-df-quickchart:hover {\n",
              "    background-color: var(--hover-bg-color);\n",
              "    box-shadow: 0 1px 2px rgba(60, 64, 67, 0.3), 0 1px 3px 1px rgba(60, 64, 67, 0.15);\n",
              "    fill: var(--button-hover-fill-color);\n",
              "  }\n",
              "\n",
              "  .colab-df-quickchart-complete:disabled,\n",
              "  .colab-df-quickchart-complete:disabled:hover {\n",
              "    background-color: var(--disabled-bg-color);\n",
              "    fill: var(--disabled-fill-color);\n",
              "    box-shadow: none;\n",
              "  }\n",
              "\n",
              "  .colab-df-spinner {\n",
              "    border: 2px solid var(--fill-color);\n",
              "    border-color: transparent;\n",
              "    border-bottom-color: var(--fill-color);\n",
              "    animation:\n",
              "      spin 1s steps(1) infinite;\n",
              "  }\n",
              "\n",
              "  @keyframes spin {\n",
              "    0% {\n",
              "      border-color: transparent;\n",
              "      border-bottom-color: var(--fill-color);\n",
              "      border-left-color: var(--fill-color);\n",
              "    }\n",
              "    20% {\n",
              "      border-color: transparent;\n",
              "      border-left-color: var(--fill-color);\n",
              "      border-top-color: var(--fill-color);\n",
              "    }\n",
              "    30% {\n",
              "      border-color: transparent;\n",
              "      border-left-color: var(--fill-color);\n",
              "      border-top-color: var(--fill-color);\n",
              "      border-right-color: var(--fill-color);\n",
              "    }\n",
              "    40% {\n",
              "      border-color: transparent;\n",
              "      border-right-color: var(--fill-color);\n",
              "      border-top-color: var(--fill-color);\n",
              "    }\n",
              "    60% {\n",
              "      border-color: transparent;\n",
              "      border-right-color: var(--fill-color);\n",
              "    }\n",
              "    80% {\n",
              "      border-color: transparent;\n",
              "      border-right-color: var(--fill-color);\n",
              "      border-bottom-color: var(--fill-color);\n",
              "    }\n",
              "    90% {\n",
              "      border-color: transparent;\n",
              "      border-bottom-color: var(--fill-color);\n",
              "    }\n",
              "  }\n",
              "</style>\n",
              "\n",
              "  <script>\n",
              "    async function quickchart(key) {\n",
              "      const quickchartButtonEl =\n",
              "        document.querySelector('#' + key + ' button');\n",
              "      quickchartButtonEl.disabled = true;  // To prevent multiple clicks.\n",
              "      quickchartButtonEl.classList.add('colab-df-spinner');\n",
              "      try {\n",
              "        const charts = await google.colab.kernel.invokeFunction(\n",
              "            'suggestCharts', [key], {});\n",
              "      } catch (error) {\n",
              "        console.error('Error during call to suggestCharts:', error);\n",
              "      }\n",
              "      quickchartButtonEl.classList.remove('colab-df-spinner');\n",
              "      quickchartButtonEl.classList.add('colab-df-quickchart-complete');\n",
              "    }\n",
              "    (() => {\n",
              "      let quickchartButtonEl =\n",
              "        document.querySelector('#df-c8d8f859-086d-45e6-9e86-fbf4b899b253 button');\n",
              "      quickchartButtonEl.style.display =\n",
              "        google.colab.kernel.accessAllowed ? 'block' : 'none';\n",
              "    })();\n",
              "  </script>\n",
              "</div>\n",
              "    </div>\n",
              "  </div>\n"
            ]
          },
          "metadata": {},
          "execution_count": 5
        }
      ]
    },
    {
      "cell_type": "code",
      "metadata": {
        "id": "tnFgwZBYCyYR"
      },
      "source": [
        "!unzip /content/drive/MyDrive/Project/Deepfake/Preprocessed_Dataset/Celeb_fake_face_only.zip\n",
        "!unzip /content/drive/MyDrive/Project/Deepfake/Preprocessed_Dataset/Celeb_real_face_only.zip\n",
        "!unzip /content/drive/MyDrive/Project/Deepfake/Preprocessed_Dataset/DFDC_FAKE_Face_only_data.zip\n",
        "!unzip /content/drive/MyDrive/Project/Deepfake/Preprocessed_Dataset/DFDC_REAL_Face_only_data.zip\n",
        "!unzip /content/drive/MyDrive/Project/Deepfake/Preprocessed_Dataset/FF_Face_only_data.zip\n",
        "clear_output()"
      ],
      "execution_count": null,
      "outputs": []
    },
    {
      "cell_type": "code",
      "source": [
        "video_data =  glob.glob('/content/Celeb_fake_face_only/*.mp4')\n",
        "video_data += glob.glob('/content/Celeb_real_face_only/*.mp4')"
      ],
      "metadata": {
        "id": "R8gpekoqx85l"
      },
      "execution_count": null,
      "outputs": []
    },
    {
      "cell_type": "code",
      "source": [
        "print(\"Total no of Celeb videos :\" , len(video_data))"
      ],
      "metadata": {
        "colab": {
          "base_uri": "https://localhost:8080/"
        },
        "id": "RYa33kHnBdCO",
        "outputId": "8d4c3135-2115-4e94-aacc-968d5260ad26"
      },
      "execution_count": null,
      "outputs": [
        {
          "output_type": "stream",
          "name": "stdout",
          "text": [
            "Total no of Celeb videos : 1168\n"
          ]
        }
      ]
    },
    {
      "cell_type": "code",
      "source": [
        "video_data += glob.glob('/content/DFDC_FAKE_Face_only_data/*.mp4')\n",
        "video_data += glob.glob('/content/DFDC_REAL_Face_only_data/*.mp4')"
      ],
      "metadata": {
        "id": "9Mb6QSJXBl3C"
      },
      "execution_count": null,
      "outputs": []
    },
    {
      "cell_type": "code",
      "source": [
        "print(\"Total no of DFDC videos :\" , len(glob.glob('/content/DFDC_FAKE_Face_only_data/*.mp4'))+len(glob.glob('/content/DFDC_REAL_Face_only_data/*.mp4')))"
      ],
      "metadata": {
        "colab": {
          "base_uri": "https://localhost:8080/"
        },
        "id": "XUaHW2zKBpap",
        "outputId": "c865571d-da7c-414d-9163-f25e32550cf0"
      },
      "execution_count": null,
      "outputs": [
        {
          "output_type": "stream",
          "name": "stdout",
          "text": [
            "Total no of DFDC videos : 3293\n"
          ]
        }
      ]
    },
    {
      "cell_type": "code",
      "source": [
        "video_data += glob.glob('/content/FF_Face_only_data/*.mp4')"
      ],
      "metadata": {
        "id": "wRzasUrYBnjR"
      },
      "execution_count": null,
      "outputs": []
    },
    {
      "cell_type": "code",
      "source": [
        "print(\"Total no of FF_Face videos :\" , len(glob.glob('/content/FF_Face_only_data/*.mp4')))"
      ],
      "metadata": {
        "colab": {
          "base_uri": "https://localhost:8080/"
        },
        "id": "6-xwlS-ZB6NR",
        "outputId": "205b2dac-a0f8-48f9-bf19-1960c23dd103"
      },
      "execution_count": null,
      "outputs": [
        {
          "output_type": "stream",
          "name": "stdout",
          "text": [
            "Total no of FF_Face videos : 1989\n"
          ]
        }
      ]
    },
    {
      "cell_type": "code",
      "source": [
        "print(\"Total no of videos :\" , len(video_data))"
      ],
      "metadata": {
        "colab": {
          "base_uri": "https://localhost:8080/"
        },
        "id": "fD2FAaOZCCQU",
        "outputId": "c879eb66-0aac-4c1b-d3d5-86848647a5bf"
      },
      "execution_count": null,
      "outputs": [
        {
          "output_type": "stream",
          "name": "stdout",
          "text": [
            "Total no of videos : 6450\n"
          ]
        }
      ]
    },
    {
      "cell_type": "code",
      "source": [
        "# Count videos in each category\n",
        "celeb_count = len(glob.glob('/content/Celeb_fake_face_only/*.mp4')) + len(glob.glob('/content/Celeb_real_face_only/*.mp4'))\n",
        "dfdc_count = len(glob.glob('/content/DFDC_FAKE_Face_only_data/*.mp4')) + len(glob.glob('/content/DFDC_REAL_Face_only_data/*.mp4'))\n",
        "ff_count = len(glob.glob('/content/FF_Face_only_data/*.mp4'))\n",
        "\n",
        "# Total number of videos\n",
        "total_count = len(video_data)\n",
        "\n",
        "# Plotting the bar chart\n",
        "categories = ['Celeb', 'DFDC', 'FF']\n",
        "counts = [celeb_count, dfdc_count, ff_count]\n",
        "\n",
        "plt.bar(categories, counts, color=['blue', 'orange', 'green'])\n",
        "plt.title('Distribution of Videos in Different Categories')\n",
        "plt.xlabel('Video Categories')\n",
        "plt.ylabel('Number of Videos')\n",
        "plt.show()"
      ],
      "metadata": {
        "colab": {
          "base_uri": "https://localhost:8080/",
          "height": 472
        },
        "id": "OzqsHDRVEZg1",
        "outputId": "58bb142c-a9c6-4ba6-c7f1-75ab05312f14"
      },
      "execution_count": null,
      "outputs": [
        {
          "output_type": "display_data",
          "data": {
            "text/plain": [
              "<Figure size 640x480 with 1 Axes>"
            ],
            "image/png": "[encoded data removed]"
          },
          "metadata": {}
        }
      ]
    },
    {
      "cell_type": "markdown",
      "source": [
        "### Dataset Validation"
      ],
      "metadata": {
        "id": "qr0B-YJADfmp"
      }
    },
    {
      "cell_type": "code",
      "source": [
        "# Check if the file is corrupted or not\n",
        "def validation(vid_path, train_transforms):\n",
        "    transform = train_transforms\n",
        "    count = 20\n",
        "    video_path = vid_path\n",
        "    frames = []\n",
        "\n",
        "    # Calculate the step for frame sampling\n",
        "    step = int(100 / count)\n",
        "\n",
        "    # Randomly select the starting point within the first 'step' frames\n",
        "    first_frame = np.random.randint(0, step)\n",
        "\n",
        "    # Extract frames from the video\n",
        "    for i, frame in enumerate(frame_extract(video_path)):\n",
        "        if i % step == first_frame:\n",
        "            frames.append(transform(frame))\n",
        "\n",
        "        # Break when the desired number of frames is reached\n",
        "        if len(frames) == count:\n",
        "            break\n",
        "\n",
        "    # Convert the list of frames to a torch tensor\n",
        "    frames = torch.stack(frames)\n",
        "\n",
        "    # Ensure the number of frames is exactly 'count'\n",
        "    frames = frames[:count]\n",
        "\n",
        "    return frames"
      ],
      "metadata": {
        "id": "4NF6ldnTCf5w"
      },
      "execution_count": null,
      "outputs": []
    },
    {
      "cell_type": "code",
      "source": [
        "def frame_extract(path):\n",
        "    # Open the video file\n",
        "    vidObj = cv2.VideoCapture(path)\n",
        "\n",
        "    # Continue looping until there are no more frames\n",
        "    while True:\n",
        "        # Read the next frame from the video\n",
        "        success, frame = vidObj.read()\n",
        "\n",
        "        # Check if reading was successful\n",
        "        if not success:\n",
        "            # Break the loop if no more frames are available\n",
        "            break\n",
        "\n",
        "        # Yield the current frame\n",
        "        yield frame"
      ],
      "metadata": {
        "id": "exOpWfcSCvqQ"
      },
      "execution_count": null,
      "outputs": []
    },
    {
      "cell_type": "code",
      "source": [
        "im_size = 112\n",
        "mean = [0.485, 0.456, 0.406]\n",
        "std = [0.229, 0.224, 0.225]"
      ],
      "metadata": {
        "id": "SNAO7OSDCyVB"
      },
      "execution_count": null,
      "outputs": []
    },
    {
      "cell_type": "code",
      "source": [
        "train_transforms = transforms.Compose([\n",
        "                              transforms.ToPILImage(),\n",
        "                              transforms.Resize((im_size,im_size)),\n",
        "                              transforms.ToTensor(),\n",
        "                              transforms.Normalize(mean,std)])"
      ],
      "metadata": {
        "id": "buW5W7wrC0fS"
      },
      "execution_count": null,
      "outputs": []
    },
    {
      "cell_type": "code",
      "metadata": {
        "id": "QZ22Sj8d0JoT",
        "colab": {
          "base_uri": "https://localhost:8080/"
        },
        "outputId": "21fe30ee-90cd-4064-e26b-2ab4842301d5"
      },
      "source": [
        "# this cell will take few mint\n",
        "count = 0\n",
        "\n",
        "# Loop through each video file path\n",
        "for i in video_data:\n",
        "    try:\n",
        "        # Increment the count and validate the video\n",
        "        count += 1\n",
        "        validation(i, train_transforms)\n",
        "    except Exception as e:\n",
        "        # Handle exceptions (assuming you want to catch all exceptions)\n",
        "        print(\"Number of videos processed:\", count, \"Remaining:\", len(video_data) - count)\n",
        "        print(\"Error processing video:\", i)\n",
        "        print(\"Error details:\", str(e))\n",
        "        continue\n",
        "\n",
        "# Print the count of processed videos\n",
        "print(\"Total number of videos processed:\", count)\n",
        "print(\"Number of corrupted videos:\", len(video_data) - count)"
      ],
      "execution_count": null,
      "outputs": [
        {
          "output_type": "stream",
          "name": "stdout",
          "text": [
            "Total number of videos processed: 6450\n",
            "Number of corrupted videos: 0\n"
          ]
        }
      ]
    },
    {
      "cell_type": "markdown",
      "source": [
        "### Dataset Preprocessing"
      ],
      "metadata": {
        "id": "GUVMxUyMD4rP"
      }
    },
    {
      "cell_type": "code",
      "metadata": {
        "id": "CEIygy8uDFXc",
        "colab": {
          "base_uri": "https://localhost:8080/"
        },
        "outputId": "09be59ab-f98e-408e-d75b-eb2aea790f66"
      },
      "source": [
        "# Shuffle the list of video files twice for randomness\n",
        "random.shuffle(video_data)\n",
        "random.shuffle(video_data)\n",
        "\n",
        "# List to store frame counts of valid videos\n",
        "frame_counts = []\n",
        "\n",
        "# Loop through each video file\n",
        "for video_file in video_data:\n",
        "    # Open the video file\n",
        "    cap = cv2.VideoCapture(video_file)\n",
        "\n",
        "    # Check if the video has at least 100 frames\n",
        "    if int(cap.get(cv2.CAP_PROP_FRAME_COUNT)) < 100:\n",
        "        # Exclude videos with fewer than 100 frames\n",
        "        video_data.remove(video_file)\n",
        "        continue\n",
        "\n",
        "    # Store the frame count of valid videos\n",
        "    frame_counts.append(int(cap.get(cv2.CAP_PROP_FRAME_COUNT)))\n",
        "\n",
        "# Print information about frame counts\n",
        "print(\"Frame counts:\", frame_counts)\n",
        "print(\"Total number of valid videos:\", len(frame_counts))\n",
        "print('Average frames per video:', np.mean(frame_counts))"
      ],
      "execution_count": null,
      "outputs": [
        {
          "output_type": "stream",
          "name": "stdout",
          "text": [
            "Frame counts: [148, 148, 148, 148, 148, 148, 148, 148, 148, 145, 148, 148, 148, 148, 148, 148, 148, 148, 148, 148, 148, 139, 148, 148, 148, 148, 148, 148, 148, 148, 148, 148, 148, 148, 148, 148, 148, 148, 148, 148, 148, 148, 148, 148, 148, 148, 148, 148, 148, 148, 148, 148, 148, 148, 148, 148, 148, 148, 148, 148, 148, 148, 148, 148, 148, 148, 148, 148, 148, 148, 148, 148, 148, 148, 148, 148, 105, 148, 148, 148, 148, 148, 148, 148, 148, 148, 148, 148, 148, 148, 148, 148, 148, 148, 148, 148, 148, 148, 148, 148, 148, 146, 148, 148, 148, 148, 148, 148, 148, 148, 148, 148, 148, 148, 148, 148, 148, 148, 148, 148, 148, 148, 142, 148, 148, 148, 148, 148, 148, 148, 148, 148, 148, 148, 148, 148, 137, 148, 148, 148, 148, 148, 148, 148, 148, 148, 148, 148, 148, 148, 148, 148, 148, 148, 148, 148, 148, 148, 148, 123, 148, 148, 148, 148, 148, 148, 148, 148, 148, 148, 148, 148, 148, 148, 148, 148, 148, 148, 148, 148, 148, 148, 148, 148, 148, 148, 148, 148, 148, 148, 148, 148, 148, 148, 148, 148, 148, 148, 148, 148, 148, 148, 148, 148, 148, 148, 148, 148, 148, 148, 148, 148, 148, 148, 148, 148, 148, 148, 148, 148, 148, 148, 148, 148, 148, 148, 148, 148, 148, 148, 148, 148, 148, 148, 148, 148, 148, 148, 148, 148, 148, 148, 148, 148, 148, 148, 148, 148, 148, 148, 148, 148, 148, 148, 148, 148, 148, 148, 148, 148, 148, 148, 148, 148, 148, 148, 148, 148, 148, 148, 148, 148, 148, 148, 148, 148, 148, 128, 148, 148, 148, 148, 148, 148, 148, 148, 148, 148, 148, 148, 148, 148, 148, 148, 148, 148, 148, 148, 148, 148, 148, 148, 148, 148, 148, 148, 148, 148, 148, 148, 148, 148, 148, 148, 148, 148, 148, 148, 148, 148, 148, 148, 148, 148, 148, 148, 148, 148, 148, 148, 148, 148, 148, 148, 148, 148, 148, 148, 148, 148, 148, 148, 148, 148, 148, 148, 148, 148, 148, 148, 148, 148, 148, 148, 148, 148, 148, 148, 148, 148, 148, 148, 148, 134, 148, 148, 148, 148, 148, 148, 148, 148, 148, 148, 148, 148, 148, 148, 148, 148, 148, 148, 148, 148, 148, 148, 148, 148, 148, 148, 148, 148, 148, 148, 148, 148, 148, 148, 148, 148, 148, 148, 148, 148, 148, 148, 148, 148, 148, 148, 148, 148, 148, 148, 148, 148, 148, 148, 148, 148, 148, 148, 148, 148, 148, 148, 148, 148, 148, 148, 148, 148, 148, 148, 148, 148, 148, 148, 148, 148, 148, 148, 148, 148, 148, 148, 148, 148, 148, 148, 148, 148, 148, 148, 148, 148, 148, 148, 148, 148, 148, 148, 148, 148, 148, 148, 148, 148, 148, 147, 146, 148, 148, 148, 148, 148, 148, 148, 148, 148, 148, 148, 148, 148, 148, 148, 148, 148, 148, 148, 148, 148, 148, 148, 148, 148, 148, 148, 148, 148, 148, 148, 148, 148, 148, 148, 148, 148, 148, 148, 148, 148, 148, 148, 148, 148, 148, 148, 148, 148, 148, 148, 148, 148, 148, 148, 148, 148, 148, 147, 148, 148, 148, 132, 148, 148, 148, 148, 148, 148, 148, 148, 148, 148, 148, 148, 148, 148, 148, 148, 148, 148, 148, 148, 148, 148, 148, 148, 148, 148, 148, 148, 148, 148, 148, 148, 148, 148, 148, 148, 148, 148, 148, 148, 148, 148, 148, 148, 148, 148, 148, 148, 148, 148, 148, 148, 148, 148, 148, 148, 148, 148, 148, 148, 148, 148, 148, 148, 148, 148, 148, 148, 148, 148, 148, 148, 148, 148, 148, 148, 148, 148, 148, 148, 148, 148, 148, 148, 148, 148, 148, 148, 148, 148, 148, 148, 148, 148, 148, 148, 148, 148, 148, 148, 148, 148, 148, 148, 148, 148, 148, 148, 148, 148, 148, 148, 148, 148, 148, 148, 148, 118, 148, 148, 148, 148, 148, 148, 148, 148, 148, 148, 148, 148, 148, 148, 148, 148, 148, 148, 148, 148, 148, 148, 148, 148, 148, 148, 148, 148, 148, 148, 148, 148, 148, 146, 148, 148, 148, 148, 148, 148, 148, 148, 148, 148, 148, 148, 148, 148, 148, 148, 148, 148, 148, 148, 148, 148, 148, 148, 148, 148, 148, 148, 148, 148, 148, 148, 148, 148, 148, 148, 148, 148, 148, 148, 148, 148, 148, 148, 148, 148, 148, 148, 148, 148, 148, 148, 148, 148, 148, 148, 148, 148, 148, 148, 148, 148, 148, 148, 148, 148, 148, 148, 148, 148, 148, 148, 148, 148, 148, 148, 148, 148, 148, 146, 148, 148, 148, 148, 148, 148, 148, 148, 148, 148, 148, 148, 148, 148, 148, 148, 148, 148, 148, 148, 148, 148, 148, 148, 148, 148, 148, 148, 148, 148, 148, 148, 148, 148, 148, 148, 148, 148, 148, 148, 148, 147, 148, 148, 148, 148, 148, 148, 148, 148, 148, 148, 148, 148, 148, 148, 148, 148, 148, 148, 148, 148, 148, 148, 148, 148, 148, 148, 148, 148, 148, 148, 148, 148, 146, 148, 148, 148, 148, 148, 148, 148, 148, 148, 148, 148, 148, 148, 148, 148, 148, 148, 148, 148, 148, 148, 148, 148, 148, 148, 148, 148, 148, 144, 148, 148, 148, 148, 148, 148, 140, 148, 148, 148, 148, 148, 148, 148, 148, 148, 148, 148, 148, 148, 148, 148, 148, 148, 148, 148, 148, 114, 148, 148, 148, 148, 148, 148, 148, 148, 148, 148, 148, 148, 148, 148, 148, 148, 148, 148, 148, 148, 148, 148, 148, 148, 148, 148, 148, 148, 148, 148, 148, 148, 148, 148, 148, 148, 148, 148, 148, 148, 148, 148, 148, 148, 148, 148, 148, 148, 148, 117, 148, 148, 148, 148, 148, 148, 148, 148, 148, 148, 148, 148, 148, 148, 148, 148, 148, 148, 148, 148, 148, 148, 148, 148, 148, 148, 148, 147, 148, 148, 148, 126, 148, 148, 148, 148, 148, 148, 148, 148, 148, 148, 148, 148, 148, 148, 148, 148, 148, 148, 148, 148, 148, 148, 148, 148, 148, 148, 148, 148, 148, 148, 148, 148, 148, 148, 148, 148, 148, 148, 148, 148, 148, 148, 148, 148, 148, 148, 148, 148, 148, 148, 148, 143, 148, 148, 148, 148, 148, 148, 148, 148, 148, 148, 148, 148, 148, 148, 148, 148, 148, 148, 148, 148, 148, 148, 148, 148, 148, 148, 148, 148, 148, 148, 148, 148, 148, 148, 148, 148, 148, 148, 148, 148, 148, 148, 148, 148, 148, 148, 148, 148, 148, 148, 148, 148, 148, 148, 148, 148, 148, 148, 148, 148, 148, 148, 148, 148, 148, 148, 148, 148, 148, 148, 148, 143, 148, 148, 148, 148, 148, 148, 148, 148, 148, 148, 148, 148, 148, 148, 148, 148, 148, 148, 148, 148, 148, 148, 148, 148, 148, 148, 148, 148, 148, 148, 148, 148, 148, 148, 148, 148, 148, 148, 148, 148, 148, 148, 148, 148, 148, 148, 148, 148, 148, 148, 148, 148, 148, 148, 148, 148, 148, 148, 148, 148, 148, 148, 148, 148, 148, 148, 148, 148, 148, 148, 148, 148, 148, 148, 148, 148, 148, 148, 148, 148, 148, 148, 118, 148, 148, 148, 148, 148, 148, 148, 146, 148, 148, 148, 148, 148, 148, 148, 148, 148, 148, 148, 148, 148, 148, 148, 148, 148, 148, 148, 148, 148, 148, 148, 148, 148, 148, 148, 148, 148, 148, 148, 148, 148, 148, 148, 148, 148, 148, 148, 148, 148, 148, 148, 148, 148, 148, 148, 148, 148, 148, 148, 148, 148, 148, 148, 148, 148, 148, 148, 148, 148, 124, 148, 148, 148, 148, 148, 148, 148, 148, 148, 148, 148, 148, 148, 148, 148, 144, 148, 148, 148, 148, 148, 148, 148, 148, 148, 148, 148, 148, 148, 148, 148, 148, 148, 148, 148, 148, 148, 148, 148, 148, 148, 148, 148, 148, 148, 148, 148, 148, 148, 148, 148, 148, 148, 148, 148, 148, 148, 148, 148, 148, 148, 148, 148, 148, 148, 148, 148, 148, 148, 148, 148, 148, 148, 148, 148, 148, 148, 148, 148, 148, 148, 148, 148, 148, 148, 148, 148, 148, 148, 148, 148, 148, 148, 148, 148, 148, 148, 148, 148, 148, 148, 148, 148, 148, 148, 148, 148, 148, 148, 148, 148, 148, 148, 148, 148, 148, 148, 148, 148, 148, 148, 148, 148, 148, 148, 148, 148, 148, 148, 148, 148, 148, 148, 148, 148, 148, 148, 148, 148, 148, 148, 148, 148, 148, 148, 148, 148, 148, 148, 148, 148, 148, 148, 148, 148, 148, 148, 148, 148, 148, 148, 148, 148, 148, 148, 148, 148, 148, 148, 148, 148, 148, 148, 148, 148, 148, 148, 148, 148, 148, 148, 148, 148, 148, 148, 148, 148, 148, 148, 148, 148, 148, 148, 148, 148, 148, 148, 148, 148, 142, 148, 148, 148, 148, 148, 148, 148, 148, 148, 148, 148, 148, 148, 148, 148, 148, 148, 148, 148, 148, 148, 148, 148, 148, 118, 148, 148, 148, 148, 148, 148, 148, 148, 148, 148, 148, 141, 148, 148, 148, 148, 148, 148, 148, 148, 148, 148, 148, 148, 148, 148, 148, 148, 148, 148, 148, 148, 148, 148, 148, 148, 148, 148, 148, 148, 148, 148, 148, 148, 148, 148, 148, 148, 148, 148, 148, 148, 148, 148, 148, 148, 148, 148, 148, 148, 148, 148, 148, 148, 148, 148, 148, 148, 148, 148, 148, 148, 148, 148, 148, 148, 148, 148, 148, 148, 148, 148, 148, 148, 148, 148, 148, 148, 148, 148, 148, 148, 148, 148, 148, 148, 148, 148, 148, 148, 148, 148, 148, 148, 118, 104, 148, 148, 148, 148, 148, 148, 148, 148, 148, 148, 148, 148, 148, 148, 148, 148, 148, 148, 148, 148, 148, 148, 148, 148, 148, 148, 148, 148, 148, 148, 148, 148, 148, 148, 148, 148, 148, 148, 148, 148, 148, 148, 148, 148, 148, 148, 148, 148, 148, 148, 148, 148, 148, 148, 148, 148, 148, 148, 148, 148, 148, 148, 148, 148, 148, 148, 148, 148, 148, 148, 148, 148, 148, 148, 148, 148, 148, 148, 148, 148, 148, 148, 148, 148, 148, 148, 148, 148, 148, 148, 148, 148, 148, 148, 148, 148, 148, 148, 148, 148, 148, 148, 148, 148, 148, 148, 148, 148, 148, 148, 148, 148, 148, 148, 148, 148, 148, 148, 148, 148, 148, 148, 148, 148, 148, 148, 148, 148, 148, 148, 148, 148, 148, 148, 148, 148, 148, 148, 148, 148, 148, 148, 148, 148, 148, 148, 148, 148, 148, 148, 148, 148, 148, 148, 148, 148, 148, 148, 148, 148, 148, 148, 148, 148, 148, 148, 148, 148, 148, 148, 148, 148, 148, 148, 148, 148, 148, 148, 148, 148, 148, 148, 148, 148, 148, 148, 148, 148, 148, 148, 148, 148, 148, 148, 148, 148, 148, 148, 148, 148, 148, 148, 148, 148, 148, 148, 148, 148, 148, 148, 148, 148, 148, 148, 148, 148, 148, 148, 148, 148, 148, 148, 148, 148, 148, 148, 148, 148, 148, 148, 148, 148, 148, 148, 148, 148, 148, 148, 148, 148, 148, 148, 148, 148, 148, 148, 148, 148, 148, 148, 148, 148, 144, 148, 148, 148, 148, 148, 148, 148, 148, 148, 148, 148, 148, 148, 148, 148, 148, 148, 148, 148, 148, 148, 148, 148, 148, 148, 148, 148, 148, 148, 148, 148, 148, 148, 148, 148, 148, 148, 148, 148, 148, 148, 148, 148, 148, 148, 148, 148, 148, 148, 148, 148, 148, 148, 148, 148, 148, 148, 148, 148, 148, 148, 148, 148, 148, 148, 148, 148, 148, 148, 148, 148, 148, 148, 148, 148, 148, 148, 148, 148, 148, 148, 148, 148, 148, 148, 148, 148, 148, 148, 148, 148, 148, 148, 148, 148, 148, 148, 148, 148, 148, 148, 148, 148, 148, 148, 148, 148, 148, 148, 148, 148, 148, 148, 148, 148, 148, 148, 148, 148, 148, 148, 148, 148, 148, 148, 148, 148, 148, 148, 148, 148, 148, 148, 148, 148, 148, 148, 148, 148, 148, 148, 148, 148, 148, 148, 148, 148, 148, 148, 148, 148, 148, 148, 148, 148, 148, 148, 148, 148, 148, 148, 148, 148, 148, 148, 148, 148, 148, 148, 148, 148, 148, 148, 148, 148, 148, 148, 148, 148, 148, 148, 148, 148, 148, 148, 148, 148, 148, 148, 148, 148, 148, 148, 148, 148, 148, 148, 148, 148, 148, 148, 148, 148, 148, 148, 148, 148, 148, 148, 148, 148, 148, 148, 148, 148, 148, 148, 148, 148, 148, 148, 148, 148, 148, 148, 148, 148, 148, 148, 148, 148, 148, 148, 148, 148, 148, 148, 148, 148, 147, 148, 148, 148, 148, 148, 148, 148, 148, 148, 148, 148, 148, 148, 148, 148, 148, 148, 148, 148, 148, 148, 148, 148, 148, 148, 148, 148, 148, 148, 148, 148, 148, 148, 148, 148, 148, 148, 148, 148, 148, 148, 148, 148, 148, 148, 148, 148, 148, 148, 148, 148, 148, 148, 148, 148, 148, 148, 148, 148, 148, 148, 148, 148, 148, 148, 148, 148, 148, 148, 148, 148, 148, 148, 148, 148, 148, 148, 148, 148, 148, 148, 146, 148, 148, 148, 148, 148, 148, 148, 148, 148, 148, 148, 148, 148, 148, 148, 148, 148, 148, 148, 144, 148, 148, 148, 148, 148, 148, 148, 148, 148, 148, 148, 148, 148, 148, 148, 148, 148, 148, 148, 138, 148, 148, 148, 148, 148, 148, 148, 148, 148, 148, 148, 148, 148, 148, 148, 148, 148, 148, 148, 148, 148, 148, 148, 148, 148, 148, 148, 148, 148, 148, 148, 148, 148, 148, 148, 148, 148, 148, 148, 148, 148, 148, 148, 148, 148, 148, 148, 148, 148, 148, 148, 148, 148, 148, 148, 148, 148, 148, 148, 148, 148, 148, 148, 148, 148, 148, 148, 148, 148, 148, 148, 148, 104, 148, 148, 100, 148, 148, 148, 148, 148, 148, 148, 148, 148, 148, 139, 148, 148, 148, 148, 148, 148, 148, 148, 148, 148, 148, 148, 148, 148, 146, 148, 148, 148, 148, 148, 148, 148, 148, 148, 148, 148, 148, 148, 148, 148, 148, 148, 148, 148, 148, 148, 148, 148, 115, 148, 148, 148, 148, 148, 146, 148, 148, 148, 148, 148, 148, 148, 148, 148, 148, 148, 148, 148, 148, 148, 148, 148, 148, 148, 135, 148, 148, 148, 148, 148, 148, 148, 148, 148, 148, 148, 148, 148, 148, 148, 148, 148, 148, 148, 148, 148, 148, 148, 148, 148, 148, 148, 148, 148, 148, 148, 148, 148, 148, 148, 148, 148, 148, 148, 148, 148, 148, 148, 148, 148, 148, 148, 148, 148, 148, 148, 148, 148, 148, 148, 148, 148, 148, 148, 113, 148, 148, 148, 148, 148, 148, 148, 148, 148, 148, 148, 148, 148, 148, 148, 148, 148, 148, 148, 148, 148, 148, 148, 148, 148, 148, 148, 148, 148, 148, 148, 148, 148, 148, 148, 148, 148, 148, 148, 148, 145, 148, 148, 148, 148, 148, 148, 148, 148, 148, 148, 148, 148, 148, 148, 148, 148, 148, 148, 148, 148, 148, 148, 148, 148, 148, 148, 148, 148, 148, 148, 148, 148, 148, 148, 148, 148, 148, 148, 148, 148, 148, 148, 148, 148, 148, 148, 148, 148, 148, 148, 148, 148, 148, 148, 148, 148, 148, 148, 148, 148, 148, 148, 148, 148, 148, 148, 148, 148, 148, 148, 148, 148, 148, 148, 148, 148, 148, 148, 148, 148, 148, 148, 148, 148, 148, 148, 148, 148, 148, 148, 148, 148, 148, 148, 148, 148, 148, 148, 148, 148, 148, 148, 148, 148, 139, 148, 148, 148, 148, 148, 148, 148, 148, 148, 148, 148, 148, 148, 148, 148, 148, 148, 148, 148, 148, 148, 148, 148, 148, 148, 148, 148, 148, 148, 148, 148, 148, 148, 148, 148, 148, 148, 148, 148, 148, 148, 148, 148, 148, 148, 148, 148, 148, 148, 148, 117, 126, 148, 148, 148, 148, 148, 145, 148, 148, 148, 148, 148, 148, 148, 148, 148, 148, 148, 148, 148, 148, 148, 148, 148, 148, 148, 148, 148, 148, 148, 148, 148, 148, 148, 148, 148, 148, 148, 148, 148, 148, 148, 148, 148, 148, 148, 148, 148, 148, 148, 148, 148, 148, 148, 148, 148, 148, 148, 148, 148, 148, 148, 148, 148, 146, 148, 148, 148, 148, 148, 148, 148, 148, 148, 148, 148, 148, 148, 148, 148, 148, 148, 148, 148, 148, 148, 148, 148, 148, 148, 148, 148, 148, 148, 148, 148, 148, 148, 148, 148, 148, 148, 148, 148, 148, 148, 148, 148, 148, 148, 148, 148, 148, 148, 148, 144, 148, 148, 148, 148, 148, 148, 148, 148, 148, 148, 148, 148, 148, 148, 148, 148, 148, 148, 148, 148, 148, 148, 148, 148, 148, 148, 148, 148, 148, 148, 148, 148, 148, 148, 148, 148, 148, 148, 148, 148, 148, 148, 148, 148, 148, 148, 148, 148, 148, 148, 148, 148, 148, 148, 148, 148, 148, 148, 148, 148, 148, 148, 148, 148, 148, 148, 148, 148, 148, 148, 148, 148, 148, 148, 148, 148, 148, 148, 148, 148, 148, 148, 148, 148, 148, 148, 148, 148, 148, 148, 148, 148, 148, 148, 148, 148, 148, 148, 148, 148, 148, 148, 148, 148, 148, 148, 148, 148, 148, 148, 148, 148, 148, 148, 148, 148, 148, 148, 148, 148, 148, 148, 148, 148, 148, 148, 148, 148, 148, 148, 148, 148, 148, 148, 148, 148, 148, 148, 148, 148, 148, 148, 148, 148, 148, 148, 148, 148, 148, 148, 148, 148, 148, 148, 148, 148, 148, 148, 148, 148, 148, 148, 148, 148, 148, 148, 148, 148, 148, 148, 148, 148, 148, 148, 148, 148, 148, 148, 148, 148, 148, 148, 148, 148, 148, 148, 148, 148, 148, 148, 148, 148, 148, 148, 148, 148, 148, 148, 148, 148, 148, 148, 148, 148, 148, 144, 148, 148, 148, 148, 148, 148, 148, 148, 148, 148, 148, 148, 148, 148, 148, 148, 148, 148, 148, 148, 148, 148, 148, 148, 148, 148, 148, 148, 148, 148, 148, 148, 148, 148, 148, 148, 148, 148, 148, 148, 148, 148, 148, 148, 148, 148, 148, 148, 148, 148, 148, 148, 148, 148, 148, 148, 148, 148, 148, 148, 148, 148, 148, 148, 148, 148, 148, 148, 148, 148, 148, 148, 148, 148, 148, 148, 148, 148, 148, 148, 148, 148, 148, 148, 148, 148, 148, 148, 148, 148, 148, 148, 148, 148, 148, 148, 148, 139, 148, 148, 148, 148, 148, 148, 148, 148, 148, 148, 148, 148, 148, 148, 148, 148, 148, 148, 148, 148, 148, 148, 148, 148, 148, 148, 148, 148, 148, 148, 148, 148, 148, 148, 148, 148, 148, 148, 148, 148, 148, 148, 148, 148, 148, 148, 148, 148, 148, 148, 148, 148, 148, 148, 135, 148, 148, 148, 148, 148, 148, 148, 148, 148, 148, 148, 148, 148, 148, 148, 148, 148, 148, 148, 148, 148, 148, 148, 148, 148, 148, 148, 148, 148, 148, 148, 148, 148, 148, 148, 148, 148, 148, 148, 148, 148, 148, 148, 148, 148, 148, 148, 148, 148, 148, 148, 148, 148, 148, 148, 148, 148, 148, 148, 148, 148, 148, 148, 148, 148, 148, 148, 124, 148, 148, 148, 148, 148, 148, 148, 148, 148, 148, 148, 148, 148, 148, 148, 148, 148, 148, 148, 148, 148, 148, 148, 148, 148, 148, 148, 148, 148, 148, 148, 148, 148, 148, 148, 148, 148, 148, 148, 148, 148, 148, 148, 148, 148, 148, 148, 148, 148, 148, 148, 148, 148, 148, 148, 148, 148, 148, 148, 148, 148, 148, 148, 148, 148, 148, 148, 148, 148, 148, 148, 148, 148, 148, 148, 148, 148, 148, 148, 148, 148, 148, 148, 148, 148, 148, 148, 148, 148, 148, 148, 148, 148, 148, 148, 148, 148, 148, 148, 148, 148, 148, 148, 148, 148, 148, 148, 148, 148, 148, 148, 148, 148, 148, 148, 148, 148, 148, 148, 148, 148, 148, 148, 148, 148, 148, 148, 148, 148, 148, 148, 148, 148, 148, 148, 148, 148, 148, 148, 148, 148, 148, 148, 148, 148, 148, 148, 148, 148, 148, 148, 148, 148, 148, 148, 148, 148, 148, 148, 148, 148, 148, 148, 148, 148, 148, 148, 148, 148, 148, 148, 148, 148, 148, 148, 148, 148, 148, 148, 148, 148, 148, 148, 148, 148, 148, 148, 148, 148, 148, 148, 148, 148, 148, 148, 148, 148, 148, 148, 148, 148, 141, 148, 148, 148, 148, 148, 148, 148, 148, 148, 148, 148, 148, 148, 148, 148, 148, 148, 148, 148, 148, 148, 148, 148, 148, 148, 148, 148, 148, 148, 148, 148, 148, 148, 148, 148, 148, 148, 148, 148, 148, 148, 148, 148, 148, 148, 147, 148, 148, 148, 127, 148, 148, 148, 148, 148, 148, 148, 148, 148, 148, 148, 148, 148, 148, 148, 148, 148, 148, 148, 148, 148, 148, 148, 148, 148, 148, 148, 148, 148, 148, 148, 148, 148, 148, 148, 148, 148, 148, 148, 148, 148, 148, 148, 148, 148, 148, 148, 148, 148, 148, 148, 148, 148, 148, 148, 148, 148, 148, 148, 148, 148, 148, 148, 148, 148, 148, 148, 148, 148, 148, 148, 148, 148, 148, 148, 147, 148, 148, 148, 148, 148, 148, 148, 148, 148, 148, 148, 148, 148, 148, 148, 148, 148, 148, 148, 148, 148, 148, 148, 148, 148, 148, 139, 148, 148, 148, 148, 148, 148, 148, 148, 148, 148, 148, 148, 148, 148, 148, 148, 148, 148, 148, 148, 148, 148, 148, 148, 148, 148, 148, 148, 148, 148, 134, 148, 148, 148, 148, 148, 148, 148, 148, 148, 148, 148, 148, 148, 148, 148, 148, 148, 148, 148, 148, 148, 148, 148, 148, 148, 148, 148, 148, 148, 148, 148, 148, 148, 148, 148, 148, 148, 148, 148, 148, 148, 148, 148, 148, 148, 148, 148, 148, 148, 148, 148, 148, 148, 148, 148, 148, 148, 148, 148, 148, 148, 148, 148, 148, 148, 148, 148, 148, 148, 148, 148, 148, 148, 148, 148, 148, 148, 148, 148, 148, 148, 148, 148, 148, 148, 148, 148, 148, 148, 148, 148, 148, 148, 148, 148, 148, 148, 148, 148, 148, 148, 148, 148, 148, 148, 148, 148, 148, 148, 148, 148, 148, 148, 148, 148, 148, 148, 148, 148, 148, 148, 148, 148, 148, 148, 148, 148, 148, 148, 148, 148, 148, 148, 148, 148, 148, 148, 148, 148, 148, 148, 148, 148, 148, 148, 148, 148, 148, 148, 148, 148, 148, 148, 148, 148, 148, 148, 148, 148, 148, 148, 148, 148, 148, 148, 148, 148, 148, 148, 148, 148, 148, 148, 148, 148, 148, 148, 148, 148, 148, 148, 148, 148, 148, 148, 148, 148, 148, 148, 148, 148, 148, 148, 148, 148, 148, 148, 148, 148, 148, 148, 148, 148, 148, 148, 148, 148, 148, 148, 148, 148, 148, 148, 148, 148, 148, 148, 148, 148, 148, 148, 148, 148, 148, 148, 148, 148, 148, 148, 148, 148, 148, 148, 148, 148, 148, 148, 148, 148, 148, 148, 148, 148, 148, 148, 148, 148, 148, 148, 148, 148, 148, 148, 148, 148, 148, 148, 148, 148, 148, 148, 148, 148, 148, 148, 148, 148, 148, 148, 148, 148, 148, 148, 148, 148, 148, 148, 148, 148, 148, 148, 148, 148, 148, 148, 148, 148, 148, 148, 148, 148, 148, 148, 148, 148, 148, 148, 148, 148, 148, 148, 148, 148, 148, 148, 148, 148, 148, 148, 148, 148, 148, 148, 148, 148, 148, 148, 148, 148, 148, 148, 148, 148, 148, 148, 148, 148, 148, 148, 148, 148, 148, 148, 148, 148, 148, 148, 148, 148, 148, 148, 135, 148, 148, 148, 148, 148, 148, 148, 148, 148, 148, 148, 148, 148, 148, 148, 148, 148, 148, 148, 148, 148, 148, 148, 148, 148, 148, 148, 148, 148, 148, 148, 148, 148, 148, 148, 148, 148, 148, 148, 148, 148, 148, 148, 148, 148, 148, 148, 148, 148, 148, 148, 148, 148, 148, 148, 148, 148, 148, 148, 148, 148, 148, 148, 148, 148, 148, 148, 148, 148, 148, 148, 148, 148, 148, 148, 148, 148, 148, 148, 148, 148, 148, 148, 148, 148, 148, 148, 148, 148, 148, 148, 148, 148, 148, 148, 148, 148, 148, 148, 148, 148, 148, 148, 148, 148, 148, 148, 148, 148, 148, 148, 148, 148, 148, 148, 148, 148, 148, 148, 148, 148, 148, 148, 148, 148, 148, 148, 148, 148, 148, 148, 148, 148, 148, 148, 148, 148, 148, 148, 148, 148, 148, 148, 148, 148, 148, 148, 148, 148, 148, 148, 148, 148, 148, 148, 148, 148, 148, 148, 148, 148, 148, 148, 148, 148, 148, 148, 148, 148, 148, 148, 148, 148, 148, 148, 148, 148, 148, 148, 148, 148, 148, 148, 148, 148, 148, 148, 148, 148, 148, 148, 148, 148, 148, 148, 148, 148, 148, 148, 148, 148, 148, 148, 148, 148, 148, 148, 148, 148, 148, 148, 148, 148, 148, 148, 148, 148, 148, 148, 148, 148, 148, 148, 148, 148, 148, 148, 146, 148, 148, 148, 148, 148, 148, 148, 148, 148, 148, 148, 148, 148, 148, 148, 148, 148, 148, 148, 148, 148, 148, 148, 148, 148, 148, 148, 148, 148, 148, 148, 148, 148, 148, 148, 148, 148, 148, 148, 148, 148, 148, 148, 148, 148, 148, 148, 148, 148, 148, 148, 148, 148, 148, 148, 148, 148, 148, 148, 148, 148, 148, 148, 148, 148, 148, 138, 148, 148, 148, 148, 148, 148, 148, 148, 148, 148, 148, 148, 148, 148, 148, 148, 148, 148, 148, 148, 148, 148, 148, 148, 148, 148, 148, 148, 148, 148, 148, 148, 148, 148, 148, 148, 148, 148, 148, 148, 148, 148, 148, 148, 148, 148, 148, 148, 122, 148, 148, 148, 148, 148, 148, 148, 148, 148, 148, 148, 148, 148, 148, 148, 148, 148, 148, 148, 148, 148, 148, 148, 148, 148, 148, 148, 148, 148, 148, 148, 148, 148, 148, 148, 148, 148, 148, 148, 148, 148, 148, 148, 148, 148, 148, 148, 148, 148, 148, 148, 148, 148, 148, 148, 148, 148, 148, 148, 148, 148, 148, 148, 148, 148, 148, 148, 148, 148, 148, 148, 148, 148, 148, 148, 148, 148, 148, 148, 148, 148, 148, 148, 148, 148, 148, 148, 148, 148, 148, 126, 148, 148, 148, 148, 148, 148, 148, 148, 148, 148, 148, 148, 148, 148, 148, 148, 148, 148, 148, 148, 148, 148, 148, 148, 148, 148, 148, 148, 148, 148, 148, 148, 148, 148, 148, 148, 148, 148, 148, 148, 148, 148, 148, 148, 148, 148, 148, 148, 148, 148, 148, 148, 148, 148, 148, 148, 148, 148, 148, 148, 148, 148, 148, 148, 148, 148, 148, 148, 148, 148, 148, 148, 148, 148, 148, 148, 148, 148, 148, 148, 148, 148, 148, 148, 148, 148, 148, 148, 148, 148, 148, 148, 148, 148, 148, 148, 148, 148, 148, 148, 148, 148, 148, 148, 148, 148, 148, 148, 148, 148, 148, 148, 148, 148, 148, 148, 148, 148, 148, 148, 148, 148, 148, 148, 148, 148, 148, 148, 148, 148, 148, 148, 148, 148, 148, 148, 148, 148, 148, 148, 148, 148, 148, 148, 148, 148, 148, 148, 148, 148, 148, 148, 148, 148, 148, 148, 148, 148, 148, 148, 148, 148, 148, 148, 148, 148, 148, 148, 148, 148, 148, 148, 148, 148, 148, 148, 148, 148, 148, 148, 148, 148, 148, 148, 148, 148, 148, 148, 148, 148, 148, 148, 148, 148, 148, 148, 148, 148, 148, 148, 148, 148, 148, 148, 148, 148, 148, 148, 144, 148, 148, 148, 148, 148, 148, 148, 148, 148, 148, 148, 148, 148, 146, 148, 148, 148, 148, 148, 148, 148, 148, 148, 148, 148, 148, 148, 148, 148, 148, 148, 148, 148, 148, 148, 148, 148, 148, 148, 148, 148, 148, 148, 148, 148, 148, 148, 148, 148, 148, 148, 148, 148, 148, 148, 148, 148, 148, 148, 148, 148, 148, 148, 134, 148, 148, 148, 148, 148, 148, 148, 148, 148, 148, 148, 148, 148, 148, 148, 148, 148, 148, 148, 148, 148, 148, 148, 148, 148, 148, 148, 148, 148, 148, 148, 148, 148, 148, 148, 148, 148, 148, 148, 148, 148, 148, 148, 148, 148, 148, 148, 148, 148, 148, 148, 148, 148, 148, 148, 148, 148, 148, 148, 148, 148, 148, 148, 148, 148, 148, 148, 148, 148, 148, 148, 148, 148, 148, 148, 148, 148, 148, 148, 148, 148, 148, 148, 148, 148, 148, 148, 148, 148, 148, 148, 148, 143, 148, 148, 148, 148, 148, 148, 148, 148, 148, 148, 148, 148, 148, 148, 148, 148, 148, 148, 148, 148, 148, 148, 148, 148, 148, 148, 148, 148, 148, 148, 148, 148, 148, 148, 148, 148, 148, 148, 148, 148, 148, 148, 148, 148, 148, 148, 148, 148, 148, 148, 148, 148, 148, 148, 148, 148, 148, 148, 148, 148, 148, 148, 148, 148, 148, 148, 148, 148, 148, 148, 148, 148, 148, 104, 148, 148, 148, 148, 148, 148, 148, 148, 148, 148, 148, 148, 148, 148, 148, 148, 148, 148, 148, 148, 148, 148, 148, 148, 148, 148, 148, 148, 148, 148, 148, 148, 148, 148, 148, 148, 148, 148, 148, 148, 148, 148, 148, 148, 148, 148, 148, 148, 148, 148, 148, 148, 148, 148, 148, 148, 148, 148, 148, 148, 148, 148, 148, 148, 148, 148, 148, 106, 148, 148, 148, 148, 148, 148, 148, 148, 148, 148, 148, 148, 148, 148, 148, 148, 148, 148, 148, 148, 148, 148, 148, 148, 148, 148, 148, 148, 148, 148, 148, 148, 148, 148, 148, 148, 148, 148, 148, 148, 148, 148, 148, 148, 148, 148, 148, 148, 148, 148, 148, 148, 148, 148, 148, 148, 148, 148, 148, 148, 148, 148, 148, 148, 148, 148, 148, 148, 148, 148, 148, 148, 148, 148, 148, 148, 148, 148, 148, 148, 148, 148, 148, 148, 148, 148, 148, 148, 148, 148, 148, 148, 148, 148, 148, 148, 148, 148, 148, 148, 148, 148, 148, 148, 148, 148, 134, 148, 148, 148, 148, 148, 148, 148, 148, 148, 148, 148, 148, 148, 148, 148, 148, 148, 148, 148, 148, 148, 148, 148, 148, 148, 148, 148, 148, 141, 148, 148, 148, 148, 148, 148, 148, 148, 148, 148, 148, 148, 148, 148, 148, 148, 148, 148, 148, 148, 148, 148, 148, 148, 148, 148, 148, 148, 148, 148, 148, 148, 148, 148, 148, 148, 148, 148, 148, 148, 148, 148, 148, 148, 148, 148, 148, 148, 148, 148, 148, 148, 148, 135, 148, 148, 148, 148, 148, 148, 148, 148, 148, 148, 148, 148, 148, 148, 148, 148, 148, 148, 148, 148, 148, 148, 148, 148, 148, 148, 148, 148, 148, 148, 148, 148, 148, 148, 148, 148, 148, 148, 148, 148, 148, 148, 148, 148, 148, 148, 148, 148, 148, 148, 148, 148, 148, 148, 148, 148, 148, 148, 148, 148, 148, 148, 148, 148, 148, 148, 148, 148, 148, 148, 148, 148, 148, 148, 148, 148, 148, 148, 148, 148, 148, 148, 148, 148, 148, 148, 148, 148, 148, 143, 148, 148, 148, 148, 148, 148, 148, 148, 148, 148, 148, 148, 148, 148, 148, 148, 148, 148, 148, 148, 148, 148, 148, 148, 148, 148, 148, 148, 148, 148, 148, 148, 148, 148, 148, 148, 148, 148, 148, 148, 148, 148, 148, 148, 148, 148, 148, 148, 148, 148, 148, 148, 148, 148, 148, 148, 148, 148, 148, 148, 148, 148, 148, 148, 148, 148, 148, 148, 148, 148, 148, 148, 148, 148, 148, 148, 148, 148, 148, 148, 148, 148, 148, 148, 148, 148, 148, 148, 148, 148, 148, 148, 148, 148, 148, 148, 148, 148, 148, 148, 148, 148, 148, 148, 148, 148, 148, 148, 148, 148, 148, 148, 148, 148, 148, 148, 148, 148, 148, 148, 148, 148, 148, 148, 148, 148, 148, 148, 148, 146, 148, 148, 148, 148, 148, 148, 148, 148, 148, 148, 148, 148, 148, 148, 148, 148, 148, 148, 148, 148, 148, 148, 148, 148, 148, 148, 148, 148, 148, 148, 148, 148, 148, 148, 148, 148, 148, 148, 148, 148, 148, 148, 148, 148, 148, 148, 148, 148, 148, 148, 148, 148, 148, 148, 148, 148, 148, 148, 148, 148, 148, 148, 148, 148, 147, 148, 148, 148, 148, 148, 148, 148, 148, 148, 148, 148, 148, 148, 148, 148, 148, 148, 148, 148, 148, 148, 148, 148, 148, 148, 148, 148, 148, 148, 148, 148, 148, 148, 148, 143, 148, 148, 148, 148, 148, 148, 148, 148, 148, 148, 148, 148, 148, 148, 148, 148, 148, 148, 148, 148, 148, 148, 148, 148, 148, 148, 148, 148, 148, 148, 148, 148, 148, 148, 148, 148, 148, 148, 148, 148, 148, 148, 148, 113, 148, 148, 148, 148, 148, 148, 148, 148, 148, 148, 148, 148, 148, 148, 148, 148, 148, 148, 148, 148, 146, 148, 148, 148, 148, 148, 148, 148, 148, 148, 148, 148, 148, 148, 148, 148, 148, 148, 148, 148, 148, 148, 148, 148, 148, 148, 148, 148, 148, 148, 148, 148, 148, 148, 148, 148, 148, 148, 148, 148, 148, 148, 148, 148, 148, 148, 148, 148, 148, 148, 148, 148, 148, 148, 148, 148, 148, 148, 148, 148, 148, 148, 148, 148, 148, 148, 148, 148, 148, 148, 148, 148, 148, 148, 148, 148, 148, 148, 148, 148, 148, 148, 148, 148, 148, 148, 148, 148, 148, 148, 148, 148, 148, 148, 148, 148, 148, 148, 148, 148, 148, 148, 148, 148, 148, 148, 137, 148, 148, 148, 127, 148, 148, 148, 148, 148, 148, 148, 148, 148, 148, 148, 148, 148, 148, 148, 148, 148, 148, 148, 148, 148, 148, 148, 148, 148, 148, 148, 148, 148, 148, 148, 148, 148, 148, 148, 148, 148, 148, 148, 148, 148, 148, 148, 148, 148, 148, 148, 148, 148, 148, 148, 148, 148, 148, 148, 148, 148, 148, 148, 148, 148, 148, 148, 148, 148, 148, 148, 148, 148, 148, 148, 148, 148, 148, 148, 148, 148, 148, 148, 148, 148, 148, 148, 148, 148, 148, 148, 148, 148, 148, 148, 148, 148, 148, 148, 148, 148, 148, 148, 148, 148, 148, 148, 148, 148, 148, 148, 148, 121, 148, 148, 148, 148, 148, 148, 148, 148, 148, 148, 148, 148, 148, 148, 148, 148, 148, 148, 148, 148, 148, 148, 148, 148, 148, 148, 148, 148, 148, 148, 148, 148, 148, 148, 148, 148, 148, 148, 148, 148, 148, 148, 148, 148, 148, 148, 148, 148, 148, 148, 148, 148, 148, 148, 148, 148, 148, 148, 148, 148, 148, 148, 148, 148, 148, 148, 148, 148, 148, 148, 148, 148, 148, 148, 148, 148, 148, 148, 148, 148, 148, 148, 148, 148, 148, 148, 148, 148, 148, 148, 148, 148, 148, 148, 148, 148, 148, 148, 148, 148, 148, 148, 148, 148, 148, 135, 148, 148, 148, 148, 148, 148, 148, 148, 148, 148, 148, 148, 148, 148, 148, 148, 148, 148, 148, 148, 148, 148, 148, 148, 148, 148, 148, 148, 148, 148, 148, 148, 148, 148, 148, 148, 148, 148, 148, 148, 148, 148, 148, 148, 148, 148, 148, 148, 148, 148, 148, 148, 148, 148, 148, 148, 148, 148, 148, 148, 148, 148, 148, 148, 148, 148, 148, 148, 148, 148, 148, 148, 148, 148, 148, 148, 148, 148, 148, 148, 148, 148, 148, 148, 148, 148, 148, 148, 148, 148, 148, 148, 148, 148, 148, 148, 148, 148, 148, 148, 148, 148, 148, 148, 148, 148, 148, 148, 148, 148, 148, 148, 148, 148, 148, 148, 148, 148, 148, 148, 148, 148, 148, 148, 148, 148, 148, 148, 148, 148, 148, 148, 127, 148, 148, 148, 148, 148, 148, 148, 148, 148, 148, 148, 148, 148, 148, 148, 148, 148, 148, 148, 148, 148, 148, 148, 148, 148, 148, 148, 148, 148, 148, 148, 148, 148, 148, 148, 148, 148, 148, 148, 148, 148, 148, 148, 148, 148, 148, 148, 148, 148, 148, 148, 148, 148, 148, 148, 148, 148, 148, 148, 148, 148, 148, 148, 148, 148, 148, 148, 148, 148, 148, 148, 148, 148, 148, 148, 148, 148, 134, 148, 148, 148, 148, 148, 148, 148, 148, 148, 148, 148, 148, 148, 148, 148, 148, 148, 148, 148, 148, 148, 148, 148, 148, 148, 148, 148, 148, 148, 148, 148, 148, 148, 148, 148, 148, 148, 148, 148, 148, 148, 148, 148, 148, 148, 148, 148, 148, 148, 148, 148, 148, 148, 148, 148, 148, 148, 148, 148, 148, 148, 148, 148, 148, 148, 148, 148, 148, 148, 148, 148, 148, 148, 148, 148, 148, 148, 148, 148, 148, 148, 148, 148, 148, 148, 148, 148, 148, 148, 148, 148, 148, 148, 148, 148, 148, 148, 148, 148, 148, 148, 148, 148, 148, 148, 148, 145, 148, 148, 148, 148, 148, 148, 148, 148, 148, 148, 148, 148, 148, 148, 147, 148, 148, 148, 148, 148, 148, 148, 148, 148, 148, 148, 148, 148, 148, 148, 148, 148, 148, 148, 148, 148, 148, 148, 148, 148, 148, 148, 148, 148, 148, 148, 148, 148, 148, 148, 148, 148, 148, 148, 148, 148, 148, 148, 148, 148, 148, 148, 148, 148, 148, 148, 148, 148, 148, 148, 148, 148, 148, 148, 148, 148, 148, 148, 148, 148, 148, 148, 148, 139, 148, 148, 148, 148, 148, 148, 148, 148, 148, 148, 148, 148, 148, 148, 148, 148, 148, 148, 148, 148, 148, 148, 148, 148, 148, 148, 148, 148, 148, 148, 148, 148, 148, 148, 148, 148, 148, 148, 148, 148, 148, 148, 148, 148, 148, 148, 148, 148, 148, 148, 148, 148, 148, 137, 148, 148, 148, 148, 148, 148, 148, 148, 148, 148, 148, 148, 148, 148, 148, 148, 148, 148, 148, 148, 148, 148, 148, 148, 148, 148, 148, 148, 148, 148, 148, 148, 148, 148, 148, 148, 148, 148, 148, 148, 148, 148, 148, 148, 148, 148, 148, 148, 148, 148, 148, 125, 148, 148, 148, 148, 148, 148, 148, 148, 148, 148, 148, 148, 148, 148, 148, 148, 148, 148, 148, 148, 148, 148, 148, 148, 135, 148, 148, 148, 148, 148, 148, 148, 148, 148, 148, 148, 148, 148, 148, 148, 148, 148, 148, 148, 148, 148, 148, 148, 148, 148, 148, 148, 148, 148, 148, 148, 148, 148, 148, 148, 148, 148, 148, 148, 148, 148, 148, 148, 148, 148, 148, 148, 148, 148, 148, 148, 148, 148, 148, 148, 148, 148, 148, 148, 148, 148, 148, 148, 148, 148, 148, 148, 148, 148, 148, 148, 148, 148, 148, 148, 145, 148, 148, 148, 146, 148, 148, 148, 148, 148, 148, 148, 148, 148, 148, 148, 148, 148, 148, 148, 148, 148, 148, 148, 148, 148, 148, 148, 148, 148, 148, 148, 148, 148, 148, 148, 148, 148, 148, 148, 148, 148, 148, 148, 148, 148, 148, 148, 148, 148, 148, 148, 148, 148, 148, 148, 148, 148, 148, 148, 148, 148, 148, 148, 148, 148, 148, 148, 148, 148]\n",
            "Total number of valid videos: 6404\n",
            "Average frames per video: 147.79684572142412\n"
          ]
        }
      ]
    },
    {
      "cell_type": "code",
      "source": [
        "# Plotting the histogram\n",
        "plt.figure(figsize=(10, 6))\n",
        "plt.hist(frame_counts, bins=20, edgecolor='black')\n",
        "plt.title('Distribution of Frame Counts in Videos')\n",
        "plt.xlabel('Number of Frames')\n",
        "plt.ylabel('Number of Videos')\n",
        "plt.show()"
      ],
      "metadata": {
        "colab": {
          "base_uri": "https://localhost:8080/",
          "height": 564
        },
        "id": "ZYNjW-CYEIST",
        "outputId": "fc297c41-e5b2-4433-a013-34b68e22d360"
      },
      "execution_count": null,
      "outputs": [
        {
          "output_type": "display_data",
          "data": {
            "text/plain": [
              "<Figure size 1000x600 with 1 Axes>"
            ],
            "image/png": "[encoded data removed]"
          },
          "metadata": {}
        }
      ]
    },
    {
      "cell_type": "markdown",
      "source": [
        "### Dataset loader"
      ],
      "metadata": {
        "id": "apWkZjjmEpl9"
      }
    },
    {
      "cell_type": "code",
      "source": [
        "class VideoDataset(Dataset):\n",
        "    def __init__(self, video_names, labels, sequence_length=60, transform=None):\n",
        "        self.video_names = video_names\n",
        "        self.labels = labels\n",
        "        self.transform = transform\n",
        "        self.count = sequence_length\n",
        "\n",
        "    def __len__(self):\n",
        "        return len(self.video_names)\n",
        "\n",
        "    def __getitem__(self, idx):\n",
        "        # Get video path and label for the current index\n",
        "        video_path = self.video_names[idx]\n",
        "        label = self.labels.iloc[(self.labels.loc[self.labels[\"video\"] == video_path.split('/')[-1]].index.values[0]), 1]\n",
        "\n",
        "        # Map label 'FAKE' to 0 and 'REAL' to 1\n",
        "        label = 0 if label == 'FAKE' else 1\n",
        "\n",
        "        # Initialize list to store frames\n",
        "        frames = []\n",
        "\n",
        "        # Calculate step for frame sampling\n",
        "        step = int(100 / self.count)\n",
        "\n",
        "        # Randomly select the starting point within the first 'step' frames\n",
        "        first_frame = np.random.randint(0, step)\n",
        "\n",
        "        # Extract frames from the video\n",
        "        for i, frame in enumerate(self.frame_extract(video_path)):\n",
        "            if i % step == first_frame:\n",
        "                frames.append(self.transform(frame))\n",
        "\n",
        "            # Break when the desired number of frames is reached\n",
        "            if len(frames) == self.count:\n",
        "                break\n",
        "\n",
        "        # Convert the list of frames to a torch tensor\n",
        "        frames = torch.stack(frames)\n",
        "\n",
        "        # Ensure the number of frames is exactly 'count'\n",
        "        frames = frames[:self.count]\n",
        "\n",
        "        return frames, label\n",
        "\n",
        "    def frame_extract(self, path):\n",
        "        vidObj = cv2.VideoCapture(path)\n",
        "        success = 1\n",
        "        while success:\n",
        "            success, image = vidObj.read()\n",
        "            if success:\n",
        "                yield image"
      ],
      "metadata": {
        "id": "mH4GVHGhE3oF"
      },
      "execution_count": null,
      "outputs": []
    },
    {
      "cell_type": "code",
      "metadata": {
        "id": "1leMozhXa5LF"
      },
      "source": [
        "def real_and_fake_videos(data_list):\n",
        "\n",
        "    # Read the labels CSV file into a DataFrame\n",
        "    labels_df = df.copy()\n",
        "\n",
        "    # Initialize counters for fake and real videos\n",
        "    fake_count = 0\n",
        "    real_count = 0\n",
        "\n",
        "    # Loop through each video path in the provided list\n",
        "    for video_path in data_list:\n",
        "        # Extract the video file name from the path\n",
        "        temp_video = video_path.split('/')[-1]\n",
        "\n",
        "        # Extract the label for the current video from the DataFrame\n",
        "        label = labels_df.loc[labels_df[\"video\"] == temp_video, \"label\"].values[0]\n",
        "\n",
        "        # Update counters based on the label\n",
        "        if label == 'FAKE':\n",
        "            fake_count += 1\n",
        "        elif label == 'REAL':\n",
        "            real_count += 1\n",
        "\n",
        "    # Return the counts of real and fake videos\n",
        "    return real_count, fake_count"
      ],
      "execution_count": null,
      "outputs": []
    },
    {
      "cell_type": "markdown",
      "source": [
        "### Data Split (Train-Val)"
      ],
      "metadata": {
        "id": "UWaFGdRZIGOK"
      }
    },
    {
      "cell_type": "code",
      "source": [
        "# Assuming 'df' is the DataFrame containing video file names and labels\n",
        "labels = df.copy()\n",
        "\n",
        "# Split video files into training and validation sets\n",
        "train_videos = video_data[:int(0.8 * len(video_data))]\n",
        "valid_videos = video_data[int(0.8 * len(video_data)):]\n",
        "\n",
        "# Print the number of videos in the training and validation sets\n",
        "print(\"Number of training videos:\", len(train_videos))\n",
        "print(\"Number of validation videos:\", len(valid_videos))\n"
      ],
      "metadata": {
        "colab": {
          "base_uri": "https://localhost:8080/"
        },
        "id": "pBrA9tV8Hqye",
        "outputId": "0553b813-c408-44de-dd01-9e59be99ab95"
      },
      "execution_count": null,
      "outputs": [
        {
          "output_type": "stream",
          "name": "stdout",
          "text": [
            "Number of training videos: 5141\n",
            "Number of validation videos: 1286\n"
          ]
        }
      ]
    },
    {
      "cell_type": "code",
      "source": [
        "# Print the number of real and fake videos in the training set\n",
        "train_real, train_fake = real_and_fake_videos(train_videos)\n",
        "print(\"TRAIN: Real:\", train_real, \" Fake:\", train_fake)\n",
        "\n",
        "# Print the number of real and fake videos in the validation set\n",
        "valid_real, valid_fake = real_and_fake_videos(valid_videos)\n",
        "print(\"TEST: Real:\", valid_real, \" Fake:\", valid_fake)"
      ],
      "metadata": {
        "colab": {
          "base_uri": "https://localhost:8080/"
        },
        "id": "1qy_h6YrH9O3",
        "outputId": "f0a3b82b-0ed4-4fc6-d01a-34e8825d6f20"
      },
      "execution_count": null,
      "outputs": [
        {
          "output_type": "stream",
          "name": "stdout",
          "text": [
            "TRAIN: Real: 2617  Fake: 2524\n",
            "TEST: Real: 684  Fake: 602\n"
          ]
        }
      ]
    },
    {
      "cell_type": "markdown",
      "source": [
        "## Train-Loader, Val-Loader"
      ],
      "metadata": {
        "id": "so1ZQlyBIW8z"
      }
    },
    {
      "cell_type": "code",
      "source": [
        "# Data transformations for training and testing\n",
        "train_transforms = transforms.Compose([\n",
        "    transforms.ToPILImage(),\n",
        "    transforms.Resize((im_size, im_size)),\n",
        "    transforms.ToTensor(),\n",
        "    transforms.Normalize(mean, std)\n",
        "])\n",
        "\n",
        "test_transforms = transforms.Compose([\n",
        "    transforms.ToPILImage(),\n",
        "    transforms.Resize((im_size, im_size)),\n",
        "    transforms.ToTensor(),\n",
        "    transforms.Normalize(mean, std)\n",
        "])"
      ],
      "metadata": {
        "id": "2PI7HACMIV87"
      },
      "execution_count": null,
      "outputs": []
    },
    {
      "cell_type": "code",
      "source": [
        "# Create instances of the video_dataset class for training and validation\n",
        "train_data = VideoDataset(train_videos, labels, sequence_length=10, transform=train_transforms)\n",
        "val_data = VideoDataset(valid_videos, labels, sequence_length=10, transform=train_transforms)"
      ],
      "metadata": {
        "id": "K-FDiYxMIkm7"
      },
      "execution_count": null,
      "outputs": []
    },
    {
      "cell_type": "code",
      "source": [
        "# Create data loaders\n",
        "train_loader = DataLoader(train_data, batch_size=4, shuffle=True, num_workers=2)\n",
        "valid_loader = DataLoader(val_data, batch_size=4, shuffle=True, num_workers=2)"
      ],
      "metadata": {
        "id": "hyEwErCTIrNA"
      },
      "execution_count": null,
      "outputs": []
    },
    {
      "cell_type": "code",
      "source": [
        "train_loader"
      ],
      "metadata": {
        "colab": {
          "base_uri": "https://localhost:8080/"
        },
        "id": "KXZ8cED_PSME",
        "outputId": "f5469266-966b-49dd-e65e-7432aab6d3c6"
      },
      "execution_count": null,
      "outputs": [
        {
          "output_type": "execute_result",
          "data": {
            "text/plain": [
              "<torch.utils.data.dataloader.DataLoader at 0x7bb15179cf70>"
            ]
          },
          "metadata": {},
          "execution_count": 49
        }
      ]
    },
    {
      "cell_type": "code",
      "source": [
        "valid_loader"
      ],
      "metadata": {
        "colab": {
          "base_uri": "https://localhost:8080/"
        },
        "id": "aoWhhNrDPVId",
        "outputId": "1e6281c5-26c0-4710-de74-2b8a923cb062"
      },
      "execution_count": null,
      "outputs": [
        {
          "output_type": "execute_result",
          "data": {
            "text/plain": [
              "<torch.utils.data.dataloader.DataLoader at 0x7bb15179ef50>"
            ]
          },
          "metadata": {},
          "execution_count": 50
        }
      ]
    },
    {
      "cell_type": "code",
      "metadata": {
        "id": "sWMZn0YHDO2b",
        "colab": {
          "base_uri": "https://localhost:8080/",
          "height": 285
        },
        "outputId": "2194658c-9987-418b-dd98-029608a53296"
      },
      "source": [
        "# Number of random images to display\n",
        "num_images_to_display = 4\n",
        "\n",
        "# Create a figure with subplots\n",
        "fig, axes = plt.subplots(1, num_images_to_display, figsize=(12, 3))\n",
        "\n",
        "# Randomly select indices from the training dataset\n",
        "random_indices = torch.randint(len(train_data), size=(num_images_to_display,))\n",
        "\n",
        "# Loop through selected indices and display images\n",
        "for i, idx in enumerate(random_indices):\n",
        "    image, label = train_data[idx]\n",
        "\n",
        "    # Denormalize the image tensor to bring pixel values back to the original scale\n",
        "    image = image[0].numpy().transpose(1, 2, 0)\n",
        "    mean = np.array(train_transforms.transforms[-1].mean)\n",
        "    std = np.array(train_transforms.transforms[-1].std)\n",
        "\n",
        "    # Denormalization: scale and shift\n",
        "    image = image * std + mean\n",
        "\n",
        "    # Clip pixel values to the valid range [0, 1]\n",
        "    image = np.clip(image, 0, 1)\n",
        "\n",
        "    # Display the image on the subplot\n",
        "    axes[i].imshow(image)\n",
        "    axes[i].set_title(f\"Label: {label}\")\n",
        "\n",
        "# Show the subplots\n",
        "plt.show()"
      ],
      "execution_count": null,
      "outputs": [
        {
          "output_type": "display_data",
          "data": {
            "text/plain": [
              "<Figure size 1200x300 with 4 Axes>"
            ],
            "image/png": "[encoded data removed]"
          },
          "metadata": {}
        }
      ]
    },
    {
      "cell_type": "markdown",
      "source": [
        "## Model"
      ],
      "metadata": {
        "id": "1tDo_FDHK-uQ"
      }
    },
    {
      "cell_type": "code",
      "metadata": {
        "id": "UtOXSqyBDRnD"
      },
      "source": [
        "class Model(nn.Module):\n",
        "    def __init__(self, num_classes, latent_dim=2048, lstm_layers=1, hidden_dim=2048, bidirectional=False):\n",
        "        super(Model, self).__init__()\n",
        "\n",
        "        # Load ResNeXt model with pretrained weights\n",
        "        model = models.resnext50_32x4d(pretrained=True)\n",
        "\n",
        "        # Extract feature layers from ResNeXt, excluding the final two layers\n",
        "        # self.cnn_layer = CustomCNNLayer(input_channels=3, latent_dim = latent_dim)\n",
        "        self.resnext_features = nn.Sequential(*list(model.children())[:-2])\n",
        "\n",
        "        # LSTM layer to capture temporal dependencies\n",
        "        self.lstm = nn.LSTM(latent_dim, hidden_dim, lstm_layers, bidirectional=bidirectional, batch_first=True)\n",
        "\n",
        "        # Activation function\n",
        "        self.relu = nn.LeakyReLU()\n",
        "\n",
        "        # Dropout layer to prevent overfitting\n",
        "        self.dp = nn.Dropout(0.4)\n",
        "\n",
        "        # Linear layer for classification\n",
        "        self.linear1 = nn.Linear(hidden_dim * (2 if bidirectional else 1), num_classes)\n",
        "\n",
        "        # Adaptive average pooling layer to reduce spatial dimensions\n",
        "        self.avgpool = nn.AdaptiveAvgPool2d(1)\n",
        "\n",
        "    def forward(self, x):\n",
        "        batch_size, seq_length, c, h, w = x.shape\n",
        "\n",
        "        # Reshape input for the CNN\n",
        "        x = x.view(batch_size * seq_length, c, h, w)\n",
        "\n",
        "        # Apply CNN layer\n",
        "        # x = self.cnn_layer(x)\n",
        "\n",
        "        # Pass through the ResNeXt feature layers\n",
        "        fmap = self.resnext_features(x)\n",
        "\n",
        "        # Global average pooling to reduce spatial dimensions\n",
        "        x = self.avgpool(fmap)\n",
        "\n",
        "        # Reshape for the LSTM\n",
        "        x = x.view(batch_size, seq_length, -1)\n",
        "\n",
        "        # Pass through the LSTM\n",
        "        x_lstm, _ = self.lstm(x)\n",
        "\n",
        "        # Take the mean across the sequence dimension\n",
        "        x_mean = torch.mean(x_lstm, dim=1)\n",
        "\n",
        "        # Apply dropout and pass through the linear layer for classification\n",
        "        return fmap, self.dp(self.linear1(x_mean))\n"
      ],
      "execution_count": null,
      "outputs": []
    },
    {
      "cell_type": "code",
      "metadata": {
        "id": "WYNhn10tDV90",
        "colab": {
          "base_uri": "https://localhost:8080/"
        },
        "outputId": "a63c4261-34d4-4761-8752-411ecc970ed4"
      },
      "source": [
        "# Create an instance of the Model and move it to GPU\n",
        "model = Model(2, latent_dim=2048).cuda()\n",
        "\n",
        "# Sample input tensor (batch_size, seq_length, channels, height, width)\n",
        "sample_input = torch.from_numpy(np.empty((1, 20, 3, 112, 112))).type(torch.cuda.FloatTensor)\n",
        "\n",
        "# Forward pass through the model\n",
        "output_fmap, output_classification = model(sample_input)"
      ],
      "execution_count": null,
      "outputs": [
        {
          "output_type": "stream",
          "name": "stderr",
          "text": [
            "/usr/local/lib/python3.10/dist-packages/torchvision/models/_utils.py:208: UserWarning: The parameter 'pretrained' is deprecated since 0.13 and may be removed in the future, please use 'weights' instead.\n",
            "  warnings.warn(\n",
            "/usr/local/lib/python3.10/dist-packages/torchvision/models/_utils.py:223: UserWarning: Arguments other than a weight enum or `None` for 'weights' are deprecated since 0.13 and may be removed in the future. The current behavior is equivalent to passing `weights=ResNeXt50_32X4D_Weights.IMAGENET1K_V1`. You can also use `weights=ResNeXt50_32X4D_Weights.DEFAULT` to get the most up-to-date weights.\n",
            "  warnings.warn(msg)\n"
          ]
        }
      ]
    },
    {
      "cell_type": "code",
      "source": [
        "# Display trainable parameters\n",
        "for name, param in model.named_parameters():\n",
        "    if param.requires_grad:\n",
        "        print(f\"{name}: {param.shape}\")"
      ],
      "metadata": {
        "colab": {
          "base_uri": "https://localhost:8080/"
        },
        "id": "-6Qo7MRFhVMx",
        "outputId": "d7e0629f-341a-4d08-ae79-0b69dc20fcb0"
      },
      "execution_count": null,
      "outputs": [
        {
          "output_type": "stream",
          "name": "stdout",
          "text": [
            "resnext_features.0.weight: torch.Size([64, 3, 7, 7])\n",
            "resnext_features.1.weight: torch.Size([64])\n",
            "resnext_features.1.bias: torch.Size([64])\n",
            "resnext_features.4.0.conv1.weight: torch.Size([128, 64, 1, 1])\n",
            "resnext_features.4.0.bn1.weight: torch.Size([128])\n",
            "resnext_features.4.0.bn1.bias: torch.Size([128])\n",
            "resnext_features.4.0.conv2.weight: torch.Size([128, 4, 3, 3])\n",
            "resnext_features.4.0.bn2.weight: torch.Size([128])\n",
            "resnext_features.4.0.bn2.bias: torch.Size([128])\n",
            "resnext_features.4.0.conv3.weight: torch.Size([256, 128, 1, 1])\n",
            "resnext_features.4.0.bn3.weight: torch.Size([256])\n",
            "resnext_features.4.0.bn3.bias: torch.Size([256])\n",
            "resnext_features.4.0.downsample.0.weight: torch.Size([256, 64, 1, 1])\n",
            "resnext_features.4.0.downsample.1.weight: torch.Size([256])\n",
            "resnext_features.4.0.downsample.1.bias: torch.Size([256])\n",
            "resnext_features.4.1.conv1.weight: torch.Size([128, 256, 1, 1])\n",
            "resnext_features.4.1.bn1.weight: torch.Size([128])\n",
            "resnext_features.4.1.bn1.bias: torch.Size([128])\n",
            "resnext_features.4.1.conv2.weight: torch.Size([128, 4, 3, 3])\n",
            "resnext_features.4.1.bn2.weight: torch.Size([128])\n",
            "resnext_features.4.1.bn2.bias: torch.Size([128])\n",
            "resnext_features.4.1.conv3.weight: torch.Size([256, 128, 1, 1])\n",
            "resnext_features.4.1.bn3.weight: torch.Size([256])\n",
            "resnext_features.4.1.bn3.bias: torch.Size([256])\n",
            "resnext_features.4.2.conv1.weight: torch.Size([128, 256, 1, 1])\n",
            "resnext_features.4.2.bn1.weight: torch.Size([128])\n",
            "resnext_features.4.2.bn1.bias: torch.Size([128])\n",
            "resnext_features.4.2.conv2.weight: torch.Size([128, 4, 3, 3])\n",
            "resnext_features.4.2.bn2.weight: torch.Size([128])\n",
            "resnext_features.4.2.bn2.bias: torch.Size([128])\n",
            "resnext_features.4.2.conv3.weight: torch.Size([256, 128, 1, 1])\n",
            "resnext_features.4.2.bn3.weight: torch.Size([256])\n",
            "resnext_features.4.2.bn3.bias: torch.Size([256])\n",
            "resnext_features.5.0.conv1.weight: torch.Size([256, 256, 1, 1])\n",
            "resnext_features.5.0.bn1.weight: torch.Size([256])\n",
            "resnext_features.5.0.bn1.bias: torch.Size([256])\n",
            "resnext_features.5.0.conv2.weight: torch.Size([256, 8, 3, 3])\n",
            "resnext_features.5.0.bn2.weight: torch.Size([256])\n",
            "resnext_features.5.0.bn2.bias: torch.Size([256])\n",
            "resnext_features.5.0.conv3.weight: torch.Size([512, 256, 1, 1])\n",
            "resnext_features.5.0.bn3.weight: torch.Size([512])\n",
            "resnext_features.5.0.bn3.bias: torch.Size([512])\n",
            "resnext_features.5.0.downsample.0.weight: torch.Size([512, 256, 1, 1])\n",
            "resnext_features.5.0.downsample.1.weight: torch.Size([512])\n",
            "resnext_features.5.0.downsample.1.bias: torch.Size([512])\n",
            "resnext_features.5.1.conv1.weight: torch.Size([256, 512, 1, 1])\n",
            "resnext_features.5.1.bn1.weight: torch.Size([256])\n",
            "resnext_features.5.1.bn1.bias: torch.Size([256])\n",
            "resnext_features.5.1.conv2.weight: torch.Size([256, 8, 3, 3])\n",
            "resnext_features.5.1.bn2.weight: torch.Size([256])\n",
            "resnext_features.5.1.bn2.bias: torch.Size([256])\n",
            "resnext_features.5.1.conv3.weight: torch.Size([512, 256, 1, 1])\n",
            "resnext_features.5.1.bn3.weight: torch.Size([512])\n",
            "resnext_features.5.1.bn3.bias: torch.Size([512])\n",
            "resnext_features.5.2.conv1.weight: torch.Size([256, 512, 1, 1])\n",
            "resnext_features.5.2.bn1.weight: torch.Size([256])\n",
            "resnext_features.5.2.bn1.bias: torch.Size([256])\n",
            "resnext_features.5.2.conv2.weight: torch.Size([256, 8, 3, 3])\n",
            "resnext_features.5.2.bn2.weight: torch.Size([256])\n",
            "resnext_features.5.2.bn2.bias: torch.Size([256])\n",
            "resnext_features.5.2.conv3.weight: torch.Size([512, 256, 1, 1])\n",
            "resnext_features.5.2.bn3.weight: torch.Size([512])\n",
            "resnext_features.5.2.bn3.bias: torch.Size([512])\n",
            "resnext_features.5.3.conv1.weight: torch.Size([256, 512, 1, 1])\n",
            "resnext_features.5.3.bn1.weight: torch.Size([256])\n",
            "resnext_features.5.3.bn1.bias: torch.Size([256])\n",
            "resnext_features.5.3.conv2.weight: torch.Size([256, 8, 3, 3])\n",
            "resnext_features.5.3.bn2.weight: torch.Size([256])\n",
            "resnext_features.5.3.bn2.bias: torch.Size([256])\n",
            "resnext_features.5.3.conv3.weight: torch.Size([512, 256, 1, 1])\n",
            "resnext_features.5.3.bn3.weight: torch.Size([512])\n",
            "resnext_features.5.3.bn3.bias: torch.Size([512])\n",
            "resnext_features.6.0.conv1.weight: torch.Size([512, 512, 1, 1])\n",
            "resnext_features.6.0.bn1.weight: torch.Size([512])\n",
            "resnext_features.6.0.bn1.bias: torch.Size([512])\n",
            "resnext_features.6.0.conv2.weight: torch.Size([512, 16, 3, 3])\n",
            "resnext_features.6.0.bn2.weight: torch.Size([512])\n",
            "resnext_features.6.0.bn2.bias: torch.Size([512])\n",
            "resnext_features.6.0.conv3.weight: torch.Size([1024, 512, 1, 1])\n",
            "resnext_features.6.0.bn3.weight: torch.Size([1024])\n",
            "resnext_features.6.0.bn3.bias: torch.Size([1024])\n",
            "resnext_features.6.0.downsample.0.weight: torch.Size([1024, 512, 1, 1])\n",
            "resnext_features.6.0.downsample.1.weight: torch.Size([1024])\n",
            "resnext_features.6.0.downsample.1.bias: torch.Size([1024])\n",
            "resnext_features.6.1.conv1.weight: torch.Size([512, 1024, 1, 1])\n",
            "resnext_features.6.1.bn1.weight: torch.Size([512])\n",
            "resnext_features.6.1.bn1.bias: torch.Size([512])\n",
            "resnext_features.6.1.conv2.weight: torch.Size([512, 16, 3, 3])\n",
            "resnext_features.6.1.bn2.weight: torch.Size([512])\n",
            "resnext_features.6.1.bn2.bias: torch.Size([512])\n",
            "resnext_features.6.1.conv3.weight: torch.Size([1024, 512, 1, 1])\n",
            "resnext_features.6.1.bn3.weight: torch.Size([1024])\n",
            "resnext_features.6.1.bn3.bias: torch.Size([1024])\n",
            "resnext_features.6.2.conv1.weight: torch.Size([512, 1024, 1, 1])\n",
            "resnext_features.6.2.bn1.weight: torch.Size([512])\n",
            "resnext_features.6.2.bn1.bias: torch.Size([512])\n",
            "resnext_features.6.2.conv2.weight: torch.Size([512, 16, 3, 3])\n",
            "resnext_features.6.2.bn2.weight: torch.Size([512])\n",
            "resnext_features.6.2.bn2.bias: torch.Size([512])\n",
            "resnext_features.6.2.conv3.weight: torch.Size([1024, 512, 1, 1])\n",
            "resnext_features.6.2.bn3.weight: torch.Size([1024])\n",
            "resnext_features.6.2.bn3.bias: torch.Size([1024])\n",
            "resnext_features.6.3.conv1.weight: torch.Size([512, 1024, 1, 1])\n",
            "resnext_features.6.3.bn1.weight: torch.Size([512])\n",
            "resnext_features.6.3.bn1.bias: torch.Size([512])\n",
            "resnext_features.6.3.conv2.weight: torch.Size([512, 16, 3, 3])\n",
            "resnext_features.6.3.bn2.weight: torch.Size([512])\n",
            "resnext_features.6.3.bn2.bias: torch.Size([512])\n",
            "resnext_features.6.3.conv3.weight: torch.Size([1024, 512, 1, 1])\n",
            "resnext_features.6.3.bn3.weight: torch.Size([1024])\n",
            "resnext_features.6.3.bn3.bias: torch.Size([1024])\n",
            "resnext_features.6.4.conv1.weight: torch.Size([512, 1024, 1, 1])\n",
            "resnext_features.6.4.bn1.weight: torch.Size([512])\n",
            "resnext_features.6.4.bn1.bias: torch.Size([512])\n",
            "resnext_features.6.4.conv2.weight: torch.Size([512, 16, 3, 3])\n",
            "resnext_features.6.4.bn2.weight: torch.Size([512])\n",
            "resnext_features.6.4.bn2.bias: torch.Size([512])\n",
            "resnext_features.6.4.conv3.weight: torch.Size([1024, 512, 1, 1])\n",
            "resnext_features.6.4.bn3.weight: torch.Size([1024])\n",
            "resnext_features.6.4.bn3.bias: torch.Size([1024])\n",
            "resnext_features.6.5.conv1.weight: torch.Size([512, 1024, 1, 1])\n",
            "resnext_features.6.5.bn1.weight: torch.Size([512])\n",
            "resnext_features.6.5.bn1.bias: torch.Size([512])\n",
            "resnext_features.6.5.conv2.weight: torch.Size([512, 16, 3, 3])\n",
            "resnext_features.6.5.bn2.weight: torch.Size([512])\n",
            "resnext_features.6.5.bn2.bias: torch.Size([512])\n",
            "resnext_features.6.5.conv3.weight: torch.Size([1024, 512, 1, 1])\n",
            "resnext_features.6.5.bn3.weight: torch.Size([1024])\n",
            "resnext_features.6.5.bn3.bias: torch.Size([1024])\n",
            "resnext_features.7.0.conv1.weight: torch.Size([1024, 1024, 1, 1])\n",
            "resnext_features.7.0.bn1.weight: torch.Size([1024])\n",
            "resnext_features.7.0.bn1.bias: torch.Size([1024])\n",
            "resnext_features.7.0.conv2.weight: torch.Size([1024, 32, 3, 3])\n",
            "resnext_features.7.0.bn2.weight: torch.Size([1024])\n",
            "resnext_features.7.0.bn2.bias: torch.Size([1024])\n",
            "resnext_features.7.0.conv3.weight: torch.Size([2048, 1024, 1, 1])\n",
            "resnext_features.7.0.bn3.weight: torch.Size([2048])\n",
            "resnext_features.7.0.bn3.bias: torch.Size([2048])\n",
            "resnext_features.7.0.downsample.0.weight: torch.Size([2048, 1024, 1, 1])\n",
            "resnext_features.7.0.downsample.1.weight: torch.Size([2048])\n",
            "resnext_features.7.0.downsample.1.bias: torch.Size([2048])\n",
            "resnext_features.7.1.conv1.weight: torch.Size([1024, 2048, 1, 1])\n",
            "resnext_features.7.1.bn1.weight: torch.Size([1024])\n",
            "resnext_features.7.1.bn1.bias: torch.Size([1024])\n",
            "resnext_features.7.1.conv2.weight: torch.Size([1024, 32, 3, 3])\n",
            "resnext_features.7.1.bn2.weight: torch.Size([1024])\n",
            "resnext_features.7.1.bn2.bias: torch.Size([1024])\n",
            "resnext_features.7.1.conv3.weight: torch.Size([2048, 1024, 1, 1])\n",
            "resnext_features.7.1.bn3.weight: torch.Size([2048])\n",
            "resnext_features.7.1.bn3.bias: torch.Size([2048])\n",
            "resnext_features.7.2.conv1.weight: torch.Size([1024, 2048, 1, 1])\n",
            "resnext_features.7.2.bn1.weight: torch.Size([1024])\n",
            "resnext_features.7.2.bn1.bias: torch.Size([1024])\n",
            "resnext_features.7.2.conv2.weight: torch.Size([1024, 32, 3, 3])\n",
            "resnext_features.7.2.bn2.weight: torch.Size([1024])\n",
            "resnext_features.7.2.bn2.bias: torch.Size([1024])\n",
            "resnext_features.7.2.conv3.weight: torch.Size([2048, 1024, 1, 1])\n",
            "resnext_features.7.2.bn3.weight: torch.Size([2048])\n",
            "resnext_features.7.2.bn3.bias: torch.Size([2048])\n",
            "lstm.weight_ih_l0: torch.Size([8192, 2048])\n",
            "lstm.weight_hh_l0: torch.Size([8192, 2048])\n",
            "lstm.bias_ih_l0: torch.Size([8192])\n",
            "lstm.bias_hh_l0: torch.Size([8192])\n",
            "linear1.weight: torch.Size([2, 2048])\n",
            "linear1.bias: torch.Size([2])\n"
          ]
        }
      ]
    },
    {
      "cell_type": "markdown",
      "source": [
        "#### Model Training"
      ],
      "metadata": {
        "id": "phXb7gnejIvb"
      }
    },
    {
      "cell_type": "code",
      "source": [
        "def train_epoch(epoch, num_epochs, data_loader, model, criterion, optimizer, device):\n",
        "    \"\"\"\n",
        "    Train the model for one epoch.\n",
        "\n",
        "    Args:\n",
        "        epoch (int): Current epoch number.\n",
        "        num_epochs (int): Total number of epochs.\n",
        "        data_loader (torch.utils.data.DataLoader): DataLoader for the training dataset.\n",
        "        model (torch.nn.Module): The neural network model.\n",
        "        criterion (torch.nn.Module): Loss function.\n",
        "        optimizer (torch.optim.Optimizer): Optimizer for updating model parameters.\n",
        "        device (torch.device): Device to which data should be moved (e.g., 'cuda' for GPU).\n",
        "\n",
        "    Returns:\n",
        "        tuple: Average loss and accuracy for the epoch.\n",
        "    \"\"\"\n",
        "    model.train()\n",
        "    losses = AverageMeter()\n",
        "    accuracies = AverageMeter()\n",
        "\n",
        "    # Use tqdm for a progress bar during training\n",
        "    for i, (inputs, targets) in enumerate(tqdm(data_loader, desc=f\"Epoch {epoch}/{num_epochs}\")):\n",
        "        # Move data to the specified device\n",
        "        inputs, targets = inputs.to(device), targets.to(device)\n",
        "\n",
        "        # Forward pass\n",
        "        _, outputs = model(inputs)\n",
        "\n",
        "        # Calculate loss and accuracy\n",
        "        loss = criterion(outputs, targets)\n",
        "        acc = calculate_accuracy(outputs, targets)\n",
        "\n",
        "        # Update running averages\n",
        "        losses.update(loss.item(), inputs.size(0))\n",
        "        accuracies.update(acc, inputs.size(0))\n",
        "\n",
        "        # Backward pass and optimization\n",
        "        optimizer.zero_grad()\n",
        "        loss.backward()\n",
        "        optimizer.step()\n",
        "\n",
        "    # Print epoch summary\n",
        "    print(f\"\\n[Epoch {epoch}/{num_epochs}] [Loss: {losses.avg:.4f}, Acc: {accuracies.avg:.2%}]\")\n",
        "\n",
        "    # Save model state after each epoch\n",
        "    torch.save(model.state_dict(), f'/content/checkpoint_epoch_{epoch}.pt')\n",
        "\n",
        "    return losses.avg, accuracies.avg"
      ],
      "metadata": {
        "id": "DtlHK5Bsi5bt"
      },
      "execution_count": null,
      "outputs": []
    },
    {
      "cell_type": "code",
      "source": [
        "def test(epoch, model, data_loader, criterion):\n",
        "    \"\"\"\n",
        "    Evaluate the model on the test dataset.\n",
        "\n",
        "    Args:\n",
        "        epoch (int): Current epoch number.\n",
        "        model (torch.nn.Module): The neural network model.\n",
        "        data_loader (torch.utils.data.DataLoader): DataLoader for the test dataset.\n",
        "        criterion (torch.nn.Module): Loss function.\n",
        "\n",
        "    Returns:\n",
        "        tuple: True labels, predicted labels, average loss, and accuracy.\n",
        "    \"\"\"\n",
        "    print('Testing')\n",
        "    model.eval()\n",
        "    losses = AverageMeter()\n",
        "    accuracies = AverageMeter()\n",
        "    pred = []\n",
        "    true = []\n",
        "\n",
        "    # Disable gradient calculation during evaluation\n",
        "    with torch.no_grad():\n",
        "        for i, (inputs, targets) in enumerate(tqdm(data_loader, desc=f\"Epoch {epoch} Testing\")):\n",
        "            if torch.cuda.is_available():\n",
        "                targets = targets.cuda().type(torch.cuda.FloatTensor)\n",
        "                inputs = inputs.cuda()\n",
        "\n",
        "            # Forward pass\n",
        "            _, outputs = model(inputs)\n",
        "\n",
        "            # Calculate loss and accuracy\n",
        "            loss = torch.mean(criterion(outputs, targets.type(torch.cuda.LongTensor)))\n",
        "            acc = calculate_accuracy(outputs, targets.type(torch.cuda.LongTensor))\n",
        "\n",
        "            # Record true and predicted labels\n",
        "            true += targets.type(torch.cuda.LongTensor).detach().cpu().numpy().reshape(len(targets)).tolist()\n",
        "            _, p = torch.max(outputs, 1)\n",
        "            pred += p.detach().cpu().numpy().reshape(len(p)).tolist()\n",
        "\n",
        "            # Update running averages\n",
        "            losses.update(loss.item(), inputs.size(0))\n",
        "            accuracies.update(acc, inputs.size(0))\n",
        "\n",
        "            print(\n",
        "                \"[Batch %d / %d]  [Loss: %.4f, Acc: %.2f%%]\"\n",
        "                % (\n",
        "                    i,\n",
        "                    len(data_loader),\n",
        "                    losses.avg,\n",
        "                    accuracies.avg\n",
        "                )\n",
        "            )\n",
        "\n",
        "        print('\\nAccuracy {}'.format(accuracies.avg))\n",
        "\n",
        "    return true, pred, losses.avg, accuracies.avg\n"
      ],
      "metadata": {
        "id": "deEHV816jMqn"
      },
      "execution_count": null,
      "outputs": []
    },
    {
      "cell_type": "code",
      "source": [
        "# Check the current device\n",
        "device = torch.device(\"cuda\" if torch.cuda.is_available() else \"cpu\")\n",
        "print(f\"Using device: {device}\")"
      ],
      "metadata": {
        "colab": {
          "base_uri": "https://localhost:8080/"
        },
        "id": "zJsaCAeglD4U",
        "outputId": "a9ca8cea-4410-4ff3-cb4e-c789ad6b439a"
      },
      "execution_count": null,
      "outputs": [
        {
          "output_type": "stream",
          "name": "stdout",
          "text": [
            "Using device: cuda\n"
          ]
        }
      ]
    },
    {
      "cell_type": "code",
      "source": [
        "class AverageMeter(object):\n",
        "    \"\"\"Computes and stores the average and current value\"\"\"\n",
        "    def __init__(self):\n",
        "        self.reset()\n",
        "\n",
        "    def reset(self):\n",
        "        \"\"\"Reset the meter's values to their initial state.\"\"\"\n",
        "        self.val = 0\n",
        "        self.avg = 0\n",
        "        self.sum = 0\n",
        "        self.count = 0\n",
        "\n",
        "    def update(self, val, n=1):\n",
        "        \"\"\"\n",
        "        Update the meter with a new value and count.\n",
        "\n",
        "        Args:\n",
        "            val (float): The new value to update the meter with.\n",
        "            n (int): The count associated with the new value (default is 1).\n",
        "        \"\"\"\n",
        "        self.val = val\n",
        "        self.sum += val * n\n",
        "        self.count += n\n",
        "        self.avg = self.sum / self.count\n"
      ],
      "metadata": {
        "id": "saUy8crvkCc_"
      },
      "execution_count": null,
      "outputs": []
    },
    {
      "cell_type": "code",
      "source": [
        "def calculate_accuracy(outputs, targets):\n",
        "    \"\"\"\n",
        "    Calculate the accuracy of model predictions.\n",
        "\n",
        "    Args:\n",
        "        outputs (torch.Tensor): Model predictions.\n",
        "        targets (torch.Tensor): True labels.\n",
        "\n",
        "    Returns:\n",
        "        float: Accuracy as a percentage.\n",
        "    \"\"\"\n",
        "    batch_size = targets.size(0)\n",
        "\n",
        "    # Get the index of the maximum value along the predicted dimension\n",
        "    _, pred = outputs.topk(1, 1, True)\n",
        "    pred = pred.t()\n",
        "\n",
        "    # Check if predictions match the true labels\n",
        "    correct = pred.eq(targets.view(1, -1))\n",
        "\n",
        "    # Count the number of correct predictions\n",
        "    n_correct_elems = correct.float().sum().item()\n",
        "\n",
        "    # Calculate accuracy as a percentage\n",
        "    accuracy = 100 * n_correct_elems / batch_size\n",
        "\n",
        "    return accuracy"
      ],
      "metadata": {
        "id": "8dWsTb7Tka5t"
      },
      "execution_count": null,
      "outputs": []
    },
    {
      "cell_type": "code",
      "source": [
        "# Learning rate\n",
        "lr = 1e-5\n",
        "\n",
        "# Number of epochs\n",
        "num_epochs = 5\n",
        "\n",
        "# Define the optimizer (Adam) with a learning rate and weight decay\n",
        "optimizer = torch.optim.Adam(model.parameters(), lr=lr, weight_decay=1e-5)\n",
        "\n",
        "# Define the loss function (CrossEntropyLoss)\n",
        "criterion = nn.CrossEntropyLoss().cuda()\n",
        "\n",
        "# Lists to store training and testing metrics for each epoch\n",
        "train_loss_avg = []\n",
        "train_accuracy = []\n",
        "test_loss_avg = []\n",
        "test_accuracy = []\n",
        "\n",
        "# Training and testing loop\n",
        "for epoch in range(1, num_epochs + 1):\n",
        "    # Train the model for one epoch and record training loss and accuracy\n",
        "    train_loss, train_acc = train_epoch(epoch, num_epochs, train_loader, model, criterion, optimizer, device)\n",
        "    train_loss_avg.append(train_loss)\n",
        "    train_accuracy.append(train_acc)\n",
        "\n",
        "    # Test the model on the validation set and record testing loss and accuracy\n",
        "    true_labels, predicted_labels, test_loss, test_acc = test(epoch, model, valid_loader, criterion)\n",
        "    test_loss_avg.append(test_loss)\n",
        "    test_accuracy.append(test_acc)\n"
      ],
      "metadata": {
        "colab": {
          "base_uri": "https://localhost:8080/"
        },
        "id": "m4rTQJIekopQ",
        "outputId": "dcde1a34-4c69-4f1b-d446-eee939c64ab5"
      },
      "execution_count": null,
      "outputs": [
        {
          "metadata": {
            "tags": null
          },
          "name": "stderr",
          "output_type": "stream",
          "text": [
            "Epoch 1/5: 100%|██████████| 1286/1286 [04:23<00:00,  4.89it/s]\n"
          ]
        },
        {
          "metadata": {
            "tags": null
          },
          "name": "stdout",
          "output_type": "stream",
          "text": [
            "\n",
            "[Epoch 1/5] [Loss: 0.6249, Acc: 6599.88%]\n",
            "Testing\n"
          ]
        },
        {
          "metadata": {
            "tags": null
          },
          "name": "stderr",
          "output_type": "stream",
          "text": [
            "Epoch 1 Testing:   1%|          | 3/322 [00:00<00:41,  7.71it/s]"
          ]
        },
        {
          "metadata": {
            "tags": null
          },
          "name": "stdout",
          "output_type": "stream",
          "text": [
            "[Batch 0 / 322]  [Loss: 0.8941, Acc: 50.00%]\n",
            "[Batch 1 / 322]  [Loss: 0.9555, Acc: 50.00%]\n",
            "[Batch 2 / 322]  [Loss: 0.7337, Acc: 66.67%]\n",
            "[Batch 3 / 322]  [Loss: 0.6103, Acc: 75.00%]\n"
          ]
        },
        {
          "metadata": {
            "tags": null
          },
          "name": "stderr",
          "output_type": "stream",
          "text": [
            "Epoch 1 Testing:   2%|▏         | 7/322 [00:00<00:26, 12.11it/s]"
          ]
        },
        {
          "metadata": {
            "tags": null
          },
          "name": "stdout",
          "output_type": "stream",
          "text": [
            "[Batch 4 / 322]  [Loss: 0.6013, Acc: 75.00%]\n",
            "[Batch 5 / 322]  [Loss: 0.6342, Acc: 66.67%]\n",
            "[Batch 6 / 322]  [Loss: 0.6653, Acc: 64.29%]\n",
            "[Batch 7 / 322]  [Loss: 0.6288, Acc: 68.75%]\n"
          ]
        },
        {
          "metadata": {
            "tags": null
          },
          "name": "stderr",
          "output_type": "stream",
          "text": [
            "Epoch 1 Testing:   3%|▎         | 11/322 [00:00<00:21, 14.20it/s]"
          ]
        },
        {
          "metadata": {
            "tags": null
          },
          "name": "stdout",
          "output_type": "stream",
          "text": [
            "[Batch 8 / 322]  [Loss: 0.6627, Acc: 66.67%]\n",
            "[Batch 9 / 322]  [Loss: 0.6152, Acc: 70.00%]\n",
            "[Batch 10 / 322]  [Loss: 0.5798, Acc: 72.73%]\n",
            "[Batch 11 / 322]  [Loss: 0.5601, Acc: 75.00%]\n"
          ]
        },
        {
          "metadata": {
            "tags": null
          },
          "name": "stderr",
          "output_type": "stream",
          "text": [
            "Epoch 1 Testing:   5%|▍         | 15/322 [00:01<00:22, 13.86it/s]"
          ]
        },
        {
          "metadata": {
            "tags": null
          },
          "name": "stdout",
          "output_type": "stream",
          "text": [
            "[Batch 12 / 322]  [Loss: 0.5772, Acc: 73.08%]\n",
            "[Batch 13 / 322]  [Loss: 0.5909, Acc: 73.21%]\n",
            "[Batch 14 / 322]  [Loss: 0.5804, Acc: 75.00%]\n",
            "[Batch 15 / 322]  [Loss: 0.5704, Acc: 76.56%]\n"
          ]
        },
        {
          "metadata": {
            "tags": null
          },
          "name": "stderr",
          "output_type": "stream",
          "text": [
            "Epoch 1 Testing:   6%|▌         | 19/322 [00:01<00:20, 14.72it/s]"
          ]
        },
        {
          "metadata": {
            "tags": null
          },
          "name": "stdout",
          "output_type": "stream",
          "text": [
            "[Batch 16 / 322]  [Loss: 0.5653, Acc: 76.47%]\n",
            "[Batch 17 / 322]  [Loss: 0.5603, Acc: 77.78%]\n",
            "[Batch 18 / 322]  [Loss: 0.5540, Acc: 77.63%]\n",
            "[Batch 19 / 322]  [Loss: 0.5426, Acc: 78.75%]\n"
          ]
        },
        {
          "metadata": {
            "tags": null
          },
          "name": "stderr",
          "output_type": "stream",
          "text": [
            "Epoch 1 Testing:   7%|▋         | 23/322 [00:01<00:19, 15.53it/s]"
          ]
        },
        {
          "metadata": {
            "tags": null
          },
          "name": "stdout",
          "output_type": "stream",
          "text": [
            "[Batch 20 / 322]  [Loss: 0.5465, Acc: 78.57%]\n",
            "[Batch 21 / 322]  [Loss: 0.5431, Acc: 78.41%]\n",
            "[Batch 22 / 322]  [Loss: 0.5559, Acc: 77.17%]\n",
            "[Batch 23 / 322]  [Loss: 0.5510, Acc: 78.12%]\n"
          ]
        },
        {
          "metadata": {
            "tags": null
          },
          "name": "stderr",
          "output_type": "stream",
          "text": [
            "Epoch 1 Testing:   8%|▊         | 27/322 [00:02<00:20, 14.23it/s]"
          ]
        },
        {
          "metadata": {
            "tags": null
          },
          "name": "stdout",
          "output_type": "stream",
          "text": [
            "[Batch 24 / 322]  [Loss: 0.5412, Acc: 79.00%]\n",
            "[Batch 25 / 322]  [Loss: 0.5358, Acc: 79.81%]\n",
            "[Batch 26 / 322]  [Loss: 0.5339, Acc: 79.63%]\n"
          ]
        },
        {
          "metadata": {
            "tags": null
          },
          "name": "stderr",
          "output_type": "stream",
          "text": [
            "\rEpoch 1 Testing:   9%|▉         | 29/322 [00:02<00:21, 13.81it/s]"
          ]
        },
        {
          "metadata": {
            "tags": null
          },
          "name": "stdout",
          "output_type": "stream",
          "text": [
            "[Batch 27 / 322]  [Loss: 0.5250, Acc: 80.36%]\n",
            "[Batch 28 / 322]  [Loss: 0.5228, Acc: 80.17%]\n"
          ]
        },
        {
          "metadata": {
            "tags": null
          },
          "name": "stderr",
          "output_type": "stream",
          "text": [
            "\rEpoch 1 Testing:  10%|▉         | 31/322 [00:02<00:23, 12.30it/s]"
          ]
        },
        {
          "metadata": {
            "tags": null
          },
          "name": "stdout",
          "output_type": "stream",
          "text": [
            "[Batch 29 / 322]  [Loss: 0.5142, Acc: 80.83%]\n",
            "[Batch 30 / 322]  [Loss: 0.5094, Acc: 81.45%]\n",
            "[Batch 31 / 322]  [Loss: 0.5012, Acc: 82.03%]\n"
          ]
        },
        {
          "metadata": {
            "tags": null
          },
          "name": "stderr",
          "output_type": "stream",
          "text": [
            "\rEpoch 1 Testing:  10%|█         | 33/322 [00:02<00:24, 11.69it/s]"
          ]
        },
        {
          "metadata": {
            "tags": null
          },
          "name": "stdout",
          "output_type": "stream",
          "text": [
            "[Batch 32 / 322]  [Loss: 0.4939, Acc: 82.58%]\n",
            "[Batch 33 / 322]  [Loss: 0.4864, Acc: 83.09%]\n"
          ]
        },
        {
          "metadata": {
            "tags": null
          },
          "name": "stderr",
          "output_type": "stream",
          "text": [
            "\rEpoch 1 Testing:  11%|█         | 35/322 [00:02<00:27, 10.29it/s]"
          ]
        },
        {
          "metadata": {
            "tags": null
          },
          "name": "stdout",
          "output_type": "stream",
          "text": [
            "[Batch 34 / 322]  [Loss: 0.4949, Acc: 82.14%]\n",
            "[Batch 35 / 322]  [Loss: 0.4879, Acc: 82.64%]\n"
          ]
        },
        {
          "metadata": {
            "tags": null
          },
          "name": "stderr",
          "output_type": "stream",
          "text": [
            "Epoch 1 Testing:  12%|█▏        | 39/322 [00:03<00:28, 10.09it/s]"
          ]
        },
        {
          "metadata": {
            "tags": null
          },
          "name": "stdout",
          "output_type": "stream",
          "text": [
            "[Batch 36 / 322]  [Loss: 0.4901, Acc: 82.43%]\n",
            "[Batch 37 / 322]  [Loss: 0.4916, Acc: 81.58%]\n",
            "[Batch 38 / 322]  [Loss: 0.4877, Acc: 82.05%]\n"
          ]
        },
        {
          "metadata": {
            "tags": null
          },
          "name": "stderr",
          "output_type": "stream",
          "text": [
            "\rEpoch 1 Testing:  13%|█▎        | 41/322 [00:03<00:29,  9.60it/s]"
          ]
        },
        {
          "metadata": {
            "tags": null
          },
          "name": "stdout",
          "output_type": "stream",
          "text": [
            "[Batch 39 / 322]  [Loss: 0.4824, Acc: 82.50%]\n",
            "[Batch 40 / 322]  [Loss: 0.4782, Acc: 82.93%]\n"
          ]
        },
        {
          "metadata": {
            "tags": null
          },
          "name": "stderr",
          "output_type": "stream",
          "text": [
            "\rEpoch 1 Testing:  13%|█▎        | 42/322 [00:03<00:32,  8.59it/s]"
          ]
        },
        {
          "metadata": {
            "tags": null
          },
          "name": "stdout",
          "output_type": "stream",
          "text": [
            "[Batch 41 / 322]  [Loss: 0.4857, Acc: 82.14%]\n",
            "[Batch 42 / 322]  [Loss: 0.4820, Acc: 82.56%]\n"
          ]
        },
        {
          "metadata": {
            "tags": null
          },
          "name": "stderr",
          "output_type": "stream",
          "text": [
            "\rEpoch 1 Testing:  14%|█▎        | 44/322 [00:03<00:32,  8.46it/s]"
          ]
        },
        {
          "metadata": {
            "tags": null
          },
          "name": "stdout",
          "output_type": "stream",
          "text": [
            "[Batch 43 / 322]  [Loss: 0.4792, Acc: 82.95%]\n",
            "[Batch 44 / 322]  [Loss: 0.4773, Acc: 83.33%]\n"
          ]
        },
        {
          "metadata": {
            "tags": null
          },
          "name": "stderr",
          "output_type": "stream",
          "text": [
            "Epoch 1 Testing:  15%|█▍        | 48/322 [00:04<00:29,  9.15it/s]"
          ]
        },
        {
          "metadata": {
            "tags": null
          },
          "name": "stdout",
          "output_type": "stream",
          "text": [
            "[Batch 45 / 322]  [Loss: 0.4814, Acc: 83.15%]\n",
            "[Batch 46 / 322]  [Loss: 0.4860, Acc: 82.98%]\n",
            "[Batch 47 / 322]  [Loss: 0.4849, Acc: 82.29%]\n"
          ]
        },
        {
          "metadata": {
            "tags": null
          },
          "name": "stderr",
          "output_type": "stream",
          "text": [
            "\rEpoch 1 Testing:  16%|█▌        | 50/322 [00:04<00:30,  8.99it/s]"
          ]
        },
        {
          "metadata": {
            "tags": null
          },
          "name": "stdout",
          "output_type": "stream",
          "text": [
            "[Batch 48 / 322]  [Loss: 0.4868, Acc: 82.65%]\n",
            "[Batch 49 / 322]  [Loss: 0.4912, Acc: 82.00%]\n"
          ]
        },
        {
          "metadata": {
            "tags": null
          },
          "name": "stderr",
          "output_type": "stream",
          "text": [
            "\rEpoch 1 Testing:  16%|█▌        | 52/322 [00:04<00:28,  9.58it/s]"
          ]
        },
        {
          "metadata": {
            "tags": null
          },
          "name": "stdout",
          "output_type": "stream",
          "text": [
            "[Batch 50 / 322]  [Loss: 0.4907, Acc: 81.86%]\n",
            "[Batch 51 / 322]  [Loss: 0.4875, Acc: 81.73%]\n",
            "[Batch 52 / 322]  [Loss: 0.4853, Acc: 82.08%]\n"
          ]
        },
        {
          "metadata": {
            "tags": null
          },
          "name": "stderr",
          "output_type": "stream",
          "text": [
            "\rEpoch 1 Testing:  17%|█▋        | 54/322 [00:04<00:27,  9.69it/s]"
          ]
        },
        {
          "metadata": {
            "tags": null
          },
          "name": "stdout",
          "output_type": "stream",
          "text": [
            "[Batch 53 / 322]  [Loss: 0.4846, Acc: 82.41%]\n",
            "[Batch 54 / 322]  [Loss: 0.4812, Acc: 82.73%]\n"
          ]
        },
        {
          "metadata": {
            "tags": null
          },
          "name": "stderr",
          "output_type": "stream",
          "text": [
            "Epoch 1 Testing:  18%|█▊        | 58/322 [00:05<00:25, 10.53it/s]"
          ]
        },
        {
          "metadata": {
            "tags": null
          },
          "name": "stdout",
          "output_type": "stream",
          "text": [
            "[Batch 55 / 322]  [Loss: 0.4838, Acc: 82.59%]\n",
            "[Batch 56 / 322]  [Loss: 0.4835, Acc: 82.89%]\n",
            "[Batch 57 / 322]  [Loss: 0.4784, Acc: 83.19%]\n"
          ]
        },
        {
          "metadata": {
            "tags": null
          },
          "name": "stderr",
          "output_type": "stream",
          "text": [
            "\rEpoch 1 Testing:  19%|█▊        | 60/322 [00:05<00:24, 10.75it/s]"
          ]
        },
        {
          "metadata": {
            "tags": null
          },
          "name": "stdout",
          "output_type": "stream",
          "text": [
            "[Batch 58 / 322]  [Loss: 0.4747, Acc: 83.47%]\n",
            "[Batch 59 / 322]  [Loss: 0.4727, Acc: 83.75%]\n",
            "[Batch 60 / 322]  [Loss: 0.4757, Acc: 83.20%]\n"
          ]
        },
        {
          "metadata": {
            "tags": null
          },
          "name": "stderr",
          "output_type": "stream",
          "text": [
            "\rEpoch 1 Testing:  19%|█▉        | 62/322 [00:05<00:25, 10.10it/s]"
          ]
        },
        {
          "metadata": {
            "tags": null
          },
          "name": "stdout",
          "output_type": "stream",
          "text": [
            "[Batch 61 / 322]  [Loss: 0.4710, Acc: 83.47%]\n",
            "[Batch 62 / 322]  [Loss: 0.4689, Acc: 83.33%]\n"
          ]
        },
        {
          "metadata": {
            "tags": null
          },
          "name": "stderr",
          "output_type": "stream",
          "text": [
            "\rEpoch 1 Testing:  20%|█▉        | 64/322 [00:05<00:28,  9.18it/s]"
          ]
        },
        {
          "metadata": {
            "tags": null
          },
          "name": "stdout",
          "output_type": "stream",
          "text": [
            "[Batch 63 / 322]  [Loss: 0.4654, Acc: 83.59%]\n",
            "[Batch 64 / 322]  [Loss: 0.4650, Acc: 83.46%]\n"
          ]
        },
        {
          "metadata": {
            "tags": null
          },
          "name": "stderr",
          "output_type": "stream",
          "text": [
            "\rEpoch 1 Testing:  20%|██        | 66/322 [00:06<00:29,  8.74it/s]"
          ]
        },
        {
          "metadata": {
            "tags": null
          },
          "name": "stdout",
          "output_type": "stream",
          "text": [
            "[Batch 65 / 322]  [Loss: 0.4687, Acc: 83.33%]\n",
            "[Batch 66 / 322]  [Loss: 0.4655, Acc: 83.58%]\n"
          ]
        },
        {
          "metadata": {
            "tags": null
          },
          "name": "stderr",
          "output_type": "stream",
          "text": [
            "\rEpoch 1 Testing:  21%|██        | 68/322 [00:06<00:28,  8.82it/s]"
          ]
        },
        {
          "metadata": {
            "tags": null
          },
          "name": "stdout",
          "output_type": "stream",
          "text": [
            "[Batch 67 / 322]  [Loss: 0.4667, Acc: 83.46%]\n",
            "[Batch 68 / 322]  [Loss: 0.4681, Acc: 82.97%]\n"
          ]
        },
        {
          "metadata": {
            "tags": null
          },
          "name": "stderr",
          "output_type": "stream",
          "text": [
            "Epoch 1 Testing:  22%|██▏       | 72/322 [00:06<00:26,  9.36it/s]"
          ]
        },
        {
          "metadata": {
            "tags": null
          },
          "name": "stdout",
          "output_type": "stream",
          "text": [
            "[Batch 69 / 322]  [Loss: 0.4695, Acc: 82.50%]\n",
            "[Batch 70 / 322]  [Loss: 0.4702, Acc: 82.04%]\n",
            "[Batch 71 / 322]  [Loss: 0.4713, Acc: 81.94%]\n"
          ]
        },
        {
          "metadata": {
            "tags": null
          },
          "name": "stderr",
          "output_type": "stream",
          "text": [
            "\rEpoch 1 Testing:  23%|██▎       | 74/322 [00:07<00:25,  9.75it/s]"
          ]
        },
        {
          "metadata": {
            "tags": null
          },
          "name": "stdout",
          "output_type": "stream",
          "text": [
            "[Batch 72 / 322]  [Loss: 0.4725, Acc: 81.85%]\n",
            "[Batch 73 / 322]  [Loss: 0.4717, Acc: 81.76%]\n",
            "[Batch 74 / 322]  [Loss: 0.4768, Acc: 81.00%]\n"
          ]
        },
        {
          "metadata": {
            "tags": null
          },
          "name": "stderr",
          "output_type": "stream",
          "text": [
            "Epoch 1 Testing:  24%|██▍       | 78/322 [00:07<00:25,  9.64it/s]"
          ]
        },
        {
          "metadata": {
            "tags": null
          },
          "name": "stdout",
          "output_type": "stream",
          "text": [
            "[Batch 75 / 322]  [Loss: 0.4765, Acc: 80.92%]\n",
            "[Batch 76 / 322]  [Loss: 0.4746, Acc: 81.17%]\n",
            "[Batch 77 / 322]  [Loss: 0.4737, Acc: 81.09%]\n"
          ]
        },
        {
          "metadata": {
            "tags": null
          },
          "name": "stderr",
          "output_type": "stream",
          "text": [
            "\rEpoch 1 Testing:  25%|██▍       | 80/322 [00:07<00:26,  9.26it/s]"
          ]
        },
        {
          "metadata": {
            "tags": null
          },
          "name": "stdout",
          "output_type": "stream",
          "text": [
            "[Batch 78 / 322]  [Loss: 0.4761, Acc: 81.01%]\n",
            "[Batch 79 / 322]  [Loss: 0.4756, Acc: 80.62%]\n"
          ]
        },
        {
          "metadata": {
            "tags": null
          },
          "name": "stderr",
          "output_type": "stream",
          "text": [
            "\rEpoch 1 Testing:  25%|██▌       | 82/322 [00:07<00:24,  9.66it/s]"
          ]
        },
        {
          "metadata": {
            "tags": null
          },
          "name": "stdout",
          "output_type": "stream",
          "text": [
            "[Batch 80 / 322]  [Loss: 0.4750, Acc: 80.56%]\n",
            "[Batch 81 / 322]  [Loss: 0.4743, Acc: 80.49%]\n",
            "[Batch 82 / 322]  [Loss: 0.4738, Acc: 80.72%]\n"
          ]
        },
        {
          "metadata": {
            "tags": null
          },
          "name": "stderr",
          "output_type": "stream",
          "text": [
            "Epoch 1 Testing:  27%|██▋       | 86/322 [00:08<00:22, 10.34it/s]"
          ]
        },
        {
          "metadata": {
            "tags": null
          },
          "name": "stdout",
          "output_type": "stream",
          "text": [
            "[Batch 83 / 322]  [Loss: 0.4731, Acc: 80.95%]\n",
            "[Batch 84 / 322]  [Loss: 0.4719, Acc: 81.18%]\n",
            "[Batch 85 / 322]  [Loss: 0.4700, Acc: 81.40%]\n"
          ]
        },
        {
          "metadata": {
            "tags": null
          },
          "name": "stderr",
          "output_type": "stream",
          "text": [
            "\rEpoch 1 Testing:  27%|██▋       | 88/322 [00:08<00:24,  9.48it/s]"
          ]
        },
        {
          "metadata": {
            "tags": null
          },
          "name": "stdout",
          "output_type": "stream",
          "text": [
            "[Batch 86 / 322]  [Loss: 0.4685, Acc: 81.32%]\n",
            "[Batch 87 / 322]  [Loss: 0.4680, Acc: 81.53%]\n"
          ]
        },
        {
          "metadata": {
            "tags": null
          },
          "name": "stderr",
          "output_type": "stream",
          "text": [
            "\rEpoch 1 Testing:  28%|██▊       | 90/322 [00:08<00:22, 10.30it/s]"
          ]
        },
        {
          "metadata": {
            "tags": null
          },
          "name": "stdout",
          "output_type": "stream",
          "text": [
            "[Batch 88 / 322]  [Loss: 0.4718, Acc: 81.18%]\n",
            "[Batch 89 / 322]  [Loss: 0.4694, Acc: 81.39%]\n",
            "[Batch 90 / 322]  [Loss: 0.4716, Acc: 81.04%]\n"
          ]
        },
        {
          "metadata": {
            "tags": null
          },
          "name": "stderr",
          "output_type": "stream",
          "text": [
            "Epoch 1 Testing:  29%|██▉       | 94/322 [00:09<00:22, 10.19it/s]"
          ]
        },
        {
          "metadata": {
            "tags": null
          },
          "name": "stdout",
          "output_type": "stream",
          "text": [
            "[Batch 91 / 322]  [Loss: 0.4692, Acc: 81.25%]\n",
            "[Batch 92 / 322]  [Loss: 0.4703, Acc: 80.91%]\n",
            "[Batch 93 / 322]  [Loss: 0.4726, Acc: 80.59%]\n",
            "[Batch 94 / 322]  [Loss: 0.4700, Acc: 80.79%]\n"
          ]
        },
        {
          "metadata": {
            "tags": null
          },
          "name": "stderr",
          "output_type": "stream",
          "text": [
            "Epoch 1 Testing:  30%|███       | 98/322 [00:09<00:19, 11.68it/s]"
          ]
        },
        {
          "metadata": {
            "tags": null
          },
          "name": "stdout",
          "output_type": "stream",
          "text": [
            "[Batch 95 / 322]  [Loss: 0.4736, Acc: 80.47%]\n",
            "[Batch 96 / 322]  [Loss: 0.4717, Acc: 80.67%]\n",
            "[Batch 97 / 322]  [Loss: 0.4728, Acc: 80.36%]\n",
            "[Batch 98 / 322]  [Loss: 0.4720, Acc: 80.30%]\n"
          ]
        },
        {
          "metadata": {
            "tags": null
          },
          "name": "stderr",
          "output_type": "stream",
          "text": [
            "Epoch 1 Testing:  32%|███▏      | 102/322 [00:09<00:16, 13.64it/s]"
          ]
        },
        {
          "metadata": {
            "tags": null
          },
          "name": "stdout",
          "output_type": "stream",
          "text": [
            "[Batch 99 / 322]  [Loss: 0.4696, Acc: 80.50%]\n",
            "[Batch 100 / 322]  [Loss: 0.4679, Acc: 80.69%]\n",
            "[Batch 101 / 322]  [Loss: 0.4696, Acc: 80.64%]\n",
            "[Batch 102 / 322]  [Loss: 0.4720, Acc: 80.10%]\n"
          ]
        },
        {
          "metadata": {
            "tags": null
          },
          "name": "stderr",
          "output_type": "stream",
          "text": [
            "Epoch 1 Testing:  33%|███▎      | 106/322 [00:09<00:14, 14.64it/s]"
          ]
        },
        {
          "metadata": {
            "tags": null
          },
          "name": "stdout",
          "output_type": "stream",
          "text": [
            "[Batch 103 / 322]  [Loss: 0.4718, Acc: 80.05%]\n",
            "[Batch 104 / 322]  [Loss: 0.4706, Acc: 80.24%]\n",
            "[Batch 105 / 322]  [Loss: 0.4706, Acc: 80.42%]\n",
            "[Batch 106 / 322]  [Loss: 0.4687, Acc: 80.61%]\n"
          ]
        },
        {
          "metadata": {
            "tags": null
          },
          "name": "stderr",
          "output_type": "stream",
          "text": [
            "Epoch 1 Testing:  34%|███▍      | 110/322 [00:10<00:13, 15.43it/s]"
          ]
        },
        {
          "metadata": {
            "tags": null
          },
          "name": "stdout",
          "output_type": "stream",
          "text": [
            "[Batch 107 / 322]  [Loss: 0.4673, Acc: 80.79%]\n",
            "[Batch 108 / 322]  [Loss: 0.4648, Acc: 80.96%]\n",
            "[Batch 109 / 322]  [Loss: 0.4659, Acc: 80.91%]\n",
            "[Batch 110 / 322]  [Loss: 0.4681, Acc: 80.86%]\n"
          ]
        },
        {
          "metadata": {
            "tags": null
          },
          "name": "stderr",
          "output_type": "stream",
          "text": [
            "Epoch 1 Testing:  35%|███▌      | 114/322 [00:10<00:14, 14.78it/s]"
          ]
        },
        {
          "metadata": {
            "tags": null
          },
          "name": "stdout",
          "output_type": "stream",
          "text": [
            "[Batch 111 / 322]  [Loss: 0.4672, Acc: 81.03%]\n",
            "[Batch 112 / 322]  [Loss: 0.4690, Acc: 80.97%]\n",
            "[Batch 113 / 322]  [Loss: 0.4688, Acc: 81.14%]\n",
            "[Batch 114 / 322]  [Loss: 0.4692, Acc: 81.09%]\n"
          ]
        },
        {
          "metadata": {
            "tags": null
          },
          "name": "stderr",
          "output_type": "stream",
          "text": [
            "Epoch 1 Testing:  37%|███▋      | 118/322 [00:10<00:13, 14.94it/s]"
          ]
        },
        {
          "metadata": {
            "tags": null
          },
          "name": "stdout",
          "output_type": "stream",
          "text": [
            "[Batch 115 / 322]  [Loss: 0.4682, Acc: 81.03%]\n",
            "[Batch 116 / 322]  [Loss: 0.4670, Acc: 81.20%]\n",
            "[Batch 117 / 322]  [Loss: 0.4672, Acc: 81.14%]\n",
            "[Batch 118 / 322]  [Loss: 0.4657, Acc: 81.30%]\n"
          ]
        },
        {
          "metadata": {
            "tags": null
          },
          "name": "stderr",
          "output_type": "stream",
          "text": [
            "Epoch 1 Testing:  38%|███▊      | 122/322 [00:10<00:13, 15.10it/s]"
          ]
        },
        {
          "metadata": {
            "tags": null
          },
          "name": "stdout",
          "output_type": "stream",
          "text": [
            "[Batch 119 / 322]  [Loss: 0.4646, Acc: 81.46%]\n",
            "[Batch 120 / 322]  [Loss: 0.4712, Acc: 80.79%]\n",
            "[Batch 121 / 322]  [Loss: 0.4695, Acc: 80.94%]\n",
            "[Batch 122 / 322]  [Loss: 0.4682, Acc: 80.89%]\n"
          ]
        },
        {
          "metadata": {
            "tags": null
          },
          "name": "stderr",
          "output_type": "stream",
          "text": [
            "Epoch 1 Testing:  39%|███▉      | 126/322 [00:11<00:13, 14.60it/s]"
          ]
        },
        {
          "metadata": {
            "tags": null
          },
          "name": "stdout",
          "output_type": "stream",
          "text": [
            "[Batch 123 / 322]  [Loss: 0.4675, Acc: 81.05%]\n",
            "[Batch 124 / 322]  [Loss: 0.4687, Acc: 80.80%]\n",
            "[Batch 125 / 322]  [Loss: 0.4689, Acc: 80.75%]\n",
            "[Batch 126 / 322]  [Loss: 0.4697, Acc: 80.71%]\n"
          ]
        },
        {
          "metadata": {
            "tags": null
          },
          "name": "stderr",
          "output_type": "stream",
          "text": [
            "Epoch 1 Testing:  40%|████      | 130/322 [00:11<00:11, 16.05it/s]"
          ]
        },
        {
          "metadata": {
            "tags": null
          },
          "name": "stdout",
          "output_type": "stream",
          "text": [
            "[Batch 127 / 322]  [Loss: 0.4690, Acc: 80.86%]\n",
            "[Batch 128 / 322]  [Loss: 0.4661, Acc: 81.01%]\n",
            "[Batch 129 / 322]  [Loss: 0.4661, Acc: 80.96%]\n",
            "[Batch 130 / 322]  [Loss: 0.4666, Acc: 80.92%]\n"
          ]
        },
        {
          "metadata": {
            "tags": null
          },
          "name": "stderr",
          "output_type": "stream",
          "text": [
            "Epoch 1 Testing:  42%|████▏     | 134/322 [00:11<00:12, 15.05it/s]"
          ]
        },
        {
          "metadata": {
            "tags": null
          },
          "name": "stdout",
          "output_type": "stream",
          "text": [
            "[Batch 131 / 322]  [Loss: 0.4656, Acc: 81.06%]\n",
            "[Batch 132 / 322]  [Loss: 0.4658, Acc: 81.02%]\n",
            "[Batch 133 / 322]  [Loss: 0.4660, Acc: 80.78%]\n",
            "[Batch 134 / 322]  [Loss: 0.4654, Acc: 80.74%]\n"
          ]
        },
        {
          "metadata": {
            "tags": null
          },
          "name": "stderr",
          "output_type": "stream",
          "text": [
            "Epoch 1 Testing:  43%|████▎     | 138/322 [00:11<00:12, 14.71it/s]"
          ]
        },
        {
          "metadata": {
            "tags": null
          },
          "name": "stdout",
          "output_type": "stream",
          "text": [
            "[Batch 135 / 322]  [Loss: 0.4643, Acc: 80.88%]\n",
            "[Batch 136 / 322]  [Loss: 0.4632, Acc: 81.02%]\n",
            "[Batch 137 / 322]  [Loss: 0.4640, Acc: 80.98%]\n"
          ]
        },
        {
          "metadata": {
            "tags": null
          },
          "name": "stderr",
          "output_type": "stream",
          "text": [
            "Epoch 1 Testing:  44%|████▍     | 142/322 [00:12<00:11, 15.77it/s]"
          ]
        },
        {
          "metadata": {
            "tags": null
          },
          "name": "stdout",
          "output_type": "stream",
          "text": [
            "[Batch 138 / 322]  [Loss: 0.4663, Acc: 80.76%]\n",
            "[Batch 139 / 322]  [Loss: 0.4652, Acc: 80.89%]\n",
            "[Batch 140 / 322]  [Loss: 0.4651, Acc: 80.85%]\n",
            "[Batch 141 / 322]  [Loss: 0.4656, Acc: 80.81%]\n"
          ]
        },
        {
          "metadata": {
            "tags": null
          },
          "name": "stderr",
          "output_type": "stream",
          "text": [
            "Epoch 1 Testing:  45%|████▌     | 146/322 [00:12<00:11, 15.88it/s]"
          ]
        },
        {
          "metadata": {
            "tags": null
          },
          "name": "stdout",
          "output_type": "stream",
          "text": [
            "[Batch 142 / 322]  [Loss: 0.4649, Acc: 80.77%]\n",
            "[Batch 143 / 322]  [Loss: 0.4680, Acc: 80.38%]\n",
            "[Batch 144 / 322]  [Loss: 0.4670, Acc: 80.34%]\n",
            "[Batch 145 / 322]  [Loss: 0.4660, Acc: 80.48%]\n"
          ]
        },
        {
          "metadata": {
            "tags": null
          },
          "name": "stderr",
          "output_type": "stream",
          "text": [
            "\rEpoch 1 Testing:  46%|████▌     | 148/322 [00:12<00:11, 14.70it/s]"
          ]
        },
        {
          "metadata": {
            "tags": null
          },
          "name": "stdout",
          "output_type": "stream",
          "text": [
            "[Batch 146 / 322]  [Loss: 0.4663, Acc: 80.44%]\n",
            "[Batch 147 / 322]  [Loss: 0.4669, Acc: 80.24%]\n",
            "[Batch 148 / 322]  [Loss: 0.4664, Acc: 80.37%]\n"
          ]
        },
        {
          "metadata": {
            "tags": null
          },
          "name": "stderr",
          "output_type": "stream",
          "text": [
            "Epoch 1 Testing:  47%|████▋     | 152/322 [00:12<00:11, 14.88it/s]"
          ]
        },
        {
          "metadata": {
            "tags": null
          },
          "name": "stdout",
          "output_type": "stream",
          "text": [
            "[Batch 149 / 322]  [Loss: 0.4648, Acc: 80.50%]\n",
            "[Batch 150 / 322]  [Loss: 0.4647, Acc: 80.63%]\n",
            "[Batch 151 / 322]  [Loss: 0.4634, Acc: 80.76%]\n",
            "[Batch 152 / 322]  [Loss: 0.4639, Acc: 80.72%]\n"
          ]
        },
        {
          "metadata": {
            "tags": null
          },
          "name": "stderr",
          "output_type": "stream",
          "text": [
            "Epoch 1 Testing:  48%|████▊     | 156/322 [00:13<00:11, 14.19it/s]"
          ]
        },
        {
          "metadata": {
            "tags": null
          },
          "name": "stdout",
          "output_type": "stream",
          "text": [
            "[Batch 153 / 322]  [Loss: 0.4625, Acc: 80.84%]\n",
            "[Batch 154 / 322]  [Loss: 0.4614, Acc: 80.97%]\n",
            "[Batch 155 / 322]  [Loss: 0.4647, Acc: 80.77%]\n",
            "[Batch 156 / 322]  [Loss: 0.4633, Acc: 80.89%]\n"
          ]
        },
        {
          "metadata": {
            "tags": null
          },
          "name": "stderr",
          "output_type": "stream",
          "text": [
            "Epoch 1 Testing:  50%|████▉     | 160/322 [00:13<00:10, 14.95it/s]"
          ]
        },
        {
          "metadata": {
            "tags": null
          },
          "name": "stdout",
          "output_type": "stream",
          "text": [
            "[Batch 157 / 322]  [Loss: 0.4630, Acc: 80.85%]\n",
            "[Batch 158 / 322]  [Loss: 0.4614, Acc: 80.97%]\n",
            "[Batch 159 / 322]  [Loss: 0.4625, Acc: 80.78%]\n",
            "[Batch 160 / 322]  [Loss: 0.4631, Acc: 80.75%]\n"
          ]
        },
        {
          "metadata": {
            "tags": null
          },
          "name": "stderr",
          "output_type": "stream",
          "text": [
            "Epoch 1 Testing:  51%|█████     | 164/322 [00:13<00:10, 15.11it/s]"
          ]
        },
        {
          "metadata": {
            "tags": null
          },
          "name": "stdout",
          "output_type": "stream",
          "text": [
            "[Batch 161 / 322]  [Loss: 0.4634, Acc: 80.86%]\n",
            "[Batch 162 / 322]  [Loss: 0.4632, Acc: 80.83%]\n",
            "[Batch 163 / 322]  [Loss: 0.4642, Acc: 80.64%]\n",
            "[Batch 164 / 322]  [Loss: 0.4645, Acc: 80.45%]\n"
          ]
        },
        {
          "metadata": {
            "tags": null
          },
          "name": "stderr",
          "output_type": "stream",
          "text": [
            "Epoch 1 Testing:  52%|█████▏    | 168/322 [00:13<00:10, 14.83it/s]"
          ]
        },
        {
          "metadata": {
            "tags": null
          },
          "name": "stdout",
          "output_type": "stream",
          "text": [
            "[Batch 165 / 322]  [Loss: 0.4642, Acc: 80.42%]\n",
            "[Batch 166 / 322]  [Loss: 0.4634, Acc: 80.39%]\n",
            "[Batch 167 / 322]  [Loss: 0.4649, Acc: 80.21%]\n",
            "[Batch 168 / 322]  [Loss: 0.4636, Acc: 80.33%]\n"
          ]
        },
        {
          "metadata": {
            "tags": null
          },
          "name": "stderr",
          "output_type": "stream",
          "text": [
            "Epoch 1 Testing:  53%|█████▎    | 172/322 [00:14<00:10, 14.85it/s]"
          ]
        },
        {
          "metadata": {
            "tags": null
          },
          "name": "stdout",
          "output_type": "stream",
          "text": [
            "[Batch 169 / 322]  [Loss: 0.4624, Acc: 80.29%]\n",
            "[Batch 170 / 322]  [Loss: 0.4612, Acc: 80.41%]\n",
            "[Batch 171 / 322]  [Loss: 0.4617, Acc: 80.23%]\n"
          ]
        },
        {
          "metadata": {
            "tags": null
          },
          "name": "stderr",
          "output_type": "stream",
          "text": [
            "Epoch 1 Testing:  55%|█████▍    | 176/322 [00:14<00:09, 15.23it/s]"
          ]
        },
        {
          "metadata": {
            "tags": null
          },
          "name": "stdout",
          "output_type": "stream",
          "text": [
            "[Batch 172 / 322]  [Loss: 0.4620, Acc: 80.35%]\n",
            "[Batch 173 / 322]  [Loss: 0.4636, Acc: 80.17%]\n",
            "[Batch 174 / 322]  [Loss: 0.4643, Acc: 80.14%]\n",
            "[Batch 175 / 322]  [Loss: 0.4636, Acc: 80.26%]\n"
          ]
        },
        {
          "metadata": {
            "tags": null
          },
          "name": "stderr",
          "output_type": "stream",
          "text": [
            "Epoch 1 Testing:  56%|█████▌    | 180/322 [00:14<00:09, 15.24it/s]"
          ]
        },
        {
          "metadata": {
            "tags": null
          },
          "name": "stdout",
          "output_type": "stream",
          "text": [
            "[Batch 176 / 322]  [Loss: 0.4622, Acc: 80.37%]\n",
            "[Batch 177 / 322]  [Loss: 0.4613, Acc: 80.48%]\n",
            "[Batch 178 / 322]  [Loss: 0.4597, Acc: 80.59%]\n",
            "[Batch 179 / 322]  [Loss: 0.4633, Acc: 80.14%]\n"
          ]
        },
        {
          "metadata": {
            "tags": null
          },
          "name": "stderr",
          "output_type": "stream",
          "text": [
            "Epoch 1 Testing:  57%|█████▋    | 184/322 [00:15<00:09, 15.25it/s]"
          ]
        },
        {
          "metadata": {
            "tags": null
          },
          "name": "stdout",
          "output_type": "stream",
          "text": [
            "[Batch 180 / 322]  [Loss: 0.4630, Acc: 80.25%]\n",
            "[Batch 181 / 322]  [Loss: 0.4630, Acc: 80.22%]\n",
            "[Batch 182 / 322]  [Loss: 0.4624, Acc: 80.19%]\n",
            "[Batch 183 / 322]  [Loss: 0.4630, Acc: 80.16%]\n"
          ]
        },
        {
          "metadata": {
            "tags": null
          },
          "name": "stderr",
          "output_type": "stream",
          "text": [
            "Epoch 1 Testing:  58%|█████▊    | 188/322 [00:15<00:08, 15.38it/s]"
          ]
        },
        {
          "metadata": {
            "tags": null
          },
          "name": "stdout",
          "output_type": "stream",
          "text": [
            "[Batch 184 / 322]  [Loss: 0.4627, Acc: 80.14%]\n",
            "[Batch 185 / 322]  [Loss: 0.4630, Acc: 80.11%]\n",
            "[Batch 186 / 322]  [Loss: 0.4646, Acc: 79.95%]\n",
            "[Batch 187 / 322]  [Loss: 0.4639, Acc: 80.05%]\n"
          ]
        },
        {
          "metadata": {
            "tags": null
          },
          "name": "stderr",
          "output_type": "stream",
          "text": [
            "Epoch 1 Testing:  60%|█████▉    | 192/322 [00:15<00:07, 16.77it/s]"
          ]
        },
        {
          "metadata": {
            "tags": null
          },
          "name": "stdout",
          "output_type": "stream",
          "text": [
            "[Batch 188 / 322]  [Loss: 0.4650, Acc: 79.89%]\n",
            "[Batch 189 / 322]  [Loss: 0.4653, Acc: 79.87%]\n",
            "[Batch 190 / 322]  [Loss: 0.4664, Acc: 79.71%]\n",
            "[Batch 191 / 322]  [Loss: 0.4670, Acc: 79.69%]\n"
          ]
        },
        {
          "metadata": {
            "tags": null
          },
          "name": "stderr",
          "output_type": "stream",
          "text": [
            "Epoch 1 Testing:  61%|██████    | 196/322 [00:15<00:07, 16.16it/s]"
          ]
        },
        {
          "metadata": {
            "tags": null
          },
          "name": "stdout",
          "output_type": "stream",
          "text": [
            "[Batch 192 / 322]  [Loss: 0.4657, Acc: 79.79%]\n",
            "[Batch 193 / 322]  [Loss: 0.4653, Acc: 79.90%]\n",
            "[Batch 194 / 322]  [Loss: 0.4647, Acc: 80.00%]\n",
            "[Batch 195 / 322]  [Loss: 0.4651, Acc: 80.10%]\n"
          ]
        },
        {
          "metadata": {
            "tags": null
          },
          "name": "stderr",
          "output_type": "stream",
          "text": [
            "\rEpoch 1 Testing:  61%|██████▏   | 198/322 [00:15<00:08, 15.40it/s]"
          ]
        },
        {
          "metadata": {
            "tags": null
          },
          "name": "stdout",
          "output_type": "stream",
          "text": [
            "[Batch 196 / 322]  [Loss: 0.4641, Acc: 80.20%]\n",
            "[Batch 197 / 322]  [Loss: 0.4642, Acc: 80.05%]\n",
            "[Batch 198 / 322]  [Loss: 0.4644, Acc: 80.03%]\n"
          ]
        },
        {
          "metadata": {
            "tags": null
          },
          "name": "stderr",
          "output_type": "stream",
          "text": [
            "Epoch 1 Testing:  63%|██████▎   | 202/322 [00:16<00:07, 16.07it/s]"
          ]
        },
        {
          "metadata": {
            "tags": null
          },
          "name": "stdout",
          "output_type": "stream",
          "text": [
            "[Batch 199 / 322]  [Loss: 0.4671, Acc: 79.75%]\n",
            "[Batch 200 / 322]  [Loss: 0.4677, Acc: 79.85%]\n",
            "[Batch 201 / 322]  [Loss: 0.4696, Acc: 79.70%]\n",
            "[Batch 202 / 322]  [Loss: 0.4701, Acc: 79.56%]\n"
          ]
        },
        {
          "metadata": {
            "tags": null
          },
          "name": "stderr",
          "output_type": "stream",
          "text": [
            "Epoch 1 Testing:  64%|██████▍   | 206/322 [00:16<00:07, 15.44it/s]"
          ]
        },
        {
          "metadata": {
            "tags": null
          },
          "name": "stdout",
          "output_type": "stream",
          "text": [
            "[Batch 203 / 322]  [Loss: 0.4714, Acc: 79.41%]\n",
            "[Batch 204 / 322]  [Loss: 0.4703, Acc: 79.51%]\n",
            "[Batch 205 / 322]  [Loss: 0.4695, Acc: 79.61%]\n",
            "[Batch 206 / 322]  [Loss: 0.4698, Acc: 79.47%]\n"
          ]
        },
        {
          "metadata": {
            "tags": null
          },
          "name": "stderr",
          "output_type": "stream",
          "text": [
            "Epoch 1 Testing:  65%|██████▌   | 210/322 [00:16<00:07, 15.23it/s]"
          ]
        },
        {
          "metadata": {
            "tags": null
          },
          "name": "stdout",
          "output_type": "stream",
          "text": [
            "[Batch 207 / 322]  [Loss: 0.4704, Acc: 79.33%]\n",
            "[Batch 208 / 322]  [Loss: 0.4707, Acc: 79.31%]\n",
            "[Batch 209 / 322]  [Loss: 0.4733, Acc: 79.05%]\n",
            "[Batch 210 / 322]  [Loss: 0.4720, Acc: 79.15%]\n"
          ]
        },
        {
          "metadata": {
            "tags": null
          },
          "name": "stderr",
          "output_type": "stream",
          "text": [
            "Epoch 1 Testing:  66%|██████▋   | 214/322 [00:16<00:06, 15.67it/s]"
          ]
        },
        {
          "metadata": {
            "tags": null
          },
          "name": "stdout",
          "output_type": "stream",
          "text": [
            "[Batch 211 / 322]  [Loss: 0.4720, Acc: 79.13%]\n",
            "[Batch 212 / 322]  [Loss: 0.4728, Acc: 79.11%]\n",
            "[Batch 213 / 322]  [Loss: 0.4732, Acc: 79.09%]\n",
            "[Batch 214 / 322]  [Loss: 0.4745, Acc: 78.95%]\n"
          ]
        },
        {
          "metadata": {
            "tags": null
          },
          "name": "stderr",
          "output_type": "stream",
          "text": [
            "Epoch 1 Testing:  68%|██████▊   | 218/322 [00:17<00:06, 16.45it/s]"
          ]
        },
        {
          "metadata": {
            "tags": null
          },
          "name": "stdout",
          "output_type": "stream",
          "text": [
            "[Batch 215 / 322]  [Loss: 0.4733, Acc: 79.05%]\n",
            "[Batch 216 / 322]  [Loss: 0.4736, Acc: 79.15%]\n",
            "[Batch 217 / 322]  [Loss: 0.4733, Acc: 79.13%]\n",
            "[Batch 218 / 322]  [Loss: 0.4743, Acc: 79.00%]\n"
          ]
        },
        {
          "metadata": {
            "tags": null
          },
          "name": "stderr",
          "output_type": "stream",
          "text": [
            "Epoch 1 Testing:  69%|██████▉   | 222/322 [00:17<00:06, 15.40it/s]"
          ]
        },
        {
          "metadata": {
            "tags": null
          },
          "name": "stdout",
          "output_type": "stream",
          "text": [
            "[Batch 219 / 322]  [Loss: 0.4744, Acc: 78.98%]\n",
            "[Batch 220 / 322]  [Loss: 0.4758, Acc: 78.85%]\n",
            "[Batch 221 / 322]  [Loss: 0.4749, Acc: 78.94%]\n"
          ]
        },
        {
          "metadata": {
            "tags": null
          },
          "name": "stderr",
          "output_type": "stream",
          "text": [
            "Epoch 1 Testing:  70%|███████   | 226/322 [00:17<00:06, 15.05it/s]"
          ]
        },
        {
          "metadata": {
            "tags": null
          },
          "name": "stdout",
          "output_type": "stream",
          "text": [
            "[Batch 222 / 322]  [Loss: 0.4762, Acc: 78.92%]\n",
            "[Batch 223 / 322]  [Loss: 0.4757, Acc: 78.91%]\n",
            "[Batch 224 / 322]  [Loss: 0.4756, Acc: 78.89%]\n",
            "[Batch 225 / 322]  [Loss: 0.4751, Acc: 78.98%]\n"
          ]
        },
        {
          "metadata": {
            "tags": null
          },
          "name": "stderr",
          "output_type": "stream",
          "text": [
            "Epoch 1 Testing:  71%|███████▏  | 230/322 [00:18<00:06, 14.41it/s]"
          ]
        },
        {
          "metadata": {
            "tags": null
          },
          "name": "stdout",
          "output_type": "stream",
          "text": [
            "[Batch 226 / 322]  [Loss: 0.4778, Acc: 78.74%]\n",
            "[Batch 227 / 322]  [Loss: 0.4784, Acc: 78.73%]\n",
            "[Batch 228 / 322]  [Loss: 0.4785, Acc: 78.71%]\n",
            "[Batch 229 / 322]  [Loss: 0.4787, Acc: 78.70%]\n"
          ]
        },
        {
          "metadata": {
            "tags": null
          },
          "name": "stderr",
          "output_type": "stream",
          "text": [
            "\rEpoch 1 Testing:  72%|███████▏  | 232/322 [00:18<00:06, 14.99it/s]"
          ]
        },
        {
          "metadata": {
            "tags": null
          },
          "name": "stdout",
          "output_type": "stream",
          "text": [
            "[Batch 230 / 322]  [Loss: 0.4798, Acc: 78.68%]\n",
            "[Batch 231 / 322]  [Loss: 0.4797, Acc: 78.77%]\n",
            "[Batch 232 / 322]  [Loss: 0.4796, Acc: 78.76%]\n"
          ]
        },
        {
          "metadata": {
            "tags": null
          },
          "name": "stderr",
          "output_type": "stream",
          "text": [
            "Epoch 1 Testing:  73%|███████▎  | 236/322 [00:18<00:05, 15.07it/s]"
          ]
        },
        {
          "metadata": {
            "tags": null
          },
          "name": "stdout",
          "output_type": "stream",
          "text": [
            "[Batch 233 / 322]  [Loss: 0.4789, Acc: 78.85%]\n",
            "[Batch 234 / 322]  [Loss: 0.4779, Acc: 78.94%]\n",
            "[Batch 235 / 322]  [Loss: 0.4778, Acc: 78.92%]\n",
            "[Batch 236 / 322]  [Loss: 0.4787, Acc: 78.90%]\n"
          ]
        },
        {
          "metadata": {
            "tags": null
          },
          "name": "stderr",
          "output_type": "stream",
          "text": [
            "\rEpoch 1 Testing:  74%|███████▍  | 238/322 [00:18<00:05, 15.13it/s]"
          ]
        },
        {
          "metadata": {
            "tags": null
          },
          "name": "stdout",
          "output_type": "stream",
          "text": [
            "[Batch 237 / 322]  [Loss: 0.4799, Acc: 78.68%]\n",
            "[Batch 238 / 322]  [Loss: 0.4790, Acc: 78.77%]\n"
          ]
        },
        {
          "metadata": {
            "tags": null
          },
          "name": "stderr",
          "output_type": "stream",
          "text": [
            "Epoch 1 Testing:  75%|███████▌  | 242/322 [00:18<00:05, 13.82it/s]"
          ]
        },
        {
          "metadata": {
            "tags": null
          },
          "name": "stdout",
          "output_type": "stream",
          "text": [
            "[Batch 239 / 322]  [Loss: 0.4793, Acc: 78.75%]\n",
            "[Batch 240 / 322]  [Loss: 0.4784, Acc: 78.84%]\n",
            "[Batch 241 / 322]  [Loss: 0.4775, Acc: 78.93%]\n",
            "[Batch 242 / 322]  [Loss: 0.4771, Acc: 79.01%]\n"
          ]
        },
        {
          "metadata": {
            "tags": null
          },
          "name": "stderr",
          "output_type": "stream",
          "text": [
            "Epoch 1 Testing:  76%|███████▋  | 246/322 [00:19<00:05, 14.27it/s]"
          ]
        },
        {
          "metadata": {
            "tags": null
          },
          "name": "stdout",
          "output_type": "stream",
          "text": [
            "[Batch 243 / 322]  [Loss: 0.4764, Acc: 79.10%]\n",
            "[Batch 244 / 322]  [Loss: 0.4764, Acc: 79.08%]\n",
            "[Batch 245 / 322]  [Loss: 0.4759, Acc: 79.07%]\n",
            "[Batch 246 / 322]  [Loss: 0.4753, Acc: 79.15%]\n"
          ]
        },
        {
          "metadata": {
            "tags": null
          },
          "name": "stderr",
          "output_type": "stream",
          "text": [
            "Epoch 1 Testing:  78%|███████▊  | 250/322 [00:19<00:05, 12.92it/s]"
          ]
        },
        {
          "metadata": {
            "tags": null
          },
          "name": "stdout",
          "output_type": "stream",
          "text": [
            "[Batch 247 / 322]  [Loss: 0.4759, Acc: 79.13%]\n",
            "[Batch 248 / 322]  [Loss: 0.4751, Acc: 79.22%]\n",
            "[Batch 249 / 322]  [Loss: 0.4744, Acc: 79.30%]\n",
            "[Batch 250 / 322]  [Loss: 0.4736, Acc: 79.38%]\n"
          ]
        },
        {
          "metadata": {
            "tags": null
          },
          "name": "stderr",
          "output_type": "stream",
          "text": [
            "Epoch 1 Testing:  79%|███████▉  | 254/322 [00:19<00:05, 12.01it/s]"
          ]
        },
        {
          "metadata": {
            "tags": null
          },
          "name": "stdout",
          "output_type": "stream",
          "text": [
            "[Batch 251 / 322]  [Loss: 0.4737, Acc: 79.37%]\n",
            "[Batch 252 / 322]  [Loss: 0.4734, Acc: 79.35%]\n",
            "[Batch 253 / 322]  [Loss: 0.4768, Acc: 79.13%]\n"
          ]
        },
        {
          "metadata": {
            "tags": null
          },
          "name": "stderr",
          "output_type": "stream",
          "text": [
            "\rEpoch 1 Testing:  80%|███████▉  | 256/322 [00:20<00:05, 11.60it/s]"
          ]
        },
        {
          "metadata": {
            "tags": null
          },
          "name": "stdout",
          "output_type": "stream",
          "text": [
            "[Batch 254 / 322]  [Loss: 0.4759, Acc: 79.12%]\n",
            "[Batch 255 / 322]  [Loss: 0.4765, Acc: 79.00%]\n",
            "[Batch 256 / 322]  [Loss: 0.4779, Acc: 78.79%]\n"
          ]
        },
        {
          "metadata": {
            "tags": null
          },
          "name": "stderr",
          "output_type": "stream",
          "text": [
            "\rEpoch 1 Testing:  80%|████████  | 258/322 [00:20<00:06, 10.40it/s]"
          ]
        },
        {
          "metadata": {
            "tags": null
          },
          "name": "stdout",
          "output_type": "stream",
          "text": [
            "[Batch 257 / 322]  [Loss: 0.4772, Acc: 78.78%]\n",
            "[Batch 258 / 322]  [Loss: 0.4768, Acc: 78.86%]\n"
          ]
        },
        {
          "metadata": {
            "tags": null
          },
          "name": "stderr",
          "output_type": "stream",
          "text": [
            "\rEpoch 1 Testing:  81%|████████  | 260/322 [00:20<00:06, 10.02it/s]"
          ]
        },
        {
          "metadata": {
            "tags": null
          },
          "name": "stdout",
          "output_type": "stream",
          "text": [
            "[Batch 259 / 322]  [Loss: 0.4760, Acc: 78.94%]\n",
            "[Batch 260 / 322]  [Loss: 0.4755, Acc: 79.02%]\n"
          ]
        },
        {
          "metadata": {
            "tags": null
          },
          "name": "stderr",
          "output_type": "stream",
          "text": [
            "\rEpoch 1 Testing:  81%|████████▏ | 262/322 [00:20<00:06,  9.87it/s]"
          ]
        },
        {
          "metadata": {
            "tags": null
          },
          "name": "stdout",
          "output_type": "stream",
          "text": [
            "[Batch 261 / 322]  [Loss: 0.4748, Acc: 79.10%]\n",
            "[Batch 262 / 322]  [Loss: 0.4750, Acc: 79.09%]\n"
          ]
        },
        {
          "metadata": {
            "tags": null
          },
          "name": "stderr",
          "output_type": "stream",
          "text": [
            "\rEpoch 1 Testing:  82%|████████▏ | 264/322 [00:20<00:06,  9.60it/s]"
          ]
        },
        {
          "metadata": {
            "tags": null
          },
          "name": "stdout",
          "output_type": "stream",
          "text": [
            "[Batch 263 / 322]  [Loss: 0.4743, Acc: 79.17%]\n",
            "[Batch 264 / 322]  [Loss: 0.4745, Acc: 79.25%]\n"
          ]
        },
        {
          "metadata": {
            "tags": null
          },
          "name": "stderr",
          "output_type": "stream",
          "text": [
            "\rEpoch 1 Testing:  83%|████████▎ | 266/322 [00:21<00:06,  9.20it/s]"
          ]
        },
        {
          "metadata": {
            "tags": null
          },
          "name": "stdout",
          "output_type": "stream",
          "text": [
            "[Batch 265 / 322]  [Loss: 0.4741, Acc: 79.32%]\n",
            "[Batch 266 / 322]  [Loss: 0.4743, Acc: 79.21%]\n"
          ]
        },
        {
          "metadata": {
            "tags": null
          },
          "name": "stderr",
          "output_type": "stream",
          "text": [
            "Epoch 1 Testing:  84%|████████▍ | 270/322 [00:21<00:05,  9.44it/s]"
          ]
        },
        {
          "metadata": {
            "tags": null
          },
          "name": "stdout",
          "output_type": "stream",
          "text": [
            "[Batch 267 / 322]  [Loss: 0.4742, Acc: 79.29%]\n",
            "[Batch 268 / 322]  [Loss: 0.4749, Acc: 79.28%]\n",
            "[Batch 269 / 322]  [Loss: 0.4741, Acc: 79.35%]\n"
          ]
        },
        {
          "metadata": {
            "tags": null
          },
          "name": "stderr",
          "output_type": "stream",
          "text": [
            "\rEpoch 1 Testing:  84%|████████▍ | 272/322 [00:21<00:05,  8.90it/s]"
          ]
        },
        {
          "metadata": {
            "tags": null
          },
          "name": "stdout",
          "output_type": "stream",
          "text": [
            "[Batch 270 / 322]  [Loss: 0.4747, Acc: 79.34%]\n",
            "[Batch 271 / 322]  [Loss: 0.4738, Acc: 79.41%]\n"
          ]
        },
        {
          "metadata": {
            "tags": null
          },
          "name": "stderr",
          "output_type": "stream",
          "text": [
            "\rEpoch 1 Testing:  85%|████████▌ | 274/322 [00:22<00:05,  9.32it/s]"
          ]
        },
        {
          "metadata": {
            "tags": null
          },
          "name": "stdout",
          "output_type": "stream",
          "text": [
            "[Batch 272 / 322]  [Loss: 0.4733, Acc: 79.49%]\n",
            "[Batch 273 / 322]  [Loss: 0.4740, Acc: 79.29%]\n",
            "[Batch 274 / 322]  [Loss: 0.4732, Acc: 79.36%]\n"
          ]
        },
        {
          "metadata": {
            "tags": null
          },
          "name": "stderr",
          "output_type": "stream",
          "text": [
            "Epoch 1 Testing:  86%|████████▋ | 278/322 [00:22<00:04, 10.10it/s]"
          ]
        },
        {
          "metadata": {
            "tags": null
          },
          "name": "stdout",
          "output_type": "stream",
          "text": [
            "[Batch 275 / 322]  [Loss: 0.4727, Acc: 79.35%]\n",
            "[Batch 276 / 322]  [Loss: 0.4733, Acc: 79.33%]\n",
            "[Batch 277 / 322]  [Loss: 0.4729, Acc: 79.41%]\n"
          ]
        },
        {
          "metadata": {
            "tags": null
          },
          "name": "stderr",
          "output_type": "stream",
          "text": [
            "\rEpoch 1 Testing:  87%|████████▋ | 280/322 [00:22<00:04, 10.07it/s]"
          ]
        },
        {
          "metadata": {
            "tags": null
          },
          "name": "stdout",
          "output_type": "stream",
          "text": [
            "[Batch 278 / 322]  [Loss: 0.4741, Acc: 79.30%]\n",
            "[Batch 279 / 322]  [Loss: 0.4736, Acc: 79.38%]\n",
            "[Batch 280 / 322]  [Loss: 0.4729, Acc: 79.45%]\n"
          ]
        },
        {
          "metadata": {
            "tags": null
          },
          "name": "stderr",
          "output_type": "stream",
          "text": [
            "\rEpoch 1 Testing:  88%|████████▊ | 282/322 [00:22<00:03, 10.09it/s]"
          ]
        },
        {
          "metadata": {
            "tags": null
          },
          "name": "stdout",
          "output_type": "stream",
          "text": [
            "[Batch 281 / 322]  [Loss: 0.4724, Acc: 79.43%]\n",
            "[Batch 282 / 322]  [Loss: 0.4726, Acc: 79.33%]\n"
          ]
        },
        {
          "metadata": {
            "tags": null
          },
          "name": "stderr",
          "output_type": "stream",
          "text": [
            "\rEpoch 1 Testing:  88%|████████▊ | 284/322 [00:23<00:03,  9.76it/s]"
          ]
        },
        {
          "metadata": {
            "tags": null
          },
          "name": "stdout",
          "output_type": "stream",
          "text": [
            "[Batch 283 / 322]  [Loss: 0.4728, Acc: 79.23%]\n",
            "[Batch 284 / 322]  [Loss: 0.4726, Acc: 79.30%]\n"
          ]
        },
        {
          "metadata": {
            "tags": null
          },
          "name": "stderr",
          "output_type": "stream",
          "text": [
            "\rEpoch 1 Testing:  89%|████████▉ | 286/322 [00:23<00:03,  9.30it/s]"
          ]
        },
        {
          "metadata": {
            "tags": null
          },
          "name": "stdout",
          "output_type": "stream",
          "text": [
            "[Batch 285 / 322]  [Loss: 0.4733, Acc: 79.28%]\n",
            "[Batch 286 / 322]  [Loss: 0.4734, Acc: 79.27%]\n",
            "[Batch 287 / 322]  [Loss: 0.4732, Acc: 79.25%]\n"
          ]
        },
        {
          "metadata": {
            "tags": null
          },
          "name": "stderr",
          "output_type": "stream",
          "text": [
            "Epoch 1 Testing:  90%|█████████ | 290/322 [00:23<00:03,  9.61it/s]"
          ]
        },
        {
          "metadata": {
            "tags": null
          },
          "name": "stdout",
          "output_type": "stream",
          "text": [
            "[Batch 288 / 322]  [Loss: 0.4730, Acc: 79.24%]\n",
            "[Batch 289 / 322]  [Loss: 0.4721, Acc: 79.31%]\n",
            "[Batch 290 / 322]  [Loss: 0.4740, Acc: 79.12%]\n"
          ]
        },
        {
          "metadata": {
            "tags": null
          },
          "name": "stderr",
          "output_type": "stream",
          "text": [
            "\rEpoch 1 Testing:  91%|█████████ | 292/322 [00:23<00:03,  9.94it/s]"
          ]
        },
        {
          "metadata": {
            "tags": null
          },
          "name": "stdout",
          "output_type": "stream",
          "text": [
            "[Batch 291 / 322]  [Loss: 0.4740, Acc: 79.11%]\n",
            "[Batch 292 / 322]  [Loss: 0.4748, Acc: 79.01%]\n"
          ]
        },
        {
          "metadata": {
            "tags": null
          },
          "name": "stderr",
          "output_type": "stream",
          "text": [
            "Epoch 1 Testing:  92%|█████████▏| 296/322 [00:24<00:02, 11.07it/s]"
          ]
        },
        {
          "metadata": {
            "tags": null
          },
          "name": "stdout",
          "output_type": "stream",
          "text": [
            "[Batch 293 / 322]  [Loss: 0.4742, Acc: 79.08%]\n",
            "[Batch 294 / 322]  [Loss: 0.4741, Acc: 79.07%]\n",
            "[Batch 295 / 322]  [Loss: 0.4740, Acc: 79.05%]\n"
          ]
        },
        {
          "metadata": {
            "tags": null
          },
          "name": "stderr",
          "output_type": "stream",
          "text": [
            "\rEpoch 1 Testing:  93%|█████████▎| 298/322 [00:24<00:02, 11.21it/s]"
          ]
        },
        {
          "metadata": {
            "tags": null
          },
          "name": "stdout",
          "output_type": "stream",
          "text": [
            "[Batch 296 / 322]  [Loss: 0.4733, Acc: 79.12%]\n",
            "[Batch 297 / 322]  [Loss: 0.4732, Acc: 79.11%]\n",
            "[Batch 298 / 322]  [Loss: 0.4723, Acc: 79.18%]"
          ]
        },
        {
          "metadata": {
            "tags": null
          },
          "name": "stderr",
          "output_type": "stream",
          "text": [
            "\rEpoch 1 Testing:  93%|█████████▎| 300/322 [00:24<00:02, 10.84it/s]"
          ]
        },
        {
          "metadata": {
            "tags": null
          },
          "name": "stdout",
          "output_type": "stream",
          "text": [
            "\n",
            "[Batch 299 / 322]  [Loss: 0.4720, Acc: 79.25%]\n",
            "[Batch 300 / 322]  [Loss: 0.4723, Acc: 79.15%]\n"
          ]
        },
        {
          "metadata": {
            "tags": null
          },
          "name": "stderr",
          "output_type": "stream",
          "text": [
            "\rEpoch 1 Testing:  94%|█████████▍| 302/322 [00:24<00:02,  9.84it/s]"
          ]
        },
        {
          "metadata": {
            "tags": null
          },
          "name": "stdout",
          "output_type": "stream",
          "text": [
            "[Batch 301 / 322]  [Loss: 0.4715, Acc: 79.22%]\n",
            "[Batch 302 / 322]  [Loss: 0.4708, Acc: 79.29%]\n"
          ]
        },
        {
          "metadata": {
            "tags": null
          },
          "name": "stderr",
          "output_type": "stream",
          "text": [
            "\rEpoch 1 Testing:  94%|█████████▍| 304/322 [00:25<00:01,  9.48it/s]"
          ]
        },
        {
          "metadata": {
            "tags": null
          },
          "name": "stdout",
          "output_type": "stream",
          "text": [
            "[Batch 303 / 322]  [Loss: 0.4711, Acc: 79.28%]\n",
            "[Batch 304 / 322]  [Loss: 0.4718, Acc: 79.26%]\n"
          ]
        },
        {
          "metadata": {
            "tags": null
          },
          "name": "stderr",
          "output_type": "stream",
          "text": [
            "\rEpoch 1 Testing:  95%|█████████▌| 306/322 [00:25<00:01,  9.36it/s]"
          ]
        },
        {
          "metadata": {
            "tags": null
          },
          "name": "stdout",
          "output_type": "stream",
          "text": [
            "[Batch 305 / 322]  [Loss: 0.4712, Acc: 79.33%]\n",
            "[Batch 306 / 322]  [Loss: 0.4717, Acc: 79.32%]\n"
          ]
        },
        {
          "metadata": {
            "tags": null
          },
          "name": "stderr",
          "output_type": "stream",
          "text": [
            "\rEpoch 1 Testing:  96%|█████████▌| 308/322 [00:25<00:01,  9.52it/s]"
          ]
        },
        {
          "metadata": {
            "tags": null
          },
          "name": "stdout",
          "output_type": "stream",
          "text": [
            "[Batch 307 / 322]  [Loss: 0.4722, Acc: 79.30%]\n",
            "[Batch 308 / 322]  [Loss: 0.4719, Acc: 79.37%]\n"
          ]
        },
        {
          "metadata": {
            "tags": null
          },
          "name": "stderr",
          "output_type": "stream",
          "text": [
            "\rEpoch 1 Testing:  96%|█████████▋| 310/322 [00:25<00:01,  9.12it/s]"
          ]
        },
        {
          "metadata": {
            "tags": null
          },
          "name": "stdout",
          "output_type": "stream",
          "text": [
            "[Batch 309 / 322]  [Loss: 0.4722, Acc: 79.35%]\n",
            "[Batch 310 / 322]  [Loss: 0.4713, Acc: 79.42%]\n"
          ]
        },
        {
          "metadata": {
            "tags": null
          },
          "name": "stderr",
          "output_type": "stream",
          "text": [
            "Epoch 1 Testing:  98%|█████████▊| 314/322 [00:26<00:00,  9.59it/s]"
          ]
        },
        {
          "metadata": {
            "tags": null
          },
          "name": "stdout",
          "output_type": "stream",
          "text": [
            "[Batch 311 / 322]  [Loss: 0.4716, Acc: 79.41%]\n",
            "[Batch 312 / 322]  [Loss: 0.4714, Acc: 79.39%]\n",
            "[Batch 313 / 322]  [Loss: 0.4723, Acc: 79.30%]\n"
          ]
        },
        {
          "metadata": {
            "tags": null
          },
          "name": "stderr",
          "output_type": "stream",
          "text": [
            "\rEpoch 1 Testing:  98%|█████████▊| 316/322 [00:26<00:00, 10.03it/s]"
          ]
        },
        {
          "metadata": {
            "tags": null
          },
          "name": "stdout",
          "output_type": "stream",
          "text": [
            "[Batch 314 / 322]  [Loss: 0.4719, Acc: 79.37%]\n",
            "[Batch 315 / 322]  [Loss: 0.4718, Acc: 79.35%]\n",
            "[Batch 316 / 322]  [Loss: 0.4717, Acc: 79.34%]\n"
          ]
        },
        {
          "metadata": {
            "tags": null
          },
          "name": "stderr",
          "output_type": "stream",
          "text": [
            "Epoch 1 Testing:  99%|█████████▉| 320/322 [00:26<00:00, 10.52it/s]"
          ]
        },
        {
          "metadata": {
            "tags": null
          },
          "name": "stdout",
          "output_type": "stream",
          "text": [
            "[Batch 317 / 322]  [Loss: 0.4710, Acc: 79.40%]\n",
            "[Batch 318 / 322]  [Loss: 0.4705, Acc: 79.47%]\n",
            "[Batch 319 / 322]  [Loss: 0.4705, Acc: 79.45%]\n"
          ]
        },
        {
          "metadata": {
            "tags": null
          },
          "name": "stderr",
          "output_type": "stream",
          "text": [
            "\rEpoch 1 Testing: 100%|██████████| 322/322 [00:26<00:00, 12.00it/s]\n"
          ]
        },
        {
          "metadata": {
            "tags": null
          },
          "name": "stdout",
          "output_type": "stream",
          "text": [
            "[Batch 320 / 322]  [Loss: 0.4716, Acc: 79.36%]\n",
            "[Batch 321 / 322]  [Loss: 0.4717, Acc: 79.39%]\n",
            "\n",
            "Accuracy 79.39346811819595\n"
          ]
        },
        {
          "metadata": {
            "tags": null
          },
          "name": "stderr",
          "output_type": "stream",
          "text": [
            "Epoch 2/5: 100%|██████████| 1286/1286 [04:21<00:00,  4.93it/s]\n"
          ]
        },
        {
          "metadata": {
            "tags": null
          },
          "name": "stdout",
          "output_type": "stream",
          "text": [
            "\n",
            "[Epoch 2/5] [Loss: 0.5190, Acc: 7805.87%]\n",
            "Testing\n"
          ]
        },
        {
          "metadata": {
            "tags": null
          },
          "name": "stderr",
          "output_type": "stream",
          "text": [
            "Epoch 2 Testing:   1%|          | 3/322 [00:00<00:39,  8.05it/s]"
          ]
        },
        {
          "metadata": {
            "tags": null
          },
          "name": "stdout",
          "output_type": "stream",
          "text": [
            "[Batch 0 / 322]  [Loss: 0.4487, Acc: 75.00%]\n",
            "[Batch 1 / 322]  [Loss: 0.6718, Acc: 75.00%]\n",
            "[Batch 2 / 322]  [Loss: 0.5184, Acc: 83.33%]\n",
            "[Batch 3 / 322]  [Loss: 0.5384, Acc: 81.25%]\n"
          ]
        },
        {
          "metadata": {
            "tags": null
          },
          "name": "stderr",
          "output_type": "stream",
          "text": [
            "Epoch 2 Testing:   2%|▏         | 7/322 [00:00<00:24, 12.63it/s]"
          ]
        },
        {
          "metadata": {
            "tags": null
          },
          "name": "stdout",
          "output_type": "stream",
          "text": [
            "[Batch 4 / 322]  [Loss: 0.5119, Acc: 85.00%]\n",
            "[Batch 5 / 322]  [Loss: 0.4579, Acc: 87.50%]\n",
            "[Batch 6 / 322]  [Loss: 0.4104, Acc: 89.29%]\n"
          ]
        },
        {
          "metadata": {
            "tags": null
          },
          "name": "stderr",
          "output_type": "stream",
          "text": [
            "\rEpoch 2 Testing:   3%|▎         | 9/322 [00:00<00:25, 12.48it/s]"
          ]
        },
        {
          "metadata": {
            "tags": null
          },
          "name": "stdout",
          "output_type": "stream",
          "text": [
            "[Batch 7 / 322]  [Loss: 0.4213, Acc: 87.50%]\n",
            "[Batch 8 / 322]  [Loss: 0.4694, Acc: 83.33%]\n",
            "[Batch 9 / 322]  [Loss: 0.4430, Acc: 85.00%]\n"
          ]
        },
        {
          "metadata": {
            "tags": null
          },
          "name": "stderr",
          "output_type": "stream",
          "text": [
            "Epoch 2 Testing:   4%|▍         | 13/322 [00:01<00:24, 12.39it/s]"
          ]
        },
        {
          "metadata": {
            "tags": null
          },
          "name": "stdout",
          "output_type": "stream",
          "text": [
            "[Batch 10 / 322]  [Loss: 0.4417, Acc: 84.09%]\n",
            "[Batch 11 / 322]  [Loss: 0.4214, Acc: 85.42%]\n",
            "[Batch 12 / 322]  [Loss: 0.4110, Acc: 86.54%]\n"
          ]
        },
        {
          "metadata": {
            "tags": null
          },
          "name": "stderr",
          "output_type": "stream",
          "text": [
            "\rEpoch 2 Testing:   5%|▍         | 15/322 [00:01<00:23, 13.13it/s]"
          ]
        },
        {
          "metadata": {
            "tags": null
          },
          "name": "stdout",
          "output_type": "stream",
          "text": [
            "[Batch 13 / 322]  [Loss: 0.3955, Acc: 87.50%]\n",
            "[Batch 14 / 322]  [Loss: 0.3915, Acc: 88.33%]\n",
            "[Batch 15 / 322]  [Loss: 0.3818, Acc: 89.06%]\n"
          ]
        },
        {
          "metadata": {
            "tags": null
          },
          "name": "stderr",
          "output_type": "stream",
          "text": [
            "Epoch 2 Testing:   6%|▌         | 19/322 [00:01<00:22, 13.39it/s]"
          ]
        },
        {
          "metadata": {
            "tags": null
          },
          "name": "stdout",
          "output_type": "stream",
          "text": [
            "[Batch 16 / 322]  [Loss: 0.3713, Acc: 89.71%]\n",
            "[Batch 17 / 322]  [Loss: 0.3829, Acc: 88.89%]\n",
            "[Batch 18 / 322]  [Loss: 0.3773, Acc: 89.47%]\n",
            "[Batch 19 / 322]  [Loss: 0.3686, Acc: 90.00%]\n"
          ]
        },
        {
          "metadata": {
            "tags": null
          },
          "name": "stderr",
          "output_type": "stream",
          "text": [
            "Epoch 2 Testing:   7%|▋         | 23/322 [00:01<00:19, 15.32it/s]"
          ]
        },
        {
          "metadata": {
            "tags": null
          },
          "name": "stdout",
          "output_type": "stream",
          "text": [
            "[Batch 20 / 322]  [Loss: 0.3651, Acc: 89.29%]\n",
            "[Batch 21 / 322]  [Loss: 0.3707, Acc: 88.64%]\n",
            "[Batch 22 / 322]  [Loss: 0.3694, Acc: 88.04%]\n",
            "[Batch 23 / 322]  [Loss: 0.3686, Acc: 87.50%]\n"
          ]
        },
        {
          "metadata": {
            "tags": null
          },
          "name": "stderr",
          "output_type": "stream",
          "text": [
            "Epoch 2 Testing:   8%|▊         | 27/322 [00:02<00:19, 15.00it/s]"
          ]
        },
        {
          "metadata": {
            "tags": null
          },
          "name": "stdout",
          "output_type": "stream",
          "text": [
            "[Batch 24 / 322]  [Loss: 0.3763, Acc: 86.00%]\n",
            "[Batch 25 / 322]  [Loss: 0.3776, Acc: 85.58%]\n",
            "[Batch 26 / 322]  [Loss: 0.3795, Acc: 85.19%]\n"
          ]
        },
        {
          "metadata": {
            "tags": null
          },
          "name": "stderr",
          "output_type": "stream",
          "text": [
            "Epoch 2 Testing:  10%|▉         | 31/322 [00:02<00:20, 14.50it/s]"
          ]
        },
        {
          "metadata": {
            "tags": null
          },
          "name": "stdout",
          "output_type": "stream",
          "text": [
            "[Batch 27 / 322]  [Loss: 0.3855, Acc: 84.82%]\n",
            "[Batch 28 / 322]  [Loss: 0.3816, Acc: 85.34%]\n",
            "[Batch 29 / 322]  [Loss: 0.3744, Acc: 85.83%]\n",
            "[Batch 30 / 322]  [Loss: 0.3791, Acc: 84.68%]\n"
          ]
        },
        {
          "metadata": {
            "tags": null
          },
          "name": "stderr",
          "output_type": "stream",
          "text": [
            "Epoch 2 Testing:  11%|█         | 35/322 [00:02<00:19, 14.55it/s]"
          ]
        },
        {
          "metadata": {
            "tags": null
          },
          "name": "stdout",
          "output_type": "stream",
          "text": [
            "[Batch 31 / 322]  [Loss: 0.3725, Acc: 85.16%]\n",
            "[Batch 32 / 322]  [Loss: 0.3665, Acc: 85.61%]\n",
            "[Batch 33 / 322]  [Loss: 0.3616, Acc: 86.03%]\n",
            "[Batch 34 / 322]  [Loss: 0.3731, Acc: 84.29%]\n"
          ]
        },
        {
          "metadata": {
            "tags": null
          },
          "name": "stderr",
          "output_type": "stream",
          "text": [
            "Epoch 2 Testing:  12%|█▏        | 39/322 [00:02<00:18, 15.42it/s]"
          ]
        },
        {
          "metadata": {
            "tags": null
          },
          "name": "stdout",
          "output_type": "stream",
          "text": [
            "[Batch 35 / 322]  [Loss: 0.3742, Acc: 84.72%]\n",
            "[Batch 36 / 322]  [Loss: 0.3689, Acc: 85.14%]\n",
            "[Batch 37 / 322]  [Loss: 0.3651, Acc: 85.53%]\n",
            "[Batch 38 / 322]  [Loss: 0.3597, Acc: 85.90%]\n"
          ]
        },
        {
          "metadata": {
            "tags": null
          },
          "name": "stderr",
          "output_type": "stream",
          "text": [
            "\rEpoch 2 Testing:  13%|█▎        | 41/322 [00:03<00:18, 14.83it/s]"
          ]
        },
        {
          "metadata": {
            "tags": null
          },
          "name": "stdout",
          "output_type": "stream",
          "text": [
            "[Batch 39 / 322]  [Loss: 0.3558, Acc: 86.25%]\n",
            "[Batch 40 / 322]  [Loss: 0.3552, Acc: 85.98%]\n",
            "[Batch 41 / 322]  [Loss: 0.3616, Acc: 85.71%]\n"
          ]
        },
        {
          "metadata": {
            "tags": null
          },
          "name": "stderr",
          "output_type": "stream",
          "text": [
            "Epoch 2 Testing:  14%|█▍        | 45/322 [00:03<00:18, 14.64it/s]"
          ]
        },
        {
          "metadata": {
            "tags": null
          },
          "name": "stdout",
          "output_type": "stream",
          "text": [
            "[Batch 42 / 322]  [Loss: 0.3632, Acc: 85.47%]\n",
            "[Batch 43 / 322]  [Loss: 0.3623, Acc: 85.80%]\n",
            "[Batch 44 / 322]  [Loss: 0.3619, Acc: 86.11%]\n",
            "[Batch 45 / 322]  [Loss: 0.3654, Acc: 85.87%]\n"
          ]
        },
        {
          "metadata": {
            "tags": null
          },
          "name": "stderr",
          "output_type": "stream",
          "text": [
            "Epoch 2 Testing:  15%|█▌        | 49/322 [00:03<00:17, 15.64it/s]"
          ]
        },
        {
          "metadata": {
            "tags": null
          },
          "name": "stdout",
          "output_type": "stream",
          "text": [
            "[Batch 46 / 322]  [Loss: 0.3618, Acc: 86.17%]\n",
            "[Batch 47 / 322]  [Loss: 0.3599, Acc: 86.46%]\n",
            "[Batch 48 / 322]  [Loss: 0.3587, Acc: 86.73%]\n"
          ]
        },
        {
          "metadata": {
            "tags": null
          },
          "name": "stderr",
          "output_type": "stream",
          "text": [
            "Epoch 2 Testing:  16%|█▋        | 53/322 [00:03<00:17, 15.01it/s]"
          ]
        },
        {
          "metadata": {
            "tags": null
          },
          "name": "stdout",
          "output_type": "stream",
          "text": [
            "[Batch 49 / 322]  [Loss: 0.3659, Acc: 86.00%]\n",
            "[Batch 50 / 322]  [Loss: 0.3673, Acc: 85.78%]\n",
            "[Batch 51 / 322]  [Loss: 0.3677, Acc: 86.06%]\n",
            "[Batch 52 / 322]  [Loss: 0.3730, Acc: 85.38%]\n"
          ]
        },
        {
          "metadata": {
            "tags": null
          },
          "name": "stderr",
          "output_type": "stream",
          "text": [
            "\rEpoch 2 Testing:  17%|█▋        | 55/322 [00:04<00:18, 14.16it/s]"
          ]
        },
        {
          "metadata": {
            "tags": null
          },
          "name": "stdout",
          "output_type": "stream",
          "text": [
            "[Batch 53 / 322]  [Loss: 0.3737, Acc: 85.19%]\n",
            "[Batch 54 / 322]  [Loss: 0.3767, Acc: 85.00%]\n",
            "[Batch 55 / 322]  [Loss: 0.3757, Acc: 84.82%]\n"
          ]
        },
        {
          "metadata": {
            "tags": null
          },
          "name": "stderr",
          "output_type": "stream",
          "text": [
            "Epoch 2 Testing:  18%|█▊        | 59/322 [00:04<00:16, 15.51it/s]"
          ]
        },
        {
          "metadata": {
            "tags": null
          },
          "name": "stdout",
          "output_type": "stream",
          "text": [
            "[Batch 56 / 322]  [Loss: 0.3730, Acc: 85.09%]\n",
            "[Batch 57 / 322]  [Loss: 0.3778, Acc: 84.91%]\n",
            "[Batch 58 / 322]  [Loss: 0.3755, Acc: 85.17%]\n"
          ]
        },
        {
          "metadata": {
            "tags": null
          },
          "name": "stderr",
          "output_type": "stream",
          "text": [
            "Epoch 2 Testing:  20%|█▉        | 63/322 [00:04<00:17, 14.87it/s]"
          ]
        },
        {
          "metadata": {
            "tags": null
          },
          "name": "stdout",
          "output_type": "stream",
          "text": [
            "[Batch 59 / 322]  [Loss: 0.3816, Acc: 84.58%]\n",
            "[Batch 60 / 322]  [Loss: 0.3780, Acc: 84.84%]\n",
            "[Batch 61 / 322]  [Loss: 0.3839, Acc: 84.68%]\n",
            "[Batch 62 / 322]  [Loss: 0.3817, Acc: 84.92%]\n"
          ]
        },
        {
          "metadata": {
            "tags": null
          },
          "name": "stderr",
          "output_type": "stream",
          "text": [
            "\rEpoch 2 Testing:  20%|██        | 65/322 [00:04<00:17, 14.72it/s]"
          ]
        },
        {
          "metadata": {
            "tags": null
          },
          "name": "stdout",
          "output_type": "stream",
          "text": [
            "[Batch 63 / 322]  [Loss: 0.3791, Acc: 85.16%]\n",
            "[Batch 64 / 322]  [Loss: 0.3808, Acc: 85.00%]\n",
            "[Batch 65 / 322]  [Loss: 0.3768, Acc: 85.23%]\n"
          ]
        },
        {
          "metadata": {
            "tags": null
          },
          "name": "stderr",
          "output_type": "stream",
          "text": [
            "Epoch 2 Testing:  21%|██▏       | 69/322 [00:04<00:17, 14.76it/s]"
          ]
        },
        {
          "metadata": {
            "tags": null
          },
          "name": "stdout",
          "output_type": "stream",
          "text": [
            "[Batch 66 / 322]  [Loss: 0.3746, Acc: 85.45%]\n",
            "[Batch 67 / 322]  [Loss: 0.3737, Acc: 85.66%]\n",
            "[Batch 68 / 322]  [Loss: 0.3812, Acc: 85.14%]\n",
            "[Batch 69 / 322]  [Loss: 0.3849, Acc: 85.00%]\n"
          ]
        },
        {
          "metadata": {
            "tags": null
          },
          "name": "stderr",
          "output_type": "stream",
          "text": [
            "Epoch 2 Testing:  23%|██▎       | 73/322 [00:05<00:17, 14.25it/s]"
          ]
        },
        {
          "metadata": {
            "tags": null
          },
          "name": "stdout",
          "output_type": "stream",
          "text": [
            "[Batch 70 / 322]  [Loss: 0.3924, Acc: 84.51%]\n",
            "[Batch 71 / 322]  [Loss: 0.3911, Acc: 84.72%]\n",
            "[Batch 72 / 322]  [Loss: 0.3886, Acc: 84.93%]\n"
          ]
        },
        {
          "metadata": {
            "tags": null
          },
          "name": "stderr",
          "output_type": "stream",
          "text": [
            "\rEpoch 2 Testing:  23%|██▎       | 75/322 [00:05<00:18, 13.43it/s]"
          ]
        },
        {
          "metadata": {
            "tags": null
          },
          "name": "stdout",
          "output_type": "stream",
          "text": [
            "[Batch 73 / 322]  [Loss: 0.3885, Acc: 84.80%]\n",
            "[Batch 74 / 322]  [Loss: 0.3887, Acc: 85.00%]\n",
            "[Batch 75 / 322]  [Loss: 0.3880, Acc: 85.20%]\n"
          ]
        },
        {
          "metadata": {
            "tags": null
          },
          "name": "stderr",
          "output_type": "stream",
          "text": [
            "Epoch 2 Testing:  25%|██▍       | 79/322 [00:05<00:17, 13.70it/s]"
          ]
        },
        {
          "metadata": {
            "tags": null
          },
          "name": "stdout",
          "output_type": "stream",
          "text": [
            "[Batch 76 / 322]  [Loss: 0.3879, Acc: 85.06%]\n",
            "[Batch 77 / 322]  [Loss: 0.3848, Acc: 85.26%]\n",
            "[Batch 78 / 322]  [Loss: 0.3846, Acc: 85.13%]\n"
          ]
        },
        {
          "metadata": {
            "tags": null
          },
          "name": "stderr",
          "output_type": "stream",
          "text": [
            "\rEpoch 2 Testing:  25%|██▌       | 81/322 [00:05<00:18, 13.24it/s]"
          ]
        },
        {
          "metadata": {
            "tags": null
          },
          "name": "stdout",
          "output_type": "stream",
          "text": [
            "[Batch 79 / 322]  [Loss: 0.3833, Acc: 85.31%]\n",
            "[Batch 80 / 322]  [Loss: 0.3806, Acc: 85.49%]\n",
            "[Batch 81 / 322]  [Loss: 0.3780, Acc: 85.67%]\n"
          ]
        },
        {
          "metadata": {
            "tags": null
          },
          "name": "stderr",
          "output_type": "stream",
          "text": [
            "Epoch 2 Testing:  26%|██▋       | 85/322 [00:06<00:16, 13.95it/s]"
          ]
        },
        {
          "metadata": {
            "tags": null
          },
          "name": "stdout",
          "output_type": "stream",
          "text": [
            "[Batch 82 / 322]  [Loss: 0.3759, Acc: 85.84%]\n",
            "[Batch 83 / 322]  [Loss: 0.3752, Acc: 86.01%]\n",
            "[Batch 84 / 322]  [Loss: 0.3763, Acc: 85.88%]\n",
            "[Batch 85 / 322]  [Loss: 0.3746, Acc: 86.05%]\n"
          ]
        },
        {
          "metadata": {
            "tags": null
          },
          "name": "stderr",
          "output_type": "stream",
          "text": [
            "Epoch 2 Testing:  28%|██▊       | 89/322 [00:06<00:15, 15.35it/s]"
          ]
        },
        {
          "metadata": {
            "tags": null
          },
          "name": "stdout",
          "output_type": "stream",
          "text": [
            "[Batch 86 / 322]  [Loss: 0.3767, Acc: 85.92%]\n",
            "[Batch 87 / 322]  [Loss: 0.3747, Acc: 86.08%]\n",
            "[Batch 88 / 322]  [Loss: 0.3744, Acc: 85.96%]\n",
            "[Batch 89 / 322]  [Loss: 0.3721, Acc: 86.11%]\n"
          ]
        },
        {
          "metadata": {
            "tags": null
          },
          "name": "stderr",
          "output_type": "stream",
          "text": [
            "Epoch 2 Testing:  29%|██▉       | 93/322 [00:06<00:16, 14.08it/s]"
          ]
        },
        {
          "metadata": {
            "tags": null
          },
          "name": "stdout",
          "output_type": "stream",
          "text": [
            "[Batch 90 / 322]  [Loss: 0.3720, Acc: 86.26%]\n",
            "[Batch 91 / 322]  [Loss: 0.3759, Acc: 86.14%]\n",
            "[Batch 92 / 322]  [Loss: 0.3759, Acc: 86.02%]\n"
          ]
        },
        {
          "metadata": {
            "tags": null
          },
          "name": "stderr",
          "output_type": "stream",
          "text": [
            "Epoch 2 Testing:  30%|███       | 97/322 [00:06<00:14, 15.08it/s]"
          ]
        },
        {
          "metadata": {
            "tags": null
          },
          "name": "stdout",
          "output_type": "stream",
          "text": [
            "[Batch 93 / 322]  [Loss: 0.3785, Acc: 85.90%]\n",
            "[Batch 94 / 322]  [Loss: 0.3782, Acc: 86.05%]\n",
            "[Batch 95 / 322]  [Loss: 0.3785, Acc: 85.94%]\n",
            "[Batch 96 / 322]  [Loss: 0.3785, Acc: 85.82%]\n"
          ]
        },
        {
          "metadata": {
            "tags": null
          },
          "name": "stderr",
          "output_type": "stream",
          "text": [
            "\rEpoch 2 Testing:  31%|███       | 99/322 [00:07<00:19, 11.69it/s]"
          ]
        },
        {
          "metadata": {
            "tags": null
          },
          "name": "stdout",
          "output_type": "stream",
          "text": [
            "[Batch 97 / 322]  [Loss: 0.3763, Acc: 85.97%]\n",
            "[Batch 98 / 322]  [Loss: 0.3765, Acc: 85.86%]\n"
          ]
        },
        {
          "metadata": {
            "tags": null
          },
          "name": "stderr",
          "output_type": "stream",
          "text": [
            "\rEpoch 2 Testing:  31%|███▏      | 101/322 [00:07<00:18, 11.76it/s]"
          ]
        },
        {
          "metadata": {
            "tags": null
          },
          "name": "stdout",
          "output_type": "stream",
          "text": [
            "[Batch 99 / 322]  [Loss: 0.3763, Acc: 85.75%]\n",
            "[Batch 100 / 322]  [Loss: 0.3783, Acc: 85.40%]\n",
            "[Batch 101 / 322]  [Loss: 0.3780, Acc: 85.29%]\n"
          ]
        },
        {
          "metadata": {
            "tags": null
          },
          "name": "stderr",
          "output_type": "stream",
          "text": [
            "\rEpoch 2 Testing:  32%|███▏      | 103/322 [00:07<00:22,  9.66it/s]"
          ]
        },
        {
          "metadata": {
            "tags": null
          },
          "name": "stdout",
          "output_type": "stream",
          "text": [
            "[Batch 102 / 322]  [Loss: 0.3795, Acc: 85.19%]\n",
            "[Batch 103 / 322]  [Loss: 0.3782, Acc: 85.34%]\n"
          ]
        },
        {
          "metadata": {
            "tags": null
          },
          "name": "stderr",
          "output_type": "stream",
          "text": [
            "\rEpoch 2 Testing:  33%|███▎      | 105/322 [00:07<00:24,  9.02it/s]"
          ]
        },
        {
          "metadata": {
            "tags": null
          },
          "name": "stdout",
          "output_type": "stream",
          "text": [
            "[Batch 104 / 322]  [Loss: 0.3799, Acc: 85.24%]\n",
            "[Batch 105 / 322]  [Loss: 0.3788, Acc: 85.38%]\n"
          ]
        },
        {
          "metadata": {
            "tags": null
          },
          "name": "stderr",
          "output_type": "stream",
          "text": [
            "\rEpoch 2 Testing:  33%|███▎      | 107/322 [00:08<00:24,  8.73it/s]"
          ]
        },
        {
          "metadata": {
            "tags": null
          },
          "name": "stdout",
          "output_type": "stream",
          "text": [
            "[Batch 106 / 322]  [Loss: 0.3819, Acc: 84.81%]\n",
            "[Batch 107 / 322]  [Loss: 0.3818, Acc: 84.72%]\n"
          ]
        },
        {
          "metadata": {
            "tags": null
          },
          "name": "stderr",
          "output_type": "stream",
          "text": [
            "Epoch 2 Testing:  34%|███▍      | 111/322 [00:08<00:22,  9.52it/s]"
          ]
        },
        {
          "metadata": {
            "tags": null
          },
          "name": "stdout",
          "output_type": "stream",
          "text": [
            "[Batch 108 / 322]  [Loss: 0.3813, Acc: 84.86%]\n",
            "[Batch 109 / 322]  [Loss: 0.3794, Acc: 85.00%]\n",
            "[Batch 110 / 322]  [Loss: 0.3783, Acc: 85.14%]\n"
          ]
        },
        {
          "metadata": {
            "tags": null
          },
          "name": "stderr",
          "output_type": "stream",
          "text": [
            "\rEpoch 2 Testing:  35%|███▌      | 113/322 [00:08<00:21,  9.78it/s]"
          ]
        },
        {
          "metadata": {
            "tags": null
          },
          "name": "stdout",
          "output_type": "stream",
          "text": [
            "[Batch 111 / 322]  [Loss: 0.3800, Acc: 84.82%]\n",
            "[Batch 112 / 322]  [Loss: 0.3789, Acc: 84.96%]\n",
            "[Batch 113 / 322]  [Loss: 0.3784, Acc: 85.09%]\n"
          ]
        },
        {
          "metadata": {
            "tags": null
          },
          "name": "stderr",
          "output_type": "stream",
          "text": [
            "\rEpoch 2 Testing:  36%|███▌      | 115/322 [00:08<00:20,  9.88it/s]"
          ]
        },
        {
          "metadata": {
            "tags": null
          },
          "name": "stdout",
          "output_type": "stream",
          "text": [
            "[Batch 114 / 322]  [Loss: 0.3789, Acc: 85.22%]\n",
            "[Batch 115 / 322]  [Loss: 0.3778, Acc: 85.34%]\n"
          ]
        },
        {
          "metadata": {
            "tags": null
          },
          "name": "stderr",
          "output_type": "stream",
          "text": [
            "Epoch 2 Testing:  37%|███▋      | 119/322 [00:09<00:21,  9.64it/s]"
          ]
        },
        {
          "metadata": {
            "tags": null
          },
          "name": "stdout",
          "output_type": "stream",
          "text": [
            "[Batch 116 / 322]  [Loss: 0.3786, Acc: 85.26%]\n",
            "[Batch 117 / 322]  [Loss: 0.3771, Acc: 85.38%]\n",
            "[Batch 118 / 322]  [Loss: 0.3815, Acc: 85.08%]\n"
          ]
        },
        {
          "metadata": {
            "tags": null
          },
          "name": "stderr",
          "output_type": "stream",
          "text": [
            "\rEpoch 2 Testing:  38%|███▊      | 121/322 [00:09<00:21,  9.43it/s]"
          ]
        },
        {
          "metadata": {
            "tags": null
          },
          "name": "stdout",
          "output_type": "stream",
          "text": [
            "[Batch 119 / 322]  [Loss: 0.3811, Acc: 85.00%]\n",
            "[Batch 120 / 322]  [Loss: 0.3799, Acc: 85.12%]\n"
          ]
        },
        {
          "metadata": {
            "tags": null
          },
          "name": "stderr",
          "output_type": "stream",
          "text": [
            "\rEpoch 2 Testing:  38%|███▊      | 123/322 [00:09<00:21,  9.26it/s]"
          ]
        },
        {
          "metadata": {
            "tags": null
          },
          "name": "stdout",
          "output_type": "stream",
          "text": [
            "[Batch 121 / 322]  [Loss: 0.3787, Acc: 85.25%]\n",
            "[Batch 122 / 322]  [Loss: 0.3769, Acc: 85.37%]\n"
          ]
        },
        {
          "metadata": {
            "tags": null
          },
          "name": "stderr",
          "output_type": "stream",
          "text": [
            "\rEpoch 2 Testing:  39%|███▉      | 125/322 [00:10<00:22,  8.73it/s]"
          ]
        },
        {
          "metadata": {
            "tags": null
          },
          "name": "stdout",
          "output_type": "stream",
          "text": [
            "[Batch 123 / 322]  [Loss: 0.3778, Acc: 85.28%]\n",
            "[Batch 124 / 322]  [Loss: 0.3775, Acc: 85.40%]\n"
          ]
        },
        {
          "metadata": {
            "tags": null
          },
          "name": "stderr",
          "output_type": "stream",
          "text": [
            "\rEpoch 2 Testing:  39%|███▉      | 127/322 [00:10<00:22,  8.59it/s]"
          ]
        },
        {
          "metadata": {
            "tags": null
          },
          "name": "stdout",
          "output_type": "stream",
          "text": [
            "[Batch 125 / 322]  [Loss: 0.3767, Acc: 85.52%]\n",
            "[Batch 126 / 322]  [Loss: 0.3753, Acc: 85.63%]\n"
          ]
        },
        {
          "metadata": {
            "tags": null
          },
          "name": "stderr",
          "output_type": "stream",
          "text": [
            "\rEpoch 2 Testing:  40%|████      | 129/322 [00:10<00:21,  9.04it/s]"
          ]
        },
        {
          "metadata": {
            "tags": null
          },
          "name": "stdout",
          "output_type": "stream",
          "text": [
            "[Batch 127 / 322]  [Loss: 0.3771, Acc: 85.55%]\n",
            "[Batch 128 / 322]  [Loss: 0.3765, Acc: 85.66%]\n",
            "[Batch 129 / 322]  [Loss: 0.3755, Acc: 85.77%]\n"
          ]
        },
        {
          "metadata": {
            "tags": null
          },
          "name": "stderr",
          "output_type": "stream",
          "text": [
            "\rEpoch 2 Testing:  41%|████      | 131/322 [00:10<00:21,  8.69it/s]"
          ]
        },
        {
          "metadata": {
            "tags": null
          },
          "name": "stdout",
          "output_type": "stream",
          "text": [
            "[Batch 130 / 322]  [Loss: 0.3759, Acc: 85.69%]\n",
            "[Batch 131 / 322]  [Loss: 0.3780, Acc: 85.42%]\n"
          ]
        },
        {
          "metadata": {
            "tags": null
          },
          "name": "stderr",
          "output_type": "stream",
          "text": [
            "Epoch 2 Testing:  42%|████▏     | 135/322 [00:11<00:19,  9.41it/s]"
          ]
        },
        {
          "metadata": {
            "tags": null
          },
          "name": "stdout",
          "output_type": "stream",
          "text": [
            "[Batch 132 / 322]  [Loss: 0.3789, Acc: 85.34%]\n",
            "[Batch 133 / 322]  [Loss: 0.3832, Acc: 84.70%]\n",
            "[Batch 134 / 322]  [Loss: 0.3846, Acc: 84.63%]\n"
          ]
        },
        {
          "metadata": {
            "tags": null
          },
          "name": "stderr",
          "output_type": "stream",
          "text": [
            "\rEpoch 2 Testing:  43%|████▎     | 137/322 [00:11<00:19,  9.34it/s]"
          ]
        },
        {
          "metadata": {
            "tags": null
          },
          "name": "stdout",
          "output_type": "stream",
          "text": [
            "[Batch 135 / 322]  [Loss: 0.3857, Acc: 84.56%]\n",
            "[Batch 136 / 322]  [Loss: 0.3851, Acc: 84.67%]\n"
          ]
        },
        {
          "metadata": {
            "tags": null
          },
          "name": "stderr",
          "output_type": "stream",
          "text": [
            "\rEpoch 2 Testing:  43%|████▎     | 139/322 [00:11<00:20,  8.92it/s]"
          ]
        },
        {
          "metadata": {
            "tags": null
          },
          "name": "stdout",
          "output_type": "stream",
          "text": [
            "[Batch 137 / 322]  [Loss: 0.3853, Acc: 84.78%]\n",
            "[Batch 138 / 322]  [Loss: 0.3843, Acc: 84.89%]\n"
          ]
        },
        {
          "metadata": {
            "tags": null
          },
          "name": "stderr",
          "output_type": "stream",
          "text": [
            "\rEpoch 2 Testing:  44%|████▍     | 141/322 [00:11<00:20,  8.97it/s]"
          ]
        },
        {
          "metadata": {
            "tags": null
          },
          "name": "stdout",
          "output_type": "stream",
          "text": [
            "[Batch 139 / 322]  [Loss: 0.3839, Acc: 85.00%]\n",
            "[Batch 140 / 322]  [Loss: 0.3819, Acc: 85.11%]\n"
          ]
        },
        {
          "metadata": {
            "tags": null
          },
          "name": "stderr",
          "output_type": "stream",
          "text": [
            "\rEpoch 2 Testing:  44%|████▍     | 143/322 [00:12<00:18,  9.69it/s]"
          ]
        },
        {
          "metadata": {
            "tags": null
          },
          "name": "stdout",
          "output_type": "stream",
          "text": [
            "[Batch 141 / 322]  [Loss: 0.3809, Acc: 85.21%]\n",
            "[Batch 142 / 322]  [Loss: 0.3814, Acc: 85.14%]\n"
          ]
        },
        {
          "metadata": {
            "tags": null
          },
          "name": "stderr",
          "output_type": "stream",
          "text": [
            "\rEpoch 2 Testing:  45%|████▍     | 144/322 [00:12<00:19,  9.03it/s]"
          ]
        },
        {
          "metadata": {
            "tags": null
          },
          "name": "stdout",
          "output_type": "stream",
          "text": [
            "[Batch 143 / 322]  [Loss: 0.3812, Acc: 85.07%]\n",
            "[Batch 144 / 322]  [Loss: 0.3805, Acc: 85.17%]\n"
          ]
        },
        {
          "metadata": {
            "tags": null
          },
          "name": "stderr",
          "output_type": "stream",
          "text": [
            "Epoch 2 Testing:  46%|████▌     | 147/322 [00:12<00:20,  8.71it/s]"
          ]
        },
        {
          "metadata": {
            "tags": null
          },
          "name": "stdout",
          "output_type": "stream",
          "text": [
            "[Batch 145 / 322]  [Loss: 0.3796, Acc: 85.27%]\n",
            "[Batch 146 / 322]  [Loss: 0.3781, Acc: 85.37%]\n"
          ]
        },
        {
          "metadata": {
            "tags": null
          },
          "name": "stderr",
          "output_type": "stream",
          "text": [
            "\rEpoch 2 Testing:  46%|████▌     | 148/322 [00:12<00:20,  8.64it/s]"
          ]
        },
        {
          "metadata": {
            "tags": null
          },
          "name": "stdout",
          "output_type": "stream",
          "text": [
            "[Batch 147 / 322]  [Loss: 0.3780, Acc: 85.30%]\n",
            "[Batch 148 / 322]  [Loss: 0.3791, Acc: 85.07%]\n"
          ]
        },
        {
          "metadata": {
            "tags": null
          },
          "name": "stderr",
          "output_type": "stream",
          "text": [
            "\rEpoch 2 Testing:  47%|████▋     | 150/322 [00:12<00:20,  8.41it/s]"
          ]
        },
        {
          "metadata": {
            "tags": null
          },
          "name": "stdout",
          "output_type": "stream",
          "text": [
            "[Batch 149 / 322]  [Loss: 0.3811, Acc: 84.83%]\n",
            "[Batch 150 / 322]  [Loss: 0.3823, Acc: 84.77%]\n"
          ]
        },
        {
          "metadata": {
            "tags": null
          },
          "name": "stderr",
          "output_type": "stream",
          "text": [
            "\rEpoch 2 Testing:  47%|████▋     | 152/322 [00:13<00:20,  8.39it/s]"
          ]
        },
        {
          "metadata": {
            "tags": null
          },
          "name": "stdout",
          "output_type": "stream",
          "text": [
            "[Batch 151 / 322]  [Loss: 0.3823, Acc: 84.70%]\n",
            "[Batch 152 / 322]  [Loss: 0.3808, Acc: 84.80%]\n",
            "[Batch 153 / 322]  [Loss: 0.3803, Acc: 84.90%]\n"
          ]
        },
        {
          "metadata": {
            "tags": null
          },
          "name": "stderr",
          "output_type": "stream",
          "text": [
            "Epoch 2 Testing:  48%|████▊     | 156/322 [00:13<00:17,  9.65it/s]"
          ]
        },
        {
          "metadata": {
            "tags": null
          },
          "name": "stdout",
          "output_type": "stream",
          "text": [
            "[Batch 154 / 322]  [Loss: 0.3836, Acc: 84.68%]\n",
            "[Batch 155 / 322]  [Loss: 0.3835, Acc: 84.62%]\n"
          ]
        },
        {
          "metadata": {
            "tags": null
          },
          "name": "stderr",
          "output_type": "stream",
          "text": [
            "\rEpoch 2 Testing:  49%|████▉     | 158/322 [00:13<00:17,  9.55it/s]"
          ]
        },
        {
          "metadata": {
            "tags": null
          },
          "name": "stdout",
          "output_type": "stream",
          "text": [
            "[Batch 156 / 322]  [Loss: 0.3836, Acc: 84.55%]\n",
            "[Batch 157 / 322]  [Loss: 0.3833, Acc: 84.65%]\n"
          ]
        },
        {
          "metadata": {
            "tags": null
          },
          "name": "stderr",
          "output_type": "stream",
          "text": [
            "\rEpoch 2 Testing:  50%|████▉     | 160/322 [00:13<00:18,  8.95it/s]"
          ]
        },
        {
          "metadata": {
            "tags": null
          },
          "name": "stdout",
          "output_type": "stream",
          "text": [
            "[Batch 158 / 322]  [Loss: 0.3869, Acc: 84.28%]\n",
            "[Batch 159 / 322]  [Loss: 0.3873, Acc: 84.22%]\n"
          ]
        },
        {
          "metadata": {
            "tags": null
          },
          "name": "stderr",
          "output_type": "stream",
          "text": [
            "\rEpoch 2 Testing:  50%|█████     | 162/322 [00:14<00:16,  9.99it/s]"
          ]
        },
        {
          "metadata": {
            "tags": null
          },
          "name": "stdout",
          "output_type": "stream",
          "text": [
            "[Batch 160 / 322]  [Loss: 0.3876, Acc: 84.16%]\n",
            "[Batch 161 / 322]  [Loss: 0.3860, Acc: 84.26%]\n",
            "[Batch 162 / 322]  [Loss: 0.3877, Acc: 84.05%]\n"
          ]
        },
        {
          "metadata": {
            "tags": null
          },
          "name": "stderr",
          "output_type": "stream",
          "text": [
            "Epoch 2 Testing:  52%|█████▏    | 166/322 [00:14<00:14, 11.08it/s]"
          ]
        },
        {
          "metadata": {
            "tags": null
          },
          "name": "stdout",
          "output_type": "stream",
          "text": [
            "[Batch 163 / 322]  [Loss: 0.3864, Acc: 84.15%]\n",
            "[Batch 164 / 322]  [Loss: 0.3881, Acc: 83.94%]\n",
            "[Batch 165 / 322]  [Loss: 0.3880, Acc: 83.89%]\n",
            "[Batch 166 / 322]  [Loss: 0.3874, Acc: 83.98%]\n"
          ]
        },
        {
          "metadata": {
            "tags": null
          },
          "name": "stderr",
          "output_type": "stream",
          "text": [
            "Epoch 2 Testing:  53%|█████▎    | 170/322 [00:14<00:11, 12.92it/s]"
          ]
        },
        {
          "metadata": {
            "tags": null
          },
          "name": "stdout",
          "output_type": "stream",
          "text": [
            "[Batch 167 / 322]  [Loss: 0.3877, Acc: 83.93%]\n",
            "[Batch 168 / 322]  [Loss: 0.3867, Acc: 84.02%]\n",
            "[Batch 169 / 322]  [Loss: 0.3857, Acc: 84.12%]\n"
          ]
        },
        {
          "metadata": {
            "tags": null
          },
          "name": "stderr",
          "output_type": "stream",
          "text": [
            "Epoch 2 Testing:  54%|█████▍    | 174/322 [00:14<00:10, 14.15it/s]"
          ]
        },
        {
          "metadata": {
            "tags": null
          },
          "name": "stdout",
          "output_type": "stream",
          "text": [
            "[Batch 170 / 322]  [Loss: 0.3848, Acc: 84.21%]\n",
            "[Batch 171 / 322]  [Loss: 0.3853, Acc: 84.16%]\n",
            "[Batch 172 / 322]  [Loss: 0.3839, Acc: 84.25%]\n",
            "[Batch 173 / 322]  [Loss: 0.3847, Acc: 84.20%]\n"
          ]
        },
        {
          "metadata": {
            "tags": null
          },
          "name": "stderr",
          "output_type": "stream",
          "text": [
            "Epoch 2 Testing:  55%|█████▌    | 178/322 [00:15<00:09, 15.09it/s]"
          ]
        },
        {
          "metadata": {
            "tags": null
          },
          "name": "stdout",
          "output_type": "stream",
          "text": [
            "[Batch 174 / 322]  [Loss: 0.3859, Acc: 84.14%]\n",
            "[Batch 175 / 322]  [Loss: 0.3861, Acc: 84.23%]\n",
            "[Batch 176 / 322]  [Loss: 0.3851, Acc: 84.32%]\n",
            "[Batch 177 / 322]  [Loss: 0.3858, Acc: 84.27%]\n"
          ]
        },
        {
          "metadata": {
            "tags": null
          },
          "name": "stderr",
          "output_type": "stream",
          "text": [
            "\rEpoch 2 Testing:  56%|█████▌    | 180/322 [00:15<00:09, 15.35it/s]"
          ]
        },
        {
          "metadata": {
            "tags": null
          },
          "name": "stdout",
          "output_type": "stream",
          "text": [
            "[Batch 178 / 322]  [Loss: 0.3844, Acc: 84.36%]\n",
            "[Batch 179 / 322]  [Loss: 0.3839, Acc: 84.31%]\n",
            "[Batch 180 / 322]  [Loss: 0.3833, Acc: 84.39%]\n"
          ]
        },
        {
          "metadata": {
            "tags": null
          },
          "name": "stderr",
          "output_type": "stream",
          "text": [
            "Epoch 2 Testing:  57%|█████▋    | 184/322 [00:15<00:09, 14.81it/s]"
          ]
        },
        {
          "metadata": {
            "tags": null
          },
          "name": "stdout",
          "output_type": "stream",
          "text": [
            "[Batch 181 / 322]  [Loss: 0.3834, Acc: 84.34%]\n",
            "[Batch 182 / 322]  [Loss: 0.3830, Acc: 84.43%]\n",
            "[Batch 183 / 322]  [Loss: 0.3829, Acc: 84.51%]\n",
            "[Batch 184 / 322]  [Loss: 0.3827, Acc: 84.46%]\n"
          ]
        },
        {
          "metadata": {
            "tags": null
          },
          "name": "stderr",
          "output_type": "stream",
          "text": [
            "Epoch 2 Testing:  58%|█████▊    | 188/322 [00:15<00:08, 15.01it/s]"
          ]
        },
        {
          "metadata": {
            "tags": null
          },
          "name": "stdout",
          "output_type": "stream",
          "text": [
            "[Batch 185 / 322]  [Loss: 0.3830, Acc: 84.41%]\n",
            "[Batch 186 / 322]  [Loss: 0.3847, Acc: 84.22%]\n",
            "[Batch 187 / 322]  [Loss: 0.3850, Acc: 84.18%]\n",
            "[Batch 188 / 322]  [Loss: 0.3846, Acc: 84.26%]\n"
          ]
        },
        {
          "metadata": {
            "tags": null
          },
          "name": "stderr",
          "output_type": "stream",
          "text": [
            "Epoch 2 Testing:  60%|█████▉    | 192/322 [00:16<00:09, 14.16it/s]"
          ]
        },
        {
          "metadata": {
            "tags": null
          },
          "name": "stdout",
          "output_type": "stream",
          "text": [
            "[Batch 189 / 322]  [Loss: 0.3840, Acc: 84.34%]\n",
            "[Batch 190 / 322]  [Loss: 0.3850, Acc: 84.29%]\n",
            "[Batch 191 / 322]  [Loss: 0.3842, Acc: 84.38%]\n"
          ]
        },
        {
          "metadata": {
            "tags": null
          },
          "name": "stderr",
          "output_type": "stream",
          "text": [
            "\rEpoch 2 Testing:  60%|██████    | 194/322 [00:16<00:08, 14.64it/s]"
          ]
        },
        {
          "metadata": {
            "tags": null
          },
          "name": "stdout",
          "output_type": "stream",
          "text": [
            "[Batch 192 / 322]  [Loss: 0.3879, Acc: 84.07%]\n",
            "[Batch 193 / 322]  [Loss: 0.3896, Acc: 83.89%]\n",
            "[Batch 194 / 322]  [Loss: 0.3885, Acc: 83.97%]\n"
          ]
        },
        {
          "metadata": {
            "tags": null
          },
          "name": "stderr",
          "output_type": "stream",
          "text": [
            "Epoch 2 Testing:  61%|██████▏   | 198/322 [00:16<00:08, 14.32it/s]"
          ]
        },
        {
          "metadata": {
            "tags": null
          },
          "name": "stdout",
          "output_type": "stream",
          "text": [
            "[Batch 195 / 322]  [Loss: 0.3875, Acc: 84.06%]\n",
            "[Batch 196 / 322]  [Loss: 0.3893, Acc: 83.76%]\n",
            "[Batch 197 / 322]  [Loss: 0.3909, Acc: 83.71%]\n",
            "[Batch 198 / 322]  [Loss: 0.3903, Acc: 83.79%]\n"
          ]
        },
        {
          "metadata": {
            "tags": null
          },
          "name": "stderr",
          "output_type": "stream",
          "text": [
            "Epoch 2 Testing:  63%|██████▎   | 202/322 [00:16<00:08, 14.79it/s]"
          ]
        },
        {
          "metadata": {
            "tags": null
          },
          "name": "stdout",
          "output_type": "stream",
          "text": [
            "[Batch 199 / 322]  [Loss: 0.3894, Acc: 83.88%]\n",
            "[Batch 200 / 322]  [Loss: 0.3886, Acc: 83.96%]\n",
            "[Batch 201 / 322]  [Loss: 0.3894, Acc: 83.91%]\n",
            "[Batch 202 / 322]  [Loss: 0.3912, Acc: 83.87%]\n"
          ]
        },
        {
          "metadata": {
            "tags": null
          },
          "name": "stderr",
          "output_type": "stream",
          "text": [
            "Epoch 2 Testing:  64%|██████▍   | 206/322 [00:17<00:07, 14.73it/s]"
          ]
        },
        {
          "metadata": {
            "tags": null
          },
          "name": "stdout",
          "output_type": "stream",
          "text": [
            "[Batch 203 / 322]  [Loss: 0.3929, Acc: 83.82%]\n",
            "[Batch 204 / 322]  [Loss: 0.3938, Acc: 83.78%]\n",
            "[Batch 205 / 322]  [Loss: 0.3953, Acc: 83.74%]\n",
            "[Batch 206 / 322]  [Loss: 0.3951, Acc: 83.82%]\n"
          ]
        },
        {
          "metadata": {
            "tags": null
          },
          "name": "stderr",
          "output_type": "stream",
          "text": [
            "Epoch 2 Testing:  65%|██████▌   | 210/322 [00:17<00:07, 15.22it/s]"
          ]
        },
        {
          "metadata": {
            "tags": null
          },
          "name": "stdout",
          "output_type": "stream",
          "text": [
            "[Batch 207 / 322]  [Loss: 0.3951, Acc: 83.77%]\n",
            "[Batch 208 / 322]  [Loss: 0.3972, Acc: 83.73%]\n",
            "[Batch 209 / 322]  [Loss: 0.3970, Acc: 83.69%]\n",
            "[Batch 210 / 322]  [Loss: 0.3981, Acc: 83.65%]\n"
          ]
        },
        {
          "metadata": {
            "tags": null
          },
          "name": "stderr",
          "output_type": "stream",
          "text": [
            "Epoch 2 Testing:  66%|██████▋   | 214/322 [00:17<00:07, 14.95it/s]"
          ]
        },
        {
          "metadata": {
            "tags": null
          },
          "name": "stdout",
          "output_type": "stream",
          "text": [
            "[Batch 211 / 322]  [Loss: 0.3973, Acc: 83.73%]\n",
            "[Batch 212 / 322]  [Loss: 0.3985, Acc: 83.69%]\n",
            "[Batch 213 / 322]  [Loss: 0.3992, Acc: 83.64%]\n",
            "[Batch 214 / 322]  [Loss: 0.3998, Acc: 83.60%]"
          ]
        },
        {
          "metadata": {
            "tags": null
          },
          "name": "stderr",
          "output_type": "stream",
          "text": [
            "\rEpoch 2 Testing:  67%|██████▋   | 216/322 [00:17<00:07, 14.85it/s]"
          ]
        },
        {
          "metadata": {
            "tags": null
          },
          "name": "stdout",
          "output_type": "stream",
          "text": [
            "\n",
            "[Batch 215 / 322]  [Loss: 0.3984, Acc: 83.68%]\n",
            "[Batch 216 / 322]  [Loss: 0.3981, Acc: 83.76%]\n"
          ]
        },
        {
          "metadata": {
            "tags": null
          },
          "name": "stderr",
          "output_type": "stream",
          "text": [
            "Epoch 2 Testing:  68%|██████▊   | 220/322 [00:18<00:07, 14.00it/s]"
          ]
        },
        {
          "metadata": {
            "tags": null
          },
          "name": "stdout",
          "output_type": "stream",
          "text": [
            "[Batch 217 / 322]  [Loss: 0.3977, Acc: 83.83%]\n",
            "[Batch 218 / 322]  [Loss: 0.3975, Acc: 83.90%]\n",
            "[Batch 219 / 322]  [Loss: 0.4006, Acc: 83.75%]\n"
          ]
        },
        {
          "metadata": {
            "tags": null
          },
          "name": "stderr",
          "output_type": "stream",
          "text": [
            "\rEpoch 2 Testing:  69%|██████▉   | 222/322 [00:18<00:07, 13.62it/s]"
          ]
        },
        {
          "metadata": {
            "tags": null
          },
          "name": "stdout",
          "output_type": "stream",
          "text": [
            "[Batch 220 / 322]  [Loss: 0.4009, Acc: 83.71%]\n",
            "[Batch 221 / 322]  [Loss: 0.4017, Acc: 83.56%]\n",
            "[Batch 222 / 322]  [Loss: 0.4040, Acc: 83.41%]\n"
          ]
        },
        {
          "metadata": {
            "tags": null
          },
          "name": "stderr",
          "output_type": "stream",
          "text": [
            "Epoch 2 Testing:  70%|███████   | 226/322 [00:18<00:06, 14.16it/s]"
          ]
        },
        {
          "metadata": {
            "tags": null
          },
          "name": "stdout",
          "output_type": "stream",
          "text": [
            "[Batch 223 / 322]  [Loss: 0.4069, Acc: 83.15%]\n",
            "[Batch 224 / 322]  [Loss: 0.4064, Acc: 83.22%]\n",
            "[Batch 225 / 322]  [Loss: 0.4055, Acc: 83.30%]\n",
            "[Batch 226 / 322]  [Loss: 0.4055, Acc: 83.26%]\n"
          ]
        },
        {
          "metadata": {
            "tags": null
          },
          "name": "stderr",
          "output_type": "stream",
          "text": [
            "Epoch 2 Testing:  71%|███████▏  | 230/322 [00:18<00:05, 15.89it/s]"
          ]
        },
        {
          "metadata": {
            "tags": null
          },
          "name": "stdout",
          "output_type": "stream",
          "text": [
            "[Batch 227 / 322]  [Loss: 0.4061, Acc: 83.22%]\n",
            "[Batch 228 / 322]  [Loss: 0.4062, Acc: 83.19%]\n",
            "[Batch 229 / 322]  [Loss: 0.4073, Acc: 83.04%]\n",
            "[Batch 230 / 322]  [Loss: 0.4074, Acc: 83.01%]\n"
          ]
        },
        {
          "metadata": {
            "tags": null
          },
          "name": "stderr",
          "output_type": "stream",
          "text": [
            "Epoch 2 Testing:  73%|███████▎  | 234/322 [00:19<00:05, 15.85it/s]"
          ]
        },
        {
          "metadata": {
            "tags": null
          },
          "name": "stdout",
          "output_type": "stream",
          "text": [
            "[Batch 231 / 322]  [Loss: 0.4064, Acc: 83.08%]\n",
            "[Batch 232 / 322]  [Loss: 0.4060, Acc: 83.15%]\n",
            "[Batch 233 / 322]  [Loss: 0.4055, Acc: 83.23%]\n",
            "[Batch 234 / 322]  [Loss: 0.4049, Acc: 83.30%]\n"
          ]
        },
        {
          "metadata": {
            "tags": null
          },
          "name": "stderr",
          "output_type": "stream",
          "text": [
            "Epoch 2 Testing:  74%|███████▍  | 238/322 [00:19<00:05, 14.76it/s]"
          ]
        },
        {
          "metadata": {
            "tags": null
          },
          "name": "stdout",
          "output_type": "stream",
          "text": [
            "[Batch 235 / 322]  [Loss: 0.4063, Acc: 83.16%]\n",
            "[Batch 236 / 322]  [Loss: 0.4056, Acc: 83.23%]\n",
            "[Batch 237 / 322]  [Loss: 0.4056, Acc: 83.30%]\n"
          ]
        },
        {
          "metadata": {
            "tags": null
          },
          "name": "stderr",
          "output_type": "stream",
          "text": [
            "Epoch 2 Testing:  75%|███████▌  | 242/322 [00:19<00:05, 15.12it/s]"
          ]
        },
        {
          "metadata": {
            "tags": null
          },
          "name": "stdout",
          "output_type": "stream",
          "text": [
            "[Batch 238 / 322]  [Loss: 0.4055, Acc: 83.26%]\n",
            "[Batch 239 / 322]  [Loss: 0.4045, Acc: 83.33%]\n",
            "[Batch 240 / 322]  [Loss: 0.4032, Acc: 83.40%]\n",
            "[Batch 241 / 322]  [Loss: 0.4035, Acc: 83.37%]\n"
          ]
        },
        {
          "metadata": {
            "tags": null
          },
          "name": "stderr",
          "output_type": "stream",
          "text": [
            "Epoch 2 Testing:  76%|███████▋  | 246/322 [00:19<00:05, 14.94it/s]"
          ]
        },
        {
          "metadata": {
            "tags": null
          },
          "name": "stdout",
          "output_type": "stream",
          "text": [
            "[Batch 242 / 322]  [Loss: 0.4029, Acc: 83.44%]\n",
            "[Batch 243 / 322]  [Loss: 0.4037, Acc: 83.40%]\n",
            "[Batch 244 / 322]  [Loss: 0.4038, Acc: 83.37%]\n",
            "[Batch 245 / 322]  [Loss: 0.4038, Acc: 83.33%]\n"
          ]
        },
        {
          "metadata": {
            "tags": null
          },
          "name": "stderr",
          "output_type": "stream",
          "text": [
            "Epoch 2 Testing:  78%|███████▊  | 250/322 [00:20<00:04, 15.15it/s]"
          ]
        },
        {
          "metadata": {
            "tags": null
          },
          "name": "stdout",
          "output_type": "stream",
          "text": [
            "[Batch 246 / 322]  [Loss: 0.4029, Acc: 83.40%]\n",
            "[Batch 247 / 322]  [Loss: 0.4039, Acc: 83.27%]\n",
            "[Batch 248 / 322]  [Loss: 0.4062, Acc: 83.03%]\n",
            "[Batch 249 / 322]  [Loss: 0.4052, Acc: 83.10%]\n"
          ]
        },
        {
          "metadata": {
            "tags": null
          },
          "name": "stderr",
          "output_type": "stream",
          "text": [
            "\rEpoch 2 Testing:  78%|███████▊  | 252/322 [00:20<00:04, 14.27it/s]"
          ]
        },
        {
          "metadata": {
            "tags": null
          },
          "name": "stdout",
          "output_type": "stream",
          "text": [
            "[Batch 250 / 322]  [Loss: 0.4055, Acc: 82.97%]\n",
            "[Batch 251 / 322]  [Loss: 0.4060, Acc: 82.94%]\n",
            "[Batch 252 / 322]  [Loss: 0.4050, Acc: 83.00%]\n"
          ]
        },
        {
          "metadata": {
            "tags": null
          },
          "name": "stderr",
          "output_type": "stream",
          "text": [
            "Epoch 2 Testing:  80%|███████▉  | 256/322 [00:20<00:04, 14.46it/s]"
          ]
        },
        {
          "metadata": {
            "tags": null
          },
          "name": "stdout",
          "output_type": "stream",
          "text": [
            "[Batch 253 / 322]  [Loss: 0.4045, Acc: 83.07%]\n",
            "[Batch 254 / 322]  [Loss: 0.4035, Acc: 83.14%]\n",
            "[Batch 255 / 322]  [Loss: 0.4035, Acc: 83.11%]\n"
          ]
        },
        {
          "metadata": {
            "tags": null
          },
          "name": "stderr",
          "output_type": "stream",
          "text": [
            "Epoch 2 Testing:  81%|████████  | 260/322 [00:20<00:04, 14.29it/s]"
          ]
        },
        {
          "metadata": {
            "tags": null
          },
          "name": "stdout",
          "output_type": "stream",
          "text": [
            "[Batch 256 / 322]  [Loss: 0.4034, Acc: 83.07%]\n",
            "[Batch 257 / 322]  [Loss: 0.4029, Acc: 83.14%]\n",
            "[Batch 258 / 322]  [Loss: 0.4026, Acc: 83.20%]\n",
            "[Batch 259 / 322]  [Loss: 0.4037, Acc: 83.08%]\n"
          ]
        },
        {
          "metadata": {
            "tags": null
          },
          "name": "stderr",
          "output_type": "stream",
          "text": [
            "Epoch 2 Testing:  82%|████████▏ | 264/322 [00:21<00:04, 14.44it/s]"
          ]
        },
        {
          "metadata": {
            "tags": null
          },
          "name": "stdout",
          "output_type": "stream",
          "text": [
            "[Batch 260 / 322]  [Loss: 0.4031, Acc: 83.14%]\n",
            "[Batch 261 / 322]  [Loss: 0.4048, Acc: 83.02%]\n",
            "[Batch 262 / 322]  [Loss: 0.4052, Acc: 82.89%]\n",
            "[Batch 263 / 322]  [Loss: 0.4048, Acc: 82.95%]\n"
          ]
        },
        {
          "metadata": {
            "tags": null
          },
          "name": "stderr",
          "output_type": "stream",
          "text": [
            "\rEpoch 2 Testing:  83%|████████▎ | 266/322 [00:21<00:03, 14.03it/s]"
          ]
        },
        {
          "metadata": {
            "tags": null
          },
          "name": "stdout",
          "output_type": "stream",
          "text": [
            "[Batch 264 / 322]  [Loss: 0.4038, Acc: 83.02%]\n",
            "[Batch 265 / 322]  [Loss: 0.4033, Acc: 83.08%]\n",
            "[Batch 266 / 322]  [Loss: 0.4044, Acc: 82.96%]\n"
          ]
        },
        {
          "metadata": {
            "tags": null
          },
          "name": "stderr",
          "output_type": "stream",
          "text": [
            "Epoch 2 Testing:  84%|████████▍ | 270/322 [00:21<00:03, 13.76it/s]"
          ]
        },
        {
          "metadata": {
            "tags": null
          },
          "name": "stdout",
          "output_type": "stream",
          "text": [
            "[Batch 267 / 322]  [Loss: 0.4049, Acc: 82.84%]\n",
            "[Batch 268 / 322]  [Loss: 0.4038, Acc: 82.90%]\n",
            "[Batch 269 / 322]  [Loss: 0.4031, Acc: 82.96%]\n"
          ]
        },
        {
          "metadata": {
            "tags": null
          },
          "name": "stderr",
          "output_type": "stream",
          "text": [
            "Epoch 2 Testing:  85%|████████▌ | 274/322 [00:21<00:03, 14.22it/s]"
          ]
        },
        {
          "metadata": {
            "tags": null
          },
          "name": "stdout",
          "output_type": "stream",
          "text": [
            "[Batch 270 / 322]  [Loss: 0.4039, Acc: 82.93%]\n",
            "[Batch 271 / 322]  [Loss: 0.4044, Acc: 82.90%]\n",
            "[Batch 272 / 322]  [Loss: 0.4046, Acc: 82.88%]\n",
            "[Batch 273 / 322]  [Loss: 0.4047, Acc: 82.85%]\n"
          ]
        },
        {
          "metadata": {
            "tags": null
          },
          "name": "stderr",
          "output_type": "stream",
          "text": [
            "Epoch 2 Testing:  86%|████████▋ | 278/322 [00:22<00:02, 14.79it/s]"
          ]
        },
        {
          "metadata": {
            "tags": null
          },
          "name": "stdout",
          "output_type": "stream",
          "text": [
            "[Batch 274 / 322]  [Loss: 0.4049, Acc: 82.82%]\n",
            "[Batch 275 / 322]  [Loss: 0.4045, Acc: 82.88%]\n",
            "[Batch 276 / 322]  [Loss: 0.4034, Acc: 82.94%]\n",
            "[Batch 277 / 322]  [Loss: 0.4038, Acc: 82.91%]\n"
          ]
        },
        {
          "metadata": {
            "tags": null
          },
          "name": "stderr",
          "output_type": "stream",
          "text": [
            "Epoch 2 Testing:  88%|████████▊ | 282/322 [00:22<00:02, 15.06it/s]"
          ]
        },
        {
          "metadata": {
            "tags": null
          },
          "name": "stdout",
          "output_type": "stream",
          "text": [
            "[Batch 278 / 322]  [Loss: 0.4030, Acc: 82.97%]\n",
            "[Batch 279 / 322]  [Loss: 0.4029, Acc: 82.95%]\n",
            "[Batch 280 / 322]  [Loss: 0.4027, Acc: 82.92%]\n",
            "[Batch 281 / 322]  [Loss: 0.4032, Acc: 82.80%]\n"
          ]
        },
        {
          "metadata": {
            "tags": null
          },
          "name": "stderr",
          "output_type": "stream",
          "text": [
            "\rEpoch 2 Testing:  88%|████████▊ | 284/322 [00:22<00:02, 15.15it/s]"
          ]
        },
        {
          "metadata": {
            "tags": null
          },
          "name": "stdout",
          "output_type": "stream",
          "text": [
            "[Batch 282 / 322]  [Loss: 0.4050, Acc: 82.69%]\n",
            "[Batch 283 / 322]  [Loss: 0.4040, Acc: 82.75%]\n",
            "[Batch 284 / 322]  [Loss: 0.4036, Acc: 82.81%]\n",
            "[Batch 285 / 322]  [Loss: 0.4031, Acc: 82.87%]"
          ]
        },
        {
          "metadata": {
            "tags": null
          },
          "name": "stderr",
          "output_type": "stream",
          "text": [
            "Epoch 2 Testing:  89%|████████▉ | 288/322 [00:22<00:02, 14.19it/s]"
          ]
        },
        {
          "metadata": {
            "tags": null
          },
          "name": "stdout",
          "output_type": "stream",
          "text": [
            "\n",
            "[Batch 286 / 322]  [Loss: 0.4030, Acc: 82.84%]\n",
            "[Batch 287 / 322]  [Loss: 0.4024, Acc: 82.90%]\n"
          ]
        },
        {
          "metadata": {
            "tags": null
          },
          "name": "stderr",
          "output_type": "stream",
          "text": [
            "Epoch 2 Testing:  91%|█████████ | 292/322 [00:23<00:02, 14.49it/s]"
          ]
        },
        {
          "metadata": {
            "tags": null
          },
          "name": "stdout",
          "output_type": "stream",
          "text": [
            "[Batch 288 / 322]  [Loss: 0.4016, Acc: 82.96%]\n",
            "[Batch 289 / 322]  [Loss: 0.4010, Acc: 83.02%]\n",
            "[Batch 290 / 322]  [Loss: 0.4009, Acc: 83.08%]\n",
            "[Batch 291 / 322]  [Loss: 0.4008, Acc: 83.05%]\n"
          ]
        },
        {
          "metadata": {
            "tags": null
          },
          "name": "stderr",
          "output_type": "stream",
          "text": [
            "\rEpoch 2 Testing:  91%|█████████▏| 294/322 [00:23<00:02, 13.99it/s]"
          ]
        },
        {
          "metadata": {
            "tags": null
          },
          "name": "stdout",
          "output_type": "stream",
          "text": [
            "[Batch 292 / 322]  [Loss: 0.4022, Acc: 82.94%]\n",
            "[Batch 293 / 322]  [Loss: 0.4021, Acc: 82.91%]\n",
            "[Batch 294 / 322]  [Loss: 0.4016, Acc: 82.97%]\n"
          ]
        },
        {
          "metadata": {
            "tags": null
          },
          "name": "stderr",
          "output_type": "stream",
          "text": [
            "Epoch 2 Testing:  93%|█████████▎| 298/322 [00:23<00:01, 13.53it/s]"
          ]
        },
        {
          "metadata": {
            "tags": null
          },
          "name": "stdout",
          "output_type": "stream",
          "text": [
            "[Batch 295 / 322]  [Loss: 0.4009, Acc: 83.02%]\n",
            "[Batch 296 / 322]  [Loss: 0.4016, Acc: 83.00%]\n",
            "[Batch 297 / 322]  [Loss: 0.4022, Acc: 82.89%]\n",
            "[Batch 298 / 322]  [Loss: 0.4024, Acc: 82.86%]\n"
          ]
        },
        {
          "metadata": {
            "tags": null
          },
          "name": "stderr",
          "output_type": "stream",
          "text": [
            "Epoch 2 Testing:  94%|█████████▍| 302/322 [00:23<00:01, 14.13it/s]"
          ]
        },
        {
          "metadata": {
            "tags": null
          },
          "name": "stdout",
          "output_type": "stream",
          "text": [
            "[Batch 299 / 322]  [Loss: 0.4029, Acc: 82.83%]\n",
            "[Batch 300 / 322]  [Loss: 0.4025, Acc: 82.89%]\n",
            "[Batch 301 / 322]  [Loss: 0.4031, Acc: 82.86%]\n",
            "[Batch 302 / 322]  [Loss: 0.4025, Acc: 82.92%]\n"
          ]
        },
        {
          "metadata": {
            "tags": null
          },
          "name": "stderr",
          "output_type": "stream",
          "text": [
            "Epoch 2 Testing:  95%|█████████▌| 306/322 [00:24<00:01, 13.92it/s]"
          ]
        },
        {
          "metadata": {
            "tags": null
          },
          "name": "stdout",
          "output_type": "stream",
          "text": [
            "[Batch 303 / 322]  [Loss: 0.4033, Acc: 82.81%]\n",
            "[Batch 304 / 322]  [Loss: 0.4031, Acc: 82.87%]\n",
            "[Batch 305 / 322]  [Loss: 0.4030, Acc: 82.84%]\n"
          ]
        },
        {
          "metadata": {
            "tags": null
          },
          "name": "stderr",
          "output_type": "stream",
          "text": [
            "\rEpoch 2 Testing:  96%|█████████▌| 308/322 [00:24<00:00, 14.19it/s]"
          ]
        },
        {
          "metadata": {
            "tags": null
          },
          "name": "stdout",
          "output_type": "stream",
          "text": [
            "[Batch 306 / 322]  [Loss: 0.4021, Acc: 82.90%]\n",
            "[Batch 307 / 322]  [Loss: 0.4023, Acc: 82.79%]\n",
            "[Batch 308 / 322]  [Loss: 0.4032, Acc: 82.77%]\n"
          ]
        },
        {
          "metadata": {
            "tags": null
          },
          "name": "stderr",
          "output_type": "stream",
          "text": [
            "\rEpoch 2 Testing:  96%|█████████▋| 310/322 [00:24<00:00, 13.11it/s]"
          ]
        },
        {
          "metadata": {
            "tags": null
          },
          "name": "stdout",
          "output_type": "stream",
          "text": [
            "[Batch 309 / 322]  [Loss: 0.4045, Acc: 82.74%]\n",
            "[Batch 310 / 322]  [Loss: 0.4044, Acc: 82.80%]\n"
          ]
        },
        {
          "metadata": {
            "tags": null
          },
          "name": "stderr",
          "output_type": "stream",
          "text": [
            "\rEpoch 2 Testing:  97%|█████████▋| 312/322 [00:24<00:00, 11.70it/s]"
          ]
        },
        {
          "metadata": {
            "tags": null
          },
          "name": "stdout",
          "output_type": "stream",
          "text": [
            "[Batch 311 / 322]  [Loss: 0.4060, Acc: 82.69%]\n",
            "[Batch 312 / 322]  [Loss: 0.4066, Acc: 82.67%]\n"
          ]
        },
        {
          "metadata": {
            "tags": null
          },
          "name": "stderr",
          "output_type": "stream",
          "text": [
            "\rEpoch 2 Testing:  98%|█████████▊| 314/322 [00:24<00:00, 10.73it/s]"
          ]
        },
        {
          "metadata": {
            "tags": null
          },
          "name": "stdout",
          "output_type": "stream",
          "text": [
            "[Batch 313 / 322]  [Loss: 0.4061, Acc: 82.72%]\n",
            "[Batch 314 / 322]  [Loss: 0.4061, Acc: 82.70%]\n"
          ]
        },
        {
          "metadata": {
            "tags": null
          },
          "name": "stderr",
          "output_type": "stream",
          "text": [
            "\rEpoch 2 Testing:  98%|█████████▊| 316/322 [00:25<00:00,  9.81it/s]"
          ]
        },
        {
          "metadata": {
            "tags": null
          },
          "name": "stdout",
          "output_type": "stream",
          "text": [
            "[Batch 315 / 322]  [Loss: 0.4068, Acc: 82.67%]\n"
          ]
        },
        {
          "metadata": {
            "tags": null
          },
          "name": "stderr",
          "output_type": "stream",
          "text": [
            "Epoch 2 Testing:  99%|█████████▉| 319/322 [00:25<00:00,  8.58it/s]"
          ]
        },
        {
          "metadata": {
            "tags": null
          },
          "name": "stdout",
          "output_type": "stream",
          "text": [
            "[Batch 316 / 322]  [Loss: 0.4068, Acc: 82.73%]\n",
            "[Batch 317 / 322]  [Loss: 0.4063, Acc: 82.78%]\n",
            "[Batch 318 / 322]  [Loss: 0.4076, Acc: 82.68%]\n"
          ]
        },
        {
          "metadata": {
            "tags": null
          },
          "name": "stderr",
          "output_type": "stream",
          "text": [
            "\rEpoch 2 Testing: 100%|█████████▉| 321/322 [00:25<00:00, 10.04it/s]"
          ]
        },
        {
          "metadata": {
            "tags": null
          },
          "name": "stdout",
          "output_type": "stream",
          "text": [
            "[Batch 319 / 322]  [Loss: 0.4072, Acc: 82.73%]\n",
            "[Batch 320 / 322]  [Loss: 0.4070, Acc: 82.71%]\n",
            "[Batch 321 / 322]  [Loss: 0.4067, Acc: 82.74%]\n"
          ]
        },
        {
          "metadata": {
            "tags": null
          },
          "name": "stderr",
          "output_type": "stream",
          "text": [
            "\rEpoch 2 Testing: 100%|██████████| 322/322 [00:25<00:00, 12.47it/s]\n"
          ]
        },
        {
          "metadata": {
            "tags": null
          },
          "name": "stdout",
          "output_type": "stream",
          "text": [
            "\n",
            "Accuracy 82.73716951788491\n"
          ]
        },
        {
          "metadata": {
            "tags": null
          },
          "name": "stderr",
          "output_type": "stream",
          "text": [
            "Epoch 3/5: 100%|██████████| 1286/1286 [04:20<00:00,  4.93it/s]\n"
          ]
        },
        {
          "metadata": {
            "tags": null
          },
          "name": "stdout",
          "output_type": "stream",
          "text": [
            "\n",
            "[Epoch 3/5] [Loss: 0.4704, Acc: 8072.36%]\n",
            "Testing\n"
          ]
        },
        {
          "metadata": {
            "tags": null
          },
          "name": "stderr",
          "output_type": "stream",
          "text": [
            "Epoch 3 Testing:   1%|          | 3/322 [00:00<00:39,  8.15it/s]"
          ]
        },
        {
          "metadata": {
            "tags": null
          },
          "name": "stdout",
          "output_type": "stream",
          "text": [
            "[Batch 0 / 322]  [Loss: 0.1896, Acc: 100.00%]\n",
            "[Batch 1 / 322]  [Loss: 0.1619, Acc: 100.00%]\n",
            "[Batch 2 / 322]  [Loss: 0.1566, Acc: 100.00%]\n",
            "[Batch 3 / 322]  [Loss: 0.1903, Acc: 93.75%]\n"
          ]
        },
        {
          "metadata": {
            "tags": null
          },
          "name": "stderr",
          "output_type": "stream",
          "text": [
            "Epoch 3 Testing:   2%|▏         | 7/322 [00:00<00:24, 12.81it/s]"
          ]
        },
        {
          "metadata": {
            "tags": null
          },
          "name": "stdout",
          "output_type": "stream",
          "text": [
            "[Batch 4 / 322]  [Loss: 0.1912, Acc: 95.00%]\n",
            "[Batch 5 / 322]  [Loss: 0.2699, Acc: 91.67%]\n",
            "[Batch 6 / 322]  [Loss: 0.2978, Acc: 89.29%]\n",
            "[Batch 7 / 322]  [Loss: 0.2752, Acc: 90.62%]\n"
          ]
        },
        {
          "metadata": {
            "tags": null
          },
          "name": "stderr",
          "output_type": "stream",
          "text": [
            "Epoch 3 Testing:   3%|▎         | 11/322 [00:00<00:22, 13.86it/s]"
          ]
        },
        {
          "metadata": {
            "tags": null
          },
          "name": "stdout",
          "output_type": "stream",
          "text": [
            "[Batch 8 / 322]  [Loss: 0.2944, Acc: 88.89%]\n",
            "[Batch 9 / 322]  [Loss: 0.2858, Acc: 90.00%]\n",
            "[Batch 10 / 322]  [Loss: 0.3321, Acc: 86.36%]\n"
          ]
        },
        {
          "metadata": {
            "tags": null
          },
          "name": "stderr",
          "output_type": "stream",
          "text": [
            "\rEpoch 3 Testing:   4%|▍         | 13/322 [00:01<00:21, 14.47it/s]"
          ]
        },
        {
          "metadata": {
            "tags": null
          },
          "name": "stdout",
          "output_type": "stream",
          "text": [
            "[Batch 11 / 322]  [Loss: 0.3535, Acc: 85.42%]\n",
            "[Batch 12 / 322]  [Loss: 0.3406, Acc: 86.54%]\n",
            "[Batch 13 / 322]  [Loss: 0.3332, Acc: 87.50%]\n"
          ]
        },
        {
          "metadata": {
            "tags": null
          },
          "name": "stderr",
          "output_type": "stream",
          "text": [
            "Epoch 3 Testing:   5%|▌         | 17/322 [00:01<00:22, 13.73it/s]"
          ]
        },
        {
          "metadata": {
            "tags": null
          },
          "name": "stdout",
          "output_type": "stream",
          "text": [
            "[Batch 14 / 322]  [Loss: 0.3721, Acc: 85.00%]\n",
            "[Batch 15 / 322]  [Loss: 0.3625, Acc: 85.94%]\n",
            "[Batch 16 / 322]  [Loss: 0.3612, Acc: 85.29%]\n"
          ]
        },
        {
          "metadata": {
            "tags": null
          },
          "name": "stderr",
          "output_type": "stream",
          "text": [
            "Epoch 3 Testing:   7%|▋         | 21/322 [00:01<00:18, 16.00it/s]"
          ]
        },
        {
          "metadata": {
            "tags": null
          },
          "name": "stdout",
          "output_type": "stream",
          "text": [
            "[Batch 17 / 322]  [Loss: 0.3443, Acc: 86.11%]\n",
            "[Batch 18 / 322]  [Loss: 0.3655, Acc: 85.53%]\n",
            "[Batch 19 / 322]  [Loss: 0.3534, Acc: 86.25%]\n",
            "[Batch 20 / 322]  [Loss: 0.3848, Acc: 84.52%]\n"
          ]
        },
        {
          "metadata": {
            "tags": null
          },
          "name": "stderr",
          "output_type": "stream",
          "text": [
            "\rEpoch 3 Testing:   7%|▋         | 23/322 [00:01<00:19, 15.72it/s]"
          ]
        },
        {
          "metadata": {
            "tags": null
          },
          "name": "stdout",
          "output_type": "stream",
          "text": [
            "[Batch 21 / 322]  [Loss: 0.3984, Acc: 82.95%]\n",
            "[Batch 22 / 322]  [Loss: 0.4067, Acc: 82.61%]\n",
            "[Batch 23 / 322]  [Loss: 0.4064, Acc: 82.29%]\n"
          ]
        },
        {
          "metadata": {
            "tags": null
          },
          "name": "stderr",
          "output_type": "stream",
          "text": [
            "Epoch 3 Testing:   8%|▊         | 27/322 [00:01<00:19, 14.76it/s]"
          ]
        },
        {
          "metadata": {
            "tags": null
          },
          "name": "stdout",
          "output_type": "stream",
          "text": [
            "[Batch 24 / 322]  [Loss: 0.3921, Acc: 83.00%]\n",
            "[Batch 25 / 322]  [Loss: 0.3937, Acc: 82.69%]\n",
            "[Batch 26 / 322]  [Loss: 0.3872, Acc: 83.33%]\n"
          ]
        },
        {
          "metadata": {
            "tags": null
          },
          "name": "stderr",
          "output_type": "stream",
          "text": [
            "Epoch 3 Testing:  10%|▉         | 31/322 [00:02<00:18, 15.85it/s]"
          ]
        },
        {
          "metadata": {
            "tags": null
          },
          "name": "stdout",
          "output_type": "stream",
          "text": [
            "[Batch 27 / 322]  [Loss: 0.3779, Acc: 83.93%]\n",
            "[Batch 28 / 322]  [Loss: 0.3716, Acc: 84.48%]\n",
            "[Batch 29 / 322]  [Loss: 0.3806, Acc: 84.17%]\n",
            "[Batch 30 / 322]  [Loss: 0.3704, Acc: 84.68%]\n"
          ]
        },
        {
          "metadata": {
            "tags": null
          },
          "name": "stderr",
          "output_type": "stream",
          "text": [
            "\rEpoch 3 Testing:  10%|█         | 33/322 [00:02<00:18, 15.74it/s]"
          ]
        },
        {
          "metadata": {
            "tags": null
          },
          "name": "stdout",
          "output_type": "stream",
          "text": [
            "[Batch 31 / 322]  [Loss: 0.3676, Acc: 85.16%]\n",
            "[Batch 32 / 322]  [Loss: 0.3683, Acc: 84.85%]\n",
            "[Batch 33 / 322]  [Loss: 0.3635, Acc: 85.29%]\n"
          ]
        },
        {
          "metadata": {
            "tags": null
          },
          "name": "stderr",
          "output_type": "stream",
          "text": [
            "Epoch 3 Testing:  11%|█▏        | 37/322 [00:02<00:18, 15.59it/s]"
          ]
        },
        {
          "metadata": {
            "tags": null
          },
          "name": "stdout",
          "output_type": "stream",
          "text": [
            "[Batch 34 / 322]  [Loss: 0.3568, Acc: 85.71%]\n",
            "[Batch 35 / 322]  [Loss: 0.3509, Acc: 86.11%]\n",
            "[Batch 36 / 322]  [Loss: 0.3430, Acc: 86.49%]\n",
            "[Batch 37 / 322]  [Loss: 0.3380, Acc: 86.84%]\n"
          ]
        },
        {
          "metadata": {
            "tags": null
          },
          "name": "stderr",
          "output_type": "stream",
          "text": [
            "Epoch 3 Testing:  13%|█▎        | 41/322 [00:02<00:19, 14.40it/s]"
          ]
        },
        {
          "metadata": {
            "tags": null
          },
          "name": "stdout",
          "output_type": "stream",
          "text": [
            "[Batch 38 / 322]  [Loss: 0.3328, Acc: 87.18%]\n",
            "[Batch 39 / 322]  [Loss: 0.3367, Acc: 86.88%]\n",
            "[Batch 40 / 322]  [Loss: 0.3334, Acc: 87.20%]\n"
          ]
        },
        {
          "metadata": {
            "tags": null
          },
          "name": "stderr",
          "output_type": "stream",
          "text": [
            "\rEpoch 3 Testing:  13%|█▎        | 43/322 [00:03<00:19, 14.54it/s]"
          ]
        },
        {
          "metadata": {
            "tags": null
          },
          "name": "stdout",
          "output_type": "stream",
          "text": [
            "[Batch 41 / 322]  [Loss: 0.3488, Acc: 86.90%]\n",
            "[Batch 42 / 322]  [Loss: 0.3504, Acc: 86.63%]\n",
            "[Batch 43 / 322]  [Loss: 0.3450, Acc: 86.93%]\n"
          ]
        },
        {
          "metadata": {
            "tags": null
          },
          "name": "stderr",
          "output_type": "stream",
          "text": [
            "\rEpoch 3 Testing:  14%|█▍        | 45/322 [00:03<00:21, 12.76it/s]"
          ]
        },
        {
          "metadata": {
            "tags": null
          },
          "name": "stdout",
          "output_type": "stream",
          "text": [
            "[Batch 44 / 322]  [Loss: 0.3498, Acc: 86.67%]\n",
            "[Batch 45 / 322]  [Loss: 0.3433, Acc: 86.96%]\n"
          ]
        },
        {
          "metadata": {
            "tags": null
          },
          "name": "stderr",
          "output_type": "stream",
          "text": [
            "\rEpoch 3 Testing:  15%|█▍        | 47/322 [00:03<00:24, 11.21it/s]"
          ]
        },
        {
          "metadata": {
            "tags": null
          },
          "name": "stdout",
          "output_type": "stream",
          "text": [
            "[Batch 46 / 322]  [Loss: 0.3455, Acc: 86.17%]\n",
            "[Batch 47 / 322]  [Loss: 0.3456, Acc: 85.94%]\n"
          ]
        },
        {
          "metadata": {
            "tags": null
          },
          "name": "stderr",
          "output_type": "stream",
          "text": [
            "\rEpoch 3 Testing:  15%|█▌        | 49/322 [00:03<00:26, 10.47it/s]"
          ]
        },
        {
          "metadata": {
            "tags": null
          },
          "name": "stdout",
          "output_type": "stream",
          "text": [
            "[Batch 48 / 322]  [Loss: 0.3418, Acc: 86.22%]\n",
            "[Batch 49 / 322]  [Loss: 0.3384, Acc: 86.50%]\n"
          ]
        },
        {
          "metadata": {
            "tags": null
          },
          "name": "stderr",
          "output_type": "stream",
          "text": [
            "\rEpoch 3 Testing:  16%|█▌        | 51/322 [00:03<00:28,  9.52it/s]"
          ]
        },
        {
          "metadata": {
            "tags": null
          },
          "name": "stdout",
          "output_type": "stream",
          "text": [
            "[Batch 50 / 322]  [Loss: 0.3340, Acc: 86.76%]\n",
            "[Batch 51 / 322]  [Loss: 0.3454, Acc: 86.06%]\n"
          ]
        },
        {
          "metadata": {
            "tags": null
          },
          "name": "stderr",
          "output_type": "stream",
          "text": [
            "\rEpoch 3 Testing:  16%|█▋        | 53/322 [00:04<00:29,  9.08it/s]"
          ]
        },
        {
          "metadata": {
            "tags": null
          },
          "name": "stdout",
          "output_type": "stream",
          "text": [
            "[Batch 52 / 322]  [Loss: 0.3518, Acc: 85.38%]\n",
            "[Batch 53 / 322]  [Loss: 0.3485, Acc: 85.65%]\n"
          ]
        },
        {
          "metadata": {
            "tags": null
          },
          "name": "stderr",
          "output_type": "stream",
          "text": [
            "\rEpoch 3 Testing:  17%|█▋        | 55/322 [00:04<00:29,  9.00it/s]"
          ]
        },
        {
          "metadata": {
            "tags": null
          },
          "name": "stdout",
          "output_type": "stream",
          "text": [
            "[Batch 54 / 322]  [Loss: 0.3446, Acc: 85.91%]\n",
            "[Batch 55 / 322]  [Loss: 0.3508, Acc: 85.71%]\n"
          ]
        },
        {
          "metadata": {
            "tags": null
          },
          "name": "stderr",
          "output_type": "stream",
          "text": [
            "Epoch 3 Testing:  18%|█▊        | 59/322 [00:04<00:28,  9.30it/s]"
          ]
        },
        {
          "metadata": {
            "tags": null
          },
          "name": "stdout",
          "output_type": "stream",
          "text": [
            "[Batch 56 / 322]  [Loss: 0.3502, Acc: 85.53%]\n",
            "[Batch 57 / 322]  [Loss: 0.3467, Acc: 85.78%]\n",
            "[Batch 58 / 322]  [Loss: 0.3436, Acc: 86.02%]\n"
          ]
        },
        {
          "metadata": {
            "tags": null
          },
          "name": "stderr",
          "output_type": "stream",
          "text": [
            "\rEpoch 3 Testing:  19%|█▉        | 61/322 [00:05<00:28,  9.00it/s]"
          ]
        },
        {
          "metadata": {
            "tags": null
          },
          "name": "stdout",
          "output_type": "stream",
          "text": [
            "[Batch 59 / 322]  [Loss: 0.3455, Acc: 85.83%]\n",
            "[Batch 60 / 322]  [Loss: 0.3421, Acc: 86.07%]\n",
            "[Batch 61 / 322]  [Loss: 0.3389, Acc: 86.29%]\n"
          ]
        },
        {
          "metadata": {
            "tags": null
          },
          "name": "stderr",
          "output_type": "stream",
          "text": [
            "Epoch 3 Testing:  20%|█▉        | 64/322 [00:05<00:30,  8.48it/s]"
          ]
        },
        {
          "metadata": {
            "tags": null
          },
          "name": "stdout",
          "output_type": "stream",
          "text": [
            "[Batch 62 / 322]  [Loss: 0.3432, Acc: 85.71%]\n",
            "[Batch 63 / 322]  [Loss: 0.3410, Acc: 85.94%]\n",
            "[Batch 64 / 322]  [Loss: 0.3438, Acc: 85.77%]\n"
          ]
        },
        {
          "metadata": {
            "tags": null
          },
          "name": "stderr",
          "output_type": "stream",
          "text": [
            "Epoch 3 Testing:  21%|██        | 68/322 [00:05<00:23, 10.75it/s]"
          ]
        },
        {
          "metadata": {
            "tags": null
          },
          "name": "stdout",
          "output_type": "stream",
          "text": [
            "[Batch 65 / 322]  [Loss: 0.3444, Acc: 85.61%]\n",
            "[Batch 66 / 322]  [Loss: 0.3446, Acc: 85.45%]\n",
            "[Batch 67 / 322]  [Loss: 0.3442, Acc: 85.66%]\n"
          ]
        },
        {
          "metadata": {
            "tags": null
          },
          "name": "stderr",
          "output_type": "stream",
          "text": [
            "\rEpoch 3 Testing:  22%|██▏       | 70/322 [00:05<00:21, 11.96it/s]"
          ]
        },
        {
          "metadata": {
            "tags": null
          },
          "name": "stdout",
          "output_type": "stream",
          "text": [
            "[Batch 68 / 322]  [Loss: 0.3472, Acc: 85.14%]\n",
            "[Batch 69 / 322]  [Loss: 0.3439, Acc: 85.36%]\n",
            "[Batch 70 / 322]  [Loss: 0.3430, Acc: 85.56%]\n"
          ]
        },
        {
          "metadata": {
            "tags": null
          },
          "name": "stderr",
          "output_type": "stream",
          "text": [
            "Epoch 3 Testing:  23%|██▎       | 74/322 [00:06<00:22, 10.93it/s]"
          ]
        },
        {
          "metadata": {
            "tags": null
          },
          "name": "stdout",
          "output_type": "stream",
          "text": [
            "[Batch 71 / 322]  [Loss: 0.3405, Acc: 85.76%]\n",
            "[Batch 72 / 322]  [Loss: 0.3415, Acc: 85.62%]\n",
            "[Batch 73 / 322]  [Loss: 0.3390, Acc: 85.81%]\n"
          ]
        },
        {
          "metadata": {
            "tags": null
          },
          "name": "stderr",
          "output_type": "stream",
          "text": [
            "\rEpoch 3 Testing:  24%|██▎       | 76/322 [00:06<00:21, 11.37it/s]"
          ]
        },
        {
          "metadata": {
            "tags": null
          },
          "name": "stdout",
          "output_type": "stream",
          "text": [
            "[Batch 74 / 322]  [Loss: 0.3368, Acc: 86.00%]\n",
            "[Batch 75 / 322]  [Loss: 0.3350, Acc: 86.18%]\n",
            "[Batch 76 / 322]  [Loss: 0.3330, Acc: 86.36%]\n"
          ]
        },
        {
          "metadata": {
            "tags": null
          },
          "name": "stderr",
          "output_type": "stream",
          "text": [
            "\rEpoch 3 Testing:  24%|██▍       | 78/322 [00:06<00:23, 10.17it/s]"
          ]
        },
        {
          "metadata": {
            "tags": null
          },
          "name": "stdout",
          "output_type": "stream",
          "text": [
            "[Batch 77 / 322]  [Loss: 0.3354, Acc: 86.22%]\n",
            "[Batch 78 / 322]  [Loss: 0.3361, Acc: 86.08%]\n"
          ]
        },
        {
          "metadata": {
            "tags": null
          },
          "name": "stderr",
          "output_type": "stream",
          "text": [
            "Epoch 3 Testing:  25%|██▌       | 82/322 [00:07<00:24,  9.72it/s]"
          ]
        },
        {
          "metadata": {
            "tags": null
          },
          "name": "stdout",
          "output_type": "stream",
          "text": [
            "[Batch 79 / 322]  [Loss: 0.3332, Acc: 86.25%]\n",
            "[Batch 80 / 322]  [Loss: 0.3313, Acc: 86.42%]\n",
            "[Batch 81 / 322]  [Loss: 0.3307, Acc: 86.28%]\n"
          ]
        },
        {
          "metadata": {
            "tags": null
          },
          "name": "stderr",
          "output_type": "stream",
          "text": [
            "\rEpoch 3 Testing:  26%|██▌       | 84/322 [00:07<00:26,  8.99it/s]"
          ]
        },
        {
          "metadata": {
            "tags": null
          },
          "name": "stdout",
          "output_type": "stream",
          "text": [
            "[Batch 82 / 322]  [Loss: 0.3316, Acc: 86.14%]\n",
            "[Batch 83 / 322]  [Loss: 0.3329, Acc: 86.01%]\n"
          ]
        },
        {
          "metadata": {
            "tags": null
          },
          "name": "stderr",
          "output_type": "stream",
          "text": [
            "\rEpoch 3 Testing:  27%|██▋       | 86/322 [00:07<00:25,  9.18it/s]"
          ]
        },
        {
          "metadata": {
            "tags": null
          },
          "name": "stdout",
          "output_type": "stream",
          "text": [
            "[Batch 84 / 322]  [Loss: 0.3296, Acc: 86.18%]\n",
            "[Batch 85 / 322]  [Loss: 0.3285, Acc: 86.34%]\n",
            "[Batch 86 / 322]  [Loss: 0.3305, Acc: 86.21%]\n"
          ]
        },
        {
          "metadata": {
            "tags": null
          },
          "name": "stderr",
          "output_type": "stream",
          "text": [
            "Epoch 3 Testing:  28%|██▊       | 90/322 [00:08<00:25,  9.21it/s]"
          ]
        },
        {
          "metadata": {
            "tags": null
          },
          "name": "stdout",
          "output_type": "stream",
          "text": [
            "[Batch 87 / 322]  [Loss: 0.3329, Acc: 86.08%]\n",
            "[Batch 88 / 322]  [Loss: 0.3322, Acc: 85.96%]\n",
            "[Batch 89 / 322]  [Loss: 0.3352, Acc: 85.56%]\n"
          ]
        },
        {
          "metadata": {
            "tags": null
          },
          "name": "stderr",
          "output_type": "stream",
          "text": [
            "\rEpoch 3 Testing:  29%|██▊       | 92/322 [00:08<00:22, 10.33it/s]"
          ]
        },
        {
          "metadata": {
            "tags": null
          },
          "name": "stdout",
          "output_type": "stream",
          "text": [
            "[Batch 90 / 322]  [Loss: 0.3339, Acc: 85.71%]\n",
            "[Batch 91 / 322]  [Loss: 0.3337, Acc: 85.60%]\n",
            "[Batch 92 / 322]  [Loss: 0.3322, Acc: 85.75%]\n"
          ]
        },
        {
          "metadata": {
            "tags": null
          },
          "name": "stderr",
          "output_type": "stream",
          "text": [
            "Epoch 3 Testing:  30%|██▉       | 96/322 [00:08<00:20, 10.78it/s]"
          ]
        },
        {
          "metadata": {
            "tags": null
          },
          "name": "stdout",
          "output_type": "stream",
          "text": [
            "[Batch 93 / 322]  [Loss: 0.3337, Acc: 85.64%]\n",
            "[Batch 94 / 322]  [Loss: 0.3369, Acc: 85.26%]\n",
            "[Batch 95 / 322]  [Loss: 0.3361, Acc: 85.42%]\n"
          ]
        },
        {
          "metadata": {
            "tags": null
          },
          "name": "stderr",
          "output_type": "stream",
          "text": [
            "\rEpoch 3 Testing:  30%|███       | 98/322 [00:08<00:21, 10.30it/s]"
          ]
        },
        {
          "metadata": {
            "tags": null
          },
          "name": "stdout",
          "output_type": "stream",
          "text": [
            "[Batch 96 / 322]  [Loss: 0.3334, Acc: 85.57%]\n",
            "[Batch 97 / 322]  [Loss: 0.3315, Acc: 85.71%]\n",
            "[Batch 98 / 322]  [Loss: 0.3294, Acc: 85.86%]\n"
          ]
        },
        {
          "metadata": {
            "tags": null
          },
          "name": "stderr",
          "output_type": "stream",
          "text": [
            "Epoch 3 Testing:  32%|███▏      | 102/322 [00:09<00:18, 11.66it/s]"
          ]
        },
        {
          "metadata": {
            "tags": null
          },
          "name": "stdout",
          "output_type": "stream",
          "text": [
            "[Batch 99 / 322]  [Loss: 0.3305, Acc: 85.75%]\n",
            "[Batch 100 / 322]  [Loss: 0.3301, Acc: 85.64%]\n",
            "[Batch 101 / 322]  [Loss: 0.3288, Acc: 85.78%]\n"
          ]
        },
        {
          "metadata": {
            "tags": null
          },
          "name": "stderr",
          "output_type": "stream",
          "text": [
            "Epoch 3 Testing:  33%|███▎      | 106/322 [00:09<00:16, 13.37it/s]"
          ]
        },
        {
          "metadata": {
            "tags": null
          },
          "name": "stdout",
          "output_type": "stream",
          "text": [
            "[Batch 102 / 322]  [Loss: 0.3302, Acc: 85.68%]\n",
            "[Batch 103 / 322]  [Loss: 0.3284, Acc: 85.82%]\n",
            "[Batch 104 / 322]  [Loss: 0.3336, Acc: 85.48%]\n",
            "[Batch 105 / 322]  [Loss: 0.3343, Acc: 85.38%]\n"
          ]
        },
        {
          "metadata": {
            "tags": null
          },
          "name": "stderr",
          "output_type": "stream",
          "text": [
            "\rEpoch 3 Testing:  34%|███▎      | 108/322 [00:09<00:15, 13.77it/s]"
          ]
        },
        {
          "metadata": {
            "tags": null
          },
          "name": "stdout",
          "output_type": "stream",
          "text": [
            "[Batch 106 / 322]  [Loss: 0.3318, Acc: 85.51%]\n",
            "[Batch 107 / 322]  [Loss: 0.3330, Acc: 85.42%]\n",
            "[Batch 108 / 322]  [Loss: 0.3309, Acc: 85.55%]\n"
          ]
        },
        {
          "metadata": {
            "tags": null
          },
          "name": "stderr",
          "output_type": "stream",
          "text": [
            "Epoch 3 Testing:  35%|███▍      | 112/322 [00:09<00:15, 13.96it/s]"
          ]
        },
        {
          "metadata": {
            "tags": null
          },
          "name": "stdout",
          "output_type": "stream",
          "text": [
            "[Batch 109 / 322]  [Loss: 0.3334, Acc: 85.45%]\n",
            "[Batch 110 / 322]  [Loss: 0.3331, Acc: 85.36%]\n",
            "[Batch 111 / 322]  [Loss: 0.3312, Acc: 85.49%]\n"
          ]
        },
        {
          "metadata": {
            "tags": null
          },
          "name": "stderr",
          "output_type": "stream",
          "text": [
            "Epoch 3 Testing:  36%|███▌      | 116/322 [00:10<00:14, 14.19it/s]"
          ]
        },
        {
          "metadata": {
            "tags": null
          },
          "name": "stdout",
          "output_type": "stream",
          "text": [
            "[Batch 112 / 322]  [Loss: 0.3311, Acc: 85.40%]\n",
            "[Batch 113 / 322]  [Loss: 0.3342, Acc: 85.09%]\n",
            "[Batch 114 / 322]  [Loss: 0.3331, Acc: 85.22%]\n",
            "[Batch 115 / 322]  [Loss: 0.3316, Acc: 85.34%]\n"
          ]
        },
        {
          "metadata": {
            "tags": null
          },
          "name": "stderr",
          "output_type": "stream",
          "text": [
            "\rEpoch 3 Testing:  37%|███▋      | 118/322 [00:10<00:14, 13.86it/s]"
          ]
        },
        {
          "metadata": {
            "tags": null
          },
          "name": "stdout",
          "output_type": "stream",
          "text": [
            "[Batch 116 / 322]  [Loss: 0.3321, Acc: 85.26%]\n",
            "[Batch 117 / 322]  [Loss: 0.3314, Acc: 85.17%]\n",
            "[Batch 118 / 322]  [Loss: 0.3303, Acc: 85.29%]\n",
            "[Batch 119 / 322]  [Loss: 0.3362, Acc: 85.00%]"
          ]
        },
        {
          "metadata": {
            "tags": null
          },
          "name": "stderr",
          "output_type": "stream",
          "text": [
            "Epoch 3 Testing:  38%|███▊      | 122/322 [00:10<00:14, 13.93it/s]"
          ]
        },
        {
          "metadata": {
            "tags": null
          },
          "name": "stdout",
          "output_type": "stream",
          "text": [
            "\n",
            "[Batch 120 / 322]  [Loss: 0.3395, Acc: 84.71%]\n",
            "[Batch 121 / 322]  [Loss: 0.3374, Acc: 84.84%]\n"
          ]
        },
        {
          "metadata": {
            "tags": null
          },
          "name": "stderr",
          "output_type": "stream",
          "text": [
            "\rEpoch 3 Testing:  39%|███▊      | 124/322 [00:10<00:14, 13.56it/s]"
          ]
        },
        {
          "metadata": {
            "tags": null
          },
          "name": "stdout",
          "output_type": "stream",
          "text": [
            "[Batch 122 / 322]  [Loss: 0.3372, Acc: 84.76%]\n",
            "[Batch 123 / 322]  [Loss: 0.3386, Acc: 84.48%]\n",
            "[Batch 124 / 322]  [Loss: 0.3377, Acc: 84.60%]\n"
          ]
        },
        {
          "metadata": {
            "tags": null
          },
          "name": "stderr",
          "output_type": "stream",
          "text": [
            "\rEpoch 3 Testing:  39%|███▉      | 126/322 [00:10<00:14, 13.17it/s]"
          ]
        },
        {
          "metadata": {
            "tags": null
          },
          "name": "stdout",
          "output_type": "stream",
          "text": [
            "[Batch 125 / 322]  [Loss: 0.3357, Acc: 84.72%]\n",
            "[Batch 126 / 322]  [Loss: 0.3343, Acc: 84.84%]\n"
          ]
        },
        {
          "metadata": {
            "tags": null
          },
          "name": "stderr",
          "output_type": "stream",
          "text": [
            "Epoch 3 Testing:  40%|████      | 130/322 [00:11<00:16, 11.55it/s]"
          ]
        },
        {
          "metadata": {
            "tags": null
          },
          "name": "stdout",
          "output_type": "stream",
          "text": [
            "[Batch 127 / 322]  [Loss: 0.3322, Acc: 84.96%]\n",
            "[Batch 128 / 322]  [Loss: 0.3382, Acc: 84.69%]\n",
            "[Batch 129 / 322]  [Loss: 0.3413, Acc: 84.62%]\n"
          ]
        },
        {
          "metadata": {
            "tags": null
          },
          "name": "stderr",
          "output_type": "stream",
          "text": [
            "\rEpoch 3 Testing:  41%|████      | 132/322 [00:11<00:18, 10.32it/s]"
          ]
        },
        {
          "metadata": {
            "tags": null
          },
          "name": "stdout",
          "output_type": "stream",
          "text": [
            "[Batch 130 / 322]  [Loss: 0.3403, Acc: 84.73%]\n",
            "[Batch 131 / 322]  [Loss: 0.3396, Acc: 84.85%]\n",
            "[Batch 132 / 322]  [Loss: 0.3374, Acc: 84.96%]\n"
          ]
        },
        {
          "metadata": {
            "tags": null
          },
          "name": "stderr",
          "output_type": "stream",
          "text": [
            "\rEpoch 3 Testing:  42%|████▏     | 134/322 [00:11<00:18, 10.09it/s]"
          ]
        },
        {
          "metadata": {
            "tags": null
          },
          "name": "stdout",
          "output_type": "stream",
          "text": [
            "[Batch 133 / 322]  [Loss: 0.3381, Acc: 84.89%]\n",
            "[Batch 134 / 322]  [Loss: 0.3362, Acc: 85.00%]\n"
          ]
        },
        {
          "metadata": {
            "tags": null
          },
          "name": "stderr",
          "output_type": "stream",
          "text": [
            "Epoch 3 Testing:  43%|████▎     | 137/322 [00:12<00:22,  8.28it/s]"
          ]
        },
        {
          "metadata": {
            "tags": null
          },
          "name": "stdout",
          "output_type": "stream",
          "text": [
            "[Batch 135 / 322]  [Loss: 0.3348, Acc: 85.11%]\n",
            "[Batch 136 / 322]  [Loss: 0.3353, Acc: 85.04%]\n"
          ]
        },
        {
          "metadata": {
            "tags": null
          },
          "name": "stderr",
          "output_type": "stream",
          "text": [
            "Epoch 3 Testing:  43%|████▎     | 139/322 [00:12<00:23,  7.65it/s]"
          ]
        },
        {
          "metadata": {
            "tags": null
          },
          "name": "stdout",
          "output_type": "stream",
          "text": [
            "[Batch 137 / 322]  [Loss: 0.3369, Acc: 84.96%]\n",
            "[Batch 138 / 322]  [Loss: 0.3413, Acc: 84.71%]\n",
            "[Batch 139 / 322]  [Loss: 0.3422, Acc: 84.64%]\n",
            "[Batch 140 / 322]  [Loss: 0.3460, Acc: 84.57%]\n"
          ]
        },
        {
          "metadata": {
            "tags": null
          },
          "name": "stderr",
          "output_type": "stream",
          "text": [
            "Epoch 3 Testing:  44%|████▍     | 143/322 [00:12<00:22,  7.98it/s]"
          ]
        },
        {
          "metadata": {
            "tags": null
          },
          "name": "stdout",
          "output_type": "stream",
          "text": [
            "[Batch 141 / 322]  [Loss: 0.3474, Acc: 84.51%]\n",
            "[Batch 142 / 322]  [Loss: 0.3474, Acc: 84.44%]\n"
          ]
        },
        {
          "metadata": {
            "tags": null
          },
          "name": "stderr",
          "output_type": "stream",
          "text": [
            "\rEpoch 3 Testing:  45%|████▌     | 145/322 [00:13<00:21,  8.28it/s]"
          ]
        },
        {
          "metadata": {
            "tags": null
          },
          "name": "stdout",
          "output_type": "stream",
          "text": [
            "[Batch 143 / 322]  [Loss: 0.3452, Acc: 84.55%]\n",
            "[Batch 144 / 322]  [Loss: 0.3432, Acc: 84.66%]\n"
          ]
        },
        {
          "metadata": {
            "tags": null
          },
          "name": "stderr",
          "output_type": "stream",
          "text": [
            "\rEpoch 3 Testing:  46%|████▌     | 147/322 [00:13<00:21,  8.33it/s]"
          ]
        },
        {
          "metadata": {
            "tags": null
          },
          "name": "stdout",
          "output_type": "stream",
          "text": [
            "[Batch 145 / 322]  [Loss: 0.3455, Acc: 84.59%]\n",
            "[Batch 146 / 322]  [Loss: 0.3464, Acc: 84.52%]\n"
          ]
        },
        {
          "metadata": {
            "tags": null
          },
          "name": "stderr",
          "output_type": "stream",
          "text": [
            "\rEpoch 3 Testing:  46%|████▋     | 149/322 [00:13<00:18,  9.17it/s]"
          ]
        },
        {
          "metadata": {
            "tags": null
          },
          "name": "stdout",
          "output_type": "stream",
          "text": [
            "[Batch 147 / 322]  [Loss: 0.3455, Acc: 84.63%]\n",
            "[Batch 148 / 322]  [Loss: 0.3464, Acc: 84.56%]\n",
            "[Batch 149 / 322]  [Loss: 0.3485, Acc: 84.50%]\n"
          ]
        },
        {
          "metadata": {
            "tags": null
          },
          "name": "stderr",
          "output_type": "stream",
          "text": [
            "\rEpoch 3 Testing:  47%|████▋     | 151/322 [00:13<00:19,  8.56it/s]"
          ]
        },
        {
          "metadata": {
            "tags": null
          },
          "name": "stdout",
          "output_type": "stream",
          "text": [
            "[Batch 150 / 322]  [Loss: 0.3468, Acc: 84.60%]\n",
            "[Batch 151 / 322]  [Loss: 0.3493, Acc: 84.21%]\n"
          ]
        },
        {
          "metadata": {
            "tags": null
          },
          "name": "stderr",
          "output_type": "stream",
          "text": [
            "\rEpoch 3 Testing:  48%|████▊     | 153/322 [00:14<00:20,  8.14it/s]"
          ]
        },
        {
          "metadata": {
            "tags": null
          },
          "name": "stdout",
          "output_type": "stream",
          "text": [
            "[Batch 152 / 322]  [Loss: 0.3500, Acc: 84.15%]\n",
            "[Batch 153 / 322]  [Loss: 0.3502, Acc: 84.25%]\n"
          ]
        },
        {
          "metadata": {
            "tags": null
          },
          "name": "stderr",
          "output_type": "stream",
          "text": [
            "\rEpoch 3 Testing:  48%|████▊     | 155/322 [00:14<00:21,  7.68it/s]"
          ]
        },
        {
          "metadata": {
            "tags": null
          },
          "name": "stdout",
          "output_type": "stream",
          "text": [
            "[Batch 154 / 322]  [Loss: 0.3499, Acc: 84.35%]\n",
            "[Batch 155 / 322]  [Loss: 0.3515, Acc: 84.29%]\n"
          ]
        },
        {
          "metadata": {
            "tags": null
          },
          "name": "stderr",
          "output_type": "stream",
          "text": [
            "\rEpoch 3 Testing:  49%|████▉     | 157/322 [00:14<00:21,  7.69it/s]"
          ]
        },
        {
          "metadata": {
            "tags": null
          },
          "name": "stdout",
          "output_type": "stream",
          "text": [
            "[Batch 156 / 322]  [Loss: 0.3498, Acc: 84.39%]\n",
            "[Batch 157 / 322]  [Loss: 0.3497, Acc: 84.49%]\n"
          ]
        },
        {
          "metadata": {
            "tags": null
          },
          "name": "stderr",
          "output_type": "stream",
          "text": [
            "\rEpoch 3 Testing:  49%|████▉     | 159/322 [00:14<00:19,  8.18it/s]"
          ]
        },
        {
          "metadata": {
            "tags": null
          },
          "name": "stdout",
          "output_type": "stream",
          "text": [
            "[Batch 158 / 322]  [Loss: 0.3486, Acc: 84.59%]\n",
            "[Batch 159 / 322]  [Loss: 0.3470, Acc: 84.69%]\n"
          ]
        },
        {
          "metadata": {
            "tags": null
          },
          "name": "stderr",
          "output_type": "stream",
          "text": [
            "\rEpoch 3 Testing:  50%|█████     | 161/322 [00:15<00:19,  8.23it/s]"
          ]
        },
        {
          "metadata": {
            "tags": null
          },
          "name": "stdout",
          "output_type": "stream",
          "text": [
            "[Batch 160 / 322]  [Loss: 0.3456, Acc: 84.78%]\n",
            "[Batch 161 / 322]  [Loss: 0.3446, Acc: 84.88%]\n"
          ]
        },
        {
          "metadata": {
            "tags": null
          },
          "name": "stderr",
          "output_type": "stream",
          "text": [
            "Epoch 3 Testing:  51%|█████     | 165/322 [00:15<00:17,  8.79it/s]"
          ]
        },
        {
          "metadata": {
            "tags": null
          },
          "name": "stdout",
          "output_type": "stream",
          "text": [
            "[Batch 162 / 322]  [Loss: 0.3434, Acc: 84.97%]\n",
            "[Batch 163 / 322]  [Loss: 0.3426, Acc: 85.06%]\n",
            "[Batch 164 / 322]  [Loss: 0.3428, Acc: 85.00%]\n"
          ]
        },
        {
          "metadata": {
            "tags": null
          },
          "name": "stderr",
          "output_type": "stream",
          "text": [
            "Epoch 3 Testing:  52%|█████▏    | 169/322 [00:15<00:13, 11.12it/s]"
          ]
        },
        {
          "metadata": {
            "tags": null
          },
          "name": "stdout",
          "output_type": "stream",
          "text": [
            "[Batch 165 / 322]  [Loss: 0.3474, Acc: 84.94%]\n",
            "[Batch 166 / 322]  [Loss: 0.3482, Acc: 84.88%]\n",
            "[Batch 167 / 322]  [Loss: 0.3516, Acc: 84.67%]\n",
            "[Batch 168 / 322]  [Loss: 0.3502, Acc: 84.76%]\n"
          ]
        },
        {
          "metadata": {
            "tags": null
          },
          "name": "stderr",
          "output_type": "stream",
          "text": [
            "Epoch 3 Testing:  54%|█████▎    | 173/322 [00:15<00:11, 13.14it/s]"
          ]
        },
        {
          "metadata": {
            "tags": null
          },
          "name": "stdout",
          "output_type": "stream",
          "text": [
            "[Batch 169 / 322]  [Loss: 0.3525, Acc: 84.71%]\n",
            "[Batch 170 / 322]  [Loss: 0.3534, Acc: 84.65%]\n",
            "[Batch 171 / 322]  [Loss: 0.3545, Acc: 84.59%]\n",
            "[Batch 172 / 322]  [Loss: 0.3531, Acc: 84.68%]\n"
          ]
        },
        {
          "metadata": {
            "tags": null
          },
          "name": "stderr",
          "output_type": "stream",
          "text": [
            "\rEpoch 3 Testing:  54%|█████▍    | 175/322 [00:16<00:10, 13.87it/s]"
          ]
        },
        {
          "metadata": {
            "tags": null
          },
          "name": "stdout",
          "output_type": "stream",
          "text": [
            "[Batch 173 / 322]  [Loss: 0.3537, Acc: 84.63%]\n",
            "[Batch 174 / 322]  [Loss: 0.3537, Acc: 84.71%]\n",
            "[Batch 175 / 322]  [Loss: 0.3526, Acc: 84.80%]\n",
            "[Batch 176 / 322]  [Loss: 0.3543, Acc: 84.75%]"
          ]
        },
        {
          "metadata": {
            "tags": null
          },
          "name": "stderr",
          "output_type": "stream",
          "text": [
            "Epoch 3 Testing:  56%|█████▌    | 179/322 [00:16<00:10, 14.19it/s]"
          ]
        },
        {
          "metadata": {
            "tags": null
          },
          "name": "stdout",
          "output_type": "stream",
          "text": [
            "\n",
            "[Batch 177 / 322]  [Loss: 0.3528, Acc: 84.83%]\n",
            "[Batch 178 / 322]  [Loss: 0.3550, Acc: 84.78%]\n",
            "[Batch 179 / 322]  [Loss: 0.3542, Acc: 84.86%]\n"
          ]
        },
        {
          "metadata": {
            "tags": null
          },
          "name": "stderr",
          "output_type": "stream",
          "text": [
            "Epoch 3 Testing:  57%|█████▋    | 183/322 [00:16<00:09, 14.81it/s]"
          ]
        },
        {
          "metadata": {
            "tags": null
          },
          "name": "stdout",
          "output_type": "stream",
          "text": [
            "[Batch 180 / 322]  [Loss: 0.3535, Acc: 84.81%]\n",
            "[Batch 181 / 322]  [Loss: 0.3540, Acc: 84.75%]\n",
            "[Batch 182 / 322]  [Loss: 0.3525, Acc: 84.84%]\n"
          ]
        },
        {
          "metadata": {
            "tags": null
          },
          "name": "stderr",
          "output_type": "stream",
          "text": [
            "\rEpoch 3 Testing:  57%|█████▋    | 185/322 [00:16<00:09, 14.64it/s]"
          ]
        },
        {
          "metadata": {
            "tags": null
          },
          "name": "stdout",
          "output_type": "stream",
          "text": [
            "[Batch 183 / 322]  [Loss: 0.3535, Acc: 84.78%]\n",
            "[Batch 184 / 322]  [Loss: 0.3524, Acc: 84.86%]\n",
            "[Batch 185 / 322]  [Loss: 0.3538, Acc: 84.68%]\n"
          ]
        },
        {
          "metadata": {
            "tags": null
          },
          "name": "stderr",
          "output_type": "stream",
          "text": [
            "Epoch 3 Testing:  59%|█████▊    | 189/322 [00:17<00:08, 14.96it/s]"
          ]
        },
        {
          "metadata": {
            "tags": null
          },
          "name": "stdout",
          "output_type": "stream",
          "text": [
            "[Batch 186 / 322]  [Loss: 0.3524, Acc: 84.76%]\n",
            "[Batch 187 / 322]  [Loss: 0.3536, Acc: 84.71%]\n",
            "[Batch 188 / 322]  [Loss: 0.3549, Acc: 84.52%]\n"
          ]
        },
        {
          "metadata": {
            "tags": null
          },
          "name": "stderr",
          "output_type": "stream",
          "text": [
            "\rEpoch 3 Testing:  59%|█████▉    | 191/322 [00:17<00:09, 14.36it/s]"
          ]
        },
        {
          "metadata": {
            "tags": null
          },
          "name": "stdout",
          "output_type": "stream",
          "text": [
            "[Batch 189 / 322]  [Loss: 0.3555, Acc: 84.47%]\n",
            "[Batch 190 / 322]  [Loss: 0.3557, Acc: 84.42%]\n",
            "[Batch 191 / 322]  [Loss: 0.3582, Acc: 84.24%]\n"
          ]
        },
        {
          "metadata": {
            "tags": null
          },
          "name": "stderr",
          "output_type": "stream",
          "text": [
            "Epoch 3 Testing:  61%|██████    | 195/322 [00:17<00:08, 14.42it/s]"
          ]
        },
        {
          "metadata": {
            "tags": null
          },
          "name": "stdout",
          "output_type": "stream",
          "text": [
            "[Batch 192 / 322]  [Loss: 0.3578, Acc: 84.33%]\n",
            "[Batch 193 / 322]  [Loss: 0.3572, Acc: 84.41%]\n",
            "[Batch 194 / 322]  [Loss: 0.3573, Acc: 84.36%]\n"
          ]
        },
        {
          "metadata": {
            "tags": null
          },
          "name": "stderr",
          "output_type": "stream",
          "text": [
            "\rEpoch 3 Testing:  61%|██████    | 197/322 [00:17<00:09, 13.85it/s]"
          ]
        },
        {
          "metadata": {
            "tags": null
          },
          "name": "stdout",
          "output_type": "stream",
          "text": [
            "[Batch 195 / 322]  [Loss: 0.3573, Acc: 84.31%]\n",
            "[Batch 196 / 322]  [Loss: 0.3557, Acc: 84.39%]\n",
            "[Batch 197 / 322]  [Loss: 0.3568, Acc: 84.34%]\n"
          ]
        },
        {
          "metadata": {
            "tags": null
          },
          "name": "stderr",
          "output_type": "stream",
          "text": [
            "Epoch 3 Testing:  62%|██████▏   | 201/322 [00:17<00:08, 14.35it/s]"
          ]
        },
        {
          "metadata": {
            "tags": null
          },
          "name": "stdout",
          "output_type": "stream",
          "text": [
            "[Batch 198 / 322]  [Loss: 0.3569, Acc: 84.42%]\n",
            "[Batch 199 / 322]  [Loss: 0.3563, Acc: 84.50%]\n",
            "[Batch 200 / 322]  [Loss: 0.3549, Acc: 84.58%]\n",
            "[Batch 201 / 322]  [Loss: 0.3543, Acc: 84.65%]\n"
          ]
        },
        {
          "metadata": {
            "tags": null
          },
          "name": "stderr",
          "output_type": "stream",
          "text": [
            "Epoch 3 Testing:  64%|██████▎   | 205/322 [00:18<00:07, 14.79it/s]"
          ]
        },
        {
          "metadata": {
            "tags": null
          },
          "name": "stdout",
          "output_type": "stream",
          "text": [
            "[Batch 202 / 322]  [Loss: 0.3530, Acc: 84.73%]\n",
            "[Batch 203 / 322]  [Loss: 0.3516, Acc: 84.80%]\n",
            "[Batch 204 / 322]  [Loss: 0.3551, Acc: 84.76%]\n"
          ]
        },
        {
          "metadata": {
            "tags": null
          },
          "name": "stderr",
          "output_type": "stream",
          "text": [
            "Epoch 3 Testing:  65%|██████▍   | 209/322 [00:18<00:07, 14.27it/s]"
          ]
        },
        {
          "metadata": {
            "tags": null
          },
          "name": "stdout",
          "output_type": "stream",
          "text": [
            "[Batch 205 / 322]  [Loss: 0.3568, Acc: 84.59%]\n",
            "[Batch 206 / 322]  [Loss: 0.3580, Acc: 84.54%]\n",
            "[Batch 207 / 322]  [Loss: 0.3579, Acc: 84.62%]\n",
            "[Batch 208 / 322]  [Loss: 0.3587, Acc: 84.57%]\n"
          ]
        },
        {
          "metadata": {
            "tags": null
          },
          "name": "stderr",
          "output_type": "stream",
          "text": [
            "Epoch 3 Testing:  66%|██████▌   | 213/322 [00:18<00:07, 13.81it/s]"
          ]
        },
        {
          "metadata": {
            "tags": null
          },
          "name": "stdout",
          "output_type": "stream",
          "text": [
            "[Batch 209 / 322]  [Loss: 0.3580, Acc: 84.64%]\n",
            "[Batch 210 / 322]  [Loss: 0.3595, Acc: 84.60%]\n",
            "[Batch 211 / 322]  [Loss: 0.3585, Acc: 84.67%]\n",
            "[Batch 212 / 322]  [Loss: 0.3577, Acc: 84.74%]\n"
          ]
        },
        {
          "metadata": {
            "tags": null
          },
          "name": "stderr",
          "output_type": "stream",
          "text": [
            "\rEpoch 3 Testing:  67%|██████▋   | 215/322 [00:18<00:07, 13.71it/s]"
          ]
        },
        {
          "metadata": {
            "tags": null
          },
          "name": "stdout",
          "output_type": "stream",
          "text": [
            "[Batch 213 / 322]  [Loss: 0.3579, Acc: 84.70%]\n",
            "[Batch 214 / 322]  [Loss: 0.3572, Acc: 84.77%]\n",
            "[Batch 215 / 322]  [Loss: 0.3562, Acc: 84.84%]\n"
          ]
        },
        {
          "metadata": {
            "tags": null
          },
          "name": "stderr",
          "output_type": "stream",
          "text": [
            "\rEpoch 3 Testing:  67%|██████▋   | 217/322 [00:19<00:07, 13.20it/s]"
          ]
        },
        {
          "metadata": {
            "tags": null
          },
          "name": "stdout",
          "output_type": "stream",
          "text": [
            "[Batch 216 / 322]  [Loss: 0.3551, Acc: 84.91%]\n",
            "[Batch 217 / 322]  [Loss: 0.3538, Acc: 84.98%]\n"
          ]
        },
        {
          "metadata": {
            "tags": null
          },
          "name": "stderr",
          "output_type": "stream",
          "text": [
            "Epoch 3 Testing:  69%|██████▊   | 221/322 [00:19<00:08, 11.38it/s]"
          ]
        },
        {
          "metadata": {
            "tags": null
          },
          "name": "stdout",
          "output_type": "stream",
          "text": [
            "[Batch 218 / 322]  [Loss: 0.3545, Acc: 84.82%]\n",
            "[Batch 219 / 322]  [Loss: 0.3535, Acc: 84.89%]\n",
            "[Batch 220 / 322]  [Loss: 0.3534, Acc: 84.95%]\n"
          ]
        },
        {
          "metadata": {
            "tags": null
          },
          "name": "stderr",
          "output_type": "stream",
          "text": [
            "\rEpoch 3 Testing:  69%|██████▉   | 223/322 [00:19<00:08, 11.09it/s]"
          ]
        },
        {
          "metadata": {
            "tags": null
          },
          "name": "stdout",
          "output_type": "stream",
          "text": [
            "[Batch 221 / 322]  [Loss: 0.3524, Acc: 85.02%]\n",
            "[Batch 222 / 322]  [Loss: 0.3515, Acc: 85.09%]\n"
          ]
        },
        {
          "metadata": {
            "tags": null
          },
          "name": "stderr",
          "output_type": "stream",
          "text": [
            "\rEpoch 3 Testing:  70%|██████▉   | 225/322 [00:19<00:09,  9.90it/s]"
          ]
        },
        {
          "metadata": {
            "tags": null
          },
          "name": "stdout",
          "output_type": "stream",
          "text": [
            "[Batch 223 / 322]  [Loss: 0.3532, Acc: 84.93%]\n",
            "[Batch 224 / 322]  [Loss: 0.3540, Acc: 84.89%]\n"
          ]
        },
        {
          "metadata": {
            "tags": null
          },
          "name": "stderr",
          "output_type": "stream",
          "text": [
            "\rEpoch 3 Testing:  70%|███████   | 227/322 [00:20<00:09,  9.50it/s]"
          ]
        },
        {
          "metadata": {
            "tags": null
          },
          "name": "stdout",
          "output_type": "stream",
          "text": [
            "[Batch 225 / 322]  [Loss: 0.3535, Acc: 84.96%]\n",
            "[Batch 226 / 322]  [Loss: 0.3527, Acc: 85.02%]\n"
          ]
        },
        {
          "metadata": {
            "tags": null
          },
          "name": "stderr",
          "output_type": "stream",
          "text": [
            "\rEpoch 3 Testing:  71%|███████   | 228/322 [00:20<00:10,  8.62it/s]"
          ]
        },
        {
          "metadata": {
            "tags": null
          },
          "name": "stdout",
          "output_type": "stream",
          "text": [
            "[Batch 227 / 322]  [Loss: 0.3519, Acc: 85.09%]\n",
            "[Batch 228 / 322]  [Loss: 0.3537, Acc: 84.93%]\n"
          ]
        },
        {
          "metadata": {
            "tags": null
          },
          "name": "stderr",
          "output_type": "stream",
          "text": [
            "\rEpoch 3 Testing:  71%|███████▏  | 230/322 [00:20<00:10,  8.71it/s]"
          ]
        },
        {
          "metadata": {
            "tags": null
          },
          "name": "stdout",
          "output_type": "stream",
          "text": [
            "[Batch 229 / 322]  [Loss: 0.3527, Acc: 85.00%]\n",
            "[Batch 230 / 322]  [Loss: 0.3517, Acc: 85.06%]\n"
          ]
        },
        {
          "metadata": {
            "tags": null
          },
          "name": "stderr",
          "output_type": "stream",
          "text": [
            "\rEpoch 3 Testing:  72%|███████▏  | 232/322 [00:20<00:10,  8.89it/s]"
          ]
        },
        {
          "metadata": {
            "tags": null
          },
          "name": "stdout",
          "output_type": "stream",
          "text": [
            "[Batch 231 / 322]  [Loss: 0.3520, Acc: 85.02%]\n",
            "[Batch 232 / 322]  [Loss: 0.3515, Acc: 85.09%]\n"
          ]
        },
        {
          "metadata": {
            "tags": null
          },
          "name": "stderr",
          "output_type": "stream",
          "text": [
            "\rEpoch 3 Testing:  73%|███████▎  | 234/322 [00:20<00:09,  8.88it/s]"
          ]
        },
        {
          "metadata": {
            "tags": null
          },
          "name": "stdout",
          "output_type": "stream",
          "text": [
            "[Batch 233 / 322]  [Loss: 0.3506, Acc: 85.15%]\n",
            "[Batch 234 / 322]  [Loss: 0.3528, Acc: 85.00%]\n"
          ]
        },
        {
          "metadata": {
            "tags": null
          },
          "name": "stderr",
          "output_type": "stream",
          "text": [
            "Epoch 3 Testing:  74%|███████▍  | 238/322 [00:21<00:09,  9.25it/s]"
          ]
        },
        {
          "metadata": {
            "tags": null
          },
          "name": "stdout",
          "output_type": "stream",
          "text": [
            "[Batch 235 / 322]  [Loss: 0.3517, Acc: 85.06%]\n",
            "[Batch 236 / 322]  [Loss: 0.3513, Acc: 85.13%]\n",
            "[Batch 237 / 322]  [Loss: 0.3529, Acc: 84.98%]\n"
          ]
        },
        {
          "metadata": {
            "tags": null
          },
          "name": "stderr",
          "output_type": "stream",
          "text": [
            "\rEpoch 3 Testing:  75%|███████▍  | 240/322 [00:21<00:08,  9.57it/s]"
          ]
        },
        {
          "metadata": {
            "tags": null
          },
          "name": "stdout",
          "output_type": "stream",
          "text": [
            "[Batch 238 / 322]  [Loss: 0.3521, Acc: 85.04%]\n",
            "[Batch 239 / 322]  [Loss: 0.3514, Acc: 85.10%]\n",
            "[Batch 240 / 322]  [Loss: 0.3516, Acc: 85.06%]"
          ]
        },
        {
          "metadata": {
            "tags": null
          },
          "name": "stderr",
          "output_type": "stream",
          "text": [
            "\rEpoch 3 Testing:  75%|███████▌  | 242/322 [00:21<00:08,  9.86it/s]"
          ]
        },
        {
          "metadata": {
            "tags": null
          },
          "name": "stdout",
          "output_type": "stream",
          "text": [
            "\n",
            "[Batch 241 / 322]  [Loss: 0.3509, Acc: 85.12%]\n",
            "[Batch 242 / 322]  [Loss: 0.3502, Acc: 85.19%]\n"
          ]
        },
        {
          "metadata": {
            "tags": null
          },
          "name": "stderr",
          "output_type": "stream",
          "text": [
            "Epoch 3 Testing:  76%|███████▋  | 246/322 [00:22<00:07, 10.15it/s]"
          ]
        },
        {
          "metadata": {
            "tags": null
          },
          "name": "stdout",
          "output_type": "stream",
          "text": [
            "[Batch 243 / 322]  [Loss: 0.3499, Acc: 85.14%]\n",
            "[Batch 244 / 322]  [Loss: 0.3503, Acc: 85.10%]\n",
            "[Batch 245 / 322]  [Loss: 0.3498, Acc: 85.16%]\n"
          ]
        },
        {
          "metadata": {
            "tags": null
          },
          "name": "stderr",
          "output_type": "stream",
          "text": [
            "\rEpoch 3 Testing:  77%|███████▋  | 248/322 [00:22<00:07, 10.10it/s]"
          ]
        },
        {
          "metadata": {
            "tags": null
          },
          "name": "stdout",
          "output_type": "stream",
          "text": [
            "[Batch 246 / 322]  [Loss: 0.3485, Acc: 85.22%]\n",
            "[Batch 247 / 322]  [Loss: 0.3475, Acc: 85.28%]\n",
            "[Batch 248 / 322]  [Loss: 0.3462, Acc: 85.34%]\n"
          ]
        },
        {
          "metadata": {
            "tags": null
          },
          "name": "stderr",
          "output_type": "stream",
          "text": [
            "\rEpoch 3 Testing:  78%|███████▊  | 250/322 [00:22<00:06, 10.50it/s]"
          ]
        },
        {
          "metadata": {
            "tags": null
          },
          "name": "stdout",
          "output_type": "stream",
          "text": [
            "[Batch 249 / 322]  [Loss: 0.3457, Acc: 85.40%]\n",
            "[Batch 250 / 322]  [Loss: 0.3476, Acc: 85.26%]\n"
          ]
        },
        {
          "metadata": {
            "tags": null
          },
          "name": "stderr",
          "output_type": "stream",
          "text": [
            "Epoch 3 Testing:  79%|███████▉  | 254/322 [00:23<00:07,  9.69it/s]"
          ]
        },
        {
          "metadata": {
            "tags": null
          },
          "name": "stdout",
          "output_type": "stream",
          "text": [
            "[Batch 251 / 322]  [Loss: 0.3467, Acc: 85.32%]\n",
            "[Batch 252 / 322]  [Loss: 0.3460, Acc: 85.38%]\n",
            "[Batch 253 / 322]  [Loss: 0.3456, Acc: 85.43%]\n"
          ]
        },
        {
          "metadata": {
            "tags": null
          },
          "name": "stderr",
          "output_type": "stream",
          "text": [
            "\rEpoch 3 Testing:  80%|███████▉  | 256/322 [00:23<00:06,  9.67it/s]"
          ]
        },
        {
          "metadata": {
            "tags": null
          },
          "name": "stdout",
          "output_type": "stream",
          "text": [
            "[Batch 254 / 322]  [Loss: 0.3485, Acc: 85.39%]\n",
            "[Batch 255 / 322]  [Loss: 0.3496, Acc: 85.35%]\n",
            "[Batch 256 / 322]  [Loss: 0.3532, Acc: 85.12%]\n"
          ]
        },
        {
          "metadata": {
            "tags": null
          },
          "name": "stderr",
          "output_type": "stream",
          "text": [
            "\rEpoch 3 Testing:  80%|████████  | 258/322 [00:23<00:06,  9.16it/s]"
          ]
        },
        {
          "metadata": {
            "tags": null
          },
          "name": "stdout",
          "output_type": "stream",
          "text": [
            "[Batch 257 / 322]  [Loss: 0.3528, Acc: 85.08%]\n",
            "[Batch 258 / 322]  [Loss: 0.3521, Acc: 85.14%]\n"
          ]
        },
        {
          "metadata": {
            "tags": null
          },
          "name": "stderr",
          "output_type": "stream",
          "text": [
            "Epoch 3 Testing:  81%|████████  | 261/322 [00:23<00:06,  8.84it/s]"
          ]
        },
        {
          "metadata": {
            "tags": null
          },
          "name": "stdout",
          "output_type": "stream",
          "text": [
            "[Batch 259 / 322]  [Loss: 0.3524, Acc: 85.10%]\n",
            "[Batch 260 / 322]  [Loss: 0.3539, Acc: 84.87%]\n"
          ]
        },
        {
          "metadata": {
            "tags": null
          },
          "name": "stderr",
          "output_type": "stream",
          "text": [
            "\rEpoch 3 Testing:  81%|████████▏ | 262/322 [00:23<00:06,  9.03it/s]"
          ]
        },
        {
          "metadata": {
            "tags": null
          },
          "name": "stdout",
          "output_type": "stream",
          "text": [
            "[Batch 261 / 322]  [Loss: 0.3552, Acc: 84.83%]\n",
            "[Batch 262 / 322]  [Loss: 0.3547, Acc: 84.89%]\n"
          ]
        },
        {
          "metadata": {
            "tags": null
          },
          "name": "stderr",
          "output_type": "stream",
          "text": [
            "Epoch 3 Testing:  83%|████████▎ | 266/322 [00:24<00:05, 10.00it/s]"
          ]
        },
        {
          "metadata": {
            "tags": null
          },
          "name": "stdout",
          "output_type": "stream",
          "text": [
            "[Batch 263 / 322]  [Loss: 0.3574, Acc: 84.66%]\n",
            "[Batch 264 / 322]  [Loss: 0.3571, Acc: 84.62%]\n",
            "[Batch 265 / 322]  [Loss: 0.3560, Acc: 84.68%]\n",
            "[Batch 266 / 322]  [Loss: 0.3567, Acc: 84.64%]\n"
          ]
        },
        {
          "metadata": {
            "tags": null
          },
          "name": "stderr",
          "output_type": "stream",
          "text": [
            "\rEpoch 3 Testing:  83%|████████▎ | 268/322 [00:24<00:05,  9.98it/s]"
          ]
        },
        {
          "metadata": {
            "tags": null
          },
          "name": "stdout",
          "output_type": "stream",
          "text": [
            "[Batch 267 / 322]  [Loss: 0.3558, Acc: 84.70%]\n",
            "[Batch 268 / 322]  [Loss: 0.3546, Acc: 84.76%]\n"
          ]
        },
        {
          "metadata": {
            "tags": null
          },
          "name": "stderr",
          "output_type": "stream",
          "text": [
            "Epoch 3 Testing:  84%|████████▍ | 272/322 [00:24<00:04, 10.16it/s]"
          ]
        },
        {
          "metadata": {
            "tags": null
          },
          "name": "stdout",
          "output_type": "stream",
          "text": [
            "[Batch 269 / 322]  [Loss: 0.3544, Acc: 84.81%]\n",
            "[Batch 270 / 322]  [Loss: 0.3535, Acc: 84.87%]\n",
            "[Batch 271 / 322]  [Loss: 0.3527, Acc: 84.93%]\n"
          ]
        },
        {
          "metadata": {
            "tags": null
          },
          "name": "stderr",
          "output_type": "stream",
          "text": [
            "\rEpoch 3 Testing:  85%|████████▌ | 274/322 [00:25<00:04, 11.15it/s]"
          ]
        },
        {
          "metadata": {
            "tags": null
          },
          "name": "stdout",
          "output_type": "stream",
          "text": [
            "[Batch 272 / 322]  [Loss: 0.3515, Acc: 84.98%]\n",
            "[Batch 273 / 322]  [Loss: 0.3511, Acc: 85.04%]\n",
            "[Batch 274 / 322]  [Loss: 0.3506, Acc: 85.09%]\n"
          ]
        },
        {
          "metadata": {
            "tags": null
          },
          "name": "stderr",
          "output_type": "stream",
          "text": [
            "Epoch 3 Testing:  86%|████████▋ | 278/322 [00:25<00:03, 13.05it/s]"
          ]
        },
        {
          "metadata": {
            "tags": null
          },
          "name": "stdout",
          "output_type": "stream",
          "text": [
            "[Batch 275 / 322]  [Loss: 0.3498, Acc: 85.14%]\n",
            "[Batch 276 / 322]  [Loss: 0.3513, Acc: 85.11%]\n",
            "[Batch 277 / 322]  [Loss: 0.3504, Acc: 85.16%]\n",
            "[Batch 278 / 322]  [Loss: 0.3497, Acc: 85.22%]\n"
          ]
        },
        {
          "metadata": {
            "tags": null
          },
          "name": "stderr",
          "output_type": "stream",
          "text": [
            "Epoch 3 Testing:  88%|████████▊ | 282/322 [00:25<00:02, 13.81it/s]"
          ]
        },
        {
          "metadata": {
            "tags": null
          },
          "name": "stdout",
          "output_type": "stream",
          "text": [
            "[Batch 279 / 322]  [Loss: 0.3494, Acc: 85.18%]\n",
            "[Batch 280 / 322]  [Loss: 0.3502, Acc: 85.14%]\n",
            "[Batch 281 / 322]  [Loss: 0.3502, Acc: 85.20%]\n",
            "[Batch 282 / 322]  [Loss: 0.3496, Acc: 85.25%]\n"
          ]
        },
        {
          "metadata": {
            "tags": null
          },
          "name": "stderr",
          "output_type": "stream",
          "text": [
            "Epoch 3 Testing:  89%|████████▉ | 286/322 [00:25<00:02, 13.76it/s]"
          ]
        },
        {
          "metadata": {
            "tags": null
          },
          "name": "stdout",
          "output_type": "stream",
          "text": [
            "[Batch 283 / 322]  [Loss: 0.3509, Acc: 85.12%]\n",
            "[Batch 284 / 322]  [Loss: 0.3522, Acc: 85.00%]\n",
            "[Batch 285 / 322]  [Loss: 0.3515, Acc: 85.05%]\n",
            "[Batch 286 / 322]  [Loss: 0.3507, Acc: 85.10%]\n"
          ]
        },
        {
          "metadata": {
            "tags": null
          },
          "name": "stderr",
          "output_type": "stream",
          "text": [
            "Epoch 3 Testing:  90%|█████████ | 290/322 [00:26<00:02, 13.88it/s]"
          ]
        },
        {
          "metadata": {
            "tags": null
          },
          "name": "stdout",
          "output_type": "stream",
          "text": [
            "[Batch 287 / 322]  [Loss: 0.3526, Acc: 84.98%]\n",
            "[Batch 288 / 322]  [Loss: 0.3519, Acc: 85.03%]\n",
            "[Batch 289 / 322]  [Loss: 0.3518, Acc: 85.00%]\n"
          ]
        },
        {
          "metadata": {
            "tags": null
          },
          "name": "stderr",
          "output_type": "stream",
          "text": [
            "Epoch 3 Testing:  91%|█████████▏| 294/322 [00:26<00:01, 15.06it/s]"
          ]
        },
        {
          "metadata": {
            "tags": null
          },
          "name": "stdout",
          "output_type": "stream",
          "text": [
            "[Batch 290 / 322]  [Loss: 0.3525, Acc: 84.97%]\n",
            "[Batch 291 / 322]  [Loss: 0.3526, Acc: 84.93%]\n",
            "[Batch 292 / 322]  [Loss: 0.3517, Acc: 84.98%]\n",
            "[Batch 293 / 322]  [Loss: 0.3509, Acc: 85.03%]\n"
          ]
        },
        {
          "metadata": {
            "tags": null
          },
          "name": "stderr",
          "output_type": "stream",
          "text": [
            "\rEpoch 3 Testing:  92%|█████████▏| 296/322 [00:26<00:01, 14.88it/s]"
          ]
        },
        {
          "metadata": {
            "tags": null
          },
          "name": "stdout",
          "output_type": "stream",
          "text": [
            "[Batch 294 / 322]  [Loss: 0.3533, Acc: 84.92%]\n",
            "[Batch 295 / 322]  [Loss: 0.3536, Acc: 84.88%]\n",
            "[Batch 296 / 322]  [Loss: 0.3532, Acc: 84.93%]\n"
          ]
        },
        {
          "metadata": {
            "tags": null
          },
          "name": "stderr",
          "output_type": "stream",
          "text": [
            "Epoch 3 Testing:  93%|█████████▎| 300/322 [00:26<00:01, 14.29it/s]"
          ]
        },
        {
          "metadata": {
            "tags": null
          },
          "name": "stdout",
          "output_type": "stream",
          "text": [
            "[Batch 297 / 322]  [Loss: 0.3528, Acc: 84.98%]\n",
            "[Batch 298 / 322]  [Loss: 0.3525, Acc: 85.03%]\n",
            "[Batch 299 / 322]  [Loss: 0.3516, Acc: 85.08%]\n"
          ]
        },
        {
          "metadata": {
            "tags": null
          },
          "name": "stderr",
          "output_type": "stream",
          "text": [
            "Epoch 3 Testing:  94%|█████████▍| 304/322 [00:27<00:01, 15.11it/s]"
          ]
        },
        {
          "metadata": {
            "tags": null
          },
          "name": "stdout",
          "output_type": "stream",
          "text": [
            "[Batch 300 / 322]  [Loss: 0.3508, Acc: 85.13%]\n",
            "[Batch 301 / 322]  [Loss: 0.3500, Acc: 85.18%]\n",
            "[Batch 302 / 322]  [Loss: 0.3492, Acc: 85.23%]\n",
            "[Batch 303 / 322]  [Loss: 0.3484, Acc: 85.28%]\n"
          ]
        },
        {
          "metadata": {
            "tags": null
          },
          "name": "stderr",
          "output_type": "stream",
          "text": [
            "\rEpoch 3 Testing:  95%|█████████▌| 306/322 [00:27<00:01, 14.84it/s]"
          ]
        },
        {
          "metadata": {
            "tags": null
          },
          "name": "stdout",
          "output_type": "stream",
          "text": [
            "[Batch 304 / 322]  [Loss: 0.3482, Acc: 85.25%]\n",
            "[Batch 305 / 322]  [Loss: 0.3476, Acc: 85.29%]\n",
            "[Batch 306 / 322]  [Loss: 0.3470, Acc: 85.34%]\n"
          ]
        },
        {
          "metadata": {
            "tags": null
          },
          "name": "stderr",
          "output_type": "stream",
          "text": [
            "Epoch 3 Testing:  96%|█████████▋| 310/322 [00:27<00:00, 14.07it/s]"
          ]
        },
        {
          "metadata": {
            "tags": null
          },
          "name": "stdout",
          "output_type": "stream",
          "text": [
            "[Batch 307 / 322]  [Loss: 0.3464, Acc: 85.39%]\n",
            "[Batch 308 / 322]  [Loss: 0.3458, Acc: 85.44%]\n",
            "[Batch 309 / 322]  [Loss: 0.3464, Acc: 85.32%]\n"
          ]
        },
        {
          "metadata": {
            "tags": null
          },
          "name": "stderr",
          "output_type": "stream",
          "text": [
            "\rEpoch 3 Testing:  97%|█████████▋| 312/322 [00:27<00:00, 13.99it/s]"
          ]
        },
        {
          "metadata": {
            "tags": null
          },
          "name": "stdout",
          "output_type": "stream",
          "text": [
            "[Batch 310 / 322]  [Loss: 0.3455, Acc: 85.37%]\n",
            "[Batch 311 / 322]  [Loss: 0.3448, Acc: 85.42%]\n",
            "[Batch 312 / 322]  [Loss: 0.3441, Acc: 85.46%]\n"
          ]
        },
        {
          "metadata": {
            "tags": null
          },
          "name": "stderr",
          "output_type": "stream",
          "text": [
            "Epoch 3 Testing:  98%|█████████▊| 316/322 [00:27<00:00, 15.08it/s]"
          ]
        },
        {
          "metadata": {
            "tags": null
          },
          "name": "stdout",
          "output_type": "stream",
          "text": [
            "[Batch 313 / 322]  [Loss: 0.3436, Acc: 85.51%]\n",
            "[Batch 314 / 322]  [Loss: 0.3429, Acc: 85.56%]\n",
            "[Batch 315 / 322]  [Loss: 0.3435, Acc: 85.52%]\n",
            "[Batch 316 / 322]  [Loss: 0.3436, Acc: 85.49%]\n"
          ]
        },
        {
          "metadata": {
            "tags": null
          },
          "name": "stderr",
          "output_type": "stream",
          "text": [
            "Epoch 3 Testing:  99%|█████████▉| 320/322 [00:28<00:00, 15.19it/s]"
          ]
        },
        {
          "metadata": {
            "tags": null
          },
          "name": "stdout",
          "output_type": "stream",
          "text": [
            "[Batch 317 / 322]  [Loss: 0.3441, Acc: 85.46%]\n",
            "[Batch 318 / 322]  [Loss: 0.3457, Acc: 85.34%]\n",
            "[Batch 319 / 322]  [Loss: 0.3474, Acc: 85.31%]\n",
            "[Batch 320 / 322]  [Loss: 0.3467, Acc: 85.36%]\n"
          ]
        },
        {
          "metadata": {
            "tags": null
          },
          "name": "stderr",
          "output_type": "stream",
          "text": [
            "\rEpoch 3 Testing: 100%|██████████| 322/322 [00:28<00:00, 11.36it/s]\n"
          ]
        },
        {
          "metadata": {
            "tags": null
          },
          "name": "stdout",
          "output_type": "stream",
          "text": [
            "[Batch 321 / 322]  [Loss: 0.3463, Acc: 85.38%]\n",
            "\n",
            "Accuracy 85.38102643856921\n"
          ]
        },
        {
          "output_type": "stream",
          "name": "stderr",
          "text": [
            "Epoch 4/5: 100%|██████████| 1286/1286 [04:20<00:00,  4.93it/s]\n"
          ]
        },
        {
          "output_type": "stream",
          "name": "stdout",
          "text": [
            "\n",
            "[Epoch 4/5] [Loss: 0.4336, Acc: 8389.42%]\n",
            "Testing\n"
          ]
        },
        {
          "output_type": "stream",
          "name": "stderr",
          "text": [
            "Epoch 4 Testing:   1%|          | 3/322 [00:00<00:39,  8.06it/s]"
          ]
        },
        {
          "output_type": "stream",
          "name": "stdout",
          "text": [
            "[Batch 0 / 322]  [Loss: 0.0624, Acc: 100.00%]\n",
            "[Batch 1 / 322]  [Loss: 0.0781, Acc: 100.00%]\n",
            "[Batch 2 / 322]  [Loss: 0.1958, Acc: 91.67%]\n",
            "[Batch 3 / 322]  [Loss: 0.1717, Acc: 93.75%]\n"
          ]
        },
        {
          "output_type": "stream",
          "name": "stderr",
          "text": [
            "Epoch 4 Testing:   2%|▏         | 7/322 [00:00<00:25, 12.60it/s]"
          ]
        },
        {
          "output_type": "stream",
          "name": "stdout",
          "text": [
            "[Batch 4 / 322]  [Loss: 0.1628, Acc: 95.00%]\n",
            "[Batch 5 / 322]  [Loss: 0.1641, Acc: 95.83%]\n",
            "[Batch 6 / 322]  [Loss: 0.2169, Acc: 89.29%]\n",
            "[Batch 7 / 322]  [Loss: 0.1974, Acc: 90.62%]\n"
          ]
        },
        {
          "output_type": "stream",
          "name": "stderr",
          "text": [
            "Epoch 4 Testing:   3%|▎         | 11/322 [00:00<00:22, 13.99it/s]"
          ]
        },
        {
          "output_type": "stream",
          "name": "stdout",
          "text": [
            "[Batch 8 / 322]  [Loss: 0.1975, Acc: 91.67%]\n",
            "[Batch 9 / 322]  [Loss: 0.2114, Acc: 92.50%]\n",
            "[Batch 10 / 322]  [Loss: 0.1968, Acc: 93.18%]\n"
          ]
        },
        {
          "output_type": "stream",
          "name": "stderr",
          "text": [
            "\rEpoch 4 Testing:   4%|▍         | 13/322 [00:01<00:23, 13.01it/s]"
          ]
        },
        {
          "output_type": "stream",
          "name": "stdout",
          "text": [
            "[Batch 11 / 322]  [Loss: 0.2346, Acc: 87.50%]\n",
            "[Batch 12 / 322]  [Loss: 0.2521, Acc: 86.54%]\n",
            "[Batch 13 / 322]  [Loss: 0.2474, Acc: 87.50%]\n"
          ]
        },
        {
          "output_type": "stream",
          "name": "stderr",
          "text": [
            "Epoch 4 Testing:   5%|▌         | 17/322 [00:01<00:21, 14.11it/s]"
          ]
        },
        {
          "output_type": "stream",
          "name": "stdout",
          "text": [
            "[Batch 14 / 322]  [Loss: 0.2315, Acc: 88.33%]\n",
            "[Batch 15 / 322]  [Loss: 0.2232, Acc: 89.06%]\n",
            "[Batch 16 / 322]  [Loss: 0.2201, Acc: 89.71%]\n"
          ]
        },
        {
          "output_type": "stream",
          "name": "stderr",
          "text": [
            "Epoch 4 Testing:   7%|▋         | 21/322 [00:01<00:20, 14.46it/s]"
          ]
        },
        {
          "output_type": "stream",
          "name": "stdout",
          "text": [
            "[Batch 17 / 322]  [Loss: 0.2560, Acc: 88.89%]\n",
            "[Batch 18 / 322]  [Loss: 0.2483, Acc: 89.47%]\n",
            "[Batch 19 / 322]  [Loss: 0.2479, Acc: 88.75%]\n",
            "[Batch 20 / 322]  [Loss: 0.2465, Acc: 89.29%]\n"
          ]
        },
        {
          "output_type": "stream",
          "name": "stderr",
          "text": [
            "Epoch 4 Testing:   8%|▊         | 25/322 [00:01<00:18, 15.90it/s]"
          ]
        },
        {
          "output_type": "stream",
          "name": "stdout",
          "text": [
            "[Batch 21 / 322]  [Loss: 0.2414, Acc: 89.77%]\n",
            "[Batch 22 / 322]  [Loss: 0.2316, Acc: 90.22%]\n",
            "[Batch 23 / 322]  [Loss: 0.2266, Acc: 90.62%]\n",
            "[Batch 24 / 322]  [Loss: 0.2264, Acc: 91.00%]\n"
          ]
        },
        {
          "output_type": "stream",
          "name": "stderr",
          "text": [
            "Epoch 4 Testing:   9%|▉         | 29/322 [00:02<00:19, 15.30it/s]"
          ]
        },
        {
          "output_type": "stream",
          "name": "stdout",
          "text": [
            "[Batch 25 / 322]  [Loss: 0.2363, Acc: 90.38%]\n",
            "[Batch 26 / 322]  [Loss: 0.2341, Acc: 90.74%]\n",
            "[Batch 27 / 322]  [Loss: 0.2420, Acc: 90.18%]\n",
            "[Batch 28 / 322]  [Loss: 0.2527, Acc: 88.79%]\n"
          ]
        },
        {
          "output_type": "stream",
          "name": "stderr",
          "text": [
            "Epoch 4 Testing:  10%|█         | 33/322 [00:02<00:19, 14.89it/s]"
          ]
        },
        {
          "output_type": "stream",
          "name": "stdout",
          "text": [
            "[Batch 29 / 322]  [Loss: 0.2461, Acc: 89.17%]\n",
            "[Batch 30 / 322]  [Loss: 0.2491, Acc: 89.52%]\n",
            "[Batch 31 / 322]  [Loss: 0.2454, Acc: 89.84%]\n",
            "[Batch 32 / 322]  [Loss: 0.2389, Acc: 90.15%]\n"
          ]
        },
        {
          "output_type": "stream",
          "name": "stderr",
          "text": [
            "Epoch 4 Testing:  11%|█▏        | 37/322 [00:02<00:19, 14.92it/s]"
          ]
        },
        {
          "output_type": "stream",
          "name": "stdout",
          "text": [
            "[Batch 33 / 322]  [Loss: 0.2331, Acc: 90.44%]\n",
            "[Batch 34 / 322]  [Loss: 0.2566, Acc: 88.57%]\n",
            "[Batch 35 / 322]  [Loss: 0.2656, Acc: 88.19%]\n",
            "[Batch 36 / 322]  [Loss: 0.2675, Acc: 87.84%]\n"
          ]
        },
        {
          "output_type": "stream",
          "name": "stderr",
          "text": [
            "\rEpoch 4 Testing:  12%|█▏        | 39/322 [00:02<00:18, 15.27it/s]"
          ]
        },
        {
          "output_type": "stream",
          "name": "stdout",
          "text": [
            "[Batch 37 / 322]  [Loss: 0.2620, Acc: 88.16%]\n",
            "[Batch 38 / 322]  [Loss: 0.2584, Acc: 88.46%]\n",
            "[Batch 39 / 322]  [Loss: 0.2558, Acc: 88.75%]\n"
          ]
        },
        {
          "output_type": "stream",
          "name": "stderr",
          "text": [
            "Epoch 4 Testing:  13%|█▎        | 43/322 [00:03<00:19, 14.56it/s]"
          ]
        },
        {
          "output_type": "stream",
          "name": "stdout",
          "text": [
            "[Batch 40 / 322]  [Loss: 0.2577, Acc: 88.41%]\n",
            "[Batch 41 / 322]  [Loss: 0.2528, Acc: 88.69%]\n",
            "[Batch 42 / 322]  [Loss: 0.2482, Acc: 88.95%]\n",
            "[Batch 43 / 322]  [Loss: 0.2550, Acc: 88.64%]\n"
          ]
        },
        {
          "output_type": "stream",
          "name": "stderr",
          "text": [
            "Epoch 4 Testing:  15%|█▍        | 47/322 [00:03<00:17, 15.43it/s]"
          ]
        },
        {
          "output_type": "stream",
          "name": "stdout",
          "text": [
            "[Batch 44 / 322]  [Loss: 0.2623, Acc: 88.33%]\n",
            "[Batch 45 / 322]  [Loss: 0.2712, Acc: 87.50%]\n",
            "[Batch 46 / 322]  [Loss: 0.2706, Acc: 87.23%]\n",
            "[Batch 47 / 322]  [Loss: 0.2693, Acc: 87.50%]\n"
          ]
        },
        {
          "output_type": "stream",
          "name": "stderr",
          "text": [
            "Epoch 4 Testing:  16%|█▌        | 51/322 [00:03<00:16, 16.45it/s]"
          ]
        },
        {
          "output_type": "stream",
          "name": "stdout",
          "text": [
            "[Batch 48 / 322]  [Loss: 0.2646, Acc: 87.76%]\n",
            "[Batch 49 / 322]  [Loss: 0.2608, Acc: 88.00%]\n",
            "[Batch 50 / 322]  [Loss: 0.2571, Acc: 88.24%]\n",
            "[Batch 51 / 322]  [Loss: 0.2576, Acc: 88.46%]\n"
          ]
        },
        {
          "output_type": "stream",
          "name": "stderr",
          "text": [
            "Epoch 4 Testing:  17%|█▋        | 55/322 [00:03<00:17, 15.44it/s]"
          ]
        },
        {
          "output_type": "stream",
          "name": "stdout",
          "text": [
            "[Batch 52 / 322]  [Loss: 0.2557, Acc: 88.68%]\n",
            "[Batch 53 / 322]  [Loss: 0.2518, Acc: 88.89%]\n",
            "[Batch 54 / 322]  [Loss: 0.2477, Acc: 89.09%]\n",
            "[Batch 55 / 322]  [Loss: 0.2442, Acc: 89.29%]\n"
          ]
        },
        {
          "output_type": "stream",
          "name": "stderr",
          "text": [
            "Epoch 4 Testing:  18%|█▊        | 59/322 [00:04<00:18, 14.58it/s]"
          ]
        },
        {
          "output_type": "stream",
          "name": "stdout",
          "text": [
            "[Batch 56 / 322]  [Loss: 0.2415, Acc: 89.47%]\n",
            "[Batch 57 / 322]  [Loss: 0.2374, Acc: 89.66%]\n",
            "[Batch 58 / 322]  [Loss: 0.2439, Acc: 88.98%]\n"
          ]
        },
        {
          "output_type": "stream",
          "name": "stderr",
          "text": [
            "\rEpoch 4 Testing:  19%|█▉        | 61/322 [00:04<00:18, 14.04it/s]"
          ]
        },
        {
          "output_type": "stream",
          "name": "stdout",
          "text": [
            "[Batch 59 / 322]  [Loss: 0.2496, Acc: 88.75%]\n",
            "[Batch 60 / 322]  [Loss: 0.2467, Acc: 88.93%]\n",
            "[Batch 61 / 322]  [Loss: 0.2566, Acc: 88.71%]\n"
          ]
        },
        {
          "output_type": "stream",
          "name": "stderr",
          "text": [
            "Epoch 4 Testing:  20%|██        | 65/322 [00:04<00:18, 14.11it/s]"
          ]
        },
        {
          "output_type": "stream",
          "name": "stdout",
          "text": [
            "[Batch 62 / 322]  [Loss: 0.2527, Acc: 88.89%]\n",
            "[Batch 63 / 322]  [Loss: 0.2543, Acc: 88.67%]\n",
            "[Batch 64 / 322]  [Loss: 0.2585, Acc: 88.08%]\n"
          ]
        },
        {
          "output_type": "stream",
          "name": "stderr",
          "text": [
            "Epoch 4 Testing:  21%|██▏       | 69/322 [00:04<00:16, 15.31it/s]"
          ]
        },
        {
          "output_type": "stream",
          "name": "stdout",
          "text": [
            "[Batch 65 / 322]  [Loss: 0.2552, Acc: 88.26%]\n",
            "[Batch 66 / 322]  [Loss: 0.2549, Acc: 88.43%]\n",
            "[Batch 67 / 322]  [Loss: 0.2524, Acc: 88.60%]\n",
            "[Batch 68 / 322]  [Loss: 0.2489, Acc: 88.77%]\n"
          ]
        },
        {
          "output_type": "stream",
          "name": "stderr",
          "text": [
            "Epoch 4 Testing:  23%|██▎       | 73/322 [00:05<00:15, 15.87it/s]"
          ]
        },
        {
          "output_type": "stream",
          "name": "stdout",
          "text": [
            "[Batch 69 / 322]  [Loss: 0.2516, Acc: 88.57%]\n",
            "[Batch 70 / 322]  [Loss: 0.2549, Acc: 88.03%]\n",
            "[Batch 71 / 322]  [Loss: 0.2567, Acc: 87.85%]\n",
            "[Batch 72 / 322]  [Loss: 0.2546, Acc: 88.01%]\n"
          ]
        },
        {
          "output_type": "stream",
          "name": "stderr",
          "text": [
            "Epoch 4 Testing:  24%|██▍       | 77/322 [00:05<00:16, 15.31it/s]"
          ]
        },
        {
          "output_type": "stream",
          "name": "stdout",
          "text": [
            "[Batch 73 / 322]  [Loss: 0.2552, Acc: 88.18%]\n",
            "[Batch 74 / 322]  [Loss: 0.2590, Acc: 87.67%]\n",
            "[Batch 75 / 322]  [Loss: 0.2560, Acc: 87.83%]\n",
            "[Batch 76 / 322]  [Loss: 0.2661, Acc: 87.66%]\n"
          ]
        },
        {
          "output_type": "stream",
          "name": "stderr",
          "text": [
            "Epoch 4 Testing:  25%|██▌       | 81/322 [00:05<00:16, 14.79it/s]"
          ]
        },
        {
          "output_type": "stream",
          "name": "stdout",
          "text": [
            "[Batch 77 / 322]  [Loss: 0.2634, Acc: 87.82%]\n",
            "[Batch 78 / 322]  [Loss: 0.2618, Acc: 87.97%]\n",
            "[Batch 79 / 322]  [Loss: 0.2620, Acc: 87.81%]\n",
            "[Batch 80 / 322]  [Loss: 0.2620, Acc: 87.65%]\n"
          ]
        },
        {
          "output_type": "stream",
          "name": "stderr",
          "text": [
            "\rEpoch 4 Testing:  26%|██▌       | 83/322 [00:05<00:15, 15.10it/s]"
          ]
        },
        {
          "output_type": "stream",
          "name": "stdout",
          "text": [
            "[Batch 81 / 322]  [Loss: 0.2604, Acc: 87.80%]\n",
            "[Batch 82 / 322]  [Loss: 0.2597, Acc: 87.95%]\n",
            "[Batch 83 / 322]  [Loss: 0.2757, Acc: 87.20%]\n"
          ]
        },
        {
          "output_type": "stream",
          "name": "stderr",
          "text": [
            "Epoch 4 Testing:  27%|██▋       | 87/322 [00:06<00:16, 14.44it/s]"
          ]
        },
        {
          "output_type": "stream",
          "name": "stdout",
          "text": [
            "[Batch 84 / 322]  [Loss: 0.2728, Acc: 87.35%]\n",
            "[Batch 85 / 322]  [Loss: 0.2727, Acc: 87.50%]\n",
            "[Batch 86 / 322]  [Loss: 0.2742, Acc: 87.36%]\n",
            "[Batch 87 / 322]  [Loss: 0.2746, Acc: 87.50%]"
          ]
        },
        {
          "output_type": "stream",
          "name": "stderr",
          "text": [
            "\rEpoch 4 Testing:  28%|██▊       | 89/322 [00:06<00:17, 13.61it/s]"
          ]
        },
        {
          "output_type": "stream",
          "name": "stdout",
          "text": [
            "\n",
            "[Batch 88 / 322]  [Loss: 0.2761, Acc: 87.36%]\n",
            "[Batch 89 / 322]  [Loss: 0.2738, Acc: 87.50%]\n"
          ]
        },
        {
          "output_type": "stream",
          "name": "stderr",
          "text": [
            "Epoch 4 Testing:  29%|██▉       | 93/322 [00:06<00:14, 15.59it/s]"
          ]
        },
        {
          "output_type": "stream",
          "name": "stdout",
          "text": [
            "[Batch 90 / 322]  [Loss: 0.2718, Acc: 87.64%]\n",
            "[Batch 91 / 322]  [Loss: 0.2690, Acc: 87.77%]\n",
            "[Batch 92 / 322]  [Loss: 0.2674, Acc: 87.90%]\n",
            "[Batch 93 / 322]  [Loss: 0.2703, Acc: 87.50%]\n"
          ]
        },
        {
          "output_type": "stream",
          "name": "stderr",
          "text": [
            "Epoch 4 Testing:  30%|███       | 97/322 [00:06<00:15, 14.86it/s]"
          ]
        },
        {
          "output_type": "stream",
          "name": "stdout",
          "text": [
            "[Batch 94 / 322]  [Loss: 0.2684, Acc: 87.63%]\n",
            "[Batch 95 / 322]  [Loss: 0.2667, Acc: 87.76%]\n",
            "[Batch 96 / 322]  [Loss: 0.2674, Acc: 87.89%]\n"
          ]
        },
        {
          "output_type": "stream",
          "name": "stderr",
          "text": [
            "\rEpoch 4 Testing:  31%|███       | 99/322 [00:06<00:15, 14.13it/s]"
          ]
        },
        {
          "output_type": "stream",
          "name": "stdout",
          "text": [
            "[Batch 97 / 322]  [Loss: 0.2675, Acc: 87.76%]\n",
            "[Batch 98 / 322]  [Loss: 0.2703, Acc: 87.63%]\n",
            "[Batch 99 / 322]  [Loss: 0.2738, Acc: 87.50%]\n"
          ]
        },
        {
          "output_type": "stream",
          "name": "stderr",
          "text": [
            "Epoch 4 Testing:  32%|███▏      | 103/322 [00:07<00:15, 14.13it/s]"
          ]
        },
        {
          "output_type": "stream",
          "name": "stdout",
          "text": [
            "[Batch 100 / 322]  [Loss: 0.2741, Acc: 87.38%]\n",
            "[Batch 101 / 322]  [Loss: 0.2748, Acc: 87.25%]\n",
            "[Batch 102 / 322]  [Loss: 0.2729, Acc: 87.38%]\n"
          ]
        },
        {
          "output_type": "stream",
          "name": "stderr",
          "text": [
            "\rEpoch 4 Testing:  33%|███▎      | 105/322 [00:07<00:16, 13.34it/s]"
          ]
        },
        {
          "output_type": "stream",
          "name": "stdout",
          "text": [
            "[Batch 103 / 322]  [Loss: 0.2755, Acc: 87.26%]\n",
            "[Batch 104 / 322]  [Loss: 0.2751, Acc: 87.38%]\n",
            "[Batch 105 / 322]  [Loss: 0.2809, Acc: 87.26%]\n"
          ]
        },
        {
          "output_type": "stream",
          "name": "stderr",
          "text": [
            "Epoch 4 Testing:  34%|███▍      | 109/322 [00:07<00:15, 13.38it/s]"
          ]
        },
        {
          "output_type": "stream",
          "name": "stdout",
          "text": [
            "[Batch 106 / 322]  [Loss: 0.2828, Acc: 87.15%]\n",
            "[Batch 107 / 322]  [Loss: 0.2829, Acc: 87.27%]\n",
            "[Batch 108 / 322]  [Loss: 0.2817, Acc: 87.39%]\n"
          ]
        },
        {
          "output_type": "stream",
          "name": "stderr",
          "text": [
            "Epoch 4 Testing:  35%|███▌      | 113/322 [00:07<00:14, 14.68it/s]"
          ]
        },
        {
          "output_type": "stream",
          "name": "stdout",
          "text": [
            "[Batch 109 / 322]  [Loss: 0.2823, Acc: 87.27%]\n",
            "[Batch 110 / 322]  [Loss: 0.2885, Acc: 86.94%]\n",
            "[Batch 111 / 322]  [Loss: 0.2932, Acc: 86.83%]\n",
            "[Batch 112 / 322]  [Loss: 0.2965, Acc: 86.73%]\n"
          ]
        },
        {
          "output_type": "stream",
          "name": "stderr",
          "text": [
            "\rEpoch 4 Testing:  36%|███▌      | 115/322 [00:08<00:13, 15.41it/s]"
          ]
        },
        {
          "output_type": "stream",
          "name": "stdout",
          "text": [
            "[Batch 113 / 322]  [Loss: 0.2991, Acc: 86.62%]\n",
            "[Batch 114 / 322]  [Loss: 0.3002, Acc: 86.52%]\n",
            "[Batch 115 / 322]  [Loss: 0.2998, Acc: 86.64%]\n"
          ]
        },
        {
          "output_type": "stream",
          "name": "stderr",
          "text": [
            "Epoch 4 Testing:  37%|███▋      | 119/322 [00:08<00:14, 14.42it/s]"
          ]
        },
        {
          "output_type": "stream",
          "name": "stdout",
          "text": [
            "[Batch 116 / 322]  [Loss: 0.2980, Acc: 86.75%]\n",
            "[Batch 117 / 322]  [Loss: 0.2967, Acc: 86.86%]\n",
            "[Batch 118 / 322]  [Loss: 0.2943, Acc: 86.97%]\n"
          ]
        },
        {
          "output_type": "stream",
          "name": "stderr",
          "text": [
            "Epoch 4 Testing:  38%|███▊      | 123/322 [00:08<00:12, 15.36it/s]"
          ]
        },
        {
          "output_type": "stream",
          "name": "stdout",
          "text": [
            "[Batch 119 / 322]  [Loss: 0.2942, Acc: 86.88%]\n",
            "[Batch 120 / 322]  [Loss: 0.2927, Acc: 86.98%]\n",
            "[Batch 121 / 322]  [Loss: 0.2943, Acc: 86.89%]\n",
            "[Batch 122 / 322]  [Loss: 0.2932, Acc: 86.99%]\n"
          ]
        },
        {
          "output_type": "stream",
          "name": "stderr",
          "text": [
            "Epoch 4 Testing:  39%|███▉      | 127/322 [00:08<00:13, 14.39it/s]"
          ]
        },
        {
          "output_type": "stream",
          "name": "stdout",
          "text": [
            "[Batch 123 / 322]  [Loss: 0.2919, Acc: 87.10%]\n",
            "[Batch 124 / 322]  [Loss: 0.2930, Acc: 87.00%]\n",
            "[Batch 125 / 322]  [Loss: 0.2972, Acc: 86.90%]\n",
            "[Batch 126 / 322]  [Loss: 0.3009, Acc: 86.81%]\n"
          ]
        },
        {
          "output_type": "stream",
          "name": "stderr",
          "text": [
            "Epoch 4 Testing:  41%|████      | 131/322 [00:09<00:13, 14.42it/s]"
          ]
        },
        {
          "output_type": "stream",
          "name": "stdout",
          "text": [
            "[Batch 127 / 322]  [Loss: 0.3012, Acc: 86.72%]\n",
            "[Batch 128 / 322]  [Loss: 0.3033, Acc: 86.43%]\n",
            "[Batch 129 / 322]  [Loss: 0.3027, Acc: 86.54%]\n",
            "[Batch 130 / 322]  [Loss: 0.3049, Acc: 86.45%]\n"
          ]
        },
        {
          "output_type": "stream",
          "name": "stderr",
          "text": [
            "Epoch 4 Testing:  42%|████▏     | 135/322 [00:09<00:13, 14.35it/s]"
          ]
        },
        {
          "output_type": "stream",
          "name": "stdout",
          "text": [
            "[Batch 131 / 322]  [Loss: 0.3043, Acc: 86.55%]\n",
            "[Batch 132 / 322]  [Loss: 0.3023, Acc: 86.65%]\n",
            "[Batch 133 / 322]  [Loss: 0.3009, Acc: 86.75%]\n",
            "[Batch 134 / 322]  [Loss: 0.3001, Acc: 86.85%]\n"
          ]
        },
        {
          "output_type": "stream",
          "name": "stderr",
          "text": [
            "Epoch 4 Testing:  43%|████▎     | 139/322 [00:09<00:12, 15.15it/s]"
          ]
        },
        {
          "output_type": "stream",
          "name": "stdout",
          "text": [
            "[Batch 135 / 322]  [Loss: 0.2987, Acc: 86.95%]\n",
            "[Batch 136 / 322]  [Loss: 0.2970, Acc: 87.04%]\n",
            "[Batch 137 / 322]  [Loss: 0.2972, Acc: 86.96%]\n",
            "[Batch 138 / 322]  [Loss: 0.2969, Acc: 87.05%]\n"
          ]
        },
        {
          "output_type": "stream",
          "name": "stderr",
          "text": [
            "\rEpoch 4 Testing:  44%|████▍     | 141/322 [00:09<00:12, 14.74it/s]"
          ]
        },
        {
          "output_type": "stream",
          "name": "stdout",
          "text": [
            "[Batch 139 / 322]  [Loss: 0.2948, Acc: 87.14%]\n",
            "[Batch 140 / 322]  [Loss: 0.2949, Acc: 87.06%]\n",
            "[Batch 141 / 322]  [Loss: 0.2950, Acc: 86.97%]\n"
          ]
        },
        {
          "output_type": "stream",
          "name": "stderr",
          "text": [
            "Epoch 4 Testing:  45%|████▌     | 145/322 [00:10<00:12, 14.04it/s]"
          ]
        },
        {
          "output_type": "stream",
          "name": "stdout",
          "text": [
            "[Batch 142 / 322]  [Loss: 0.2963, Acc: 86.71%]\n",
            "[Batch 143 / 322]  [Loss: 0.2944, Acc: 86.81%]\n",
            "[Batch 144 / 322]  [Loss: 0.2949, Acc: 86.90%]\n"
          ]
        },
        {
          "output_type": "stream",
          "name": "stderr",
          "text": [
            "\rEpoch 4 Testing:  46%|████▌     | 147/322 [00:10<00:13, 12.55it/s]"
          ]
        },
        {
          "output_type": "stream",
          "name": "stdout",
          "text": [
            "[Batch 145 / 322]  [Loss: 0.2935, Acc: 86.99%]\n",
            "[Batch 146 / 322]  [Loss: 0.2941, Acc: 86.90%]\n",
            "[Batch 147 / 322]  [Loss: 0.2937, Acc: 86.82%]\n"
          ]
        },
        {
          "output_type": "stream",
          "name": "stderr",
          "text": [
            "Epoch 4 Testing:  47%|████▋     | 151/322 [00:10<00:14, 11.69it/s]"
          ]
        },
        {
          "output_type": "stream",
          "name": "stdout",
          "text": [
            "[Batch 148 / 322]  [Loss: 0.2934, Acc: 86.74%]\n",
            "[Batch 149 / 322]  [Loss: 0.2940, Acc: 86.67%]\n",
            "[Batch 150 / 322]  [Loss: 0.2944, Acc: 86.59%]\n",
            "[Batch 151 / 322]  [Loss: 0.2928, Acc: 86.68%]\n"
          ]
        },
        {
          "output_type": "stream",
          "name": "stderr",
          "text": [
            "\rEpoch 4 Testing:  48%|████▊     | 153/322 [00:10<00:14, 11.50it/s]"
          ]
        },
        {
          "output_type": "stream",
          "name": "stdout",
          "text": [
            "[Batch 152 / 322]  [Loss: 0.2916, Acc: 86.76%]\n",
            "[Batch 153 / 322]  [Loss: 0.2899, Acc: 86.85%]\n"
          ]
        },
        {
          "output_type": "stream",
          "name": "stderr",
          "text": [
            "\rEpoch 4 Testing:  48%|████▊     | 155/322 [00:11<00:16,  9.95it/s]"
          ]
        },
        {
          "output_type": "stream",
          "name": "stdout",
          "text": [
            "[Batch 154 / 322]  [Loss: 0.2914, Acc: 86.77%]\n",
            "[Batch 155 / 322]  [Loss: 0.2929, Acc: 86.70%]\n"
          ]
        },
        {
          "output_type": "stream",
          "name": "stderr",
          "text": [
            "Epoch 4 Testing:  49%|████▉     | 159/322 [00:11<00:15, 10.70it/s]"
          ]
        },
        {
          "output_type": "stream",
          "name": "stdout",
          "text": [
            "[Batch 156 / 322]  [Loss: 0.2913, Acc: 86.78%]\n",
            "[Batch 157 / 322]  [Loss: 0.2916, Acc: 86.71%]\n",
            "[Batch 158 / 322]  [Loss: 0.2901, Acc: 86.79%]\n"
          ]
        },
        {
          "output_type": "stream",
          "name": "stderr",
          "text": [
            "\rEpoch 4 Testing:  50%|█████     | 161/322 [00:11<00:15, 10.27it/s]"
          ]
        },
        {
          "output_type": "stream",
          "name": "stdout",
          "text": [
            "[Batch 159 / 322]  [Loss: 0.2894, Acc: 86.88%]\n",
            "[Batch 160 / 322]  [Loss: 0.2917, Acc: 86.80%]\n",
            "[Batch 161 / 322]  [Loss: 0.2956, Acc: 86.57%]\n"
          ]
        },
        {
          "output_type": "stream",
          "name": "stderr",
          "text": [
            "\rEpoch 4 Testing:  51%|█████     | 163/322 [00:11<00:16,  9.46it/s]"
          ]
        },
        {
          "output_type": "stream",
          "name": "stdout",
          "text": [
            "[Batch 162 / 322]  [Loss: 0.2945, Acc: 86.66%]\n"
          ]
        },
        {
          "output_type": "stream",
          "name": "stderr",
          "text": [
            "\rEpoch 4 Testing:  51%|█████     | 165/322 [00:12<00:16,  9.37it/s]"
          ]
        },
        {
          "output_type": "stream",
          "name": "stdout",
          "text": [
            "[Batch 163 / 322]  [Loss: 0.2973, Acc: 86.59%]\n",
            "[Batch 164 / 322]  [Loss: 0.2962, Acc: 86.67%]\n"
          ]
        },
        {
          "output_type": "stream",
          "name": "stderr",
          "text": [
            "Epoch 4 Testing:  52%|█████▏    | 168/322 [00:12<00:16,  9.33it/s]"
          ]
        },
        {
          "output_type": "stream",
          "name": "stdout",
          "text": [
            "[Batch 165 / 322]  [Loss: 0.2946, Acc: 86.75%]\n",
            "[Batch 166 / 322]  [Loss: 0.2934, Acc: 86.83%]\n",
            "[Batch 167 / 322]  [Loss: 0.2922, Acc: 86.90%]\n"
          ]
        },
        {
          "output_type": "stream",
          "name": "stderr",
          "text": [
            "Epoch 4 Testing:  53%|█████▎    | 170/322 [00:12<00:16,  9.09it/s]"
          ]
        },
        {
          "output_type": "stream",
          "name": "stdout",
          "text": [
            "[Batch 168 / 322]  [Loss: 0.2933, Acc: 86.83%]\n",
            "[Batch 169 / 322]  [Loss: 0.2921, Acc: 86.91%]\n"
          ]
        },
        {
          "output_type": "stream",
          "name": "stderr",
          "text": [
            "\rEpoch 4 Testing:  53%|█████▎    | 171/322 [00:12<00:17,  8.74it/s]"
          ]
        },
        {
          "output_type": "stream",
          "name": "stdout",
          "text": [
            "[Batch 170 / 322]  [Loss: 0.2924, Acc: 86.99%]\n",
            "[Batch 171 / 322]  [Loss: 0.2912, Acc: 87.06%]\n"
          ]
        },
        {
          "output_type": "stream",
          "name": "stderr",
          "text": [
            "\rEpoch 4 Testing:  54%|█████▎    | 173/322 [00:13<00:16,  8.87it/s]"
          ]
        },
        {
          "output_type": "stream",
          "name": "stdout",
          "text": [
            "[Batch 172 / 322]  [Loss: 0.2910, Acc: 86.99%]\n",
            "[Batch 173 / 322]  [Loss: 0.2956, Acc: 86.93%]\n"
          ]
        },
        {
          "output_type": "stream",
          "name": "stderr",
          "text": [
            "\rEpoch 4 Testing:  54%|█████▍    | 175/322 [00:13<00:17,  8.52it/s]"
          ]
        },
        {
          "output_type": "stream",
          "name": "stdout",
          "text": [
            "[Batch 174 / 322]  [Loss: 0.2946, Acc: 87.00%]\n",
            "[Batch 175 / 322]  [Loss: 0.2933, Acc: 87.07%]\n"
          ]
        },
        {
          "output_type": "stream",
          "name": "stderr",
          "text": [
            "\rEpoch 4 Testing:  55%|█████▍    | 177/322 [00:13<00:17,  8.47it/s]"
          ]
        },
        {
          "output_type": "stream",
          "name": "stdout",
          "text": [
            "[Batch 176 / 322]  [Loss: 0.2942, Acc: 87.01%]\n",
            "[Batch 177 / 322]  [Loss: 0.2927, Acc: 87.08%]\n"
          ]
        },
        {
          "output_type": "stream",
          "name": "stderr",
          "text": [
            "Epoch 4 Testing:  56%|█████▌    | 181/322 [00:14<00:15,  9.17it/s]"
          ]
        },
        {
          "output_type": "stream",
          "name": "stdout",
          "text": [
            "[Batch 178 / 322]  [Loss: 0.2944, Acc: 86.87%]\n",
            "[Batch 179 / 322]  [Loss: 0.2931, Acc: 86.94%]\n",
            "[Batch 180 / 322]  [Loss: 0.2930, Acc: 86.88%]\n"
          ]
        },
        {
          "output_type": "stream",
          "name": "stderr",
          "text": [
            "\rEpoch 4 Testing:  57%|█████▋    | 183/322 [00:14<00:14,  9.49it/s]"
          ]
        },
        {
          "output_type": "stream",
          "name": "stdout",
          "text": [
            "[Batch 181 / 322]  [Loss: 0.2925, Acc: 86.95%]\n",
            "[Batch 182 / 322]  [Loss: 0.2910, Acc: 87.02%]\n",
            "[Batch 183 / 322]  [Loss: 0.2947, Acc: 86.68%]\n"
          ]
        },
        {
          "output_type": "stream",
          "name": "stderr",
          "text": [
            "\rEpoch 4 Testing:  57%|█████▋    | 185/322 [00:14<00:14,  9.33it/s]"
          ]
        },
        {
          "output_type": "stream",
          "name": "stdout",
          "text": [
            "[Batch 184 / 322]  [Loss: 0.2940, Acc: 86.76%]\n",
            "[Batch 185 / 322]  [Loss: 0.2926, Acc: 86.83%]\n"
          ]
        },
        {
          "output_type": "stream",
          "name": "stderr",
          "text": [
            "Epoch 4 Testing:  59%|█████▊    | 189/322 [00:14<00:14,  9.36it/s]"
          ]
        },
        {
          "output_type": "stream",
          "name": "stdout",
          "text": [
            "[Batch 186 / 322]  [Loss: 0.2918, Acc: 86.90%]\n",
            "[Batch 187 / 322]  [Loss: 0.2908, Acc: 86.97%]\n",
            "[Batch 188 / 322]  [Loss: 0.2904, Acc: 87.04%]\n"
          ]
        },
        {
          "output_type": "stream",
          "name": "stderr",
          "text": [
            "\rEpoch 4 Testing:  59%|█████▉    | 191/322 [00:15<00:14,  9.10it/s]"
          ]
        },
        {
          "output_type": "stream",
          "name": "stdout",
          "text": [
            "[Batch 189 / 322]  [Loss: 0.2909, Acc: 86.97%]\n",
            "[Batch 190 / 322]  [Loss: 0.2900, Acc: 87.04%]\n"
          ]
        },
        {
          "output_type": "stream",
          "name": "stderr",
          "text": [
            "\rEpoch 4 Testing:  60%|█████▉    | 193/322 [00:15<00:13,  9.42it/s]"
          ]
        },
        {
          "output_type": "stream",
          "name": "stdout",
          "text": [
            "[Batch 191 / 322]  [Loss: 0.2910, Acc: 86.98%]\n",
            "[Batch 192 / 322]  [Loss: 0.2899, Acc: 87.05%]\n",
            "[Batch 193 / 322]  [Loss: 0.2903, Acc: 86.98%]\n"
          ]
        },
        {
          "output_type": "stream",
          "name": "stderr",
          "text": [
            "\rEpoch 4 Testing:  61%|██████    | 195/322 [00:15<00:12,  9.78it/s]"
          ]
        },
        {
          "output_type": "stream",
          "name": "stdout",
          "text": [
            "[Batch 194 / 322]  [Loss: 0.2893, Acc: 87.05%]\n",
            "[Batch 195 / 322]  [Loss: 0.2902, Acc: 86.99%]\n"
          ]
        },
        {
          "output_type": "stream",
          "name": "stderr",
          "text": [
            "\rEpoch 4 Testing:  61%|██████    | 197/322 [00:15<00:13,  9.59it/s]"
          ]
        },
        {
          "output_type": "stream",
          "name": "stdout",
          "text": [
            "[Batch 196 / 322]  [Loss: 0.2895, Acc: 87.06%]\n",
            "[Batch 197 / 322]  [Loss: 0.2884, Acc: 87.12%]\n"
          ]
        },
        {
          "output_type": "stream",
          "name": "stderr",
          "text": [
            "Epoch 4 Testing:  62%|██████▏   | 201/322 [00:16<00:11, 10.57it/s]"
          ]
        },
        {
          "output_type": "stream",
          "name": "stdout",
          "text": [
            "[Batch 198 / 322]  [Loss: 0.2872, Acc: 87.19%]\n",
            "[Batch 199 / 322]  [Loss: 0.2898, Acc: 87.12%]\n",
            "[Batch 200 / 322]  [Loss: 0.2898, Acc: 87.06%]\n"
          ]
        },
        {
          "output_type": "stream",
          "name": "stderr",
          "text": [
            "\rEpoch 4 Testing:  63%|██████▎   | 203/322 [00:16<00:12,  9.89it/s]"
          ]
        },
        {
          "output_type": "stream",
          "name": "stdout",
          "text": [
            "[Batch 201 / 322]  [Loss: 0.2924, Acc: 87.00%]\n",
            "[Batch 202 / 322]  [Loss: 0.2932, Acc: 86.95%]\n"
          ]
        },
        {
          "output_type": "stream",
          "name": "stderr",
          "text": [
            "\rEpoch 4 Testing:  64%|██████▎   | 205/322 [00:16<00:10, 10.96it/s]"
          ]
        },
        {
          "output_type": "stream",
          "name": "stdout",
          "text": [
            "[Batch 203 / 322]  [Loss: 0.2920, Acc: 87.01%]\n",
            "[Batch 204 / 322]  [Loss: 0.2910, Acc: 87.07%]\n",
            "[Batch 205 / 322]  [Loss: 0.2922, Acc: 87.01%]\n"
          ]
        },
        {
          "output_type": "stream",
          "name": "stderr",
          "text": [
            "Epoch 4 Testing:  65%|██████▍   | 209/322 [00:16<00:08, 12.74it/s]"
          ]
        },
        {
          "output_type": "stream",
          "name": "stdout",
          "text": [
            "[Batch 206 / 322]  [Loss: 0.2928, Acc: 86.96%]\n",
            "[Batch 207 / 322]  [Loss: 0.2916, Acc: 87.02%]\n",
            "[Batch 208 / 322]  [Loss: 0.2921, Acc: 86.96%]\n",
            "[Batch 209 / 322]  [Loss: 0.2912, Acc: 87.02%]\n"
          ]
        },
        {
          "output_type": "stream",
          "name": "stderr",
          "text": [
            "Epoch 4 Testing:  66%|██████▌   | 213/322 [00:16<00:07, 14.13it/s]"
          ]
        },
        {
          "output_type": "stream",
          "name": "stdout",
          "text": [
            "[Batch 210 / 322]  [Loss: 0.2902, Acc: 87.09%]\n",
            "[Batch 211 / 322]  [Loss: 0.2892, Acc: 87.15%]\n",
            "[Batch 212 / 322]  [Loss: 0.2916, Acc: 86.97%]\n",
            "[Batch 213 / 322]  [Loss: 0.2954, Acc: 86.80%]\n"
          ]
        },
        {
          "output_type": "stream",
          "name": "stderr",
          "text": [
            "Epoch 4 Testing:  67%|██████▋   | 217/322 [00:17<00:07, 13.93it/s]"
          ]
        },
        {
          "output_type": "stream",
          "name": "stdout",
          "text": [
            "[Batch 214 / 322]  [Loss: 0.2953, Acc: 86.86%]\n",
            "[Batch 215 / 322]  [Loss: 0.2941, Acc: 86.92%]\n",
            "[Batch 216 / 322]  [Loss: 0.2934, Acc: 86.98%]\n",
            "[Batch 217 / 322]  [Loss: 0.2929, Acc: 87.04%]\n"
          ]
        },
        {
          "output_type": "stream",
          "name": "stderr",
          "text": [
            "Epoch 4 Testing:  69%|██████▊   | 221/322 [00:17<00:06, 14.85it/s]"
          ]
        },
        {
          "output_type": "stream",
          "name": "stdout",
          "text": [
            "[Batch 218 / 322]  [Loss: 0.2935, Acc: 86.99%]\n",
            "[Batch 219 / 322]  [Loss: 0.2954, Acc: 86.82%]\n",
            "[Batch 220 / 322]  [Loss: 0.2961, Acc: 86.88%]\n",
            "[Batch 221 / 322]  [Loss: 0.2959, Acc: 86.94%]\n"
          ]
        },
        {
          "output_type": "stream",
          "name": "stderr",
          "text": [
            "Epoch 4 Testing:  70%|██████▉   | 225/322 [00:17<00:06, 14.73it/s]"
          ]
        },
        {
          "output_type": "stream",
          "name": "stdout",
          "text": [
            "[Batch 222 / 322]  [Loss: 0.2962, Acc: 86.88%]\n",
            "[Batch 223 / 322]  [Loss: 0.2970, Acc: 86.83%]\n",
            "[Batch 224 / 322]  [Loss: 0.2961, Acc: 86.89%]\n",
            "[Batch 225 / 322]  [Loss: 0.2965, Acc: 86.84%]\n"
          ]
        },
        {
          "output_type": "stream",
          "name": "stderr",
          "text": [
            "Epoch 4 Testing:  71%|███████   | 229/322 [00:18<00:06, 15.23it/s]"
          ]
        },
        {
          "output_type": "stream",
          "name": "stdout",
          "text": [
            "[Batch 226 / 322]  [Loss: 0.2957, Acc: 86.89%]\n",
            "[Batch 227 / 322]  [Loss: 0.2946, Acc: 86.95%]\n",
            "[Batch 228 / 322]  [Loss: 0.2972, Acc: 86.79%]\n"
          ]
        },
        {
          "output_type": "stream",
          "name": "stderr",
          "text": [
            "Epoch 4 Testing:  72%|███████▏  | 233/322 [00:18<00:06, 14.71it/s]"
          ]
        },
        {
          "output_type": "stream",
          "name": "stdout",
          "text": [
            "[Batch 229 / 322]  [Loss: 0.2961, Acc: 86.85%]\n",
            "[Batch 230 / 322]  [Loss: 0.2960, Acc: 86.80%]\n",
            "[Batch 231 / 322]  [Loss: 0.2972, Acc: 86.75%]\n",
            "[Batch 232 / 322]  [Loss: 0.2978, Acc: 86.70%]\n"
          ]
        },
        {
          "output_type": "stream",
          "name": "stderr",
          "text": [
            "\rEpoch 4 Testing:  73%|███████▎  | 235/322 [00:18<00:05, 14.53it/s]"
          ]
        },
        {
          "output_type": "stream",
          "name": "stdout",
          "text": [
            "[Batch 233 / 322]  [Loss: 0.2969, Acc: 86.75%]\n",
            "[Batch 234 / 322]  [Loss: 0.2959, Acc: 86.81%]\n",
            "[Batch 235 / 322]  [Loss: 0.2961, Acc: 86.76%]\n"
          ]
        },
        {
          "output_type": "stream",
          "name": "stderr",
          "text": [
            "Epoch 4 Testing:  74%|███████▍  | 239/322 [00:18<00:06, 13.83it/s]"
          ]
        },
        {
          "output_type": "stream",
          "name": "stdout",
          "text": [
            "[Batch 236 / 322]  [Loss: 0.2959, Acc: 86.71%]\n",
            "[Batch 237 / 322]  [Loss: 0.2956, Acc: 86.76%]\n",
            "[Batch 238 / 322]  [Loss: 0.2999, Acc: 86.61%]\n"
          ]
        },
        {
          "output_type": "stream",
          "name": "stderr",
          "text": [
            "\rEpoch 4 Testing:  75%|███████▍  | 241/322 [00:18<00:05, 13.91it/s]"
          ]
        },
        {
          "output_type": "stream",
          "name": "stdout",
          "text": [
            "[Batch 239 / 322]  [Loss: 0.3027, Acc: 86.56%]\n",
            "[Batch 240 / 322]  [Loss: 0.3024, Acc: 86.62%]\n",
            "[Batch 241 / 322]  [Loss: 0.3030, Acc: 86.57%]\n"
          ]
        },
        {
          "output_type": "stream",
          "name": "stderr",
          "text": [
            "Epoch 4 Testing:  76%|███████▌  | 245/322 [00:19<00:05, 13.72it/s]"
          ]
        },
        {
          "output_type": "stream",
          "name": "stdout",
          "text": [
            "[Batch 242 / 322]  [Loss: 0.3040, Acc: 86.52%]\n",
            "[Batch 243 / 322]  [Loss: 0.3030, Acc: 86.58%]\n",
            "[Batch 244 / 322]  [Loss: 0.3066, Acc: 86.43%]\n"
          ]
        },
        {
          "output_type": "stream",
          "name": "stderr",
          "text": [
            "\rEpoch 4 Testing:  77%|███████▋  | 247/322 [00:19<00:05, 14.32it/s]"
          ]
        },
        {
          "output_type": "stream",
          "name": "stdout",
          "text": [
            "[Batch 245 / 322]  [Loss: 0.3074, Acc: 86.38%]\n",
            "[Batch 246 / 322]  [Loss: 0.3063, Acc: 86.44%]\n",
            "[Batch 247 / 322]  [Loss: 0.3055, Acc: 86.49%]\n"
          ]
        },
        {
          "output_type": "stream",
          "name": "stderr",
          "text": [
            "Epoch 4 Testing:  78%|███████▊  | 251/322 [00:19<00:04, 14.36it/s]"
          ]
        },
        {
          "output_type": "stream",
          "name": "stdout",
          "text": [
            "[Batch 248 / 322]  [Loss: 0.3052, Acc: 86.45%]\n",
            "[Batch 249 / 322]  [Loss: 0.3046, Acc: 86.50%]\n",
            "[Batch 250 / 322]  [Loss: 0.3035, Acc: 86.55%]\n",
            "[Batch 251 / 322]  [Loss: 0.3036, Acc: 86.51%]\n"
          ]
        },
        {
          "output_type": "stream",
          "name": "stderr",
          "text": [
            "Epoch 4 Testing:  79%|███████▉  | 255/322 [00:19<00:04, 14.92it/s]"
          ]
        },
        {
          "output_type": "stream",
          "name": "stdout",
          "text": [
            "[Batch 252 / 322]  [Loss: 0.3031, Acc: 86.56%]\n",
            "[Batch 253 / 322]  [Loss: 0.3049, Acc: 86.42%]\n",
            "[Batch 254 / 322]  [Loss: 0.3048, Acc: 86.47%]\n",
            "[Batch 255 / 322]  [Loss: 0.3058, Acc: 86.43%]\n"
          ]
        },
        {
          "output_type": "stream",
          "name": "stderr",
          "text": [
            "Epoch 4 Testing:  80%|████████  | 259/322 [00:20<00:03, 15.98it/s]"
          ]
        },
        {
          "output_type": "stream",
          "name": "stdout",
          "text": [
            "[Batch 256 / 322]  [Loss: 0.3048, Acc: 86.48%]\n",
            "[Batch 257 / 322]  [Loss: 0.3041, Acc: 86.53%]\n",
            "[Batch 258 / 322]  [Loss: 0.3031, Acc: 86.58%]\n",
            "[Batch 259 / 322]  [Loss: 0.3035, Acc: 86.54%]\n"
          ]
        },
        {
          "output_type": "stream",
          "name": "stderr",
          "text": [
            "Epoch 4 Testing:  82%|████████▏ | 263/322 [00:20<00:03, 15.81it/s]"
          ]
        },
        {
          "output_type": "stream",
          "name": "stdout",
          "text": [
            "[Batch 260 / 322]  [Loss: 0.3026, Acc: 86.59%]\n",
            "[Batch 261 / 322]  [Loss: 0.3024, Acc: 86.64%]\n",
            "[Batch 262 / 322]  [Loss: 0.3021, Acc: 86.60%]\n"
          ]
        },
        {
          "output_type": "stream",
          "name": "stderr",
          "text": [
            "\rEpoch 4 Testing:  82%|████████▏ | 265/322 [00:20<00:03, 14.45it/s]"
          ]
        },
        {
          "output_type": "stream",
          "name": "stdout",
          "text": [
            "[Batch 263 / 322]  [Loss: 0.3039, Acc: 86.46%]\n",
            "[Batch 264 / 322]  [Loss: 0.3042, Acc: 86.42%]\n",
            "[Batch 265 / 322]  [Loss: 0.3036, Acc: 86.47%]\n"
          ]
        },
        {
          "output_type": "stream",
          "name": "stderr",
          "text": [
            "Epoch 4 Testing:  84%|████████▎ | 269/322 [00:20<00:03, 14.64it/s]"
          ]
        },
        {
          "output_type": "stream",
          "name": "stdout",
          "text": [
            "[Batch 266 / 322]  [Loss: 0.3033, Acc: 86.52%]\n",
            "[Batch 267 / 322]  [Loss: 0.3065, Acc: 86.47%]\n",
            "[Batch 268 / 322]  [Loss: 0.3054, Acc: 86.52%]\n"
          ]
        },
        {
          "output_type": "stream",
          "name": "stderr",
          "text": [
            "Epoch 4 Testing:  85%|████████▍ | 273/322 [00:21<00:03, 14.72it/s]"
          ]
        },
        {
          "output_type": "stream",
          "name": "stdout",
          "text": [
            "[Batch 269 / 322]  [Loss: 0.3043, Acc: 86.57%]\n",
            "[Batch 270 / 322]  [Loss: 0.3035, Acc: 86.62%]\n",
            "[Batch 271 / 322]  [Loss: 0.3034, Acc: 86.67%]\n",
            "[Batch 272 / 322]  [Loss: 0.3036, Acc: 86.63%]\n"
          ]
        },
        {
          "output_type": "stream",
          "name": "stderr",
          "text": [
            "Epoch 4 Testing:  86%|████████▌ | 277/322 [00:21<00:03, 13.40it/s]"
          ]
        },
        {
          "output_type": "stream",
          "name": "stdout",
          "text": [
            "[Batch 273 / 322]  [Loss: 0.3034, Acc: 86.68%]\n",
            "[Batch 274 / 322]  [Loss: 0.3029, Acc: 86.73%]\n",
            "[Batch 275 / 322]  [Loss: 0.3019, Acc: 86.78%]\n",
            "[Batch 276 / 322]  [Loss: 0.3034, Acc: 86.73%]\n"
          ]
        },
        {
          "output_type": "stream",
          "name": "stderr",
          "text": [
            "Epoch 4 Testing:  87%|████████▋ | 281/322 [00:21<00:03, 13.45it/s]"
          ]
        },
        {
          "output_type": "stream",
          "name": "stdout",
          "text": [
            "[Batch 277 / 322]  [Loss: 0.3025, Acc: 86.78%]\n",
            "[Batch 278 / 322]  [Loss: 0.3049, Acc: 86.65%]\n",
            "[Batch 279 / 322]  [Loss: 0.3044, Acc: 86.70%]\n",
            "[Batch 280 / 322]  [Loss: 0.3043, Acc: 86.65%]\n"
          ]
        },
        {
          "output_type": "stream",
          "name": "stderr",
          "text": [
            "Epoch 4 Testing:  89%|████████▊ | 285/322 [00:21<00:02, 14.64it/s]"
          ]
        },
        {
          "output_type": "stream",
          "name": "stdout",
          "text": [
            "[Batch 281 / 322]  [Loss: 0.3041, Acc: 86.61%]\n",
            "[Batch 282 / 322]  [Loss: 0.3032, Acc: 86.66%]\n",
            "[Batch 283 / 322]  [Loss: 0.3024, Acc: 86.71%]\n",
            "[Batch 284 / 322]  [Loss: 0.3030, Acc: 86.67%]\n"
          ]
        },
        {
          "output_type": "stream",
          "name": "stderr",
          "text": [
            "\rEpoch 4 Testing:  89%|████████▉ | 287/322 [00:22<00:02, 14.63it/s]"
          ]
        },
        {
          "output_type": "stream",
          "name": "stdout",
          "text": [
            "[Batch 285 / 322]  [Loss: 0.3021, Acc: 86.71%]\n",
            "[Batch 286 / 322]  [Loss: 0.3020, Acc: 86.76%]\n",
            "[Batch 287 / 322]  [Loss: 0.3039, Acc: 86.63%]\n"
          ]
        },
        {
          "output_type": "stream",
          "name": "stderr",
          "text": [
            "Epoch 4 Testing:  90%|█████████ | 291/322 [00:22<00:02, 13.91it/s]"
          ]
        },
        {
          "output_type": "stream",
          "name": "stdout",
          "text": [
            "[Batch 288 / 322]  [Loss: 0.3052, Acc: 86.51%]\n",
            "[Batch 289 / 322]  [Loss: 0.3048, Acc: 86.55%]\n",
            "[Batch 290 / 322]  [Loss: 0.3041, Acc: 86.60%]\n"
          ]
        },
        {
          "output_type": "stream",
          "name": "stderr",
          "text": [
            "Epoch 4 Testing:  92%|█████████▏| 295/322 [00:22<00:01, 14.54it/s]"
          ]
        },
        {
          "output_type": "stream",
          "name": "stdout",
          "text": [
            "[Batch 291 / 322]  [Loss: 0.3033, Acc: 86.64%]\n",
            "[Batch 292 / 322]  [Loss: 0.3027, Acc: 86.69%]\n",
            "[Batch 293 / 322]  [Loss: 0.3021, Acc: 86.73%]\n",
            "[Batch 294 / 322]  [Loss: 0.3023, Acc: 86.69%]\n"
          ]
        },
        {
          "output_type": "stream",
          "name": "stderr",
          "text": [
            "Epoch 4 Testing:  93%|█████████▎| 299/322 [00:22<00:01, 15.08it/s]"
          ]
        },
        {
          "output_type": "stream",
          "name": "stdout",
          "text": [
            "[Batch 295 / 322]  [Loss: 0.3014, Acc: 86.74%]\n",
            "[Batch 296 / 322]  [Loss: 0.3006, Acc: 86.78%]\n",
            "[Batch 297 / 322]  [Loss: 0.3019, Acc: 86.74%]\n",
            "[Batch 298 / 322]  [Loss: 0.3013, Acc: 86.79%]\n"
          ]
        },
        {
          "output_type": "stream",
          "name": "stderr",
          "text": [
            "Epoch 4 Testing:  94%|█████████▍| 303/322 [00:23<00:01, 15.58it/s]"
          ]
        },
        {
          "output_type": "stream",
          "name": "stdout",
          "text": [
            "[Batch 299 / 322]  [Loss: 0.3005, Acc: 86.83%]\n",
            "[Batch 300 / 322]  [Loss: 0.3002, Acc: 86.88%]\n",
            "[Batch 301 / 322]  [Loss: 0.3000, Acc: 86.92%]\n",
            "[Batch 302 / 322]  [Loss: 0.2993, Acc: 86.96%]\n"
          ]
        },
        {
          "output_type": "stream",
          "name": "stderr",
          "text": [
            "\rEpoch 4 Testing:  95%|█████████▍| 305/322 [00:23<00:01, 14.56it/s]"
          ]
        },
        {
          "output_type": "stream",
          "name": "stdout",
          "text": [
            "[Batch 303 / 322]  [Loss: 0.3000, Acc: 86.84%]\n",
            "[Batch 304 / 322]  [Loss: 0.2996, Acc: 86.89%]\n",
            "[Batch 305 / 322]  [Loss: 0.2992, Acc: 86.93%]\n"
          ]
        },
        {
          "output_type": "stream",
          "name": "stderr",
          "text": [
            "Epoch 4 Testing:  96%|█████████▌| 309/322 [00:23<00:00, 14.25it/s]"
          ]
        },
        {
          "output_type": "stream",
          "name": "stdout",
          "text": [
            "[Batch 306 / 322]  [Loss: 0.2993, Acc: 86.89%]\n",
            "[Batch 307 / 322]  [Loss: 0.3016, Acc: 86.85%]\n",
            "[Batch 308 / 322]  [Loss: 0.3021, Acc: 86.73%]\n",
            "[Batch 309 / 322]  [Loss: 0.3015, Acc: 86.77%]\n"
          ]
        },
        {
          "output_type": "stream",
          "name": "stderr",
          "text": [
            "Epoch 4 Testing:  97%|█████████▋| 313/322 [00:23<00:00, 14.78it/s]"
          ]
        },
        {
          "output_type": "stream",
          "name": "stdout",
          "text": [
            "[Batch 310 / 322]  [Loss: 0.3013, Acc: 86.74%]\n",
            "[Batch 311 / 322]  [Loss: 0.3006, Acc: 86.78%]\n",
            "[Batch 312 / 322]  [Loss: 0.3007, Acc: 86.74%]\n"
          ]
        },
        {
          "output_type": "stream",
          "name": "stderr",
          "text": [
            "Epoch 4 Testing:  98%|█████████▊| 317/322 [00:24<00:00, 15.03it/s]"
          ]
        },
        {
          "output_type": "stream",
          "name": "stdout",
          "text": [
            "[Batch 313 / 322]  [Loss: 0.3002, Acc: 86.78%]\n",
            "[Batch 314 / 322]  [Loss: 0.3007, Acc: 86.75%]\n",
            "[Batch 315 / 322]  [Loss: 0.3008, Acc: 86.79%]\n",
            "[Batch 316 / 322]  [Loss: 0.3008, Acc: 86.75%]\n"
          ]
        },
        {
          "output_type": "stream",
          "name": "stderr",
          "text": [
            "Epoch 4 Testing: 100%|██████████| 322/322 [00:24<00:00, 17.56it/s]"
          ]
        },
        {
          "output_type": "stream",
          "name": "stdout",
          "text": [
            "[Batch 317 / 322]  [Loss: 0.3022, Acc: 86.64%]\n",
            "[Batch 318 / 322]  [Loss: 0.3037, Acc: 86.60%]\n",
            "[Batch 319 / 322]  [Loss: 0.3028, Acc: 86.64%]\n",
            "[Batch 320 / 322]  [Loss: 0.3023, Acc: 86.68%]\n",
            "[Batch 321 / 322]  [Loss: 0.3020, Acc: 86.70%]\n"
          ]
        },
        {
          "output_type": "stream",
          "name": "stderr",
          "text": [
            "\rEpoch 4 Testing: 100%|██████████| 322/322 [00:24<00:00, 13.15it/s]\n"
          ]
        },
        {
          "output_type": "stream",
          "name": "stdout",
          "text": [
            "\n",
            "Accuracy 86.70295489891136\n"
          ]
        },
        {
          "output_type": "stream",
          "name": "stderr",
          "text": [
            "Epoch 5/5: 100%|██████████| 1286/1286 [04:20<00:00,  4.94it/s]\n"
          ]
        },
        {
          "output_type": "stream",
          "name": "stdout",
          "text": [
            "\n",
            "[Epoch 5/5] [Loss: 0.4176, Acc: 8482.79%]\n",
            "Testing\n"
          ]
        },
        {
          "output_type": "stream",
          "name": "stderr",
          "text": [
            "Epoch 5 Testing:   1%|          | 2/322 [00:00<01:17,  4.11it/s]"
          ]
        },
        {
          "output_type": "stream",
          "name": "stdout",
          "text": [
            "[Batch 0 / 322]  [Loss: 0.1374, Acc: 100.00%]\n",
            "[Batch 1 / 322]  [Loss: 0.1745, Acc: 100.00%]\n"
          ]
        },
        {
          "output_type": "stream",
          "name": "stderr",
          "text": [
            "Epoch 5 Testing:   1%|          | 4/322 [00:00<00:50,  6.29it/s]"
          ]
        },
        {
          "output_type": "stream",
          "name": "stdout",
          "text": [
            "[Batch 2 / 322]  [Loss: 0.1376, Acc: 100.00%]\n",
            "[Batch 3 / 322]  [Loss: 0.2470, Acc: 93.75%]\n"
          ]
        },
        {
          "output_type": "stream",
          "name": "stderr",
          "text": [
            "Epoch 5 Testing:   2%|▏         | 6/322 [00:01<00:43,  7.26it/s]"
          ]
        },
        {
          "output_type": "stream",
          "name": "stdout",
          "text": [
            "[Batch 4 / 322]  [Loss: 0.2597, Acc: 95.00%]\n",
            "[Batch 5 / 322]  [Loss: 0.2521, Acc: 95.83%]\n"
          ]
        },
        {
          "output_type": "stream",
          "name": "stderr",
          "text": [
            "\rEpoch 5 Testing:   2%|▏         | 8/322 [00:01<00:35,  8.81it/s]"
          ]
        },
        {
          "output_type": "stream",
          "name": "stdout",
          "text": [
            "[Batch 6 / 322]  [Loss: 0.2330, Acc: 96.43%]\n",
            "[Batch 7 / 322]  [Loss: 0.2533, Acc: 93.75%]\n"
          ]
        },
        {
          "output_type": "stream",
          "name": "stderr",
          "text": [
            "\rEpoch 5 Testing:   3%|▎         | 9/322 [00:01<00:37,  8.35it/s]"
          ]
        },
        {
          "output_type": "stream",
          "name": "stdout",
          "text": [
            "[Batch 8 / 322]  [Loss: 0.2583, Acc: 91.67%]\n",
            "[Batch 9 / 322]  [Loss: 0.2544, Acc: 92.50%]\n"
          ]
        },
        {
          "output_type": "stream",
          "name": "stderr",
          "text": [
            "Epoch 5 Testing:   4%|▍         | 13/322 [00:01<00:32,  9.41it/s]"
          ]
        },
        {
          "output_type": "stream",
          "name": "stdout",
          "text": [
            "[Batch 10 / 322]  [Loss: 0.2805, Acc: 90.91%]\n",
            "[Batch 11 / 322]  [Loss: 0.2713, Acc: 91.67%]\n",
            "[Batch 12 / 322]  [Loss: 0.2777, Acc: 90.38%]\n"
          ]
        },
        {
          "output_type": "stream",
          "name": "stderr",
          "text": [
            "\rEpoch 5 Testing:   5%|▍         | 15/322 [00:01<00:31,  9.65it/s]"
          ]
        },
        {
          "output_type": "stream",
          "name": "stdout",
          "text": [
            "[Batch 13 / 322]  [Loss: 0.2675, Acc: 91.07%]\n",
            "[Batch 14 / 322]  [Loss: 0.2676, Acc: 91.67%]\n",
            "[Batch 15 / 322]  [Loss: 0.3003, Acc: 90.62%]\n"
          ]
        },
        {
          "output_type": "stream",
          "name": "stderr",
          "text": [
            "Epoch 5 Testing:   6%|▌         | 18/322 [00:02<00:32,  9.22it/s]"
          ]
        },
        {
          "output_type": "stream",
          "name": "stdout",
          "text": [
            "[Batch 16 / 322]  [Loss: 0.2886, Acc: 91.18%]\n",
            "[Batch 17 / 322]  [Loss: 0.2821, Acc: 91.67%]\n"
          ]
        },
        {
          "output_type": "stream",
          "name": "stderr",
          "text": [
            "Epoch 5 Testing:   7%|▋         | 21/322 [00:02<00:28, 10.70it/s]"
          ]
        },
        {
          "output_type": "stream",
          "name": "stdout",
          "text": [
            "[Batch 18 / 322]  [Loss: 0.2699, Acc: 92.11%]\n",
            "[Batch 19 / 322]  [Loss: 0.2646, Acc: 92.50%]\n",
            "[Batch 20 / 322]  [Loss: 0.2675, Acc: 91.67%]\n"
          ]
        },
        {
          "output_type": "stream",
          "name": "stderr",
          "text": [
            "\rEpoch 5 Testing:   7%|▋         | 23/322 [00:02<00:27, 10.85it/s]"
          ]
        },
        {
          "output_type": "stream",
          "name": "stdout",
          "text": [
            "[Batch 21 / 322]  [Loss: 0.2631, Acc: 92.05%]\n",
            "[Batch 22 / 322]  [Loss: 0.2543, Acc: 92.39%]\n",
            "[Batch 23 / 322]  [Loss: 0.2471, Acc: 92.71%]\n"
          ]
        },
        {
          "output_type": "stream",
          "name": "stderr",
          "text": [
            "Epoch 5 Testing:   8%|▊         | 27/322 [00:03<00:24, 12.11it/s]"
          ]
        },
        {
          "output_type": "stream",
          "name": "stdout",
          "text": [
            "[Batch 24 / 322]  [Loss: 0.2530, Acc: 92.00%]\n",
            "[Batch 25 / 322]  [Loss: 0.2550, Acc: 92.31%]\n",
            "[Batch 26 / 322]  [Loss: 0.2471, Acc: 92.59%]\n"
          ]
        },
        {
          "output_type": "stream",
          "name": "stderr",
          "text": [
            "Epoch 5 Testing:  10%|▉         | 31/322 [00:03<00:21, 13.53it/s]"
          ]
        },
        {
          "output_type": "stream",
          "name": "stdout",
          "text": [
            "[Batch 27 / 322]  [Loss: 0.2637, Acc: 91.07%]\n",
            "[Batch 28 / 322]  [Loss: 0.2697, Acc: 90.52%]\n",
            "[Batch 29 / 322]  [Loss: 0.2676, Acc: 90.83%]\n",
            "[Batch 30 / 322]  [Loss: 0.2848, Acc: 90.32%]\n"
          ]
        },
        {
          "output_type": "stream",
          "name": "stderr",
          "text": [
            "\rEpoch 5 Testing:  10%|█         | 33/322 [00:03<00:20, 13.84it/s]"
          ]
        },
        {
          "output_type": "stream",
          "name": "stdout",
          "text": [
            "[Batch 31 / 322]  [Loss: 0.2799, Acc: 90.62%]\n",
            "[Batch 32 / 322]  [Loss: 0.2730, Acc: 90.91%]\n",
            "[Batch 33 / 322]  [Loss: 0.2796, Acc: 90.44%]\n"
          ]
        },
        {
          "output_type": "stream",
          "name": "stderr",
          "text": [
            "Epoch 5 Testing:  11%|█▏        | 37/322 [00:03<00:19, 14.42it/s]"
          ]
        },
        {
          "output_type": "stream",
          "name": "stdout",
          "text": [
            "[Batch 34 / 322]  [Loss: 0.2809, Acc: 90.00%]\n",
            "[Batch 35 / 322]  [Loss: 0.2821, Acc: 89.58%]\n",
            "[Batch 36 / 322]  [Loss: 0.2772, Acc: 89.86%]\n",
            "[Batch 37 / 322]  [Loss: 0.2750, Acc: 90.13%]\n"
          ]
        },
        {
          "output_type": "stream",
          "name": "stderr",
          "text": [
            "Epoch 5 Testing:  13%|█▎        | 41/322 [00:03<00:19, 14.16it/s]"
          ]
        },
        {
          "output_type": "stream",
          "name": "stdout",
          "text": [
            "[Batch 38 / 322]  [Loss: 0.2693, Acc: 90.38%]\n",
            "[Batch 39 / 322]  [Loss: 0.2750, Acc: 89.38%]\n",
            "[Batch 40 / 322]  [Loss: 0.2689, Acc: 89.63%]\n",
            "[Batch 41 / 322]  [Loss: 0.2668, Acc: 89.88%]\n"
          ]
        },
        {
          "output_type": "stream",
          "name": "stderr",
          "text": [
            "Epoch 5 Testing:  14%|█▍        | 45/322 [00:04<00:19, 14.20it/s]"
          ]
        },
        {
          "output_type": "stream",
          "name": "stdout",
          "text": [
            "[Batch 42 / 322]  [Loss: 0.2730, Acc: 89.53%]\n",
            "[Batch 43 / 322]  [Loss: 0.2739, Acc: 89.77%]\n",
            "[Batch 44 / 322]  [Loss: 0.2694, Acc: 90.00%]\n"
          ]
        },
        {
          "output_type": "stream",
          "name": "stderr",
          "text": [
            "Epoch 5 Testing:  15%|█▌        | 49/322 [00:04<00:18, 14.52it/s]"
          ]
        },
        {
          "output_type": "stream",
          "name": "stdout",
          "text": [
            "[Batch 45 / 322]  [Loss: 0.2653, Acc: 90.22%]\n",
            "[Batch 46 / 322]  [Loss: 0.2624, Acc: 90.43%]\n",
            "[Batch 47 / 322]  [Loss: 0.2676, Acc: 90.10%]\n",
            "[Batch 48 / 322]  [Loss: 0.2690, Acc: 89.80%]\n"
          ]
        },
        {
          "output_type": "stream",
          "name": "stderr",
          "text": [
            "Epoch 5 Testing:  16%|█▋        | 53/322 [00:04<00:17, 15.21it/s]"
          ]
        },
        {
          "output_type": "stream",
          "name": "stdout",
          "text": [
            "[Batch 49 / 322]  [Loss: 0.2690, Acc: 89.50%]\n",
            "[Batch 50 / 322]  [Loss: 0.2722, Acc: 89.22%]\n",
            "[Batch 51 / 322]  [Loss: 0.2691, Acc: 89.42%]\n",
            "[Batch 52 / 322]  [Loss: 0.2660, Acc: 89.62%]\n"
          ]
        },
        {
          "output_type": "stream",
          "name": "stderr",
          "text": [
            "Epoch 5 Testing:  18%|█▊        | 57/322 [00:05<00:16, 15.84it/s]"
          ]
        },
        {
          "output_type": "stream",
          "name": "stdout",
          "text": [
            "[Batch 53 / 322]  [Loss: 0.2640, Acc: 89.81%]\n",
            "[Batch 54 / 322]  [Loss: 0.2641, Acc: 90.00%]\n",
            "[Batch 55 / 322]  [Loss: 0.2611, Acc: 90.18%]\n",
            "[Batch 56 / 322]  [Loss: 0.2596, Acc: 90.35%]\n"
          ]
        },
        {
          "output_type": "stream",
          "name": "stderr",
          "text": [
            "\rEpoch 5 Testing:  18%|█▊        | 59/322 [00:05<00:18, 14.12it/s]"
          ]
        },
        {
          "output_type": "stream",
          "name": "stdout",
          "text": [
            "[Batch 57 / 322]  [Loss: 0.2558, Acc: 90.52%]\n",
            "[Batch 58 / 322]  [Loss: 0.2537, Acc: 90.68%]\n",
            "[Batch 59 / 322]  [Loss: 0.2570, Acc: 90.42%]\n"
          ]
        },
        {
          "output_type": "stream",
          "name": "stderr",
          "text": [
            "Epoch 5 Testing:  20%|█▉        | 63/322 [00:05<00:17, 14.39it/s]"
          ]
        },
        {
          "output_type": "stream",
          "name": "stdout",
          "text": [
            "[Batch 60 / 322]  [Loss: 0.2546, Acc: 90.57%]\n",
            "[Batch 61 / 322]  [Loss: 0.2564, Acc: 90.32%]\n",
            "[Batch 62 / 322]  [Loss: 0.2542, Acc: 90.48%]\n",
            "[Batch 63 / 322]  [Loss: 0.2519, Acc: 90.62%]\n"
          ]
        },
        {
          "output_type": "stream",
          "name": "stderr",
          "text": [
            "Epoch 5 Testing:  21%|██        | 67/322 [00:05<00:16, 15.29it/s]"
          ]
        },
        {
          "output_type": "stream",
          "name": "stdout",
          "text": [
            "[Batch 64 / 322]  [Loss: 0.2485, Acc: 90.77%]\n",
            "[Batch 65 / 322]  [Loss: 0.2493, Acc: 90.53%]\n",
            "[Batch 66 / 322]  [Loss: 0.2460, Acc: 90.67%]\n"
          ]
        },
        {
          "output_type": "stream",
          "name": "stderr",
          "text": [
            "Epoch 5 Testing:  22%|██▏       | 71/322 [00:06<00:17, 14.23it/s]"
          ]
        },
        {
          "output_type": "stream",
          "name": "stdout",
          "text": [
            "[Batch 67 / 322]  [Loss: 0.2555, Acc: 89.71%]\n",
            "[Batch 68 / 322]  [Loss: 0.2634, Acc: 89.13%]\n",
            "[Batch 69 / 322]  [Loss: 0.2660, Acc: 88.57%]\n",
            "[Batch 70 / 322]  [Loss: 0.2629, Acc: 88.73%]\n"
          ]
        },
        {
          "output_type": "stream",
          "name": "stderr",
          "text": [
            "Epoch 5 Testing:  23%|██▎       | 75/322 [00:06<00:16, 15.23it/s]"
          ]
        },
        {
          "output_type": "stream",
          "name": "stdout",
          "text": [
            "[Batch 71 / 322]  [Loss: 0.2615, Acc: 88.89%]\n",
            "[Batch 72 / 322]  [Loss: 0.2584, Acc: 89.04%]\n",
            "[Batch 73 / 322]  [Loss: 0.2616, Acc: 88.85%]\n",
            "[Batch 74 / 322]  [Loss: 0.2630, Acc: 88.67%]\n"
          ]
        },
        {
          "output_type": "stream",
          "name": "stderr",
          "text": [
            "\rEpoch 5 Testing:  24%|██▍       | 77/322 [00:06<00:16, 14.96it/s]"
          ]
        },
        {
          "output_type": "stream",
          "name": "stdout",
          "text": [
            "[Batch 75 / 322]  [Loss: 0.2654, Acc: 88.49%]\n",
            "[Batch 76 / 322]  [Loss: 0.2678, Acc: 88.31%]\n",
            "[Batch 77 / 322]  [Loss: 0.2693, Acc: 88.14%]\n"
          ]
        },
        {
          "output_type": "stream",
          "name": "stderr",
          "text": [
            "Epoch 5 Testing:  25%|██▌       | 81/322 [00:06<00:17, 13.89it/s]"
          ]
        },
        {
          "output_type": "stream",
          "name": "stdout",
          "text": [
            "[Batch 78 / 322]  [Loss: 0.2701, Acc: 87.97%]\n",
            "[Batch 79 / 322]  [Loss: 0.2742, Acc: 87.50%]\n",
            "[Batch 80 / 322]  [Loss: 0.2718, Acc: 87.65%]\n"
          ]
        },
        {
          "output_type": "stream",
          "name": "stderr",
          "text": [
            "Epoch 5 Testing:  26%|██▋       | 85/322 [00:06<00:15, 15.06it/s]"
          ]
        },
        {
          "output_type": "stream",
          "name": "stdout",
          "text": [
            "[Batch 81 / 322]  [Loss: 0.2695, Acc: 87.80%]\n",
            "[Batch 82 / 322]  [Loss: 0.2664, Acc: 87.95%]\n",
            "[Batch 83 / 322]  [Loss: 0.2702, Acc: 87.80%]\n",
            "[Batch 84 / 322]  [Loss: 0.2687, Acc: 87.94%]\n"
          ]
        },
        {
          "output_type": "stream",
          "name": "stderr",
          "text": [
            "Epoch 5 Testing:  28%|██▊       | 89/322 [00:07<00:14, 15.66it/s]"
          ]
        },
        {
          "output_type": "stream",
          "name": "stdout",
          "text": [
            "[Batch 85 / 322]  [Loss: 0.2664, Acc: 88.08%]\n",
            "[Batch 86 / 322]  [Loss: 0.2708, Acc: 87.93%]\n",
            "[Batch 87 / 322]  [Loss: 0.2722, Acc: 87.78%]\n",
            "[Batch 88 / 322]  [Loss: 0.2821, Acc: 87.36%]\n"
          ]
        },
        {
          "output_type": "stream",
          "name": "stderr",
          "text": [
            "\rEpoch 5 Testing:  28%|██▊       | 91/322 [00:07<00:15, 14.55it/s]"
          ]
        },
        {
          "output_type": "stream",
          "name": "stdout",
          "text": [
            "[Batch 89 / 322]  [Loss: 0.2807, Acc: 87.50%]\n",
            "[Batch 90 / 322]  [Loss: 0.2803, Acc: 87.64%]\n",
            "[Batch 91 / 322]  [Loss: 0.2799, Acc: 87.77%]\n"
          ]
        },
        {
          "output_type": "stream",
          "name": "stderr",
          "text": [
            "Epoch 5 Testing:  30%|██▉       | 95/322 [00:07<00:15, 14.20it/s]"
          ]
        },
        {
          "output_type": "stream",
          "name": "stdout",
          "text": [
            "[Batch 92 / 322]  [Loss: 0.2774, Acc: 87.90%]\n",
            "[Batch 93 / 322]  [Loss: 0.2865, Acc: 87.50%]\n",
            "[Batch 94 / 322]  [Loss: 0.2857, Acc: 87.63%]\n"
          ]
        },
        {
          "output_type": "stream",
          "name": "stderr",
          "text": [
            "\rEpoch 5 Testing:  30%|███       | 97/322 [00:07<00:15, 14.13it/s]"
          ]
        },
        {
          "output_type": "stream",
          "name": "stdout",
          "text": [
            "[Batch 95 / 322]  [Loss: 0.2830, Acc: 87.76%]\n",
            "[Batch 96 / 322]  [Loss: 0.2823, Acc: 87.89%]\n",
            "[Batch 97 / 322]  [Loss: 0.2800, Acc: 88.01%]\n"
          ]
        },
        {
          "output_type": "stream",
          "name": "stderr",
          "text": [
            "Epoch 5 Testing:  31%|███▏      | 101/322 [00:08<00:15, 14.47it/s]"
          ]
        },
        {
          "output_type": "stream",
          "name": "stdout",
          "text": [
            "[Batch 98 / 322]  [Loss: 0.2798, Acc: 88.13%]\n",
            "[Batch 99 / 322]  [Loss: 0.2789, Acc: 88.25%]\n",
            "[Batch 100 / 322]  [Loss: 0.2781, Acc: 88.37%]\n"
          ]
        },
        {
          "output_type": "stream",
          "name": "stderr",
          "text": [
            "\rEpoch 5 Testing:  32%|███▏      | 103/322 [00:08<00:15, 14.26it/s]"
          ]
        },
        {
          "output_type": "stream",
          "name": "stdout",
          "text": [
            "[Batch 101 / 322]  [Loss: 0.2759, Acc: 88.48%]\n",
            "[Batch 102 / 322]  [Loss: 0.2785, Acc: 88.35%]\n",
            "[Batch 103 / 322]  [Loss: 0.2770, Acc: 88.46%]\n"
          ]
        },
        {
          "output_type": "stream",
          "name": "stderr",
          "text": [
            "Epoch 5 Testing:  33%|███▎      | 107/322 [00:08<00:14, 14.42it/s]"
          ]
        },
        {
          "output_type": "stream",
          "name": "stdout",
          "text": [
            "[Batch 104 / 322]  [Loss: 0.2755, Acc: 88.57%]\n",
            "[Batch 105 / 322]  [Loss: 0.2767, Acc: 88.68%]\n",
            "[Batch 106 / 322]  [Loss: 0.2757, Acc: 88.79%]\n"
          ]
        },
        {
          "output_type": "stream",
          "name": "stderr",
          "text": [
            "Epoch 5 Testing:  34%|███▍      | 111/322 [00:08<00:13, 15.12it/s]"
          ]
        },
        {
          "output_type": "stream",
          "name": "stdout",
          "text": [
            "[Batch 107 / 322]  [Loss: 0.2759, Acc: 88.66%]\n",
            "[Batch 108 / 322]  [Loss: 0.2773, Acc: 88.53%]\n",
            "[Batch 109 / 322]  [Loss: 0.2758, Acc: 88.64%]\n",
            "[Batch 110 / 322]  [Loss: 0.2752, Acc: 88.74%]\n"
          ]
        },
        {
          "output_type": "stream",
          "name": "stderr",
          "text": [
            "Epoch 5 Testing:  36%|███▌      | 115/322 [00:08<00:13, 15.79it/s]"
          ]
        },
        {
          "output_type": "stream",
          "name": "stdout",
          "text": [
            "[Batch 111 / 322]  [Loss: 0.2747, Acc: 88.84%]\n",
            "[Batch 112 / 322]  [Loss: 0.2776, Acc: 88.50%]\n",
            "[Batch 113 / 322]  [Loss: 0.2779, Acc: 88.38%]\n",
            "[Batch 114 / 322]  [Loss: 0.2789, Acc: 88.26%]\n"
          ]
        },
        {
          "output_type": "stream",
          "name": "stderr",
          "text": [
            "\rEpoch 5 Testing:  36%|███▋      | 117/322 [00:09<00:14, 14.57it/s]"
          ]
        },
        {
          "output_type": "stream",
          "name": "stdout",
          "text": [
            "[Batch 115 / 322]  [Loss: 0.2805, Acc: 87.93%]\n",
            "[Batch 116 / 322]  [Loss: 0.2784, Acc: 88.03%]\n",
            "[Batch 117 / 322]  [Loss: 0.2831, Acc: 87.71%]\n"
          ]
        },
        {
          "output_type": "stream",
          "name": "stderr",
          "text": [
            "Epoch 5 Testing:  38%|███▊      | 121/322 [00:09<00:13, 14.53it/s]"
          ]
        },
        {
          "output_type": "stream",
          "name": "stdout",
          "text": [
            "[Batch 118 / 322]  [Loss: 0.2831, Acc: 87.82%]\n",
            "[Batch 119 / 322]  [Loss: 0.2858, Acc: 87.71%]\n",
            "[Batch 120 / 322]  [Loss: 0.2838, Acc: 87.81%]\n"
          ]
        },
        {
          "output_type": "stream",
          "name": "stderr",
          "text": [
            "Epoch 5 Testing:  39%|███▉      | 125/322 [00:09<00:13, 14.72it/s]"
          ]
        },
        {
          "output_type": "stream",
          "name": "stdout",
          "text": [
            "[Batch 121 / 322]  [Loss: 0.2827, Acc: 87.91%]\n",
            "[Batch 122 / 322]  [Loss: 0.2862, Acc: 87.60%]\n",
            "[Batch 123 / 322]  [Loss: 0.2869, Acc: 87.50%]\n",
            "[Batch 124 / 322]  [Loss: 0.2879, Acc: 87.40%]\n"
          ]
        },
        {
          "output_type": "stream",
          "name": "stderr",
          "text": [
            "Epoch 5 Testing:  40%|████      | 129/322 [00:10<00:14, 13.74it/s]"
          ]
        },
        {
          "output_type": "stream",
          "name": "stdout",
          "text": [
            "[Batch 125 / 322]  [Loss: 0.2907, Acc: 87.30%]\n",
            "[Batch 126 / 322]  [Loss: 0.2895, Acc: 87.40%]\n",
            "[Batch 127 / 322]  [Loss: 0.2901, Acc: 87.30%]\n",
            "[Batch 128 / 322]  [Loss: 0.2952, Acc: 87.02%]\n"
          ]
        },
        {
          "output_type": "stream",
          "name": "stderr",
          "text": [
            "Epoch 5 Testing:  41%|████▏     | 133/322 [00:10<00:12, 14.83it/s]"
          ]
        },
        {
          "output_type": "stream",
          "name": "stdout",
          "text": [
            "[Batch 129 / 322]  [Loss: 0.2949, Acc: 87.12%]\n",
            "[Batch 130 / 322]  [Loss: 0.2974, Acc: 87.02%]\n",
            "[Batch 131 / 322]  [Loss: 0.2964, Acc: 87.12%]\n",
            "[Batch 132 / 322]  [Loss: 0.2959, Acc: 87.22%]\n"
          ]
        },
        {
          "output_type": "stream",
          "name": "stderr",
          "text": [
            "Epoch 5 Testing:  43%|████▎     | 137/322 [00:10<00:12, 14.34it/s]"
          ]
        },
        {
          "output_type": "stream",
          "name": "stdout",
          "text": [
            "[Batch 133 / 322]  [Loss: 0.2984, Acc: 87.13%]\n",
            "[Batch 134 / 322]  [Loss: 0.2987, Acc: 87.04%]\n",
            "[Batch 135 / 322]  [Loss: 0.2983, Acc: 86.95%]\n",
            "[Batch 136 / 322]  [Loss: 0.3035, Acc: 86.68%]\n"
          ]
        },
        {
          "output_type": "stream",
          "name": "stderr",
          "text": [
            "\rEpoch 5 Testing:  43%|████▎     | 139/322 [00:10<00:13, 13.95it/s]"
          ]
        },
        {
          "output_type": "stream",
          "name": "stdout",
          "text": [
            "[Batch 137 / 322]  [Loss: 0.3023, Acc: 86.78%]\n",
            "[Batch 138 / 322]  [Loss: 0.3006, Acc: 86.87%]\n",
            "[Batch 139 / 322]  [Loss: 0.3017, Acc: 86.79%]\n"
          ]
        },
        {
          "output_type": "stream",
          "name": "stderr",
          "text": [
            "Epoch 5 Testing:  44%|████▍     | 143/322 [00:11<00:13, 13.68it/s]"
          ]
        },
        {
          "output_type": "stream",
          "name": "stdout",
          "text": [
            "[Batch 140 / 322]  [Loss: 0.3046, Acc: 86.70%]\n",
            "[Batch 141 / 322]  [Loss: 0.3031, Acc: 86.80%]\n",
            "[Batch 142 / 322]  [Loss: 0.3028, Acc: 86.89%]\n",
            "[Batch 143 / 322]  [Loss: 0.3020, Acc: 86.98%]\n"
          ]
        },
        {
          "output_type": "stream",
          "name": "stderr",
          "text": [
            "Epoch 5 Testing:  46%|████▌     | 147/322 [00:11<00:12, 13.79it/s]"
          ]
        },
        {
          "output_type": "stream",
          "name": "stdout",
          "text": [
            "[Batch 144 / 322]  [Loss: 0.3019, Acc: 86.90%]\n",
            "[Batch 145 / 322]  [Loss: 0.3023, Acc: 86.82%]\n",
            "[Batch 146 / 322]  [Loss: 0.3027, Acc: 86.73%]\n"
          ]
        },
        {
          "output_type": "stream",
          "name": "stderr",
          "text": [
            "\rEpoch 5 Testing:  46%|████▋     | 149/322 [00:11<00:12, 13.75it/s]"
          ]
        },
        {
          "output_type": "stream",
          "name": "stdout",
          "text": [
            "[Batch 147 / 322]  [Loss: 0.3025, Acc: 86.82%]\n",
            "[Batch 148 / 322]  [Loss: 0.3012, Acc: 86.91%]\n",
            "[Batch 149 / 322]  [Loss: 0.3002, Acc: 87.00%]\n"
          ]
        },
        {
          "output_type": "stream",
          "name": "stderr",
          "text": [
            "Epoch 5 Testing:  48%|████▊     | 153/322 [00:11<00:11, 14.10it/s]"
          ]
        },
        {
          "output_type": "stream",
          "name": "stdout",
          "text": [
            "[Batch 150 / 322]  [Loss: 0.2999, Acc: 87.09%]\n",
            "[Batch 151 / 322]  [Loss: 0.3017, Acc: 87.01%]\n",
            "[Batch 152 / 322]  [Loss: 0.3034, Acc: 86.93%]\n"
          ]
        },
        {
          "output_type": "stream",
          "name": "stderr",
          "text": [
            "Epoch 5 Testing:  49%|████▉     | 157/322 [00:11<00:11, 14.84it/s]"
          ]
        },
        {
          "output_type": "stream",
          "name": "stdout",
          "text": [
            "[Batch 153 / 322]  [Loss: 0.3040, Acc: 86.85%]\n",
            "[Batch 154 / 322]  [Loss: 0.3028, Acc: 86.94%]\n",
            "[Batch 155 / 322]  [Loss: 0.3014, Acc: 87.02%]\n",
            "[Batch 156 / 322]  [Loss: 0.3014, Acc: 87.10%]\n"
          ]
        },
        {
          "output_type": "stream",
          "name": "stderr",
          "text": [
            "Epoch 5 Testing:  50%|█████     | 161/322 [00:12<00:10, 15.32it/s]"
          ]
        },
        {
          "output_type": "stream",
          "name": "stdout",
          "text": [
            "[Batch 157 / 322]  [Loss: 0.3021, Acc: 87.03%]\n",
            "[Batch 158 / 322]  [Loss: 0.3071, Acc: 86.79%]\n",
            "[Batch 159 / 322]  [Loss: 0.3060, Acc: 86.88%]\n",
            "[Batch 160 / 322]  [Loss: 0.3055, Acc: 86.80%]\n"
          ]
        },
        {
          "output_type": "stream",
          "name": "stderr",
          "text": [
            "\rEpoch 5 Testing:  51%|█████     | 163/322 [00:12<00:10, 15.28it/s]"
          ]
        },
        {
          "output_type": "stream",
          "name": "stdout",
          "text": [
            "[Batch 161 / 322]  [Loss: 0.3058, Acc: 86.73%]\n",
            "[Batch 162 / 322]  [Loss: 0.3050, Acc: 86.81%]\n",
            "[Batch 163 / 322]  [Loss: 0.3048, Acc: 86.89%]\n"
          ]
        },
        {
          "output_type": "stream",
          "name": "stderr",
          "text": [
            "\rEpoch 5 Testing:  51%|█████     | 165/322 [00:12<00:10, 14.88it/s]"
          ]
        },
        {
          "output_type": "stream",
          "name": "stdout",
          "text": [
            "[Batch 164 / 322]  [Loss: 0.3039, Acc: 86.97%]\n",
            "[Batch 165 / 322]  [Loss: 0.3044, Acc: 86.90%]\n"
          ]
        },
        {
          "output_type": "stream",
          "name": "stderr",
          "text": [
            "Epoch 5 Testing:  52%|█████▏    | 169/322 [00:12<00:12, 11.84it/s]"
          ]
        },
        {
          "output_type": "stream",
          "name": "stdout",
          "text": [
            "[Batch 166 / 322]  [Loss: 0.3036, Acc: 86.98%]\n",
            "[Batch 167 / 322]  [Loss: 0.3032, Acc: 87.05%]\n",
            "[Batch 168 / 322]  [Loss: 0.3024, Acc: 87.13%]\n"
          ]
        },
        {
          "output_type": "stream",
          "name": "stderr",
          "text": [
            "\rEpoch 5 Testing:  53%|█████▎    | 171/322 [00:13<00:14, 10.15it/s]"
          ]
        },
        {
          "output_type": "stream",
          "name": "stdout",
          "text": [
            "[Batch 169 / 322]  [Loss: 0.3018, Acc: 87.21%]\n",
            "[Batch 170 / 322]  [Loss: 0.3027, Acc: 87.13%]\n",
            "[Batch 171 / 322]  [Loss: 0.3014, Acc: 87.21%]\n"
          ]
        },
        {
          "output_type": "stream",
          "name": "stderr",
          "text": [
            "Epoch 5 Testing:  54%|█████▍    | 175/322 [00:13<00:14,  9.96it/s]"
          ]
        },
        {
          "output_type": "stream",
          "name": "stdout",
          "text": [
            "[Batch 172 / 322]  [Loss: 0.3018, Acc: 87.14%]\n",
            "[Batch 173 / 322]  [Loss: 0.3004, Acc: 87.21%]\n",
            "[Batch 174 / 322]  [Loss: 0.2996, Acc: 87.29%]\n"
          ]
        },
        {
          "output_type": "stream",
          "name": "stderr",
          "text": [
            "\rEpoch 5 Testing:  55%|█████▍    | 177/322 [00:13<00:14,  9.78it/s]"
          ]
        },
        {
          "output_type": "stream",
          "name": "stdout",
          "text": [
            "[Batch 175 / 322]  [Loss: 0.2995, Acc: 87.22%]\n",
            "[Batch 176 / 322]  [Loss: 0.3003, Acc: 87.15%]\n",
            "[Batch 177 / 322]  [Loss: 0.3036, Acc: 87.08%]\n"
          ]
        },
        {
          "output_type": "stream",
          "name": "stderr",
          "text": [
            "Epoch 5 Testing:  56%|█████▌    | 181/322 [00:14<00:15,  9.04it/s]"
          ]
        },
        {
          "output_type": "stream",
          "name": "stdout",
          "text": [
            "[Batch 178 / 322]  [Loss: 0.3039, Acc: 87.01%]\n",
            "[Batch 179 / 322]  [Loss: 0.3025, Acc: 87.08%]\n",
            "[Batch 180 / 322]  [Loss: 0.3015, Acc: 87.15%]\n"
          ]
        },
        {
          "output_type": "stream",
          "name": "stderr",
          "text": [
            "\rEpoch 5 Testing:  57%|█████▋    | 183/322 [00:14<00:14,  9.65it/s]"
          ]
        },
        {
          "output_type": "stream",
          "name": "stdout",
          "text": [
            "[Batch 181 / 322]  [Loss: 0.3002, Acc: 87.23%]\n",
            "[Batch 182 / 322]  [Loss: 0.3015, Acc: 87.16%]\n",
            "[Batch 183 / 322]  [Loss: 0.3031, Acc: 87.09%]\n"
          ]
        },
        {
          "output_type": "stream",
          "name": "stderr",
          "text": [
            "Epoch 5 Testing:  58%|█████▊    | 186/322 [00:14<00:14,  9.23it/s]"
          ]
        },
        {
          "output_type": "stream",
          "name": "stdout",
          "text": [
            "[Batch 184 / 322]  [Loss: 0.3021, Acc: 87.16%]\n",
            "[Batch 185 / 322]  [Loss: 0.3008, Acc: 87.23%]\n"
          ]
        },
        {
          "output_type": "stream",
          "name": "stderr",
          "text": [
            "Epoch 5 Testing:  58%|█████▊    | 188/322 [00:15<00:15,  8.73it/s]"
          ]
        },
        {
          "output_type": "stream",
          "name": "stdout",
          "text": [
            "[Batch 186 / 322]  [Loss: 0.3028, Acc: 87.17%]\n",
            "[Batch 187 / 322]  [Loss: 0.3024, Acc: 87.23%]\n"
          ]
        },
        {
          "output_type": "stream",
          "name": "stderr",
          "text": [
            "Epoch 5 Testing:  59%|█████▉    | 190/322 [00:15<00:15,  8.58it/s]"
          ]
        },
        {
          "output_type": "stream",
          "name": "stdout",
          "text": [
            "[Batch 188 / 322]  [Loss: 0.3035, Acc: 87.17%]\n",
            "[Batch 189 / 322]  [Loss: 0.3060, Acc: 87.11%]\n",
            "[Batch 190 / 322]  [Loss: 0.3057, Acc: 87.17%]\n"
          ]
        },
        {
          "output_type": "stream",
          "name": "stderr",
          "text": [
            "\rEpoch 5 Testing:  60%|█████▉    | 192/322 [00:15<00:13,  9.72it/s]"
          ]
        },
        {
          "output_type": "stream",
          "name": "stdout",
          "text": [
            "[Batch 191 / 322]  [Loss: 0.3088, Acc: 86.98%]\n",
            "[Batch 192 / 322]  [Loss: 0.3106, Acc: 86.79%]\n"
          ]
        },
        {
          "output_type": "stream",
          "name": "stderr",
          "text": [
            "Epoch 5 Testing:  61%|██████    | 196/322 [00:15<00:11, 10.74it/s]"
          ]
        },
        {
          "output_type": "stream",
          "name": "stdout",
          "text": [
            "[Batch 193 / 322]  [Loss: 0.3100, Acc: 86.86%]\n",
            "[Batch 194 / 322]  [Loss: 0.3099, Acc: 86.79%]\n",
            "[Batch 195 / 322]  [Loss: 0.3087, Acc: 86.86%]\n"
          ]
        },
        {
          "output_type": "stream",
          "name": "stderr",
          "text": [
            "\rEpoch 5 Testing:  61%|██████▏   | 198/322 [00:16<00:13,  9.50it/s]"
          ]
        },
        {
          "output_type": "stream",
          "name": "stdout",
          "text": [
            "[Batch 196 / 322]  [Loss: 0.3097, Acc: 86.80%]\n",
            "[Batch 197 / 322]  [Loss: 0.3100, Acc: 86.87%]\n"
          ]
        },
        {
          "output_type": "stream",
          "name": "stderr",
          "text": [
            "\rEpoch 5 Testing:  62%|██████▏   | 200/322 [00:16<00:11, 10.29it/s]"
          ]
        },
        {
          "output_type": "stream",
          "name": "stdout",
          "text": [
            "[Batch 198 / 322]  [Loss: 0.3134, Acc: 86.81%]\n",
            "[Batch 199 / 322]  [Loss: 0.3123, Acc: 86.88%]\n",
            "[Batch 200 / 322]  [Loss: 0.3145, Acc: 86.82%]\n"
          ]
        },
        {
          "output_type": "stream",
          "name": "stderr",
          "text": [
            "\rEpoch 5 Testing:  63%|██████▎   | 202/322 [00:16<00:11, 10.90it/s]"
          ]
        },
        {
          "output_type": "stream",
          "name": "stdout",
          "text": [
            "[Batch 201 / 322]  [Loss: 0.3136, Acc: 86.88%]\n",
            "[Batch 202 / 322]  [Loss: 0.3139, Acc: 86.82%]\n"
          ]
        },
        {
          "output_type": "stream",
          "name": "stderr",
          "text": [
            "\rEpoch 5 Testing:  63%|██████▎   | 204/322 [00:16<00:11,  9.97it/s]"
          ]
        },
        {
          "output_type": "stream",
          "name": "stdout",
          "text": [
            "[Batch 203 / 322]  [Loss: 0.3168, Acc: 86.76%]\n",
            "[Batch 204 / 322]  [Loss: 0.3155, Acc: 86.83%]\n"
          ]
        },
        {
          "output_type": "stream",
          "name": "stderr",
          "text": [
            "\rEpoch 5 Testing:  64%|██████▍   | 206/322 [00:16<00:12,  9.23it/s]"
          ]
        },
        {
          "output_type": "stream",
          "name": "stdout",
          "text": [
            "[Batch 205 / 322]  [Loss: 0.3144, Acc: 86.89%]\n",
            "[Batch 206 / 322]  [Loss: 0.3136, Acc: 86.96%]\n"
          ]
        },
        {
          "output_type": "stream",
          "name": "stderr",
          "text": [
            "\rEpoch 5 Testing:  65%|██████▍   | 208/322 [00:17<00:12,  8.95it/s]"
          ]
        },
        {
          "output_type": "stream",
          "name": "stdout",
          "text": [
            "[Batch 207 / 322]  [Loss: 0.3126, Acc: 87.02%]\n",
            "[Batch 208 / 322]  [Loss: 0.3129, Acc: 86.96%]\n"
          ]
        },
        {
          "output_type": "stream",
          "name": "stderr",
          "text": [
            "Epoch 5 Testing:  66%|██████▌   | 212/322 [00:17<00:11,  9.69it/s]"
          ]
        },
        {
          "output_type": "stream",
          "name": "stdout",
          "text": [
            "[Batch 209 / 322]  [Loss: 0.3158, Acc: 86.90%]\n",
            "[Batch 210 / 322]  [Loss: 0.3162, Acc: 86.85%]\n",
            "[Batch 211 / 322]  [Loss: 0.3150, Acc: 86.91%]\n"
          ]
        },
        {
          "output_type": "stream",
          "name": "stderr",
          "text": [
            "\rEpoch 5 Testing:  66%|██████▋   | 214/322 [00:17<00:11,  9.62it/s]"
          ]
        },
        {
          "output_type": "stream",
          "name": "stdout",
          "text": [
            "[Batch 212 / 322]  [Loss: 0.3138, Acc: 86.97%]\n",
            "[Batch 213 / 322]  [Loss: 0.3132, Acc: 87.03%]\n"
          ]
        },
        {
          "output_type": "stream",
          "name": "stderr",
          "text": [
            "\rEpoch 5 Testing:  67%|██████▋   | 216/322 [00:18<00:11,  9.35it/s]"
          ]
        },
        {
          "output_type": "stream",
          "name": "stdout",
          "text": [
            "[Batch 214 / 322]  [Loss: 0.3143, Acc: 86.98%]\n",
            "[Batch 215 / 322]  [Loss: 0.3137, Acc: 87.04%]\n"
          ]
        },
        {
          "output_type": "stream",
          "name": "stderr",
          "text": [
            "\rEpoch 5 Testing:  68%|██████▊   | 218/322 [00:18<00:10, 10.01it/s]"
          ]
        },
        {
          "output_type": "stream",
          "name": "stdout",
          "text": [
            "[Batch 216 / 322]  [Loss: 0.3130, Acc: 87.10%]\n",
            "[Batch 217 / 322]  [Loss: 0.3139, Acc: 87.04%]\n",
            "[Batch 218 / 322]  [Loss: 0.3143, Acc: 86.99%]\n"
          ]
        },
        {
          "output_type": "stream",
          "name": "stderr",
          "text": [
            "\rEpoch 5 Testing:  68%|██████▊   | 220/322 [00:18<00:09, 10.33it/s]"
          ]
        },
        {
          "output_type": "stream",
          "name": "stdout",
          "text": [
            "[Batch 219 / 322]  [Loss: 0.3135, Acc: 87.05%]\n",
            "[Batch 220 / 322]  [Loss: 0.3129, Acc: 87.10%]\n"
          ]
        },
        {
          "output_type": "stream",
          "name": "stderr",
          "text": [
            "Epoch 5 Testing:  70%|██████▉   | 224/322 [00:18<00:09, 10.78it/s]"
          ]
        },
        {
          "output_type": "stream",
          "name": "stdout",
          "text": [
            "[Batch 221 / 322]  [Loss: 0.3123, Acc: 87.16%]\n",
            "[Batch 222 / 322]  [Loss: 0.3125, Acc: 87.22%]\n",
            "[Batch 223 / 322]  [Loss: 0.3116, Acc: 87.28%]\n",
            "[Batch 224 / 322]  [Loss: 0.3120, Acc: 87.22%]\n"
          ]
        },
        {
          "output_type": "stream",
          "name": "stderr",
          "text": [
            "Epoch 5 Testing:  71%|███████   | 228/322 [00:19<00:09, 10.39it/s]"
          ]
        },
        {
          "output_type": "stream",
          "name": "stdout",
          "text": [
            "[Batch 225 / 322]  [Loss: 0.3107, Acc: 87.28%]\n",
            "[Batch 226 / 322]  [Loss: 0.3096, Acc: 87.33%]\n",
            "[Batch 227 / 322]  [Loss: 0.3099, Acc: 87.28%]\n"
          ]
        },
        {
          "output_type": "stream",
          "name": "stderr",
          "text": [
            "Epoch 5 Testing:  72%|███████▏  | 232/322 [00:19<00:07, 12.57it/s]"
          ]
        },
        {
          "output_type": "stream",
          "name": "stdout",
          "text": [
            "[Batch 228 / 322]  [Loss: 0.3088, Acc: 87.34%]\n",
            "[Batch 229 / 322]  [Loss: 0.3091, Acc: 87.28%]\n",
            "[Batch 230 / 322]  [Loss: 0.3086, Acc: 87.34%]\n",
            "[Batch 231 / 322]  [Loss: 0.3097, Acc: 87.28%]\n"
          ]
        },
        {
          "output_type": "stream",
          "name": "stderr",
          "text": [
            "\rEpoch 5 Testing:  73%|███████▎  | 234/322 [00:19<00:06, 12.83it/s]"
          ]
        },
        {
          "output_type": "stream",
          "name": "stdout",
          "text": [
            "[Batch 232 / 322]  [Loss: 0.3094, Acc: 87.34%]\n",
            "[Batch 233 / 322]  [Loss: 0.3103, Acc: 87.29%]\n",
            "[Batch 234 / 322]  [Loss: 0.3096, Acc: 87.34%]\n"
          ]
        },
        {
          "output_type": "stream",
          "name": "stderr",
          "text": [
            "Epoch 5 Testing:  74%|███████▍  | 238/322 [00:19<00:06, 13.67it/s]"
          ]
        },
        {
          "output_type": "stream",
          "name": "stdout",
          "text": [
            "[Batch 235 / 322]  [Loss: 0.3088, Acc: 87.39%]\n",
            "[Batch 236 / 322]  [Loss: 0.3091, Acc: 87.34%]\n",
            "[Batch 237 / 322]  [Loss: 0.3087, Acc: 87.39%]\n",
            "[Batch 238 / 322]  [Loss: 0.3102, Acc: 87.24%]\n"
          ]
        },
        {
          "output_type": "stream",
          "name": "stderr",
          "text": [
            "Epoch 5 Testing:  75%|███████▌  | 242/322 [00:20<00:05, 13.88it/s]"
          ]
        },
        {
          "output_type": "stream",
          "name": "stdout",
          "text": [
            "[Batch 239 / 322]  [Loss: 0.3092, Acc: 87.29%]\n",
            "[Batch 240 / 322]  [Loss: 0.3100, Acc: 87.24%]\n",
            "[Batch 241 / 322]  [Loss: 0.3094, Acc: 87.29%]\n",
            "[Batch 242 / 322]  [Loss: 0.3090, Acc: 87.35%]"
          ]
        },
        {
          "output_type": "stream",
          "name": "stderr",
          "text": [
            "\rEpoch 5 Testing:  76%|███████▌  | 244/322 [00:20<00:06, 12.78it/s]"
          ]
        },
        {
          "output_type": "stream",
          "name": "stdout",
          "text": [
            "\n",
            "[Batch 243 / 322]  [Loss: 0.3080, Acc: 87.40%]\n",
            "[Batch 244 / 322]  [Loss: 0.3094, Acc: 87.35%]\n"
          ]
        },
        {
          "output_type": "stream",
          "name": "stderr",
          "text": [
            "Epoch 5 Testing:  77%|███████▋  | 248/322 [00:20<00:05, 13.23it/s]"
          ]
        },
        {
          "output_type": "stream",
          "name": "stdout",
          "text": [
            "[Batch 245 / 322]  [Loss: 0.3088, Acc: 87.40%]\n",
            "[Batch 246 / 322]  [Loss: 0.3078, Acc: 87.45%]\n",
            "[Batch 247 / 322]  [Loss: 0.3069, Acc: 87.50%]\n"
          ]
        },
        {
          "output_type": "stream",
          "name": "stderr",
          "text": [
            "Epoch 5 Testing:  78%|███████▊  | 252/322 [00:20<00:04, 14.56it/s]"
          ]
        },
        {
          "output_type": "stream",
          "name": "stdout",
          "text": [
            "[Batch 248 / 322]  [Loss: 0.3075, Acc: 87.45%]\n",
            "[Batch 249 / 322]  [Loss: 0.3065, Acc: 87.50%]\n",
            "[Batch 250 / 322]  [Loss: 0.3056, Acc: 87.55%]\n",
            "[Batch 251 / 322]  [Loss: 0.3045, Acc: 87.60%]\n"
          ]
        },
        {
          "output_type": "stream",
          "name": "stderr",
          "text": [
            "Epoch 5 Testing:  80%|███████▉  | 256/322 [00:21<00:04, 14.80it/s]"
          ]
        },
        {
          "output_type": "stream",
          "name": "stdout",
          "text": [
            "[Batch 252 / 322]  [Loss: 0.3038, Acc: 87.65%]\n",
            "[Batch 253 / 322]  [Loss: 0.3038, Acc: 87.70%]\n",
            "[Batch 254 / 322]  [Loss: 0.3034, Acc: 87.75%]\n",
            "[Batch 255 / 322]  [Loss: 0.3032, Acc: 87.79%]\n"
          ]
        },
        {
          "output_type": "stream",
          "name": "stderr",
          "text": [
            "Epoch 5 Testing:  81%|████████  | 260/322 [00:21<00:03, 15.56it/s]"
          ]
        },
        {
          "output_type": "stream",
          "name": "stdout",
          "text": [
            "[Batch 256 / 322]  [Loss: 0.3033, Acc: 87.84%]\n",
            "[Batch 257 / 322]  [Loss: 0.3025, Acc: 87.89%]\n",
            "[Batch 258 / 322]  [Loss: 0.3031, Acc: 87.84%]\n",
            "[Batch 259 / 322]  [Loss: 0.3034, Acc: 87.79%]\n"
          ]
        },
        {
          "output_type": "stream",
          "name": "stderr",
          "text": [
            "Epoch 5 Testing:  82%|████████▏ | 264/322 [00:21<00:03, 15.44it/s]"
          ]
        },
        {
          "output_type": "stream",
          "name": "stdout",
          "text": [
            "[Batch 260 / 322]  [Loss: 0.3030, Acc: 87.84%]\n",
            "[Batch 261 / 322]  [Loss: 0.3022, Acc: 87.88%]\n",
            "[Batch 262 / 322]  [Loss: 0.3042, Acc: 87.83%]\n",
            "[Batch 263 / 322]  [Loss: 0.3055, Acc: 87.78%]\n"
          ]
        },
        {
          "output_type": "stream",
          "name": "stderr",
          "text": [
            "Epoch 5 Testing:  83%|████████▎ | 268/322 [00:21<00:03, 14.23it/s]"
          ]
        },
        {
          "output_type": "stream",
          "name": "stdout",
          "text": [
            "[Batch 264 / 322]  [Loss: 0.3045, Acc: 87.83%]\n",
            "[Batch 265 / 322]  [Loss: 0.3036, Acc: 87.88%]\n",
            "[Batch 266 / 322]  [Loss: 0.3026, Acc: 87.92%]\n",
            "[Batch 267 / 322]  [Loss: 0.3021, Acc: 87.97%]\n"
          ]
        },
        {
          "output_type": "stream",
          "name": "stderr",
          "text": [
            "\rEpoch 5 Testing:  84%|████████▍ | 270/322 [00:22<00:03, 14.07it/s]"
          ]
        },
        {
          "output_type": "stream",
          "name": "stdout",
          "text": [
            "[Batch 268 / 322]  [Loss: 0.3029, Acc: 87.92%]\n",
            "[Batch 269 / 322]  [Loss: 0.3021, Acc: 87.96%]\n",
            "[Batch 270 / 322]  [Loss: 0.3017, Acc: 88.01%]\n"
          ]
        },
        {
          "output_type": "stream",
          "name": "stderr",
          "text": [
            "Epoch 5 Testing:  85%|████████▌ | 274/322 [00:22<00:03, 14.15it/s]"
          ]
        },
        {
          "output_type": "stream",
          "name": "stdout",
          "text": [
            "[Batch 271 / 322]  [Loss: 0.3016, Acc: 87.96%]\n",
            "[Batch 272 / 322]  [Loss: 0.3021, Acc: 87.91%]\n",
            "[Batch 273 / 322]  [Loss: 0.3016, Acc: 87.96%]\n",
            "[Batch 274 / 322]  [Loss: 0.3009, Acc: 88.00%]\n"
          ]
        },
        {
          "output_type": "stream",
          "name": "stderr",
          "text": [
            "Epoch 5 Testing:  86%|████████▋ | 278/322 [00:22<00:03, 13.98it/s]"
          ]
        },
        {
          "output_type": "stream",
          "name": "stdout",
          "text": [
            "[Batch 275 / 322]  [Loss: 0.3001, Acc: 88.04%]\n",
            "[Batch 276 / 322]  [Loss: 0.2997, Acc: 88.09%]\n",
            "[Batch 277 / 322]  [Loss: 0.2989, Acc: 88.13%]\n",
            "[Batch 278 / 322]  [Loss: 0.2982, Acc: 88.17%]\n"
          ]
        },
        {
          "output_type": "stream",
          "name": "stderr",
          "text": [
            "Epoch 5 Testing:  88%|████████▊ | 282/322 [00:22<00:02, 14.40it/s]"
          ]
        },
        {
          "output_type": "stream",
          "name": "stdout",
          "text": [
            "[Batch 279 / 322]  [Loss: 0.2972, Acc: 88.21%]\n",
            "[Batch 280 / 322]  [Loss: 0.2970, Acc: 88.26%]\n",
            "[Batch 281 / 322]  [Loss: 0.2963, Acc: 88.30%]\n",
            "[Batch 282 / 322]  [Loss: 0.2960, Acc: 88.25%]\n"
          ]
        },
        {
          "output_type": "stream",
          "name": "stderr",
          "text": [
            "Epoch 5 Testing:  89%|████████▉ | 286/322 [00:23<00:02, 13.92it/s]"
          ]
        },
        {
          "output_type": "stream",
          "name": "stdout",
          "text": [
            "[Batch 283 / 322]  [Loss: 0.2950, Acc: 88.29%]\n",
            "[Batch 284 / 322]  [Loss: 0.2959, Acc: 88.16%]\n",
            "[Batch 285 / 322]  [Loss: 0.2949, Acc: 88.20%]\n"
          ]
        },
        {
          "output_type": "stream",
          "name": "stderr",
          "text": [
            "Epoch 5 Testing:  90%|█████████ | 290/322 [00:23<00:02, 14.79it/s]"
          ]
        },
        {
          "output_type": "stream",
          "name": "stdout",
          "text": [
            "[Batch 286 / 322]  [Loss: 0.3004, Acc: 88.07%]\n",
            "[Batch 287 / 322]  [Loss: 0.2995, Acc: 88.11%]\n",
            "[Batch 288 / 322]  [Loss: 0.2990, Acc: 88.15%]\n",
            "[Batch 289 / 322]  [Loss: 0.2989, Acc: 88.19%]\n"
          ]
        },
        {
          "output_type": "stream",
          "name": "stderr",
          "text": [
            "Epoch 5 Testing:  91%|█████████▏| 294/322 [00:23<00:01, 15.06it/s]"
          ]
        },
        {
          "output_type": "stream",
          "name": "stdout",
          "text": [
            "[Batch 290 / 322]  [Loss: 0.2986, Acc: 88.23%]\n",
            "[Batch 291 / 322]  [Loss: 0.2979, Acc: 88.27%]\n",
            "[Batch 292 / 322]  [Loss: 0.2976, Acc: 88.31%]\n",
            "[Batch 293 / 322]  [Loss: 0.2978, Acc: 88.27%]\n"
          ]
        },
        {
          "output_type": "stream",
          "name": "stderr",
          "text": [
            "Epoch 5 Testing:  93%|█████████▎| 298/322 [00:24<00:01, 14.40it/s]"
          ]
        },
        {
          "output_type": "stream",
          "name": "stdout",
          "text": [
            "[Batch 294 / 322]  [Loss: 0.2978, Acc: 88.22%]\n",
            "[Batch 295 / 322]  [Loss: 0.2987, Acc: 88.18%]\n",
            "[Batch 296 / 322]  [Loss: 0.2992, Acc: 88.13%]\n",
            "[Batch 297 / 322]  [Loss: 0.2984, Acc: 88.17%]\n"
          ]
        },
        {
          "output_type": "stream",
          "name": "stderr",
          "text": [
            "\rEpoch 5 Testing:  93%|█████████▎| 300/322 [00:24<00:01, 13.72it/s]"
          ]
        },
        {
          "output_type": "stream",
          "name": "stdout",
          "text": [
            "[Batch 298 / 322]  [Loss: 0.3004, Acc: 88.13%]\n",
            "[Batch 299 / 322]  [Loss: 0.3001, Acc: 88.17%]\n",
            "[Batch 300 / 322]  [Loss: 0.3002, Acc: 88.12%]\n"
          ]
        },
        {
          "output_type": "stream",
          "name": "stderr",
          "text": [
            "Epoch 5 Testing:  94%|█████████▍| 304/322 [00:24<00:01, 13.25it/s]"
          ]
        },
        {
          "output_type": "stream",
          "name": "stdout",
          "text": [
            "[Batch 301 / 322]  [Loss: 0.3020, Acc: 88.08%]\n",
            "[Batch 302 / 322]  [Loss: 0.3033, Acc: 88.04%]\n",
            "[Batch 303 / 322]  [Loss: 0.3045, Acc: 87.99%]\n"
          ]
        },
        {
          "output_type": "stream",
          "name": "stderr",
          "text": [
            "Epoch 5 Testing:  96%|█████████▌| 308/322 [00:24<00:01, 13.75it/s]"
          ]
        },
        {
          "output_type": "stream",
          "name": "stdout",
          "text": [
            "[Batch 304 / 322]  [Loss: 0.3048, Acc: 87.95%]\n",
            "[Batch 305 / 322]  [Loss: 0.3041, Acc: 87.99%]\n",
            "[Batch 306 / 322]  [Loss: 0.3032, Acc: 88.03%]\n",
            "[Batch 307 / 322]  [Loss: 0.3050, Acc: 87.91%]\n"
          ]
        },
        {
          "output_type": "stream",
          "name": "stderr",
          "text": [
            "Epoch 5 Testing:  97%|█████████▋| 312/322 [00:25<00:00, 13.82it/s]"
          ]
        },
        {
          "output_type": "stream",
          "name": "stdout",
          "text": [
            "[Batch 308 / 322]  [Loss: 0.3061, Acc: 87.78%]\n",
            "[Batch 309 / 322]  [Loss: 0.3053, Acc: 87.82%]\n",
            "[Batch 310 / 322]  [Loss: 0.3062, Acc: 87.78%]\n",
            "[Batch 311 / 322]  [Loss: 0.3057, Acc: 87.82%]\n"
          ]
        },
        {
          "output_type": "stream",
          "name": "stderr",
          "text": [
            "Epoch 5 Testing:  98%|█████████▊| 316/322 [00:25<00:00, 13.59it/s]"
          ]
        },
        {
          "output_type": "stream",
          "name": "stdout",
          "text": [
            "[Batch 312 / 322]  [Loss: 0.3049, Acc: 87.86%]\n",
            "[Batch 313 / 322]  [Loss: 0.3045, Acc: 87.90%]\n",
            "[Batch 314 / 322]  [Loss: 0.3040, Acc: 87.94%]\n",
            "[Batch 315 / 322]  [Loss: 0.3032, Acc: 87.97%]\n"
          ]
        },
        {
          "output_type": "stream",
          "name": "stderr",
          "text": [
            "\rEpoch 5 Testing:  99%|█████████▉| 318/322 [00:25<00:00, 12.83it/s]"
          ]
        },
        {
          "output_type": "stream",
          "name": "stdout",
          "text": [
            "[Batch 316 / 322]  [Loss: 0.3037, Acc: 87.93%]\n",
            "[Batch 317 / 322]  [Loss: 0.3041, Acc: 87.89%]\n",
            "[Batch 318 / 322]  [Loss: 0.3060, Acc: 87.77%]\n"
          ]
        },
        {
          "output_type": "stream",
          "name": "stderr",
          "text": [
            "Epoch 5 Testing: 100%|██████████| 322/322 [00:25<00:00, 12.45it/s]"
          ]
        },
        {
          "output_type": "stream",
          "name": "stdout",
          "text": [
            "[Batch 319 / 322]  [Loss: 0.3067, Acc: 87.66%]\n",
            "[Batch 320 / 322]  [Loss: 0.3082, Acc: 87.62%]\n",
            "[Batch 321 / 322]  [Loss: 0.3078, Acc: 87.64%]\n",
            "\n",
            "Accuracy 87.63608087091757\n"
          ]
        },
        {
          "output_type": "stream",
          "name": "stderr",
          "text": [
            "\n"
          ]
        }
      ]
    },
    {
      "cell_type": "markdown",
      "source": [
        "### Evaluation"
      ],
      "metadata": {
        "id": "eMTGOTTFxSXi"
      }
    },
    {
      "cell_type": "code",
      "source": [
        "\n",
        "def plot_confusion_matrix(y_true, y_pred):\n",
        "    \"\"\"\n",
        "    Print confusion matrix and calculated accuracy.\n",
        "\n",
        "    Args:\n",
        "        y_true (list): List of true labels.\n",
        "        y_pred (list): List of predicted labels.\n",
        "    \"\"\"\n",
        "    # Calculate confusion matrix\n",
        "    cm = confusion_matrix(y_true, y_pred)\n",
        "\n",
        "    # Print confusion matrix details\n",
        "    print('True positive = ', cm[0][0])\n",
        "    print('False positive = ', cm[0][1])\n",
        "    print('False negative = ', cm[1][0])\n",
        "    print('True negative = ', cm[1][1])\n",
        "    print('\\n')\n",
        "\n",
        "    # Create a DataFrame for the confusion matrix\n",
        "    df_cm = pd.DataFrame(cm, range(2), range(2))\n",
        "\n",
        "    # Set seaborn settings for better visualization\n",
        "    sn.set(font_scale=1.4)  # for label size\n",
        "\n",
        "    # Plot the heatmap with adjusted formatting\n",
        "    plt.figure(figsize=(8, 6))  # Adjust figure size if needed\n",
        "    sn.heatmap(df_cm, annot=True, fmt='d', annot_kws={\"size\": 16})  # Use integer formatting\n",
        "\n",
        "    # Label axes and set ticks\n",
        "    plt.ylabel('Actual label', size=20)\n",
        "    plt.xlabel('Predicted label', size=20)\n",
        "    plt.xticks(ticks=[0.5, 1.5], labels=['Fake', 'Real'], size=16)\n",
        "    plt.yticks(ticks=[0.5, 1.5], labels=['Fake', 'Real'], size=16)\n",
        "    plt.ylim([2, 0])\n",
        "\n",
        "    # Show the plot\n",
        "    plt.show()\n",
        "\n",
        "    # Calculate and print accuracy\n",
        "    calculated_acc = (cm[0][0] + cm[1][1]) / (cm[0][0] + cm[0][1] + cm[1][0] + cm[1][1])\n",
        "    print(\"Calculated Accuracy\", calculated_acc * 100)\n"
      ],
      "metadata": {
        "id": "TguaIVUY0_7Q"
      },
      "execution_count": null,
      "outputs": []
    },
    {
      "cell_type": "code",
      "source": [
        "def plot_loss(train_loss_avg, test_loss_avg, num_epochs):\n",
        "    \"\"\"\n",
        "    Plot training and validation loss over epochs.\n",
        "\n",
        "    Args:\n",
        "        train_loss_avg (list): List of training loss values for each epoch.\n",
        "        test_loss_avg (list): List of validation loss values for each epoch.\n",
        "        num_epochs (int): Number of epochs.\n",
        "    \"\"\"\n",
        "    loss_train = train_loss_avg\n",
        "    loss_val = test_loss_avg\n",
        "    epochs = range(1, num_epochs + 1)\n",
        "\n",
        "    # Plot training and validation loss\n",
        "    plt.plot(epochs, loss_train, 'g', label='Training loss')\n",
        "    plt.plot(epochs, loss_val, 'b', label='Validation loss')\n",
        "    plt.title('Training and Validation Loss')\n",
        "    plt.xlabel('Epochs')\n",
        "    plt.ylabel('Loss')\n",
        "    plt.legend()\n",
        "    plt.show()"
      ],
      "metadata": {
        "id": "KSvgdHu-1NL5"
      },
      "execution_count": null,
      "outputs": []
    },
    {
      "cell_type": "code",
      "source": [
        "def plot_accuracy(train_accuracy, test_accuracy, num_epochs):\n",
        "    \"\"\"\n",
        "    Plot training and validation accuracy over epochs.\n",
        "\n",
        "    Args:\n",
        "        train_accuracy (list): List of training accuracy values for each epoch.\n",
        "        test_accuracy (list): List of validation accuracy values for each epoch.\n",
        "        num_epochs (int): Number of epochs.\n",
        "    \"\"\"\n",
        "    acc_train = train_accuracy\n",
        "    acc_val = test_accuracy\n",
        "    epochs = range(1, num_epochs + 1)\n",
        "\n",
        "    # Plot training and validation accuracy\n",
        "    plt.plot(epochs, acc_train, 'g', label='Training accuracy')\n",
        "    plt.plot(epochs, acc_val, 'b', label='Validation accuracy')\n",
        "    plt.title('Training and Validation Accuracy')\n",
        "    plt.xlabel('Epochs')\n",
        "    plt.ylabel('Accuracy')\n",
        "    plt.legend()\n",
        "    plt.show()"
      ],
      "metadata": {
        "id": "T8hoewLk1dcM"
      },
      "execution_count": null,
      "outputs": []
    },
    {
      "cell_type": "code",
      "source": [
        "# Plot training and validation loss\n",
        "plot_loss(train_loss_avg, test_loss_avg, len(train_loss_avg))"
      ],
      "metadata": {
        "id": "k82FRUJK7xmW",
        "colab": {
          "base_uri": "https://localhost:8080/",
          "height": 472
        },
        "outputId": "d9086a98-03d1-4d18-9feb-178ff50e80bb"
      },
      "execution_count": null,
      "outputs": [
        {
          "output_type": "display_data",
          "data": {
            "text/plain": [
              "<Figure size 640x480 with 1 Axes>"
            ],
            "image/png": "[encoded data removed]"
          },
          "metadata": {}
        }
      ]
    },
    {
      "cell_type": "code",
      "source": [
        "# Plot training and validation accuracy\n",
        "plot_accuracy(train_accuracy, test_accuracy, len(train_accuracy))"
      ],
      "metadata": {
        "colab": {
          "base_uri": "https://localhost:8080/",
          "height": 472
        },
        "id": "EFYxA4An7znx",
        "outputId": "f5df2045-368f-47fc-c24c-36251fd75dc5"
      },
      "execution_count": null,
      "outputs": [
        {
          "output_type": "display_data",
          "data": {
            "text/plain": [
              "<Figure size 640x480 with 1 Axes>"
            ],
            "image/png": "[encoded data removed]"
          },
          "metadata": {}
        }
      ]
    },
    {
      "cell_type": "code",
      "source": [
        "# Display the confusion matrix\n",
        "print(confusion_matrix(true_labels, predicted_labels))"
      ],
      "metadata": {
        "colab": {
          "base_uri": "https://localhost:8080/"
        },
        "id": "HRAp1KjU719z",
        "outputId": "1188922c-504a-4536-8093-2af5117566d2"
      },
      "execution_count": null,
      "outputs": [
        {
          "output_type": "stream",
          "name": "stdout",
          "text": [
            "[[538  64]\n",
            " [ 95 589]]\n"
          ]
        }
      ]
    },
    {
      "cell_type": "code",
      "source": [
        "# Plot the confusion matrix\n",
        "plot_confusion_matrix(true_labels, predicted_labels)"
      ],
      "metadata": {
        "colab": {
          "base_uri": "https://localhost:8080/",
          "height": 687
        },
        "id": "4Covsapf0QWd",
        "outputId": "1216f570-7d2b-46d2-9592-3be33d5fbf8e"
      },
      "execution_count": null,
      "outputs": [
        {
          "output_type": "stream",
          "name": "stdout",
          "text": [
            "True positive =  575\n",
            "False positive =  38\n",
            "False negative =  54\n",
            "True negative =  619\n",
            "\n",
            "\n"
          ]
        },
        {
          "output_type": "display_data",
          "data": {
            "text/plain": [
              "<Figure size 800x600 with 2 Axes>"
            ],
            "image/png": "[encoded data removed]"
          },
          "metadata": {}
        },
        {
          "output_type": "stream",
          "name": "stdout",
          "text": [
            "Calculated Accuracy 92.84603421461898\n"
          ]
        }
      ]
    },
    {
      "cell_type": "markdown",
      "source": [
        "![image.png](data:image/png;base64,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)"
      ],
      "metadata": {
        "id": "Sea372fIPBSw"
      }
    },
    {
      "cell_type": "markdown",
      "source": [
        "## Final Prediction code"
      ],
      "metadata": {
        "id": "0TJ2q1gM_sGJ"
      }
    },
    {
      "cell_type": "code",
      "source": [
        "im_size = 112\n",
        "mean = [0.485, 0.456, 0.406]\n",
        "std = [0.229, 0.224, 0.225]\n",
        "sm = nn.Softmax()\n",
        "inv_normalize = transforms.Normalize(mean=-1 * np.divide(mean, std), std=np.divide([1, 1, 1], std))\n",
        "\n",
        "train_transforms = transforms.Compose([\n",
        "    transforms.ToPILImage(),\n",
        "    transforms.Resize((im_size, im_size)),\n",
        "    transforms.ToTensor(),\n",
        "    transforms.Normalize(mean, std)])"
      ],
      "metadata": {
        "id": "jV_3NJl2EKzm"
      },
      "execution_count": null,
      "outputs": []
    },
    {
      "cell_type": "code",
      "source": [
        "class validation_dataset(Dataset):\n",
        "    def __init__(self,video_names,sequence_length=60,transform = None):\n",
        "        self.video_names = video_names\n",
        "        self.transform = transform\n",
        "        self.count = sequence_length\n",
        "\n",
        "    def __len__(self):\n",
        "        return len(self.video_names)\n",
        "\n",
        "    def __getitem__(self,idx):\n",
        "        video_path = self.video_names[idx]\n",
        "        frames = []\n",
        "        a = int(100/self.count)\n",
        "        first_frame = np.random.randint(0,a)\n",
        "        for i,frame in enumerate(self.frame_extract(video_path)):\n",
        "            #if(i % a == first_frame):\n",
        "            faces = face_recognition.face_locations(frame)\n",
        "            try:\n",
        "              top,right,bottom,left = faces[0]\n",
        "              frame = frame[top:bottom,left:right,:]\n",
        "            except:\n",
        "              pass\n",
        "            frames.append(self.transform(frame))\n",
        "            if(len(frames) == self.count):\n",
        "                break\n",
        "        \"\"\"\n",
        "        for i,frame in enumerate(self.frame_extract(video_path)):\n",
        "            if(i % a == first_frame):\n",
        "                frames.append(self.transform(frame))\n",
        "        \"\"\"\n",
        "        # if(len(frames)<self.count):\n",
        "        #   for i in range(self.count-len(frames)):\n",
        "        #         frames.append(self.transform(frame))\n",
        "        #print(\"no of frames\", self.count)\n",
        "        frames = torch.stack(frames)\n",
        "        frames = frames[:self.count]\n",
        "        return frames.unsqueeze(0)\n",
        "\n",
        "    def frame_extract(self,path):\n",
        "      vidObj = cv2.VideoCapture(path)\n",
        "      success = 1\n",
        "      while success:\n",
        "          success, image = vidObj.read()\n",
        "          if success:\n",
        "              yield image"
      ],
      "metadata": {
        "id": "nGZd2zSHGemd"
      },
      "execution_count": null,
      "outputs": []
    },
    {
      "cell_type": "code",
      "source": [
        "def im_convert(tensor, video_file_name):\n",
        "    \"\"\" Display a tensor as an image. \"\"\"\n",
        "    image = tensor.to(\"cpu\").clone().detach()\n",
        "    image = image.squeeze()\n",
        "    image = inv_normalize(image)\n",
        "    image = image.numpy()\n",
        "    image = image.transpose(1,2,0)\n",
        "    image = image.clip(0, 1)\n",
        "    # This image is not used\n",
        "    # cv2.imwrite(os.path.join(settings.PROJECT_DIR, 'uploaded_images', video_file_name+'_convert_2.png'),image*255)\n",
        "    return image\n",
        "\n",
        "def im_plot(tensor):\n",
        "    image = tensor.cpu().numpy().transpose(1,2,0)\n",
        "    b,g,r = cv2.split(image)\n",
        "    image = cv2.merge((r,g,b))\n",
        "    image = image*[0.22803, 0.22145, 0.216989] +  [0.43216, 0.394666, 0.37645]\n",
        "    image = image*255.0\n",
        "    plt.imshow(image.astype(int))\n",
        "    plt.show()\n"
      ],
      "metadata": {
        "id": "le1XiZuHHHx9"
      },
      "execution_count": null,
      "outputs": []
    },
    {
      "cell_type": "code",
      "source": [
        "def predict(model,img,path = './', video_file_name=\"\"):\n",
        "  fmap,logits = model(img.to('cuda'))\n",
        "  img = im_convert(img[:,-1,:,:,:], video_file_name)\n",
        "  params = list(model.parameters())\n",
        "  weight_softmax = model.linear1.weight.detach().cpu().numpy()\n",
        "  logits = sm(logits)\n",
        "  _,prediction = torch.max(logits,1)\n",
        "  confidence = logits[:,int(prediction.item())].item()*100\n",
        "  print('confidence of prediction:',logits[:,int(prediction.item())].item()*100)\n",
        "  return [int(prediction.item()),confidence]"
      ],
      "metadata": {
        "id": "Lkoi24GsHNZC"
      },
      "execution_count": null,
      "outputs": []
    },
    {
      "cell_type": "code",
      "source": [
        "video_file_path = \"/content/drive/MyDrive/Project/Deepfake/test.mp4\""
      ],
      "metadata": {
        "id": "hUtG8WMHIEW6"
      },
      "execution_count": null,
      "outputs": []
    },
    {
      "cell_type": "code",
      "source": [
        "# Example: Load the model\n",
        "model = Model(2).cuda()\n",
        "model_name = \"your_model.pth\"  # Adjust based on your actual model file\n",
        "path_to_model = \"/content/drive/MyDrive/Project/Deepfake/checkpoint_epoch_20.pt\"\n",
        "model.load_state_dict(torch.load(path_to_model))\n",
        "model.eval()"
      ],
      "metadata": {
        "colab": {
          "base_uri": "https://localhost:8080/"
        },
        "id": "R9URfjooJqOL",
        "outputId": "74c00d72-fea1-453d-ef07-5b8eff1c299d"
      },
      "execution_count": null,
      "outputs": [
        {
          "output_type": "execute_result",
          "data": {
            "text/plain": [
              "Model(\n",
              "  (resnext_features): Sequential(\n",
              "    (0): Conv2d(3, 64, kernel_size=(7, 7), stride=(2, 2), padding=(3, 3), bias=False)\n",
              "    (1): BatchNorm2d(64, eps=1e-05, momentum=0.1, affine=True, track_running_stats=True)\n",
              "    (2): ReLU(inplace=True)\n",
              "    (3): MaxPool2d(kernel_size=3, stride=2, padding=1, dilation=1, ceil_mode=False)\n",
              "    (4): Sequential(\n",
              "      (0): Bottleneck(\n",
              "        (conv1): Conv2d(64, 128, kernel_size=(1, 1), stride=(1, 1), bias=False)\n",
              "        (bn1): BatchNorm2d(128, eps=1e-05, momentum=0.1, affine=True, track_running_stats=True)\n",
              "        (conv2): Conv2d(128, 128, kernel_size=(3, 3), stride=(1, 1), padding=(1, 1), groups=32, bias=False)\n",
              "        (bn2): BatchNorm2d(128, eps=1e-05, momentum=0.1, affine=True, track_running_stats=True)\n",
              "        (conv3): Conv2d(128, 256, kernel_size=(1, 1), stride=(1, 1), bias=False)\n",
              "        (bn3): BatchNorm2d(256, eps=1e-05, momentum=0.1, affine=True, track_running_stats=True)\n",
              "        (relu): ReLU(inplace=True)\n",
              "        (downsample): Sequential(\n",
              "          (0): Conv2d(64, 256, kernel_size=(1, 1), stride=(1, 1), bias=False)\n",
              "          (1): BatchNorm2d(256, eps=1e-05, momentum=0.1, affine=True, track_running_stats=True)\n",
              "        )\n",
              "      )\n",
              "      (1): Bottleneck(\n",
              "        (conv1): Conv2d(256, 128, kernel_size=(1, 1), stride=(1, 1), bias=False)\n",
              "        (bn1): BatchNorm2d(128, eps=1e-05, momentum=0.1, affine=True, track_running_stats=True)\n",
              "        (conv2): Conv2d(128, 128, kernel_size=(3, 3), stride=(1, 1), padding=(1, 1), groups=32, bias=False)\n",
              "        (bn2): BatchNorm2d(128, eps=1e-05, momentum=0.1, affine=True, track_running_stats=True)\n",
              "        (conv3): Conv2d(128, 256, kernel_size=(1, 1), stride=(1, 1), bias=False)\n",
              "        (bn3): BatchNorm2d(256, eps=1e-05, momentum=0.1, affine=True, track_running_stats=True)\n",
              "        (relu): ReLU(inplace=True)\n",
              "      )\n",
              "      (2): Bottleneck(\n",
              "        (conv1): Conv2d(256, 128, kernel_size=(1, 1), stride=(1, 1), bias=False)\n",
              "        (bn1): BatchNorm2d(128, eps=1e-05, momentum=0.1, affine=True, track_running_stats=True)\n",
              "        (conv2): Conv2d(128, 128, kernel_size=(3, 3), stride=(1, 1), padding=(1, 1), groups=32, bias=False)\n",
              "        (bn2): BatchNorm2d(128, eps=1e-05, momentum=0.1, affine=True, track_running_stats=True)\n",
              "        (conv3): Conv2d(128, 256, kernel_size=(1, 1), stride=(1, 1), bias=False)\n",
              "        (bn3): BatchNorm2d(256, eps=1e-05, momentum=0.1, affine=True, track_running_stats=True)\n",
              "        (relu): ReLU(inplace=True)\n",
              "      )\n",
              "    )\n",
              "    (5): Sequential(\n",
              "      (0): Bottleneck(\n",
              "        (conv1): Conv2d(256, 256, kernel_size=(1, 1), stride=(1, 1), bias=False)\n",
              "        (bn1): BatchNorm2d(256, eps=1e-05, momentum=0.1, affine=True, track_running_stats=True)\n",
              "        (conv2): Conv2d(256, 256, kernel_size=(3, 3), stride=(2, 2), padding=(1, 1), groups=32, bias=False)\n",
              "        (bn2): BatchNorm2d(256, eps=1e-05, momentum=0.1, affine=True, track_running_stats=True)\n",
              "        (conv3): Conv2d(256, 512, kernel_size=(1, 1), stride=(1, 1), bias=False)\n",
              "        (bn3): BatchNorm2d(512, eps=1e-05, momentum=0.1, affine=True, track_running_stats=True)\n",
              "        (relu): ReLU(inplace=True)\n",
              "        (downsample): Sequential(\n",
              "          (0): Conv2d(256, 512, kernel_size=(1, 1), stride=(2, 2), bias=False)\n",
              "          (1): BatchNorm2d(512, eps=1e-05, momentum=0.1, affine=True, track_running_stats=True)\n",
              "        )\n",
              "      )\n",
              "      (1): Bottleneck(\n",
              "        (conv1): Conv2d(512, 256, kernel_size=(1, 1), stride=(1, 1), bias=False)\n",
              "        (bn1): BatchNorm2d(256, eps=1e-05, momentum=0.1, affine=True, track_running_stats=True)\n",
              "        (conv2): Conv2d(256, 256, kernel_size=(3, 3), stride=(1, 1), padding=(1, 1), groups=32, bias=False)\n",
              "        (bn2): BatchNorm2d(256, eps=1e-05, momentum=0.1, affine=True, track_running_stats=True)\n",
              "        (conv3): Conv2d(256, 512, kernel_size=(1, 1), stride=(1, 1), bias=False)\n",
              "        (bn3): BatchNorm2d(512, eps=1e-05, momentum=0.1, affine=True, track_running_stats=True)\n",
              "        (relu): ReLU(inplace=True)\n",
              "      )\n",
              "      (2): Bottleneck(\n",
              "        (conv1): Conv2d(512, 256, kernel_size=(1, 1), stride=(1, 1), bias=False)\n",
              "        (bn1): BatchNorm2d(256, eps=1e-05, momentum=0.1, affine=True, track_running_stats=True)\n",
              "        (conv2): Conv2d(256, 256, kernel_size=(3, 3), stride=(1, 1), padding=(1, 1), groups=32, bias=False)\n",
              "        (bn2): BatchNorm2d(256, eps=1e-05, momentum=0.1, affine=True, track_running_stats=True)\n",
              "        (conv3): Conv2d(256, 512, kernel_size=(1, 1), stride=(1, 1), bias=False)\n",
              "        (bn3): BatchNorm2d(512, eps=1e-05, momentum=0.1, affine=True, track_running_stats=True)\n",
              "        (relu): ReLU(inplace=True)\n",
              "      )\n",
              "      (3): Bottleneck(\n",
              "        (conv1): Conv2d(512, 256, kernel_size=(1, 1), stride=(1, 1), bias=False)\n",
              "        (bn1): BatchNorm2d(256, eps=1e-05, momentum=0.1, affine=True, track_running_stats=True)\n",
              "        (conv2): Conv2d(256, 256, kernel_size=(3, 3), stride=(1, 1), padding=(1, 1), groups=32, bias=False)\n",
              "        (bn2): BatchNorm2d(256, eps=1e-05, momentum=0.1, affine=True, track_running_stats=True)\n",
              "        (conv3): Conv2d(256, 512, kernel_size=(1, 1), stride=(1, 1), bias=False)\n",
              "        (bn3): BatchNorm2d(512, eps=1e-05, momentum=0.1, affine=True, track_running_stats=True)\n",
              "        (relu): ReLU(inplace=True)\n",
              "      )\n",
              "    )\n",
              "    (6): Sequential(\n",
              "      (0): Bottleneck(\n",
              "        (conv1): Conv2d(512, 512, kernel_size=(1, 1), stride=(1, 1), bias=False)\n",
              "        (bn1): BatchNorm2d(512, eps=1e-05, momentum=0.1, affine=True, track_running_stats=True)\n",
              "        (conv2): Conv2d(512, 512, kernel_size=(3, 3), stride=(2, 2), padding=(1, 1), groups=32, bias=False)\n",
              "        (bn2): BatchNorm2d(512, eps=1e-05, momentum=0.1, affine=True, track_running_stats=True)\n",
              "        (conv3): Conv2d(512, 1024, kernel_size=(1, 1), stride=(1, 1), bias=False)\n",
              "        (bn3): BatchNorm2d(1024, eps=1e-05, momentum=0.1, affine=True, track_running_stats=True)\n",
              "        (relu): ReLU(inplace=True)\n",
              "        (downsample): Sequential(\n",
              "          (0): Conv2d(512, 1024, kernel_size=(1, 1), stride=(2, 2), bias=False)\n",
              "          (1): BatchNorm2d(1024, eps=1e-05, momentum=0.1, affine=True, track_running_stats=True)\n",
              "        )\n",
              "      )\n",
              "      (1): Bottleneck(\n",
              "        (conv1): Conv2d(1024, 512, kernel_size=(1, 1), stride=(1, 1), bias=False)\n",
              "        (bn1): BatchNorm2d(512, eps=1e-05, momentum=0.1, affine=True, track_running_stats=True)\n",
              "        (conv2): Conv2d(512, 512, kernel_size=(3, 3), stride=(1, 1), padding=(1, 1), groups=32, bias=False)\n",
              "        (bn2): BatchNorm2d(512, eps=1e-05, momentum=0.1, affine=True, track_running_stats=True)\n",
              "        (conv3): Conv2d(512, 1024, kernel_size=(1, 1), stride=(1, 1), bias=False)\n",
              "        (bn3): BatchNorm2d(1024, eps=1e-05, momentum=0.1, affine=True, track_running_stats=True)\n",
              "        (relu): ReLU(inplace=True)\n",
              "      )\n",
              "      (2): Bottleneck(\n",
              "        (conv1): Conv2d(1024, 512, kernel_size=(1, 1), stride=(1, 1), bias=False)\n",
              "        (bn1): BatchNorm2d(512, eps=1e-05, momentum=0.1, affine=True, track_running_stats=True)\n",
              "        (conv2): Conv2d(512, 512, kernel_size=(3, 3), stride=(1, 1), padding=(1, 1), groups=32, bias=False)\n",
              "        (bn2): BatchNorm2d(512, eps=1e-05, momentum=0.1, affine=True, track_running_stats=True)\n",
              "        (conv3): Conv2d(512, 1024, kernel_size=(1, 1), stride=(1, 1), bias=False)\n",
              "        (bn3): BatchNorm2d(1024, eps=1e-05, momentum=0.1, affine=True, track_running_stats=True)\n",
              "        (relu): ReLU(inplace=True)\n",
              "      )\n",
              "      (3): Bottleneck(\n",
              "        (conv1): Conv2d(1024, 512, kernel_size=(1, 1), stride=(1, 1), bias=False)\n",
              "        (bn1): BatchNorm2d(512, eps=1e-05, momentum=0.1, affine=True, track_running_stats=True)\n",
              "        (conv2): Conv2d(512, 512, kernel_size=(3, 3), stride=(1, 1), padding=(1, 1), groups=32, bias=False)\n",
              "        (bn2): BatchNorm2d(512, eps=1e-05, momentum=0.1, affine=True, track_running_stats=True)\n",
              "        (conv3): Conv2d(512, 1024, kernel_size=(1, 1), stride=(1, 1), bias=False)\n",
              "        (bn3): BatchNorm2d(1024, eps=1e-05, momentum=0.1, affine=True, track_running_stats=True)\n",
              "        (relu): ReLU(inplace=True)\n",
              "      )\n",
              "      (4): Bottleneck(\n",
              "        (conv1): Conv2d(1024, 512, kernel_size=(1, 1), stride=(1, 1), bias=False)\n",
              "        (bn1): BatchNorm2d(512, eps=1e-05, momentum=0.1, affine=True, track_running_stats=True)\n",
              "        (conv2): Conv2d(512, 512, kernel_size=(3, 3), stride=(1, 1), padding=(1, 1), groups=32, bias=False)\n",
              "        (bn2): BatchNorm2d(512, eps=1e-05, momentum=0.1, affine=True, track_running_stats=True)\n",
              "        (conv3): Conv2d(512, 1024, kernel_size=(1, 1), stride=(1, 1), bias=False)\n",
              "        (bn3): BatchNorm2d(1024, eps=1e-05, momentum=0.1, affine=True, track_running_stats=True)\n",
              "        (relu): ReLU(inplace=True)\n",
              "      )\n",
              "      (5): Bottleneck(\n",
              "        (conv1): Conv2d(1024, 512, kernel_size=(1, 1), stride=(1, 1), bias=False)\n",
              "        (bn1): BatchNorm2d(512, eps=1e-05, momentum=0.1, affine=True, track_running_stats=True)\n",
              "        (conv2): Conv2d(512, 512, kernel_size=(3, 3), stride=(1, 1), padding=(1, 1), groups=32, bias=False)\n",
              "        (bn2): BatchNorm2d(512, eps=1e-05, momentum=0.1, affine=True, track_running_stats=True)\n",
              "        (conv3): Conv2d(512, 1024, kernel_size=(1, 1), stride=(1, 1), bias=False)\n",
              "        (bn3): BatchNorm2d(1024, eps=1e-05, momentum=0.1, affine=True, track_running_stats=True)\n",
              "        (relu): ReLU(inplace=True)\n",
              "      )\n",
              "    )\n",
              "    (7): Sequential(\n",
              "      (0): Bottleneck(\n",
              "        (conv1): Conv2d(1024, 1024, kernel_size=(1, 1), stride=(1, 1), bias=False)\n",
              "        (bn1): BatchNorm2d(1024, eps=1e-05, momentum=0.1, affine=True, track_running_stats=True)\n",
              "        (conv2): Conv2d(1024, 1024, kernel_size=(3, 3), stride=(2, 2), padding=(1, 1), groups=32, bias=False)\n",
              "        (bn2): BatchNorm2d(1024, eps=1e-05, momentum=0.1, affine=True, track_running_stats=True)\n",
              "        (conv3): Conv2d(1024, 2048, kernel_size=(1, 1), stride=(1, 1), bias=False)\n",
              "        (bn3): BatchNorm2d(2048, eps=1e-05, momentum=0.1, affine=True, track_running_stats=True)\n",
              "        (relu): ReLU(inplace=True)\n",
              "        (downsample): Sequential(\n",
              "          (0): Conv2d(1024, 2048, kernel_size=(1, 1), stride=(2, 2), bias=False)\n",
              "          (1): BatchNorm2d(2048, eps=1e-05, momentum=0.1, affine=True, track_running_stats=True)\n",
              "        )\n",
              "      )\n",
              "      (1): Bottleneck(\n",
              "        (conv1): Conv2d(2048, 1024, kernel_size=(1, 1), stride=(1, 1), bias=False)\n",
              "        (bn1): BatchNorm2d(1024, eps=1e-05, momentum=0.1, affine=True, track_running_stats=True)\n",
              "        (conv2): Conv2d(1024, 1024, kernel_size=(3, 3), stride=(1, 1), padding=(1, 1), groups=32, bias=False)\n",
              "        (bn2): BatchNorm2d(1024, eps=1e-05, momentum=0.1, affine=True, track_running_stats=True)\n",
              "        (conv3): Conv2d(1024, 2048, kernel_size=(1, 1), stride=(1, 1), bias=False)\n",
              "        (bn3): BatchNorm2d(2048, eps=1e-05, momentum=0.1, affine=True, track_running_stats=True)\n",
              "        (relu): ReLU(inplace=True)\n",
              "      )\n",
              "      (2): Bottleneck(\n",
              "        (conv1): Conv2d(2048, 1024, kernel_size=(1, 1), stride=(1, 1), bias=False)\n",
              "        (bn1): BatchNorm2d(1024, eps=1e-05, momentum=0.1, affine=True, track_running_stats=True)\n",
              "        (conv2): Conv2d(1024, 1024, kernel_size=(3, 3), stride=(1, 1), padding=(1, 1), groups=32, bias=False)\n",
              "        (bn2): BatchNorm2d(1024, eps=1e-05, momentum=0.1, affine=True, track_running_stats=True)\n",
              "        (conv3): Conv2d(1024, 2048, kernel_size=(1, 1), stride=(1, 1), bias=False)\n",
              "        (bn3): BatchNorm2d(2048, eps=1e-05, momentum=0.1, affine=True, track_running_stats=True)\n",
              "        (relu): ReLU(inplace=True)\n",
              "      )\n",
              "    )\n",
              "  )\n",
              "  (lstm): LSTM(2048, 2048, batch_first=True)\n",
              "  (relu): LeakyReLU(negative_slope=0.01)\n",
              "  (dp): Dropout(p=0.4, inplace=False)\n",
              "  (linear1): Linear(in_features=2048, out_features=2, bias=True)\n",
              "  (avgpool): AdaptiveAvgPool2d(output_size=1)\n",
              ")"
            ]
          },
          "metadata": {},
          "execution_count": 118
        }
      ]
    },
    {
      "cell_type": "code",
      "source": [
        "# Example: Load the video and preprocess frames\n",
        "frames = []\n",
        "cap = cv2.VideoCapture(video_file_path)\n",
        "while cap.isOpened():\n",
        "    ret, frame = cap.read()\n",
        "    if not ret:\n",
        "        break\n",
        "    frames.append(frame)"
      ],
      "metadata": {
        "id": "npT0yjz4Js1z"
      },
      "execution_count": null,
      "outputs": []
    },
    {
      "cell_type": "code",
      "source": [
        "# Process frames using the model\n",
        "video_dataset = validation_dataset([video_file_path], sequence_length=100,\n",
        "                                  transform=train_transforms)\n",
        "output = []\n",
        "\n",
        "for i in range(0, len(video_dataset)):\n",
        "    print(\"<=== | Started Prediction | ===>\")\n",
        "    prediction = predict(model, video_dataset[i])\n",
        "    output.append(prediction)"
      ],
      "metadata": {
        "colab": {
          "base_uri": "https://localhost:8080/"
        },
        "id": "ZrBTiT2dHRDL",
        "outputId": "b36d416e-97d1-45b2-83cc-ec6ede4d959d"
      },
      "execution_count": null,
      "outputs": [
        {
          "output_type": "stream",
          "name": "stdout",
          "text": [
            "<=== | Started Prediction | ===>\n",
            "confidence of prediction: 98.51325750350952\n"
          ]
        }
      ]
    },
    {
      "cell_type": "code",
      "source": [
        "# Display the output with labels\n",
        "for i, prediction in enumerate(output):\n",
        "    label = \"Real\" if prediction[0] == 1 else \"Fake\"\n",
        "    confidence = prediction[1]\n",
        "    print(f\"Prediction for sequence {i + 1}: {label} with confidence {confidence:.2f}%\")\n"
      ],
      "metadata": {
        "colab": {
          "base_uri": "https://localhost:8080/"
        },
        "id": "dXaAmeDhJvU6",
        "outputId": "4a02b762-3eb4-4851-8472-ea328ff6241e"
      },
      "execution_count": null,
      "outputs": [
        {
          "output_type": "stream",
          "name": "stdout",
          "text": [
            "Prediction for sequence 1: Fake with confidence 98.51%\n"
          ]
        }
      ]
    },
    {
      "cell_type": "code",
      "source": [],
      "metadata": {
        "id": "LPEn9cOrKU5o"
      },
      "execution_count": null,
      "outputs": []
    }
  ]
}